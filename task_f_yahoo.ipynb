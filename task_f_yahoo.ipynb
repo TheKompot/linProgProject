{
 "cells": [
  {
   "cell_type": "code",
   "metadata": {
    "deepnote_to_be_reexecuted": false,
    "source_hash": "e7c7980d",
    "execution_start": 1639691365196,
    "execution_millis": 236,
    "cell_id": "00000-e0dd824e-4e07-49ad-9990-7c949a0af6f6",
    "deepnote_cell_type": "code"
   },
   "source": "import numpy as np\nfrom scipy.optimize import linprog\nimport plotly.graph_objects as go\nimport pandas as pd",
   "execution_count": 1,
   "outputs": []
  },
  {
   "cell_type": "markdown",
   "source": "# Nastavenie parametrov",
   "metadata": {
    "cell_id": "00001-15c7917b-9011-4265-9a78-5607d2ef6bb6",
    "deepnote_cell_type": "markdown"
   }
  },
  {
   "cell_type": "code",
   "metadata": {
    "deepnote_to_be_reexecuted": false,
    "source_hash": "bdc5d993",
    "execution_start": 1639691365437,
    "execution_millis": 6,
    "cell_id": "00002-1682b033-3962-4078-9f82-ad3a6a3ed3cf",
    "deepnote_cell_type": "code"
   },
   "source": "k = 7          # sucet kolkych akcii chceme zhora ohranicit\nn = 45          # pocet akcii\nalpha = 0.4     # horne ohranicenie pre lubovolnych k akcii",
   "execution_count": 2,
   "outputs": []
  },
  {
   "cell_type": "markdown",
   "source": "# Vynosy",
   "metadata": {
    "cell_id": "00003-53cc0987-2d64-46a6-8470-f1ccf37df5ba",
    "deepnote_cell_type": "markdown"
   }
  },
  {
   "cell_type": "markdown",
   "source": "# Nacitanie dat z Yahoo",
   "metadata": {
    "tags": [],
    "is_collapsed": false,
    "cell_id": "00004-ddb2c0fe-8ec3-4d06-b06b-0c735d553fa5",
    "deepnote_cell_type": "text-cell-h1"
   }
  },
  {
   "cell_type": "code",
   "source": "data_file = 'sap100_data_08112021.csv'\nsap100 = pd.read_csv(data_file, index_col = 0)\nsap100.head()",
   "metadata": {
    "tags": [],
    "cell_id": "00004-c4de289e-a321-42c8-8c6e-7ca793948bb1",
    "deepnote_to_be_reexecuted": false,
    "source_hash": "2d266ff",
    "execution_start": 1639691365459,
    "execution_millis": 613,
    "deepnote_cell_type": "code"
   },
   "outputs": [
    {
     "output_type": "execute_result",
     "execution_count": 3,
     "data": {
      "application/vnd.deepnote.dataframe.v3+json": {
       "column_count": 99,
       "row_count": 5,
       "columns": [
        {
         "name": "AAPL",
         "dtype": "float64",
         "stats": {
          "unique_count": 5,
          "nan_count": 0,
          "min": "126.19674682617188",
          "max": "131.62937927246094",
          "histogram": [
           {
            "bin_start": 126.19674682617188,
            "bin_end": 126.74001007080078,
            "count": 1
           },
           {
            "bin_start": 126.74001007080078,
            "bin_end": 127.28327331542968,
            "count": 0
           },
           {
            "bin_start": 127.28327331542968,
            "bin_end": 127.8265365600586,
            "count": 0
           },
           {
            "bin_start": 127.8265365600586,
            "bin_end": 128.3697998046875,
            "count": 0
           },
           {
            "bin_start": 128.3697998046875,
            "bin_end": 128.9130630493164,
            "count": 0
           },
           {
            "bin_start": 128.9130630493164,
            "bin_end": 129.45632629394532,
            "count": 1
           },
           {
            "bin_start": 129.45632629394532,
            "bin_end": 129.9995895385742,
            "count": 0
           },
           {
            "bin_start": 129.9995895385742,
            "bin_end": 130.54285278320313,
            "count": 1
           },
           {
            "bin_start": 130.54285278320313,
            "bin_end": 131.08611602783202,
            "count": 1
           },
           {
            "bin_start": 131.08611602783202,
            "bin_end": 131.62937927246094,
            "count": 1
           }
          ]
         }
        },
        {
         "name": "ABBV",
         "dtype": "float64",
         "stats": {
          "unique_count": 5,
          "nan_count": 0,
          "min": "100.58539581298828",
          "max": "102.3602523803711",
          "histogram": [
           {
            "bin_start": 100.58539581298828,
            "bin_end": 100.76288146972657,
            "count": 2
           },
           {
            "bin_start": 100.76288146972657,
            "bin_end": 100.94036712646485,
            "count": 0
           },
           {
            "bin_start": 100.94036712646485,
            "bin_end": 101.11785278320312,
            "count": 0
           },
           {
            "bin_start": 101.11785278320312,
            "bin_end": 101.2953384399414,
            "count": 0
           },
           {
            "bin_start": 101.2953384399414,
            "bin_end": 101.47282409667969,
            "count": 0
           },
           {
            "bin_start": 101.47282409667969,
            "bin_end": 101.65030975341797,
            "count": 1
           },
           {
            "bin_start": 101.65030975341797,
            "bin_end": 101.82779541015626,
            "count": 1
           },
           {
            "bin_start": 101.82779541015626,
            "bin_end": 102.00528106689453,
            "count": 0
           },
           {
            "bin_start": 102.00528106689453,
            "bin_end": 102.18276672363281,
            "count": 0
           },
           {
            "bin_start": 102.18276672363281,
            "bin_end": 102.3602523803711,
            "count": 1
           }
          ]
         }
        },
        {
         "name": "ABT",
         "dtype": "float64",
         "stats": {
          "unique_count": 5,
          "nan_count": 0,
          "min": "107.44915008544922",
          "max": "109.9110870361328",
          "histogram": [
           {
            "bin_start": 107.44915008544922,
            "bin_end": 107.69534378051758,
            "count": 1
           },
           {
            "bin_start": 107.69534378051758,
            "bin_end": 107.94153747558593,
            "count": 0
           },
           {
            "bin_start": 107.94153747558593,
            "bin_end": 108.18773117065429,
            "count": 0
           },
           {
            "bin_start": 108.18773117065429,
            "bin_end": 108.43392486572264,
            "count": 0
           },
           {
            "bin_start": 108.43392486572264,
            "bin_end": 108.68011856079102,
            "count": 1
           },
           {
            "bin_start": 108.68011856079102,
            "bin_end": 108.92631225585937,
            "count": 1
           },
           {
            "bin_start": 108.92631225585937,
            "bin_end": 109.17250595092773,
            "count": 0
           },
           {
            "bin_start": 109.17250595092773,
            "bin_end": 109.41869964599609,
            "count": 0
           },
           {
            "bin_start": 109.41869964599609,
            "bin_end": 109.66489334106444,
            "count": 1
           },
           {
            "bin_start": 109.66489334106444,
            "bin_end": 109.9110870361328,
            "count": 1
           }
          ]
         }
        },
        {
         "name": "ACN",
         "dtype": "float64",
         "stats": {
          "unique_count": 5,
          "nan_count": 0,
          "min": "253.32872009277344",
          "max": "260.93475341796875",
          "histogram": [
           {
            "bin_start": 253.32872009277344,
            "bin_end": 254.08932342529297,
            "count": 1
           },
           {
            "bin_start": 254.08932342529297,
            "bin_end": 254.8499267578125,
            "count": 1
           },
           {
            "bin_start": 254.8499267578125,
            "bin_end": 255.61053009033202,
            "count": 0
           },
           {
            "bin_start": 255.61053009033202,
            "bin_end": 256.3711334228516,
            "count": 0
           },
           {
            "bin_start": 256.3711334228516,
            "bin_end": 257.1317367553711,
            "count": 0
           },
           {
            "bin_start": 257.1317367553711,
            "bin_end": 257.8923400878906,
            "count": 1
           },
           {
            "bin_start": 257.8923400878906,
            "bin_end": 258.65294342041017,
            "count": 0
           },
           {
            "bin_start": 258.65294342041017,
            "bin_end": 259.4135467529297,
            "count": 0
           },
           {
            "bin_start": 259.4135467529297,
            "bin_end": 260.17415008544924,
            "count": 1
           },
           {
            "bin_start": 260.17415008544924,
            "bin_end": 260.93475341796875,
            "count": 1
           }
          ]
         }
        },
        {
         "name": "ADBE",
         "dtype": "float64",
         "stats": {
          "unique_count": 5,
          "nan_count": 0,
          "min": "466.30999755859375",
          "max": "485.6900024414063",
          "histogram": [
           {
            "bin_start": 466.30999755859375,
            "bin_end": 468.247998046875,
            "count": 1
           },
           {
            "bin_start": 468.247998046875,
            "bin_end": 470.1859985351563,
            "count": 0
           },
           {
            "bin_start": 470.1859985351563,
            "bin_end": 472.12399902343753,
            "count": 0
           },
           {
            "bin_start": 472.12399902343753,
            "bin_end": 474.0619995117188,
            "count": 0
           },
           {
            "bin_start": 474.0619995117188,
            "bin_end": 476,
            "count": 0
           },
           {
            "bin_start": 476,
            "bin_end": 477.93800048828126,
            "count": 1
           },
           {
            "bin_start": 477.93800048828126,
            "bin_end": 479.8760009765625,
            "count": 0
           },
           {
            "bin_start": 479.8760009765625,
            "bin_end": 481.8140014648438,
            "count": 0
           },
           {
            "bin_start": 481.8140014648438,
            "bin_end": 483.75200195312505,
            "count": 0
           },
           {
            "bin_start": 483.75200195312505,
            "bin_end": 485.6900024414063,
            "count": 3
           }
          ]
         }
        },
        {
         "name": "AIG",
         "dtype": "float64",
         "stats": {
          "unique_count": 5,
          "nan_count": 0,
          "min": "36.44230270385742",
          "max": "40.13266372680664",
          "histogram": [
           {
            "bin_start": 36.44230270385742,
            "bin_end": 36.81133880615234,
            "count": 1
           },
           {
            "bin_start": 36.81133880615234,
            "bin_end": 37.18037490844726,
            "count": 1
           },
           {
            "bin_start": 37.18037490844726,
            "bin_end": 37.54941101074219,
            "count": 0
           },
           {
            "bin_start": 37.54941101074219,
            "bin_end": 37.91844711303711,
            "count": 0
           },
           {
            "bin_start": 37.91844711303711,
            "bin_end": 38.28748321533203,
            "count": 0
           },
           {
            "bin_start": 38.28748321533203,
            "bin_end": 38.65651931762695,
            "count": 0
           },
           {
            "bin_start": 38.65651931762695,
            "bin_end": 39.02555541992187,
            "count": 0
           },
           {
            "bin_start": 39.02555541992187,
            "bin_end": 39.3945915222168,
            "count": 0
           },
           {
            "bin_start": 39.3945915222168,
            "bin_end": 39.76362762451172,
            "count": 1
           },
           {
            "bin_start": 39.76362762451172,
            "bin_end": 40.13266372680664,
            "count": 2
           }
          ]
         }
        },
        {
         "name": "AMGN",
         "dtype": "float64",
         "stats": {
          "unique_count": 5,
          "nan_count": 0,
          "min": "223.41619873046875",
          "max": "235.07688903808597",
          "histogram": [
           {
            "bin_start": 223.41619873046875,
            "bin_end": 224.58226776123047,
            "count": 2
           },
           {
            "bin_start": 224.58226776123047,
            "bin_end": 225.7483367919922,
            "count": 0
           },
           {
            "bin_start": 225.7483367919922,
            "bin_end": 226.9144058227539,
            "count": 0
           },
           {
            "bin_start": 226.9144058227539,
            "bin_end": 228.08047485351562,
            "count": 0
           },
           {
            "bin_start": 228.08047485351562,
            "bin_end": 229.24654388427734,
            "count": 0
           },
           {
            "bin_start": 229.24654388427734,
            "bin_end": 230.4126129150391,
            "count": 1
           },
           {
            "bin_start": 230.4126129150391,
            "bin_end": 231.5786819458008,
            "count": 1
           },
           {
            "bin_start": 231.5786819458008,
            "bin_end": 232.74475097656253,
            "count": 0
           },
           {
            "bin_start": 232.74475097656253,
            "bin_end": 233.91082000732425,
            "count": 0
           },
           {
            "bin_start": 233.91082000732425,
            "bin_end": 235.07688903808597,
            "count": 1
           }
          ]
         }
        },
        {
         "name": "AMT",
         "dtype": "float64",
         "stats": {
          "unique_count": 5,
          "nan_count": 0,
          "min": "211.775146484375",
          "max": "218.97918701171875",
          "histogram": [
           {
            "bin_start": 211.775146484375,
            "bin_end": 212.49555053710938,
            "count": 1
           },
           {
            "bin_start": 212.49555053710938,
            "bin_end": 213.21595458984376,
            "count": 0
           },
           {
            "bin_start": 213.21595458984376,
            "bin_end": 213.9363586425781,
            "count": 0
           },
           {
            "bin_start": 213.9363586425781,
            "bin_end": 214.6567626953125,
            "count": 1
           },
           {
            "bin_start": 214.6567626953125,
            "bin_end": 215.37716674804688,
            "count": 0
           },
           {
            "bin_start": 215.37716674804688,
            "bin_end": 216.09757080078126,
            "count": 0
           },
           {
            "bin_start": 216.09757080078126,
            "bin_end": 216.81797485351564,
            "count": 1
           },
           {
            "bin_start": 216.81797485351564,
            "bin_end": 217.53837890625,
            "count": 1
           },
           {
            "bin_start": 217.53837890625,
            "bin_end": 218.25878295898437,
            "count": 0
           },
           {
            "bin_start": 218.25878295898437,
            "bin_end": 218.97918701171875,
            "count": 1
           }
          ]
         }
        },
        {
         "name": "AMZN",
         "dtype": "float64",
         "stats": {
          "unique_count": 5,
          "nan_count": 0,
          "min": "3138.3798828125",
          "max": "3218.510009765625",
          "histogram": [
           {
            "bin_start": 3138.3798828125,
            "bin_end": 3146.3928955078127,
            "count": 1
           },
           {
            "bin_start": 3146.3928955078127,
            "bin_end": 3154.405908203125,
            "count": 0
           },
           {
            "bin_start": 3154.405908203125,
            "bin_end": 3162.4189208984376,
            "count": 1
           },
           {
            "bin_start": 3162.4189208984376,
            "bin_end": 3170.43193359375,
            "count": 0
           },
           {
            "bin_start": 3170.43193359375,
            "bin_end": 3178.4449462890625,
            "count": 0
           },
           {
            "bin_start": 3178.4449462890625,
            "bin_end": 3186.457958984375,
            "count": 1
           },
           {
            "bin_start": 3186.457958984375,
            "bin_end": 3194.4709716796874,
            "count": 1
           },
           {
            "bin_start": 3194.4709716796874,
            "bin_end": 3202.483984375,
            "count": 0
           },
           {
            "bin_start": 3202.483984375,
            "bin_end": 3210.4969970703123,
            "count": 0
           },
           {
            "bin_start": 3210.4969970703123,
            "bin_end": 3218.510009765625,
            "count": 1
           }
          ]
         }
        },
        {
         "name": "AVGO",
         "dtype": "float64",
         "stats": {
          "unique_count": 5,
          "nan_count": 0,
          "min": "418.6448974609375",
          "max": "438.7491455078125",
          "histogram": [
           {
            "bin_start": 418.6448974609375,
            "bin_end": 420.655322265625,
            "count": 2
           },
           {
            "bin_start": 420.655322265625,
            "bin_end": 422.6657470703125,
            "count": 1
           },
           {
            "bin_start": 422.6657470703125,
            "bin_end": 424.676171875,
            "count": 0
           },
           {
            "bin_start": 424.676171875,
            "bin_end": 426.6865966796875,
            "count": 0
           },
           {
            "bin_start": 426.6865966796875,
            "bin_end": 428.697021484375,
            "count": 0
           },
           {
            "bin_start": 428.697021484375,
            "bin_end": 430.7074462890625,
            "count": 0
           },
           {
            "bin_start": 430.7074462890625,
            "bin_end": 432.71787109375,
            "count": 0
           },
           {
            "bin_start": 432.71787109375,
            "bin_end": 434.7282958984375,
            "count": 0
           },
           {
            "bin_start": 434.7282958984375,
            "bin_end": 436.738720703125,
            "count": 1
           },
           {
            "bin_start": 436.738720703125,
            "bin_end": 438.7491455078125,
            "count": 1
           }
          ]
         }
        },
        {
         "name": "AXP",
         "dtype": "float64",
         "stats": {
          "unique_count": 5,
          "nan_count": 0,
          "min": "116.6797866821289",
          "max": "121.64192962646484",
          "histogram": [
           {
            "bin_start": 116.6797866821289,
            "bin_end": 117.1760009765625,
            "count": 1
           },
           {
            "bin_start": 117.1760009765625,
            "bin_end": 117.67221527099609,
            "count": 1
           },
           {
            "bin_start": 117.67221527099609,
            "bin_end": 118.16842956542969,
            "count": 0
           },
           {
            "bin_start": 118.16842956542969,
            "bin_end": 118.66464385986328,
            "count": 0
           },
           {
            "bin_start": 118.66464385986328,
            "bin_end": 119.16085815429688,
            "count": 0
           },
           {
            "bin_start": 119.16085815429688,
            "bin_end": 119.65707244873047,
            "count": 0
           },
           {
            "bin_start": 119.65707244873047,
            "bin_end": 120.15328674316406,
            "count": 0
           },
           {
            "bin_start": 120.15328674316406,
            "bin_end": 120.64950103759766,
            "count": 0
           },
           {
            "bin_start": 120.64950103759766,
            "bin_end": 121.14571533203124,
            "count": 2
           },
           {
            "bin_start": 121.14571533203124,
            "bin_end": 121.64192962646484,
            "count": 1
           }
          ]
         }
        },
        {
         "name": "BA",
         "dtype": "float64",
         "stats": {
          "unique_count": 5,
          "nan_count": 0,
          "min": "202.72000122070312",
          "max": "212.7100067138672",
          "histogram": [
           {
            "bin_start": 202.72000122070312,
            "bin_end": 203.71900177001953,
            "count": 1
           },
           {
            "bin_start": 203.71900177001953,
            "bin_end": 204.71800231933594,
            "count": 0
           },
           {
            "bin_start": 204.71800231933594,
            "bin_end": 205.71700286865234,
            "count": 0
           },
           {
            "bin_start": 205.71700286865234,
            "bin_end": 206.71600341796875,
            "count": 0
           },
           {
            "bin_start": 206.71600341796875,
            "bin_end": 207.71500396728516,
            "count": 0
           },
           {
            "bin_start": 207.71500396728516,
            "bin_end": 208.71400451660156,
            "count": 0
           },
           {
            "bin_start": 208.71400451660156,
            "bin_end": 209.71300506591797,
            "count": 0
           },
           {
            "bin_start": 209.71300506591797,
            "bin_end": 210.71200561523438,
            "count": 1
           },
           {
            "bin_start": 210.71200561523438,
            "bin_end": 211.71100616455078,
            "count": 2
           },
           {
            "bin_start": 211.71100616455078,
            "bin_end": 212.7100067138672,
            "count": 1
           }
          ]
         }
        },
        {
         "name": "BAC",
         "dtype": "float64",
         "stats": {
          "unique_count": 5,
          "nan_count": 0,
          "min": "29.6046142578125",
          "max": "32.394527435302734",
          "histogram": [
           {
            "bin_start": 29.6046142578125,
            "bin_end": 29.883605575561525,
            "count": 2
           },
           {
            "bin_start": 29.883605575561525,
            "bin_end": 30.162596893310546,
            "count": 0
           },
           {
            "bin_start": 30.162596893310546,
            "bin_end": 30.44158821105957,
            "count": 0
           },
           {
            "bin_start": 30.44158821105957,
            "bin_end": 30.720579528808592,
            "count": 0
           },
           {
            "bin_start": 30.720579528808592,
            "bin_end": 30.999570846557617,
            "count": 0
           },
           {
            "bin_start": 30.999570846557617,
            "bin_end": 31.278562164306642,
            "count": 0
           },
           {
            "bin_start": 31.278562164306642,
            "bin_end": 31.557553482055663,
            "count": 0
           },
           {
            "bin_start": 31.557553482055663,
            "bin_end": 31.836544799804688,
            "count": 1
           },
           {
            "bin_start": 31.836544799804688,
            "bin_end": 32.11553611755371,
            "count": 1
           },
           {
            "bin_start": 32.11553611755371,
            "bin_end": 32.394527435302734,
            "count": 1
           }
          ]
         }
        },
        {
         "name": "BIIB",
         "dtype": "float64",
         "stats": {
          "unique_count": 5,
          "nan_count": 0,
          "min": "242.9499969482422",
          "max": "252.5399932861328",
          "histogram": [
           {
            "bin_start": 242.9499969482422,
            "bin_end": 243.90899658203125,
            "count": 1
           },
           {
            "bin_start": 243.90899658203125,
            "bin_end": 244.8679962158203,
            "count": 0
           },
           {
            "bin_start": 244.8679962158203,
            "bin_end": 245.82699584960938,
            "count": 0
           },
           {
            "bin_start": 245.82699584960938,
            "bin_end": 246.78599548339844,
            "count": 1
           },
           {
            "bin_start": 246.78599548339844,
            "bin_end": 247.7449951171875,
            "count": 0
           },
           {
            "bin_start": 247.7449951171875,
            "bin_end": 248.70399475097656,
            "count": 1
           },
           {
            "bin_start": 248.70399475097656,
            "bin_end": 249.66299438476562,
            "count": 0
           },
           {
            "bin_start": 249.66299438476562,
            "bin_end": 250.6219940185547,
            "count": 1
           },
           {
            "bin_start": 250.6219940185547,
            "bin_end": 251.58099365234375,
            "count": 0
           },
           {
            "bin_start": 251.58099365234375,
            "bin_end": 252.5399932861328,
            "count": 1
           }
          ]
         }
        },
        {
         "name": "BK",
         "dtype": "float64",
         "stats": {
          "unique_count": 5,
          "nan_count": 0,
          "min": "40.59257888793945",
          "max": "44.088077545166016",
          "histogram": [
           {
            "bin_start": 40.59257888793945,
            "bin_end": 40.94212875366211,
            "count": 1
           },
           {
            "bin_start": 40.94212875366211,
            "bin_end": 41.29167861938477,
            "count": 1
           },
           {
            "bin_start": 41.29167861938477,
            "bin_end": 41.64122848510742,
            "count": 0
           },
           {
            "bin_start": 41.64122848510742,
            "bin_end": 41.99077835083008,
            "count": 0
           },
           {
            "bin_start": 41.99077835083008,
            "bin_end": 42.340328216552734,
            "count": 0
           },
           {
            "bin_start": 42.340328216552734,
            "bin_end": 42.68987808227539,
            "count": 0
           },
           {
            "bin_start": 42.68987808227539,
            "bin_end": 43.03942794799805,
            "count": 0
           },
           {
            "bin_start": 43.03942794799805,
            "bin_end": 43.3889778137207,
            "count": 0
           },
           {
            "bin_start": 43.3889778137207,
            "bin_end": 43.73852767944336,
            "count": 1
           },
           {
            "bin_start": 43.73852767944336,
            "bin_end": 44.088077545166016,
            "count": 2
           }
          ]
         }
        },
        {
         "name": "BKNG",
         "dtype": "float64",
         "stats": {
          "unique_count": 5,
          "nan_count": 0,
          "min": "2164.080078125",
          "max": "2281.5400390625",
          "histogram": [
           {
            "bin_start": 2164.080078125,
            "bin_end": 2175.82607421875,
            "count": 1
           },
           {
            "bin_start": 2175.82607421875,
            "bin_end": 2187.5720703125,
            "count": 0
           },
           {
            "bin_start": 2187.5720703125,
            "bin_end": 2199.31806640625,
            "count": 1
           },
           {
            "bin_start": 2199.31806640625,
            "bin_end": 2211.0640625,
            "count": 0
           },
           {
            "bin_start": 2211.0640625,
            "bin_end": 2222.81005859375,
            "count": 0
           },
           {
            "bin_start": 2222.81005859375,
            "bin_end": 2234.5560546875,
            "count": 0
           },
           {
            "bin_start": 2234.5560546875,
            "bin_end": 2246.30205078125,
            "count": 1
           },
           {
            "bin_start": 2246.30205078125,
            "bin_end": 2258.048046875,
            "count": 1
           },
           {
            "bin_start": 2258.048046875,
            "bin_end": 2269.79404296875,
            "count": 0
           },
           {
            "bin_start": 2269.79404296875,
            "bin_end": 2281.5400390625,
            "count": 1
           }
          ]
         }
        },
        {
         "name": "BLK",
         "dtype": "float64",
         "stats": {
          "unique_count": 5,
          "nan_count": 0,
          "min": "700.2908935546875",
          "max": "745.2449951171875",
          "histogram": [
           {
            "bin_start": 700.2908935546875,
            "bin_end": 704.7863037109375,
            "count": 2
           },
           {
            "bin_start": 704.7863037109375,
            "bin_end": 709.2817138671875,
            "count": 0
           },
           {
            "bin_start": 709.2817138671875,
            "bin_end": 713.7771240234375,
            "count": 0
           },
           {
            "bin_start": 713.7771240234375,
            "bin_end": 718.2725341796875,
            "count": 0
           },
           {
            "bin_start": 718.2725341796875,
            "bin_end": 722.7679443359375,
            "count": 0
           },
           {
            "bin_start": 722.7679443359375,
            "bin_end": 727.2633544921875,
            "count": 1
           },
           {
            "bin_start": 727.2633544921875,
            "bin_end": 731.7587646484375,
            "count": 0
           },
           {
            "bin_start": 731.7587646484375,
            "bin_end": 736.2541748046875,
            "count": 0
           },
           {
            "bin_start": 736.2541748046875,
            "bin_end": 740.7495849609375,
            "count": 1
           },
           {
            "bin_start": 740.7495849609375,
            "bin_end": 745.2449951171875,
            "count": 1
           }
          ]
         }
        },
        {
         "name": "BMY",
         "dtype": "float64",
         "stats": {
          "unique_count": 5,
          "nan_count": 0,
          "min": "59.9696159362793",
          "max": "61.05411529541016",
          "histogram": [
           {
            "bin_start": 59.9696159362793,
            "bin_end": 60.07806587219238,
            "count": 1
           },
           {
            "bin_start": 60.07806587219238,
            "bin_end": 60.18651580810547,
            "count": 1
           },
           {
            "bin_start": 60.18651580810547,
            "bin_end": 60.294965744018555,
            "count": 1
           },
           {
            "bin_start": 60.294965744018555,
            "bin_end": 60.40341567993164,
            "count": 0
           },
           {
            "bin_start": 60.40341567993164,
            "bin_end": 60.51186561584473,
            "count": 0
           },
           {
            "bin_start": 60.51186561584473,
            "bin_end": 60.62031555175782,
            "count": 0
           },
           {
            "bin_start": 60.62031555175782,
            "bin_end": 60.728765487670906,
            "count": 0
           },
           {
            "bin_start": 60.728765487670906,
            "bin_end": 60.83721542358399,
            "count": 0
           },
           {
            "bin_start": 60.83721542358399,
            "bin_end": 60.94566535949708,
            "count": 1
           },
           {
            "bin_start": 60.94566535949708,
            "bin_end": 61.05411529541016,
            "count": 1
           }
          ]
         }
        },
        {
         "name": "C",
         "dtype": "float64",
         "stats": {
          "unique_count": 5,
          "nan_count": 0,
          "min": "58.35795974731445",
          "max": "64.06372833251953",
          "histogram": [
           {
            "bin_start": 58.35795974731445,
            "bin_end": 58.928536605834964,
            "count": 1
           },
           {
            "bin_start": 58.928536605834964,
            "bin_end": 59.49911346435547,
            "count": 0
           },
           {
            "bin_start": 59.49911346435547,
            "bin_end": 60.06969032287598,
            "count": 1
           },
           {
            "bin_start": 60.06969032287598,
            "bin_end": 60.64026718139648,
            "count": 0
           },
           {
            "bin_start": 60.64026718139648,
            "bin_end": 61.21084403991699,
            "count": 0
           },
           {
            "bin_start": 61.21084403991699,
            "bin_end": 61.7814208984375,
            "count": 0
           },
           {
            "bin_start": 61.7814208984375,
            "bin_end": 62.351997756958006,
            "count": 0
           },
           {
            "bin_start": 62.351997756958006,
            "bin_end": 62.92257461547852,
            "count": 0
           },
           {
            "bin_start": 62.92257461547852,
            "bin_end": 63.49315147399902,
            "count": 2
           },
           {
            "bin_start": 63.49315147399902,
            "bin_end": 64.06372833251953,
            "count": 1
           }
          ]
         }
        },
        {
         "name": "CAT",
         "dtype": "float64",
         "stats": {
          "unique_count": 5,
          "nan_count": 0,
          "min": "178.42269897460938",
          "max": "190.28488159179688",
          "histogram": [
           {
            "bin_start": 178.42269897460938,
            "bin_end": 179.60891723632812,
            "count": 1
           },
           {
            "bin_start": 179.60891723632812,
            "bin_end": 180.79513549804688,
            "count": 1
           },
           {
            "bin_start": 180.79513549804688,
            "bin_end": 181.98135375976562,
            "count": 0
           },
           {
            "bin_start": 181.98135375976562,
            "bin_end": 183.16757202148438,
            "count": 0
           },
           {
            "bin_start": 183.16757202148438,
            "bin_end": 184.35379028320312,
            "count": 0
           },
           {
            "bin_start": 184.35379028320312,
            "bin_end": 185.54000854492188,
            "count": 0
           },
           {
            "bin_start": 185.54000854492188,
            "bin_end": 186.72622680664062,
            "count": 0
           },
           {
            "bin_start": 186.72622680664062,
            "bin_end": 187.91244506835938,
            "count": 0
           },
           {
            "bin_start": 187.91244506835938,
            "bin_end": 189.09866333007812,
            "count": 0
           },
           {
            "bin_start": 189.09866333007812,
            "bin_end": 190.28488159179688,
            "count": 3
           }
          ]
         }
        },
        {
         "name": "CHTR",
         "dtype": "float64",
         "stats": {
          "unique_count": 5,
          "nan_count": 0,
          "min": "624.510009765625",
          "max": "647.030029296875",
          "histogram": [
           {
            "bin_start": 624.510009765625,
            "bin_end": 626.76201171875,
            "count": 1
           },
           {
            "bin_start": 626.76201171875,
            "bin_end": 629.014013671875,
            "count": 0
           },
           {
            "bin_start": 629.014013671875,
            "bin_end": 631.266015625,
            "count": 1
           },
           {
            "bin_start": 631.266015625,
            "bin_end": 633.518017578125,
            "count": 0
           },
           {
            "bin_start": 633.518017578125,
            "bin_end": 635.77001953125,
            "count": 1
           },
           {
            "bin_start": 635.77001953125,
            "bin_end": 638.022021484375,
            "count": 1
           },
           {
            "bin_start": 638.022021484375,
            "bin_end": 640.2740234375,
            "count": 0
           },
           {
            "bin_start": 640.2740234375,
            "bin_end": 642.526025390625,
            "count": 0
           },
           {
            "bin_start": 642.526025390625,
            "bin_end": 644.77802734375,
            "count": 0
           },
           {
            "bin_start": 644.77802734375,
            "bin_end": 647.030029296875,
            "count": 1
           }
          ]
         }
        },
        {
         "name": "CL",
         "dtype": "float64",
         "stats": {
          "unique_count": 5,
          "nan_count": 0,
          "min": "79.972900390625",
          "max": "82.63213348388672",
          "histogram": [
           {
            "bin_start": 79.972900390625,
            "bin_end": 80.23882369995117,
            "count": 1
           },
           {
            "bin_start": 80.23882369995117,
            "bin_end": 80.50474700927734,
            "count": 1
           },
           {
            "bin_start": 80.50474700927734,
            "bin_end": 80.77067031860352,
            "count": 1
           },
           {
            "bin_start": 80.77067031860352,
            "bin_end": 81.03659362792969,
            "count": 0
           },
           {
            "bin_start": 81.03659362792969,
            "bin_end": 81.30251693725586,
            "count": 0
           },
           {
            "bin_start": 81.30251693725586,
            "bin_end": 81.56844024658203,
            "count": 0
           },
           {
            "bin_start": 81.56844024658203,
            "bin_end": 81.8343635559082,
            "count": 0
           },
           {
            "bin_start": 81.8343635559082,
            "bin_end": 82.10028686523438,
            "count": 0
           },
           {
            "bin_start": 82.10028686523438,
            "bin_end": 82.36621017456055,
            "count": 0
           },
           {
            "bin_start": 82.36621017456055,
            "bin_end": 82.63213348388672,
            "count": 2
           }
          ]
         }
        },
        {
         "name": "CMCSA",
         "dtype": "float64",
         "stats": {
          "unique_count": 5,
          "nan_count": 0,
          "min": "49.5390853881836",
          "max": "51.08532333374024",
          "histogram": [
           {
            "bin_start": 49.5390853881836,
            "bin_end": 49.69370918273926,
            "count": 1
           },
           {
            "bin_start": 49.69370918273926,
            "bin_end": 49.84833297729493,
            "count": 1
           },
           {
            "bin_start": 49.84833297729493,
            "bin_end": 50.00295677185059,
            "count": 0
           },
           {
            "bin_start": 50.00295677185059,
            "bin_end": 50.15758056640626,
            "count": 1
           },
           {
            "bin_start": 50.15758056640626,
            "bin_end": 50.31220436096192,
            "count": 1
           },
           {
            "bin_start": 50.31220436096192,
            "bin_end": 50.46682815551758,
            "count": 0
           },
           {
            "bin_start": 50.46682815551758,
            "bin_end": 50.62145195007325,
            "count": 0
           },
           {
            "bin_start": 50.62145195007325,
            "bin_end": 50.77607574462891,
            "count": 0
           },
           {
            "bin_start": 50.77607574462891,
            "bin_end": 50.93069953918458,
            "count": 0
           },
           {
            "bin_start": 50.93069953918458,
            "bin_end": 51.08532333374024,
            "count": 1
           }
          ]
         }
        },
        {
         "name": "COF",
         "dtype": "float64",
         "stats": {
          "unique_count": 5,
          "nan_count": 0,
          "min": "96.90048217773438",
          "max": "109.66670989990234",
          "histogram": [
           {
            "bin_start": 96.90048217773438,
            "bin_end": 98.17710494995117,
            "count": 1
           },
           {
            "bin_start": 98.17710494995117,
            "bin_end": 99.45372772216797,
            "count": 1
           },
           {
            "bin_start": 99.45372772216797,
            "bin_end": 100.73035049438477,
            "count": 0
           },
           {
            "bin_start": 100.73035049438477,
            "bin_end": 102.00697326660156,
            "count": 0
           },
           {
            "bin_start": 102.00697326660156,
            "bin_end": 103.28359603881836,
            "count": 0
           },
           {
            "bin_start": 103.28359603881836,
            "bin_end": 104.56021881103516,
            "count": 0
           },
           {
            "bin_start": 104.56021881103516,
            "bin_end": 105.83684158325195,
            "count": 0
           },
           {
            "bin_start": 105.83684158325195,
            "bin_end": 107.11346435546875,
            "count": 1
           },
           {
            "bin_start": 107.11346435546875,
            "bin_end": 108.39008712768555,
            "count": 0
           },
           {
            "bin_start": 108.39008712768555,
            "bin_end": 109.66670989990234,
            "count": 2
           }
          ]
         }
        },
        {
         "name": "COP",
         "dtype": "float64",
         "stats": {
          "unique_count": 4,
          "nan_count": 0,
          "min": "38.38134002685547",
          "max": "43.35724639892578",
          "histogram": [
           {
            "bin_start": 38.38134002685547,
            "bin_end": 38.8789306640625,
            "count": 1
           },
           {
            "bin_start": 38.8789306640625,
            "bin_end": 39.376521301269534,
            "count": 0
           },
           {
            "bin_start": 39.376521301269534,
            "bin_end": 39.87411193847656,
            "count": 0
           },
           {
            "bin_start": 39.87411193847656,
            "bin_end": 40.37170257568359,
            "count": 0
           },
           {
            "bin_start": 40.37170257568359,
            "bin_end": 40.869293212890625,
            "count": 1
           },
           {
            "bin_start": 40.869293212890625,
            "bin_end": 41.36688385009766,
            "count": 0
           },
           {
            "bin_start": 41.36688385009766,
            "bin_end": 41.86447448730469,
            "count": 0
           },
           {
            "bin_start": 41.86447448730469,
            "bin_end": 42.362065124511716,
            "count": 1
           },
           {
            "bin_start": 42.362065124511716,
            "bin_end": 42.85965576171875,
            "count": 0
           },
           {
            "bin_start": 42.85965576171875,
            "bin_end": 43.35724639892578,
            "count": 2
           }
          ]
         }
        },
        {
         "name": "COST",
         "dtype": "float64",
         "stats": {
          "unique_count": 5,
          "nan_count": 0,
          "min": "365.72454833984375",
          "max": "377.8815307617188",
          "histogram": [
           {
            "bin_start": 365.72454833984375,
            "bin_end": 366.94024658203125,
            "count": 1
           },
           {
            "bin_start": 366.94024658203125,
            "bin_end": 368.15594482421875,
            "count": 2
           },
           {
            "bin_start": 368.15594482421875,
            "bin_end": 369.37164306640625,
            "count": 0
           },
           {
            "bin_start": 369.37164306640625,
            "bin_end": 370.58734130859375,
            "count": 0
           },
           {
            "bin_start": 370.58734130859375,
            "bin_end": 371.80303955078125,
            "count": 0
           },
           {
            "bin_start": 371.80303955078125,
            "bin_end": 373.0187377929688,
            "count": 0
           },
           {
            "bin_start": 373.0187377929688,
            "bin_end": 374.2344360351563,
            "count": 1
           },
           {
            "bin_start": 374.2344360351563,
            "bin_end": 375.4501342773438,
            "count": 0
           },
           {
            "bin_start": 375.4501342773438,
            "bin_end": 376.6658325195313,
            "count": 0
           },
           {
            "bin_start": 376.6658325195313,
            "bin_end": 377.8815307617188,
            "count": 1
           }
          ]
         }
        },
        {
         "name": "CRM",
         "dtype": "float64",
         "stats": {
          "unique_count": 5,
          "nan_count": 0,
          "min": "216.1499938964844",
          "max": "222.0399932861328",
          "histogram": [
           {
            "bin_start": 216.1499938964844,
            "bin_end": 216.73899383544924,
            "count": 1
           },
           {
            "bin_start": 216.73899383544924,
            "bin_end": 217.3279937744141,
            "count": 0
           },
           {
            "bin_start": 217.3279937744141,
            "bin_end": 217.91699371337893,
            "count": 0
           },
           {
            "bin_start": 217.91699371337893,
            "bin_end": 218.50599365234376,
            "count": 1
           },
           {
            "bin_start": 218.50599365234376,
            "bin_end": 219.0949935913086,
            "count": 0
           },
           {
            "bin_start": 219.0949935913086,
            "bin_end": 219.68399353027345,
            "count": 0
           },
           {
            "bin_start": 219.68399353027345,
            "bin_end": 220.2729934692383,
            "count": 0
           },
           {
            "bin_start": 220.2729934692383,
            "bin_end": 220.86199340820312,
            "count": 1
           },
           {
            "bin_start": 220.86199340820312,
            "bin_end": 221.45099334716798,
            "count": 0
           },
           {
            "bin_start": 221.45099334716798,
            "bin_end": 222.0399932861328,
            "count": 2
           }
          ]
         }
        },
        {
         "name": "CSCO",
         "dtype": "float64",
         "stats": {
          "unique_count": 5,
          "nan_count": 0,
          "min": "43.34489059448242",
          "max": "44.42949676513672",
          "histogram": [
           {
            "bin_start": 43.34489059448242,
            "bin_end": 43.453351211547854,
            "count": 2
           },
           {
            "bin_start": 43.453351211547854,
            "bin_end": 43.56181182861328,
            "count": 0
           },
           {
            "bin_start": 43.56181182861328,
            "bin_end": 43.67027244567871,
            "count": 0
           },
           {
            "bin_start": 43.67027244567871,
            "bin_end": 43.77873306274414,
            "count": 0
           },
           {
            "bin_start": 43.77873306274414,
            "bin_end": 43.88719367980957,
            "count": 1
           },
           {
            "bin_start": 43.88719367980957,
            "bin_end": 43.995654296875,
            "count": 0
           },
           {
            "bin_start": 43.995654296875,
            "bin_end": 44.10411491394043,
            "count": 0
           },
           {
            "bin_start": 44.10411491394043,
            "bin_end": 44.21257553100586,
            "count": 0
           },
           {
            "bin_start": 44.21257553100586,
            "bin_end": 44.321036148071286,
            "count": 0
           },
           {
            "bin_start": 44.321036148071286,
            "bin_end": 44.42949676513672,
            "count": 2
           }
          ]
         }
        },
        {
         "name": "CVS",
         "dtype": "float64",
         "stats": {
          "unique_count": 5,
          "nan_count": 0,
          "min": "68.25929260253906",
          "max": "73.00888061523438",
          "histogram": [
           {
            "bin_start": 68.25929260253906,
            "bin_end": 68.7342514038086,
            "count": 2
           },
           {
            "bin_start": 68.7342514038086,
            "bin_end": 69.20921020507812,
            "count": 0
           },
           {
            "bin_start": 69.20921020507812,
            "bin_end": 69.68416900634766,
            "count": 0
           },
           {
            "bin_start": 69.68416900634766,
            "bin_end": 70.15912780761718,
            "count": 0
           },
           {
            "bin_start": 70.15912780761718,
            "bin_end": 70.63408660888672,
            "count": 0
           },
           {
            "bin_start": 70.63408660888672,
            "bin_end": 71.10904541015626,
            "count": 1
           },
           {
            "bin_start": 71.10904541015626,
            "bin_end": 71.58400421142578,
            "count": 0
           },
           {
            "bin_start": 71.58400421142578,
            "bin_end": 72.05896301269532,
            "count": 0
           },
           {
            "bin_start": 72.05896301269532,
            "bin_end": 72.53392181396484,
            "count": 1
           },
           {
            "bin_start": 72.53392181396484,
            "bin_end": 73.00888061523438,
            "count": 1
           }
          ]
         }
        },
        {
         "name": "CVX",
         "dtype": "float64",
         "stats": {
          "unique_count": 5,
          "nan_count": 0,
          "min": "81.42143249511719",
          "max": "87.54414367675781",
          "histogram": [
           {
            "bin_start": 81.42143249511719,
            "bin_end": 82.03370361328125,
            "count": 1
           },
           {
            "bin_start": 82.03370361328125,
            "bin_end": 82.6459747314453,
            "count": 0
           },
           {
            "bin_start": 82.6459747314453,
            "bin_end": 83.25824584960938,
            "count": 0
           },
           {
            "bin_start": 83.25824584960938,
            "bin_end": 83.87051696777344,
            "count": 1
           },
           {
            "bin_start": 83.87051696777344,
            "bin_end": 84.4827880859375,
            "count": 0
           },
           {
            "bin_start": 84.4827880859375,
            "bin_end": 85.09505920410156,
            "count": 0
           },
           {
            "bin_start": 85.09505920410156,
            "bin_end": 85.70733032226562,
            "count": 0
           },
           {
            "bin_start": 85.70733032226562,
            "bin_end": 86.3196014404297,
            "count": 1
           },
           {
            "bin_start": 86.3196014404297,
            "bin_end": 86.93187255859375,
            "count": 1
           },
           {
            "bin_start": 86.93187255859375,
            "bin_end": 87.54414367675781,
            "count": 1
           }
          ]
         }
        },
        {
         "name": "DD",
         "dtype": "float64",
         "stats": {
          "unique_count": 5,
          "nan_count": 0,
          "min": "69.4842529296875",
          "max": "80.81793212890625",
          "histogram": [
           {
            "bin_start": 69.4842529296875,
            "bin_end": 70.61762084960938,
            "count": 1
           },
           {
            "bin_start": 70.61762084960938,
            "bin_end": 71.75098876953125,
            "count": 0
           },
           {
            "bin_start": 71.75098876953125,
            "bin_end": 72.88435668945313,
            "count": 0
           },
           {
            "bin_start": 72.88435668945313,
            "bin_end": 74.017724609375,
            "count": 1
           },
           {
            "bin_start": 74.017724609375,
            "bin_end": 75.15109252929688,
            "count": 0
           },
           {
            "bin_start": 75.15109252929688,
            "bin_end": 76.28446044921876,
            "count": 0
           },
           {
            "bin_start": 76.28446044921876,
            "bin_end": 77.41782836914062,
            "count": 1
           },
           {
            "bin_start": 77.41782836914062,
            "bin_end": 78.5511962890625,
            "count": 0
           },
           {
            "bin_start": 78.5511962890625,
            "bin_end": 79.68456420898437,
            "count": 0
           },
           {
            "bin_start": 79.68456420898437,
            "bin_end": 80.81793212890625,
            "count": 2
           }
          ]
         }
        },
        {
         "name": "DHR",
         "dtype": "float64",
         "stats": {
          "unique_count": 5,
          "nan_count": 0,
          "min": "222.6881103515625",
          "max": "242.89894104003903",
          "histogram": [
           {
            "bin_start": 222.6881103515625,
            "bin_end": 224.70919342041014,
            "count": 1
           },
           {
            "bin_start": 224.70919342041014,
            "bin_end": 226.73027648925782,
            "count": 0
           },
           {
            "bin_start": 226.73027648925782,
            "bin_end": 228.75135955810546,
            "count": 1
           },
           {
            "bin_start": 228.75135955810546,
            "bin_end": 230.7724426269531,
            "count": 0
           },
           {
            "bin_start": 230.7724426269531,
            "bin_end": 232.79352569580078,
            "count": 0
           },
           {
            "bin_start": 232.79352569580078,
            "bin_end": 234.81460876464843,
            "count": 0
           },
           {
            "bin_start": 234.81460876464843,
            "bin_end": 236.83569183349607,
            "count": 1
           },
           {
            "bin_start": 236.83569183349607,
            "bin_end": 238.85677490234372,
            "count": 0
           },
           {
            "bin_start": 238.85677490234372,
            "bin_end": 240.8778579711914,
            "count": 1
           },
           {
            "bin_start": 240.8778579711914,
            "bin_end": 242.89894104003903,
            "count": 1
           }
          ]
         }
        },
        {
         "name": "DIS",
         "dtype": "float64",
         "stats": {
          "unique_count": 5,
          "nan_count": 0,
          "min": "177.67999267578125",
          "max": "179.1199951171875",
          "histogram": [
           {
            "bin_start": 177.67999267578125,
            "bin_end": 177.82399291992186,
            "count": 1
           },
           {
            "bin_start": 177.82399291992186,
            "bin_end": 177.9679931640625,
            "count": 0
           },
           {
            "bin_start": 177.9679931640625,
            "bin_end": 178.11199340820312,
            "count": 0
           },
           {
            "bin_start": 178.11199340820312,
            "bin_end": 178.25599365234376,
            "count": 0
           },
           {
            "bin_start": 178.25599365234376,
            "bin_end": 178.39999389648438,
            "count": 0
           },
           {
            "bin_start": 178.39999389648438,
            "bin_end": 178.543994140625,
            "count": 1
           },
           {
            "bin_start": 178.543994140625,
            "bin_end": 178.68799438476563,
            "count": 1
           },
           {
            "bin_start": 178.68799438476563,
            "bin_end": 178.83199462890624,
            "count": 1
           },
           {
            "bin_start": 178.83199462890624,
            "bin_end": 178.9759948730469,
            "count": 0
           },
           {
            "bin_start": 178.9759948730469,
            "bin_end": 179.1199951171875,
            "count": 1
           }
          ]
         }
        },
        {
         "name": "DOW",
         "dtype": "float64",
         "stats": {
          "unique_count": 5,
          "nan_count": 0,
          "min": "52.341827392578125",
          "max": "56.67135620117188",
          "histogram": [
           {
            "bin_start": 52.341827392578125,
            "bin_end": 52.7747802734375,
            "count": 1
           },
           {
            "bin_start": 52.7747802734375,
            "bin_end": 53.207733154296875,
            "count": 0
           },
           {
            "bin_start": 53.207733154296875,
            "bin_end": 53.64068603515625,
            "count": 0
           },
           {
            "bin_start": 53.64068603515625,
            "bin_end": 54.073638916015625,
            "count": 1
           },
           {
            "bin_start": 54.073638916015625,
            "bin_end": 54.506591796875,
            "count": 0
           },
           {
            "bin_start": 54.506591796875,
            "bin_end": 54.93954467773438,
            "count": 0
           },
           {
            "bin_start": 54.93954467773438,
            "bin_end": 55.37249755859376,
            "count": 0
           },
           {
            "bin_start": 55.37249755859376,
            "bin_end": 55.80545043945313,
            "count": 0
           },
           {
            "bin_start": 55.80545043945313,
            "bin_end": 56.23840332031251,
            "count": 0
           },
           {
            "bin_start": 56.23840332031251,
            "bin_end": 56.67135620117188,
            "count": 3
           }
          ]
         }
        },
        {
         "name": "DUK",
         "dtype": "float64",
         "stats": {
          "unique_count": 5,
          "nan_count": 0,
          "min": "87.13114929199219",
          "max": "88.29666137695312",
          "histogram": [
           {
            "bin_start": 87.13114929199219,
            "bin_end": 87.24770050048828,
            "count": 2
           },
           {
            "bin_start": 87.24770050048828,
            "bin_end": 87.36425170898437,
            "count": 1
           },
           {
            "bin_start": 87.36425170898437,
            "bin_end": 87.48080291748047,
            "count": 1
           },
           {
            "bin_start": 87.48080291748047,
            "bin_end": 87.59735412597657,
            "count": 0
           },
           {
            "bin_start": 87.59735412597657,
            "bin_end": 87.71390533447266,
            "count": 0
           },
           {
            "bin_start": 87.71390533447266,
            "bin_end": 87.83045654296875,
            "count": 0
           },
           {
            "bin_start": 87.83045654296875,
            "bin_end": 87.94700775146484,
            "count": 0
           },
           {
            "bin_start": 87.94700775146484,
            "bin_end": 88.06355895996094,
            "count": 0
           },
           {
            "bin_start": 88.06355895996094,
            "bin_end": 88.18011016845703,
            "count": 0
           },
           {
            "bin_start": 88.18011016845703,
            "bin_end": 88.29666137695312,
            "count": 1
           }
          ]
         }
        },
        {
         "name": "EMR",
         "dtype": "float64",
         "stats": {
          "unique_count": 5,
          "nan_count": 0,
          "min": "76.75382995605469",
          "max": "80.74845886230469",
          "histogram": [
           {
            "bin_start": 76.75382995605469,
            "bin_end": 77.15329284667969,
            "count": 1
           },
           {
            "bin_start": 77.15329284667969,
            "bin_end": 77.5527557373047,
            "count": 0
           },
           {
            "bin_start": 77.5527557373047,
            "bin_end": 77.95221862792968,
            "count": 0
           },
           {
            "bin_start": 77.95221862792968,
            "bin_end": 78.35168151855468,
            "count": 1
           },
           {
            "bin_start": 78.35168151855468,
            "bin_end": 78.75114440917969,
            "count": 0
           },
           {
            "bin_start": 78.75114440917969,
            "bin_end": 79.15060729980469,
            "count": 0
           },
           {
            "bin_start": 79.15060729980469,
            "bin_end": 79.5500701904297,
            "count": 0
           },
           {
            "bin_start": 79.5500701904297,
            "bin_end": 79.94953308105468,
            "count": 0
           },
           {
            "bin_start": 79.94953308105468,
            "bin_end": 80.34899597167968,
            "count": 0
           },
           {
            "bin_start": 80.34899597167968,
            "bin_end": 80.74845886230469,
            "count": 3
           }
          ]
         }
        },
        {
         "name": "EXC",
         "dtype": "float64",
         "stats": {
          "unique_count": 5,
          "nan_count": 0,
          "min": "40.35238265991211",
          "max": "41.66768646240234",
          "histogram": [
           {
            "bin_start": 40.35238265991211,
            "bin_end": 40.483913040161134,
            "count": 2
           },
           {
            "bin_start": 40.483913040161134,
            "bin_end": 40.61544342041015,
            "count": 0
           },
           {
            "bin_start": 40.61544342041015,
            "bin_end": 40.74697380065918,
            "count": 0
           },
           {
            "bin_start": 40.74697380065918,
            "bin_end": 40.8785041809082,
            "count": 0
           },
           {
            "bin_start": 40.8785041809082,
            "bin_end": 41.01003456115723,
            "count": 0
           },
           {
            "bin_start": 41.01003456115723,
            "bin_end": 41.141564941406244,
            "count": 0
           },
           {
            "bin_start": 41.141564941406244,
            "bin_end": 41.27309532165527,
            "count": 1
           },
           {
            "bin_start": 41.27309532165527,
            "bin_end": 41.404625701904294,
            "count": 0
           },
           {
            "bin_start": 41.404625701904294,
            "bin_end": 41.53615608215331,
            "count": 1
           },
           {
            "bin_start": 41.53615608215331,
            "bin_end": 41.66768646240234,
            "count": 1
           }
          ]
         }
        },
        {
         "name": "F",
         "dtype": "float64",
         "stats": {
          "unique_count": 5,
          "nan_count": 0,
          "min": "8.520000457763672",
          "max": "9.0600004196167",
          "histogram": [
           {
            "bin_start": 8.520000457763672,
            "bin_end": 8.574000453948974,
            "count": 1
           },
           {
            "bin_start": 8.574000453948974,
            "bin_end": 8.628000450134277,
            "count": 0
           },
           {
            "bin_start": 8.628000450134277,
            "bin_end": 8.68200044631958,
            "count": 1
           },
           {
            "bin_start": 8.68200044631958,
            "bin_end": 8.736000442504883,
            "count": 0
           },
           {
            "bin_start": 8.736000442504883,
            "bin_end": 8.790000438690186,
            "count": 0
           },
           {
            "bin_start": 8.790000438690186,
            "bin_end": 8.844000434875488,
            "count": 1
           },
           {
            "bin_start": 8.844000434875488,
            "bin_end": 8.89800043106079,
            "count": 0
           },
           {
            "bin_start": 8.89800043106079,
            "bin_end": 8.952000427246094,
            "count": 0
           },
           {
            "bin_start": 8.952000427246094,
            "bin_end": 9.006000423431397,
            "count": 1
           },
           {
            "bin_start": 9.006000423431397,
            "bin_end": 9.0600004196167,
            "count": 1
           }
          ]
         }
        },
        {
         "name": "FB",
         "dtype": "float64",
         "stats": {
          "unique_count": 5,
          "nan_count": 0,
          "min": "263.3099975585937",
          "max": "270.9700012207031",
          "histogram": [
           {
            "bin_start": 263.3099975585937,
            "bin_end": 264.07599792480465,
            "count": 1
           },
           {
            "bin_start": 264.07599792480465,
            "bin_end": 264.84199829101556,
            "count": 0
           },
           {
            "bin_start": 264.84199829101556,
            "bin_end": 265.6079986572265,
            "count": 0
           },
           {
            "bin_start": 265.6079986572265,
            "bin_end": 266.3739990234375,
            "count": 0
           },
           {
            "bin_start": 266.3739990234375,
            "bin_end": 267.13999938964844,
            "count": 0
           },
           {
            "bin_start": 267.13999938964844,
            "bin_end": 267.90599975585934,
            "count": 1
           },
           {
            "bin_start": 267.90599975585934,
            "bin_end": 268.6720001220703,
            "count": 0
           },
           {
            "bin_start": 268.6720001220703,
            "bin_end": 269.43800048828126,
            "count": 2
           },
           {
            "bin_start": 269.43800048828126,
            "bin_end": 270.20400085449216,
            "count": 0
           },
           {
            "bin_start": 270.20400085449216,
            "bin_end": 270.9700012207031,
            "count": 1
           }
          ]
         }
        },
        {
         "name": "FDX",
         "dtype": "float64",
         "stats": {
          "unique_count": 5,
          "nan_count": 0,
          "min": "243.0331268310547",
          "max": "251.5654754638672",
          "histogram": [
           {
            "bin_start": 243.0331268310547,
            "bin_end": 243.88636169433593,
            "count": 1
           },
           {
            "bin_start": 243.88636169433593,
            "bin_end": 244.73959655761718,
            "count": 1
           },
           {
            "bin_start": 244.73959655761718,
            "bin_end": 245.59283142089845,
            "count": 0
           },
           {
            "bin_start": 245.59283142089845,
            "bin_end": 246.4460662841797,
            "count": 0
           },
           {
            "bin_start": 246.4460662841797,
            "bin_end": 247.29930114746094,
            "count": 0
           },
           {
            "bin_start": 247.29930114746094,
            "bin_end": 248.15253601074218,
            "count": 0
           },
           {
            "bin_start": 248.15253601074218,
            "bin_end": 249.00577087402343,
            "count": 0
           },
           {
            "bin_start": 249.00577087402343,
            "bin_end": 249.8590057373047,
            "count": 0
           },
           {
            "bin_start": 249.8590057373047,
            "bin_end": 250.71224060058594,
            "count": 0
           },
           {
            "bin_start": 250.71224060058594,
            "bin_end": 251.5654754638672,
            "count": 3
           }
          ]
         }
        },
        {
         "name": "GD",
         "dtype": "float64",
         "stats": {
          "unique_count": 5,
          "nan_count": 0,
          "min": "142.1913604736328",
          "max": "147.8229217529297",
          "histogram": [
           {
            "bin_start": 142.1913604736328,
            "bin_end": 142.7545166015625,
            "count": 2
           },
           {
            "bin_start": 142.7545166015625,
            "bin_end": 143.3176727294922,
            "count": 0
           },
           {
            "bin_start": 143.3176727294922,
            "bin_end": 143.88082885742188,
            "count": 0
           },
           {
            "bin_start": 143.88082885742188,
            "bin_end": 144.44398498535156,
            "count": 0
           },
           {
            "bin_start": 144.44398498535156,
            "bin_end": 145.00714111328125,
            "count": 0
           },
           {
            "bin_start": 145.00714111328125,
            "bin_end": 145.57029724121094,
            "count": 0
           },
           {
            "bin_start": 145.57029724121094,
            "bin_end": 146.13345336914062,
            "count": 1
           },
           {
            "bin_start": 146.13345336914062,
            "bin_end": 146.6966094970703,
            "count": 0
           },
           {
            "bin_start": 146.6966094970703,
            "bin_end": 147.259765625,
            "count": 1
           },
           {
            "bin_start": 147.259765625,
            "bin_end": 147.8229217529297,
            "count": 1
           }
          ]
         }
        },
        {
         "name": "GE",
         "dtype": "float64",
         "stats": {
          "unique_count": 5,
          "nan_count": 0,
          "min": "83.67925262451172",
          "max": "90.79238891601562",
          "histogram": [
           {
            "bin_start": 83.67925262451172,
            "bin_end": 84.39056625366212,
            "count": 1
           },
           {
            "bin_start": 84.39056625366212,
            "bin_end": 85.1018798828125,
            "count": 0
           },
           {
            "bin_start": 85.1018798828125,
            "bin_end": 85.8131935119629,
            "count": 0
           },
           {
            "bin_start": 85.8131935119629,
            "bin_end": 86.52450714111328,
            "count": 1
           },
           {
            "bin_start": 86.52450714111328,
            "bin_end": 87.23582077026367,
            "count": 0
           },
           {
            "bin_start": 87.23582077026367,
            "bin_end": 87.94713439941407,
            "count": 0
           },
           {
            "bin_start": 87.94713439941407,
            "bin_end": 88.65844802856445,
            "count": 0
           },
           {
            "bin_start": 88.65844802856445,
            "bin_end": 89.36976165771485,
            "count": 0
           },
           {
            "bin_start": 89.36976165771485,
            "bin_end": 90.08107528686523,
            "count": 1
           },
           {
            "bin_start": 90.08107528686523,
            "bin_end": 90.79238891601562,
            "count": 2
           }
          ]
         }
        },
        {
         "name": "GILD",
         "dtype": "float64",
         "stats": {
          "unique_count": 5,
          "nan_count": 0,
          "min": "58.7122917175293",
          "max": "61.68704605102539",
          "histogram": [
           {
            "bin_start": 58.7122917175293,
            "bin_end": 59.00976715087891,
            "count": 2
           },
           {
            "bin_start": 59.00976715087891,
            "bin_end": 59.30724258422852,
            "count": 0
           },
           {
            "bin_start": 59.30724258422852,
            "bin_end": 59.60471801757812,
            "count": 0
           },
           {
            "bin_start": 59.60471801757812,
            "bin_end": 59.90219345092773,
            "count": 0
           },
           {
            "bin_start": 59.90219345092773,
            "bin_end": 60.199668884277344,
            "count": 0
           },
           {
            "bin_start": 60.199668884277344,
            "bin_end": 60.497144317626955,
            "count": 0
           },
           {
            "bin_start": 60.497144317626955,
            "bin_end": 60.794619750976565,
            "count": 1
           },
           {
            "bin_start": 60.794619750976565,
            "bin_end": 61.09209518432617,
            "count": 0
           },
           {
            "bin_start": 61.09209518432617,
            "bin_end": 61.38957061767578,
            "count": 1
           },
           {
            "bin_start": 61.38957061767578,
            "bin_end": 61.68704605102539,
            "count": 1
           }
          ]
         }
        },
        {
         "name": "GM",
         "dtype": "float64",
         "stats": {
          "unique_count": 5,
          "nan_count": 0,
          "min": "40.5099983215332",
          "max": "43.31999969482422",
          "histogram": [
           {
            "bin_start": 40.5099983215332,
            "bin_end": 40.790998458862305,
            "count": 1
           },
           {
            "bin_start": 40.790998458862305,
            "bin_end": 41.071998596191406,
            "count": 0
           },
           {
            "bin_start": 41.071998596191406,
            "bin_end": 41.35299873352051,
            "count": 0
           },
           {
            "bin_start": 41.35299873352051,
            "bin_end": 41.63399887084961,
            "count": 0
           },
           {
            "bin_start": 41.63399887084961,
            "bin_end": 41.91499900817871,
            "count": 1
           },
           {
            "bin_start": 41.91499900817871,
            "bin_end": 42.19599914550781,
            "count": 0
           },
           {
            "bin_start": 42.19599914550781,
            "bin_end": 42.476999282836914,
            "count": 0
           },
           {
            "bin_start": 42.476999282836914,
            "bin_end": 42.757999420166016,
            "count": 0
           },
           {
            "bin_start": 42.757999420166016,
            "bin_end": 43.03899955749512,
            "count": 1
           },
           {
            "bin_start": 43.03899955749512,
            "bin_end": 43.31999969482422,
            "count": 2
           }
          ]
         }
        },
        {
         "name": "GOOG",
         "dtype": "float64",
         "stats": {
          "unique_count": 5,
          "nan_count": 0,
          "min": "1728.239990234375",
          "max": "1807.2099609375",
          "histogram": [
           {
            "bin_start": 1728.239990234375,
            "bin_end": 1736.1369873046874,
            "count": 2
           },
           {
            "bin_start": 1736.1369873046874,
            "bin_end": 1744.033984375,
            "count": 1
           },
           {
            "bin_start": 1744.033984375,
            "bin_end": 1751.9309814453125,
            "count": 0
           },
           {
            "bin_start": 1751.9309814453125,
            "bin_end": 1759.827978515625,
            "count": 0
           },
           {
            "bin_start": 1759.827978515625,
            "bin_end": 1767.7249755859375,
            "count": 0
           },
           {
            "bin_start": 1767.7249755859375,
            "bin_end": 1775.62197265625,
            "count": 0
           },
           {
            "bin_start": 1775.62197265625,
            "bin_end": 1783.5189697265625,
            "count": 0
           },
           {
            "bin_start": 1783.5189697265625,
            "bin_end": 1791.415966796875,
            "count": 1
           },
           {
            "bin_start": 1791.415966796875,
            "bin_end": 1799.3129638671876,
            "count": 0
           },
           {
            "bin_start": 1799.3129638671876,
            "bin_end": 1807.2099609375,
            "count": 1
           }
          ]
         }
        },
        {
         "name": "GOOGL",
         "dtype": "float64",
         "stats": {
          "unique_count": 5,
          "nan_count": 0,
          "min": "1722.8800048828125",
          "max": "1797.8299560546875",
          "histogram": [
           {
            "bin_start": 1722.8800048828125,
            "bin_end": 1730.375,
            "count": 2
           },
           {
            "bin_start": 1730.375,
            "bin_end": 1737.8699951171875,
            "count": 0
           },
           {
            "bin_start": 1737.8699951171875,
            "bin_end": 1745.364990234375,
            "count": 1
           },
           {
            "bin_start": 1745.364990234375,
            "bin_end": 1752.8599853515625,
            "count": 0
           },
           {
            "bin_start": 1752.8599853515625,
            "bin_end": 1760.35498046875,
            "count": 0
           },
           {
            "bin_start": 1760.35498046875,
            "bin_end": 1767.8499755859375,
            "count": 0
           },
           {
            "bin_start": 1767.8499755859375,
            "bin_end": 1775.344970703125,
            "count": 1
           },
           {
            "bin_start": 1775.344970703125,
            "bin_end": 1782.8399658203125,
            "count": 0
           },
           {
            "bin_start": 1782.8399658203125,
            "bin_end": 1790.3349609375,
            "count": 0
           },
           {
            "bin_start": 1790.3349609375,
            "bin_end": 1797.8299560546875,
            "count": 1
           }
          ]
         }
        },
        {
         "name": "GS",
         "dtype": "float64",
         "stats": {
          "unique_count": 5,
          "nan_count": 0,
          "min": "261.80255126953125",
          "max": "288.1309814453125",
          "histogram": [
           {
            "bin_start": 261.80255126953125,
            "bin_end": 264.4353942871094,
            "count": 1
           },
           {
            "bin_start": 264.4353942871094,
            "bin_end": 267.0682373046875,
            "count": 0
           },
           {
            "bin_start": 267.0682373046875,
            "bin_end": 269.7010803222656,
            "count": 1
           },
           {
            "bin_start": 269.7010803222656,
            "bin_end": 272.33392333984375,
            "count": 0
           },
           {
            "bin_start": 272.33392333984375,
            "bin_end": 274.9667663574219,
            "count": 0
           },
           {
            "bin_start": 274.9667663574219,
            "bin_end": 277.599609375,
            "count": 0
           },
           {
            "bin_start": 277.599609375,
            "bin_end": 280.2324523925781,
            "count": 0
           },
           {
            "bin_start": 280.2324523925781,
            "bin_end": 282.86529541015625,
            "count": 1
           },
           {
            "bin_start": 282.86529541015625,
            "bin_end": 285.4981384277344,
            "count": 0
           },
           {
            "bin_start": 285.4981384277344,
            "bin_end": 288.1309814453125,
            "count": 2
           }
          ]
         }
        },
        {
         "name": "HON",
         "dtype": "float64",
         "stats": {
          "unique_count": 5,
          "nan_count": 0,
          "min": "205.3398284912109",
          "max": "209.9413604736328",
          "histogram": [
           {
            "bin_start": 205.3398284912109,
            "bin_end": 205.7999816894531,
            "count": 1
           },
           {
            "bin_start": 205.7999816894531,
            "bin_end": 206.2601348876953,
            "count": 1
           },
           {
            "bin_start": 206.2601348876953,
            "bin_end": 206.72028808593748,
            "count": 0
           },
           {
            "bin_start": 206.72028808593748,
            "bin_end": 207.18044128417966,
            "count": 0
           },
           {
            "bin_start": 207.18044128417966,
            "bin_end": 207.64059448242188,
            "count": 1
           },
           {
            "bin_start": 207.64059448242188,
            "bin_end": 208.10074768066406,
            "count": 0
           },
           {
            "bin_start": 208.10074768066406,
            "bin_end": 208.56090087890624,
            "count": 0
           },
           {
            "bin_start": 208.56090087890624,
            "bin_end": 209.02105407714842,
            "count": 0
           },
           {
            "bin_start": 209.02105407714842,
            "bin_end": 209.48120727539063,
            "count": 0
           },
           {
            "bin_start": 209.48120727539063,
            "bin_end": 209.9413604736328,
            "count": 2
           }
          ]
         }
        },
        {
         "name": "IBM",
         "dtype": "float64",
         "stats": {
          "unique_count": 5,
          "nan_count": 0,
          "min": "114.12940979003906",
          "max": "119.05591583251952",
          "histogram": [
           {
            "bin_start": 114.12940979003906,
            "bin_end": 114.6220603942871,
            "count": 1
           },
           {
            "bin_start": 114.6220603942871,
            "bin_end": 115.11471099853516,
            "count": 0
           },
           {
            "bin_start": 115.11471099853516,
            "bin_end": 115.6073616027832,
            "count": 0
           },
           {
            "bin_start": 115.6073616027832,
            "bin_end": 116.10001220703124,
            "count": 0
           },
           {
            "bin_start": 116.10001220703124,
            "bin_end": 116.5926628112793,
            "count": 1
           },
           {
            "bin_start": 116.5926628112793,
            "bin_end": 117.08531341552734,
            "count": 0
           },
           {
            "bin_start": 117.08531341552734,
            "bin_end": 117.57796401977538,
            "count": 0
           },
           {
            "bin_start": 117.57796401977538,
            "bin_end": 118.07061462402342,
            "count": 0
           },
           {
            "bin_start": 118.07061462402342,
            "bin_end": 118.56326522827148,
            "count": 1
           },
           {
            "bin_start": 118.56326522827148,
            "bin_end": 119.05591583251952,
            "count": 2
           }
          ]
         }
        },
        {
         "name": "INTC",
         "dtype": "float64",
         "stats": {
          "unique_count": 5,
          "nan_count": 0,
          "min": "49.06810760498047",
          "max": "51.55757141113281",
          "histogram": [
           {
            "bin_start": 49.06810760498047,
            "bin_end": 49.317053985595706,
            "count": 1
           },
           {
            "bin_start": 49.317053985595706,
            "bin_end": 49.566000366210936,
            "count": 0
           },
           {
            "bin_start": 49.566000366210936,
            "bin_end": 49.81494674682617,
            "count": 0
           },
           {
            "bin_start": 49.81494674682617,
            "bin_end": 50.0638931274414,
            "count": 1
           },
           {
            "bin_start": 50.0638931274414,
            "bin_end": 50.31283950805664,
            "count": 0
           },
           {
            "bin_start": 50.31283950805664,
            "bin_end": 50.56178588867188,
            "count": 1
           },
           {
            "bin_start": 50.56178588867188,
            "bin_end": 50.81073226928711,
            "count": 0
           },
           {
            "bin_start": 50.81073226928711,
            "bin_end": 51.059678649902345,
            "count": 1
           },
           {
            "bin_start": 51.059678649902345,
            "bin_end": 51.308625030517575,
            "count": 0
           },
           {
            "bin_start": 51.308625030517575,
            "bin_end": 51.55757141113281,
            "count": 1
           }
          ]
         }
        },
        {
         "name": "JNJ",
         "dtype": "float64",
         "stats": {
          "unique_count": 5,
          "nan_count": 0,
          "min": "153.65277099609375",
          "max": "157.4523468017578",
          "histogram": [
           {
            "bin_start": 153.65277099609375,
            "bin_end": 154.03272857666016,
            "count": 1
           },
           {
            "bin_start": 154.03272857666016,
            "bin_end": 154.41268615722657,
            "count": 0
           },
           {
            "bin_start": 154.41268615722657,
            "bin_end": 154.79264373779296,
            "count": 0
           },
           {
            "bin_start": 154.79264373779296,
            "bin_end": 155.17260131835937,
            "count": 0
           },
           {
            "bin_start": 155.17260131835937,
            "bin_end": 155.55255889892578,
            "count": 1
           },
           {
            "bin_start": 155.55255889892578,
            "bin_end": 155.9325164794922,
            "count": 0
           },
           {
            "bin_start": 155.9325164794922,
            "bin_end": 156.3124740600586,
            "count": 0
           },
           {
            "bin_start": 156.3124740600586,
            "bin_end": 156.692431640625,
            "count": 0
           },
           {
            "bin_start": 156.692431640625,
            "bin_end": 157.0723892211914,
            "count": 1
           },
           {
            "bin_start": 157.0723892211914,
            "bin_end": 157.4523468017578,
            "count": 2
           }
          ]
         }
        },
        {
         "name": "JPM",
         "dtype": "float64",
         "stats": {
          "unique_count": 5,
          "nan_count": 0,
          "min": "122.78654479980467",
          "max": "133.64349365234375",
          "histogram": [
           {
            "bin_start": 122.78654479980467,
            "bin_end": 123.87223968505859,
            "count": 2
           },
           {
            "bin_start": 123.87223968505859,
            "bin_end": 124.95793457031249,
            "count": 0
           },
           {
            "bin_start": 124.95793457031249,
            "bin_end": 126.04362945556639,
            "count": 0
           },
           {
            "bin_start": 126.04362945556639,
            "bin_end": 127.1293243408203,
            "count": 0
           },
           {
            "bin_start": 127.1293243408203,
            "bin_end": 128.21501922607422,
            "count": 0
           },
           {
            "bin_start": 128.21501922607422,
            "bin_end": 129.30071411132812,
            "count": 1
           },
           {
            "bin_start": 129.30071411132812,
            "bin_end": 130.38640899658202,
            "count": 0
           },
           {
            "bin_start": 130.38640899658202,
            "bin_end": 131.47210388183595,
            "count": 0
           },
           {
            "bin_start": 131.47210388183595,
            "bin_end": 132.55779876708985,
            "count": 0
           },
           {
            "bin_start": 132.55779876708985,
            "bin_end": 133.64349365234375,
            "count": 2
           }
          ]
         }
        },
        {
         "name": "KHC",
         "dtype": "float64",
         "stats": {
          "unique_count": 5,
          "nan_count": 0,
          "min": "32.92927169799805",
          "max": "33.57667922973633",
          "histogram": [
           {
            "bin_start": 32.92927169799805,
            "bin_end": 32.994012451171876,
            "count": 2
           },
           {
            "bin_start": 32.994012451171876,
            "bin_end": 33.058753204345706,
            "count": 1
           },
           {
            "bin_start": 33.058753204345706,
            "bin_end": 33.12349395751953,
            "count": 0
           },
           {
            "bin_start": 33.12349395751953,
            "bin_end": 33.18823471069336,
            "count": 0
           },
           {
            "bin_start": 33.18823471069336,
            "bin_end": 33.25297546386719,
            "count": 0
           },
           {
            "bin_start": 33.25297546386719,
            "bin_end": 33.31771621704102,
            "count": 1
           },
           {
            "bin_start": 33.31771621704102,
            "bin_end": 33.38245697021485,
            "count": 0
           },
           {
            "bin_start": 33.38245697021485,
            "bin_end": 33.44719772338867,
            "count": 0
           },
           {
            "bin_start": 33.44719772338867,
            "bin_end": 33.5119384765625,
            "count": 0
           },
           {
            "bin_start": 33.5119384765625,
            "bin_end": 33.57667922973633,
            "count": 1
           }
          ]
         }
        },
        {
         "name": "KO",
         "dtype": "float64",
         "stats": {
          "unique_count": 5,
          "nan_count": 0,
          "min": "48.80867385864258",
          "max": "51.54414749145508",
          "histogram": [
           {
            "bin_start": 48.80867385864258,
            "bin_end": 49.08222122192383,
            "count": 1
           },
           {
            "bin_start": 49.08222122192383,
            "bin_end": 49.35576858520508,
            "count": 0
           },
           {
            "bin_start": 49.35576858520508,
            "bin_end": 49.62931594848633,
            "count": 1
           },
           {
            "bin_start": 49.62931594848633,
            "bin_end": 49.902863311767575,
            "count": 0
           },
           {
            "bin_start": 49.902863311767575,
            "bin_end": 50.17641067504883,
            "count": 1
           },
           {
            "bin_start": 50.17641067504883,
            "bin_end": 50.44995803833008,
            "count": 0
           },
           {
            "bin_start": 50.44995803833008,
            "bin_end": 50.72350540161133,
            "count": 0
           },
           {
            "bin_start": 50.72350540161133,
            "bin_end": 50.99705276489258,
            "count": 1
           },
           {
            "bin_start": 50.99705276489258,
            "bin_end": 51.270600128173825,
            "count": 0
           },
           {
            "bin_start": 51.270600128173825,
            "bin_end": 51.54414749145508,
            "count": 1
           }
          ]
         }
        },
        {
         "name": "LIN",
         "dtype": "float64",
         "stats": {
          "unique_count": 5,
          "nan_count": 0,
          "min": "255.93081665039065",
          "max": "268.4796447753906",
          "histogram": [
           {
            "bin_start": 255.93081665039065,
            "bin_end": 257.1856994628906,
            "count": 1
           },
           {
            "bin_start": 257.1856994628906,
            "bin_end": 258.4405822753906,
            "count": 0
           },
           {
            "bin_start": 258.4405822753906,
            "bin_end": 259.6954650878906,
            "count": 0
           },
           {
            "bin_start": 259.6954650878906,
            "bin_end": 260.9503479003906,
            "count": 1
           },
           {
            "bin_start": 260.9503479003906,
            "bin_end": 262.2052307128906,
            "count": 0
           },
           {
            "bin_start": 262.2052307128906,
            "bin_end": 263.4601135253906,
            "count": 0
           },
           {
            "bin_start": 263.4601135253906,
            "bin_end": 264.7149963378906,
            "count": 0
           },
           {
            "bin_start": 264.7149963378906,
            "bin_end": 265.9698791503906,
            "count": 0
           },
           {
            "bin_start": 265.9698791503906,
            "bin_end": 267.2247619628906,
            "count": 0
           },
           {
            "bin_start": 267.2247619628906,
            "bin_end": 268.4796447753906,
            "count": 3
           }
          ]
         }
        },
        {
         "name": "LLY",
         "dtype": "float64",
         "stats": {
          "unique_count": 5,
          "nan_count": 0,
          "min": "162.39236450195312",
          "max": "164.4578399658203",
          "histogram": [
           {
            "bin_start": 162.39236450195312,
            "bin_end": 162.59891204833986,
            "count": 1
           },
           {
            "bin_start": 162.59891204833986,
            "bin_end": 162.80545959472656,
            "count": 0
           },
           {
            "bin_start": 162.80545959472656,
            "bin_end": 163.0120071411133,
            "count": 0
           },
           {
            "bin_start": 163.0120071411133,
            "bin_end": 163.2185546875,
            "count": 0
           },
           {
            "bin_start": 163.2185546875,
            "bin_end": 163.42510223388672,
            "count": 0
           },
           {
            "bin_start": 163.42510223388672,
            "bin_end": 163.63164978027345,
            "count": 1
           },
           {
            "bin_start": 163.63164978027345,
            "bin_end": 163.83819732666015,
            "count": 0
           },
           {
            "bin_start": 163.83819732666015,
            "bin_end": 164.04474487304688,
            "count": 1
           },
           {
            "bin_start": 164.04474487304688,
            "bin_end": 164.25129241943358,
            "count": 0
           },
           {
            "bin_start": 164.25129241943358,
            "bin_end": 164.4578399658203,
            "count": 2
           }
          ]
         }
        },
        {
         "name": "LMT",
         "dtype": "float64",
         "stats": {
          "unique_count": 5,
          "nan_count": 0,
          "min": "328.9247131347656",
          "max": "341.3438415527344",
          "histogram": [
           {
            "bin_start": 328.9247131347656,
            "bin_end": 330.1666259765625,
            "count": 1
           },
           {
            "bin_start": 330.1666259765625,
            "bin_end": 331.4085388183594,
            "count": 0
           },
           {
            "bin_start": 331.4085388183594,
            "bin_end": 332.65045166015625,
            "count": 0
           },
           {
            "bin_start": 332.65045166015625,
            "bin_end": 333.8923645019531,
            "count": 0
           },
           {
            "bin_start": 333.8923645019531,
            "bin_end": 335.13427734375,
            "count": 0
           },
           {
            "bin_start": 335.13427734375,
            "bin_end": 336.3761901855469,
            "count": 1
           },
           {
            "bin_start": 336.3761901855469,
            "bin_end": 337.61810302734375,
            "count": 1
           },
           {
            "bin_start": 337.61810302734375,
            "bin_end": 338.8600158691406,
            "count": 0
           },
           {
            "bin_start": 338.8600158691406,
            "bin_end": 340.1019287109375,
            "count": 0
           },
           {
            "bin_start": 340.1019287109375,
            "bin_end": 341.3438415527344,
            "count": 2
           }
          ]
         }
        },
        {
         "name": "LOW",
         "dtype": "float64",
         "stats": {
          "unique_count": 5,
          "nan_count": 0,
          "min": "158.11497497558594",
          "max": "162.71902465820312",
          "histogram": [
           {
            "bin_start": 158.11497497558594,
            "bin_end": 158.57537994384765,
            "count": 1
           },
           {
            "bin_start": 158.57537994384765,
            "bin_end": 159.03578491210936,
            "count": 1
           },
           {
            "bin_start": 159.03578491210936,
            "bin_end": 159.4961898803711,
            "count": 0
           },
           {
            "bin_start": 159.4961898803711,
            "bin_end": 159.95659484863282,
            "count": 0
           },
           {
            "bin_start": 159.95659484863282,
            "bin_end": 160.41699981689453,
            "count": 0
           },
           {
            "bin_start": 160.41699981689453,
            "bin_end": 160.87740478515624,
            "count": 1
           },
           {
            "bin_start": 160.87740478515624,
            "bin_end": 161.33780975341796,
            "count": 0
           },
           {
            "bin_start": 161.33780975341796,
            "bin_end": 161.7982147216797,
            "count": 1
           },
           {
            "bin_start": 161.7982147216797,
            "bin_end": 162.2586196899414,
            "count": 0
           },
           {
            "bin_start": 162.2586196899414,
            "bin_end": 162.71902465820312,
            "count": 1
           }
          ]
         }
        },
        {
         "name": "MA",
         "dtype": "float64",
         "stats": {
          "unique_count": 5,
          "nan_count": 0,
          "min": "345.7240905761719",
          "max": "352.569091796875",
          "histogram": [
           {
            "bin_start": 345.7240905761719,
            "bin_end": 346.40859069824216,
            "count": 2
           },
           {
            "bin_start": 346.40859069824216,
            "bin_end": 347.0930908203125,
            "count": 0
           },
           {
            "bin_start": 347.0930908203125,
            "bin_end": 347.7775909423828,
            "count": 0
           },
           {
            "bin_start": 347.7775909423828,
            "bin_end": 348.46209106445315,
            "count": 0
           },
           {
            "bin_start": 348.46209106445315,
            "bin_end": 349.14659118652344,
            "count": 1
           },
           {
            "bin_start": 349.14659118652344,
            "bin_end": 349.8310913085937,
            "count": 1
           },
           {
            "bin_start": 349.8310913085937,
            "bin_end": 350.5155914306641,
            "count": 0
           },
           {
            "bin_start": 350.5155914306641,
            "bin_end": 351.20009155273436,
            "count": 0
           },
           {
            "bin_start": 351.20009155273436,
            "bin_end": 351.8845916748047,
            "count": 0
           },
           {
            "bin_start": 351.8845916748047,
            "bin_end": 352.569091796875,
            "count": 1
           }
          ]
         }
        },
        {
         "name": "MCD",
         "dtype": "float64",
         "stats": {
          "unique_count": 5,
          "nan_count": 0,
          "min": "206.65391540527344",
          "max": "212.20806884765625",
          "histogram": [
           {
            "bin_start": 206.65391540527344,
            "bin_end": 207.2093307495117,
            "count": 1
           },
           {
            "bin_start": 207.2093307495117,
            "bin_end": 207.76474609375,
            "count": 1
           },
           {
            "bin_start": 207.76474609375,
            "bin_end": 208.32016143798828,
            "count": 1
           },
           {
            "bin_start": 208.32016143798828,
            "bin_end": 208.87557678222657,
            "count": 1
           },
           {
            "bin_start": 208.87557678222657,
            "bin_end": 209.43099212646484,
            "count": 0
           },
           {
            "bin_start": 209.43099212646484,
            "bin_end": 209.9864074707031,
            "count": 0
           },
           {
            "bin_start": 209.9864074707031,
            "bin_end": 210.5418228149414,
            "count": 0
           },
           {
            "bin_start": 210.5418228149414,
            "bin_end": 211.09723815917968,
            "count": 0
           },
           {
            "bin_start": 211.09723815917968,
            "bin_end": 211.65265350341798,
            "count": 0
           },
           {
            "bin_start": 211.65265350341798,
            "bin_end": 212.20806884765625,
            "count": 1
           }
          ]
         }
        },
        {
         "name": "MDLZ",
         "dtype": "float64",
         "stats": {
          "unique_count": 5,
          "nan_count": 0,
          "min": "57.17123794555664",
          "max": "57.59685516357422",
          "histogram": [
           {
            "bin_start": 57.17123794555664,
            "bin_end": 57.2137996673584,
            "count": 1
           },
           {
            "bin_start": 57.2137996673584,
            "bin_end": 57.256361389160155,
            "count": 0
           },
           {
            "bin_start": 57.256361389160155,
            "bin_end": 57.298923110961915,
            "count": 1
           },
           {
            "bin_start": 57.298923110961915,
            "bin_end": 57.34148483276367,
            "count": 1
           },
           {
            "bin_start": 57.34148483276367,
            "bin_end": 57.38404655456543,
            "count": 0
           },
           {
            "bin_start": 57.38404655456543,
            "bin_end": 57.42660827636719,
            "count": 1
           },
           {
            "bin_start": 57.42660827636719,
            "bin_end": 57.469169998168944,
            "count": 0
           },
           {
            "bin_start": 57.469169998168944,
            "bin_end": 57.511731719970705,
            "count": 0
           },
           {
            "bin_start": 57.511731719970705,
            "bin_end": 57.55429344177246,
            "count": 0
           },
           {
            "bin_start": 57.55429344177246,
            "bin_end": 57.59685516357422,
            "count": 1
           }
          ]
         }
        },
        {
         "name": "MDT",
         "dtype": "float64",
         "stats": {
          "unique_count": 5,
          "nan_count": 0,
          "min": "114.29882049560548",
          "max": "117.93407440185548",
          "histogram": [
           {
            "bin_start": 114.29882049560548,
            "bin_end": 114.66234588623048,
            "count": 1
           },
           {
            "bin_start": 114.66234588623048,
            "bin_end": 115.02587127685548,
            "count": 0
           },
           {
            "bin_start": 115.02587127685548,
            "bin_end": 115.38939666748048,
            "count": 1
           },
           {
            "bin_start": 115.38939666748048,
            "bin_end": 115.75292205810548,
            "count": 0
           },
           {
            "bin_start": 115.75292205810548,
            "bin_end": 116.11644744873048,
            "count": 0
           },
           {
            "bin_start": 116.11644744873048,
            "bin_end": 116.47997283935548,
            "count": 0
           },
           {
            "bin_start": 116.47997283935548,
            "bin_end": 116.84349822998048,
            "count": 0
           },
           {
            "bin_start": 116.84349822998048,
            "bin_end": 117.20702362060548,
            "count": 2
           },
           {
            "bin_start": 117.20702362060548,
            "bin_end": 117.57054901123048,
            "count": 0
           },
           {
            "bin_start": 117.57054901123048,
            "bin_end": 117.93407440185548,
            "count": 1
           }
          ]
         }
        },
        {
         "name": "MET",
         "dtype": "float64",
         "stats": {
          "unique_count": 5,
          "nan_count": 0,
          "min": "44.62873458862305",
          "max": "48.01850128173828",
          "histogram": [
           {
            "bin_start": 44.62873458862305,
            "bin_end": 44.96771125793457,
            "count": 1
           },
           {
            "bin_start": 44.96771125793457,
            "bin_end": 45.306687927246095,
            "count": 1
           },
           {
            "bin_start": 45.306687927246095,
            "bin_end": 45.645664596557616,
            "count": 0
           },
           {
            "bin_start": 45.645664596557616,
            "bin_end": 45.98464126586914,
            "count": 0
           },
           {
            "bin_start": 45.98464126586914,
            "bin_end": 46.323617935180664,
            "count": 0
           },
           {
            "bin_start": 46.323617935180664,
            "bin_end": 46.662594604492185,
            "count": 0
           },
           {
            "bin_start": 46.662594604492185,
            "bin_end": 47.00157127380371,
            "count": 0
           },
           {
            "bin_start": 47.00157127380371,
            "bin_end": 47.34054794311523,
            "count": 0
           },
           {
            "bin_start": 47.34054794311523,
            "bin_end": 47.67952461242676,
            "count": 0
           },
           {
            "bin_start": 47.67952461242676,
            "bin_end": 48.01850128173828,
            "count": 3
           }
          ]
         }
        },
        {
         "name": "MMM",
         "dtype": "float64",
         "stats": {
          "unique_count": 5,
          "nan_count": 0,
          "min": "162.8081512451172",
          "max": "170.20498657226562",
          "histogram": [
           {
            "bin_start": 162.8081512451172,
            "bin_end": 163.54783477783204,
            "count": 1
           },
           {
            "bin_start": 163.54783477783204,
            "bin_end": 164.2875183105469,
            "count": 0
           },
           {
            "bin_start": 164.2875183105469,
            "bin_end": 165.0272018432617,
            "count": 0
           },
           {
            "bin_start": 165.0272018432617,
            "bin_end": 165.76688537597656,
            "count": 0
           },
           {
            "bin_start": 165.76688537597656,
            "bin_end": 166.5065689086914,
            "count": 1
           },
           {
            "bin_start": 166.5065689086914,
            "bin_end": 167.24625244140626,
            "count": 0
           },
           {
            "bin_start": 167.24625244140626,
            "bin_end": 167.9859359741211,
            "count": 2
           },
           {
            "bin_start": 167.9859359741211,
            "bin_end": 168.72561950683593,
            "count": 0
           },
           {
            "bin_start": 168.72561950683593,
            "bin_end": 169.46530303955078,
            "count": 0
           },
           {
            "bin_start": 169.46530303955078,
            "bin_end": 170.20498657226562,
            "count": 1
           }
          ]
         }
        },
        {
         "name": "MO",
         "dtype": "float64",
         "stats": {
          "unique_count": 5,
          "nan_count": 0,
          "min": "38.66595458984375",
          "max": "39.6335563659668",
          "histogram": [
           {
            "bin_start": 38.66595458984375,
            "bin_end": 38.76271476745605,
            "count": 2
           },
           {
            "bin_start": 38.76271476745605,
            "bin_end": 38.85947494506836,
            "count": 0
           },
           {
            "bin_start": 38.85947494506836,
            "bin_end": 38.95623512268067,
            "count": 0
           },
           {
            "bin_start": 38.95623512268067,
            "bin_end": 39.05299530029297,
            "count": 0
           },
           {
            "bin_start": 39.05299530029297,
            "bin_end": 39.14975547790527,
            "count": 0
           },
           {
            "bin_start": 39.14975547790527,
            "bin_end": 39.24651565551758,
            "count": 0
           },
           {
            "bin_start": 39.24651565551758,
            "bin_end": 39.34327583312988,
            "count": 1
           },
           {
            "bin_start": 39.34327583312988,
            "bin_end": 39.44003601074219,
            "count": 0
           },
           {
            "bin_start": 39.44003601074219,
            "bin_end": 39.536796188354494,
            "count": 1
           },
           {
            "bin_start": 39.536796188354494,
            "bin_end": 39.6335563659668,
            "count": 1
           }
          ]
         }
        },
        {
         "name": "MRK",
         "dtype": "float64",
         "stats": {
          "unique_count": 5,
          "nan_count": 0,
          "min": "75.25204467773438",
          "max": "78.09629821777344",
          "histogram": [
           {
            "bin_start": 75.25204467773438,
            "bin_end": 75.53647003173828,
            "count": 2
           },
           {
            "bin_start": 75.53647003173828,
            "bin_end": 75.82089538574219,
            "count": 0
           },
           {
            "bin_start": 75.82089538574219,
            "bin_end": 76.10532073974609,
            "count": 0
           },
           {
            "bin_start": 76.10532073974609,
            "bin_end": 76.38974609375,
            "count": 0
           },
           {
            "bin_start": 76.38974609375,
            "bin_end": 76.6741714477539,
            "count": 1
           },
           {
            "bin_start": 76.6741714477539,
            "bin_end": 76.9585968017578,
            "count": 0
           },
           {
            "bin_start": 76.9585968017578,
            "bin_end": 77.24302215576172,
            "count": 1
           },
           {
            "bin_start": 77.24302215576172,
            "bin_end": 77.52744750976562,
            "count": 0
           },
           {
            "bin_start": 77.52744750976562,
            "bin_end": 77.81187286376954,
            "count": 0
           },
           {
            "bin_start": 77.81187286376954,
            "bin_end": 78.09629821777344,
            "count": 1
           }
          ]
         }
        },
        {
         "name": "MS",
         "dtype": "float64",
         "stats": {
          "unique_count": 5,
          "nan_count": 0,
          "min": "66.73786163330078",
          "max": "73.49662780761719",
          "histogram": [
           {
            "bin_start": 66.73786163330078,
            "bin_end": 67.41373825073242,
            "count": 1
           },
           {
            "bin_start": 67.41373825073242,
            "bin_end": 68.08961486816406,
            "count": 1
           },
           {
            "bin_start": 68.08961486816406,
            "bin_end": 68.7654914855957,
            "count": 0
           },
           {
            "bin_start": 68.7654914855957,
            "bin_end": 69.44136810302734,
            "count": 0
           },
           {
            "bin_start": 69.44136810302734,
            "bin_end": 70.11724472045898,
            "count": 0
           },
           {
            "bin_start": 70.11724472045898,
            "bin_end": 70.79312133789062,
            "count": 0
           },
           {
            "bin_start": 70.79312133789062,
            "bin_end": 71.46899795532227,
            "count": 0
           },
           {
            "bin_start": 71.46899795532227,
            "bin_end": 72.1448745727539,
            "count": 1
           },
           {
            "bin_start": 72.1448745727539,
            "bin_end": 72.82075119018555,
            "count": 0
           },
           {
            "bin_start": 72.82075119018555,
            "bin_end": 73.49662780761719,
            "count": 2
           }
          ]
         }
        },
        {
         "name": "MSFT",
         "dtype": "float64",
         "stats": {
          "unique_count": 5,
          "nan_count": 0,
          "min": "211.2744140625",
          "max": "218.6105499267578",
          "histogram": [
           {
            "bin_start": 211.2744140625,
            "bin_end": 212.00802764892578,
            "count": 1
           },
           {
            "bin_start": 212.00802764892578,
            "bin_end": 212.74164123535155,
            "count": 0
           },
           {
            "bin_start": 212.74164123535155,
            "bin_end": 213.47525482177736,
            "count": 0
           },
           {
            "bin_start": 213.47525482177736,
            "bin_end": 214.20886840820313,
            "count": 0
           },
           {
            "bin_start": 214.20886840820313,
            "bin_end": 214.9424819946289,
            "count": 0
           },
           {
            "bin_start": 214.9424819946289,
            "bin_end": 215.67609558105468,
            "count": 0
           },
           {
            "bin_start": 215.67609558105468,
            "bin_end": 216.40970916748046,
            "count": 0
           },
           {
            "bin_start": 216.40970916748046,
            "bin_end": 217.14332275390626,
            "count": 2
           },
           {
            "bin_start": 217.14332275390626,
            "bin_end": 217.87693634033204,
            "count": 1
           },
           {
            "bin_start": 217.87693634033204,
            "bin_end": 218.6105499267578,
            "count": 1
           }
          ]
         }
        },
        {
         "name": "NEE",
         "dtype": "float64",
         "stats": {
          "unique_count": 5,
          "nan_count": 0,
          "min": "73.10986328125",
          "max": "79.91651153564453",
          "histogram": [
           {
            "bin_start": 73.10986328125,
            "bin_end": 73.79052810668945,
            "count": 2
           },
           {
            "bin_start": 73.79052810668945,
            "bin_end": 74.4711929321289,
            "count": 0
           },
           {
            "bin_start": 74.4711929321289,
            "bin_end": 75.15185775756837,
            "count": 0
           },
           {
            "bin_start": 75.15185775756837,
            "bin_end": 75.83252258300782,
            "count": 0
           },
           {
            "bin_start": 75.83252258300782,
            "bin_end": 76.51318740844727,
            "count": 0
           },
           {
            "bin_start": 76.51318740844727,
            "bin_end": 77.19385223388672,
            "count": 0
           },
           {
            "bin_start": 77.19385223388672,
            "bin_end": 77.87451705932617,
            "count": 1
           },
           {
            "bin_start": 77.87451705932617,
            "bin_end": 78.55518188476563,
            "count": 1
           },
           {
            "bin_start": 78.55518188476563,
            "bin_end": 79.23584671020508,
            "count": 0
           },
           {
            "bin_start": 79.23584671020508,
            "bin_end": 79.91651153564453,
            "count": 1
           }
          ]
         }
        },
        {
         "name": "NFLX",
         "dtype": "float64",
         "stats": {
          "unique_count": 5,
          "nan_count": 0,
          "min": "500.489990234375",
          "max": "522.8599853515625",
          "histogram": [
           {
            "bin_start": 500.489990234375,
            "bin_end": 502.72698974609375,
            "count": 1
           },
           {
            "bin_start": 502.72698974609375,
            "bin_end": 504.9639892578125,
            "count": 0
           },
           {
            "bin_start": 504.9639892578125,
            "bin_end": 507.20098876953125,
            "count": 0
           },
           {
            "bin_start": 507.20098876953125,
            "bin_end": 509.43798828125,
            "count": 1
           },
           {
            "bin_start": 509.43798828125,
            "bin_end": 511.67498779296875,
            "count": 1
           },
           {
            "bin_start": 511.67498779296875,
            "bin_end": 513.9119873046875,
            "count": 0
           },
           {
            "bin_start": 513.9119873046875,
            "bin_end": 516.1489868164062,
            "count": 0
           },
           {
            "bin_start": 516.1489868164062,
            "bin_end": 518.385986328125,
            "count": 0
           },
           {
            "bin_start": 518.385986328125,
            "bin_end": 520.6229858398438,
            "count": 0
           },
           {
            "bin_start": 520.6229858398438,
            "bin_end": 522.8599853515625,
            "count": 2
           }
          ]
         }
        },
        {
         "name": "NKE",
         "dtype": "float64",
         "stats": {
          "unique_count": 5,
          "nan_count": 0,
          "min": "139.3043212890625",
          "max": "145.51882934570312",
          "histogram": [
           {
            "bin_start": 139.3043212890625,
            "bin_end": 139.92577209472657,
            "count": 1
           },
           {
            "bin_start": 139.92577209472657,
            "bin_end": 140.54722290039064,
            "count": 1
           },
           {
            "bin_start": 140.54722290039064,
            "bin_end": 141.16867370605468,
            "count": 0
           },
           {
            "bin_start": 141.16867370605468,
            "bin_end": 141.79012451171874,
            "count": 1
           },
           {
            "bin_start": 141.79012451171874,
            "bin_end": 142.4115753173828,
            "count": 0
           },
           {
            "bin_start": 142.4115753173828,
            "bin_end": 143.03302612304688,
            "count": 0
           },
           {
            "bin_start": 143.03302612304688,
            "bin_end": 143.65447692871095,
            "count": 0
           },
           {
            "bin_start": 143.65447692871095,
            "bin_end": 144.275927734375,
            "count": 1
           },
           {
            "bin_start": 144.275927734375,
            "bin_end": 144.89737854003906,
            "count": 0
           },
           {
            "bin_start": 144.89737854003906,
            "bin_end": 145.51882934570312,
            "count": 1
           }
          ]
         }
        },
        {
         "name": "NVDA",
         "dtype": "float64",
         "stats": {
          "unique_count": 5,
          "nan_count": 0,
          "min": "126.07257843017578",
          "max": "133.97055053710938",
          "histogram": [
           {
            "bin_start": 126.07257843017578,
            "bin_end": 126.86237564086915,
            "count": 1
           },
           {
            "bin_start": 126.86237564086915,
            "bin_end": 127.6521728515625,
            "count": 0
           },
           {
            "bin_start": 127.6521728515625,
            "bin_end": 128.44197006225585,
            "count": 0
           },
           {
            "bin_start": 128.44197006225585,
            "bin_end": 129.2317672729492,
            "count": 0
           },
           {
            "bin_start": 129.2317672729492,
            "bin_end": 130.02156448364258,
            "count": 0
           },
           {
            "bin_start": 130.02156448364258,
            "bin_end": 130.81136169433594,
            "count": 0
           },
           {
            "bin_start": 130.81136169433594,
            "bin_end": 131.6011589050293,
            "count": 1
           },
           {
            "bin_start": 131.6011589050293,
            "bin_end": 132.39095611572264,
            "count": 0
           },
           {
            "bin_start": 132.39095611572264,
            "bin_end": 133.180753326416,
            "count": 1
           },
           {
            "bin_start": 133.180753326416,
            "bin_end": 133.97055053710938,
            "count": 2
           }
          ]
         }
        },
        {
         "name": "ORCL",
         "dtype": "float64",
         "stats": {
          "unique_count": 5,
          "nan_count": 0,
          "min": "61.85630035400391",
          "max": "62.78260040283203",
          "histogram": [
           {
            "bin_start": 61.85630035400391,
            "bin_end": 61.94893035888673,
            "count": 1
           },
           {
            "bin_start": 61.94893035888673,
            "bin_end": 62.041560363769534,
            "count": 1
           },
           {
            "bin_start": 62.041560363769534,
            "bin_end": 62.13419036865235,
            "count": 0
           },
           {
            "bin_start": 62.13419036865235,
            "bin_end": 62.22682037353516,
            "count": 0
           },
           {
            "bin_start": 62.22682037353516,
            "bin_end": 62.31945037841797,
            "count": 0
           },
           {
            "bin_start": 62.31945037841797,
            "bin_end": 62.41208038330078,
            "count": 1
           },
           {
            "bin_start": 62.41208038330078,
            "bin_end": 62.5047103881836,
            "count": 0
           },
           {
            "bin_start": 62.5047103881836,
            "bin_end": 62.59734039306641,
            "count": 0
           },
           {
            "bin_start": 62.59734039306641,
            "bin_end": 62.68997039794922,
            "count": 1
           },
           {
            "bin_start": 62.68997039794922,
            "bin_end": 62.78260040283203,
            "count": 1
           }
          ]
         }
        },
        {
         "name": "PEP",
         "dtype": "float64",
         "stats": {
          "unique_count": 5,
          "nan_count": 0,
          "min": "140.31629943847656",
          "max": "142.5125732421875",
          "histogram": [
           {
            "bin_start": 140.31629943847656,
            "bin_end": 140.53592681884766,
            "count": 1
           },
           {
            "bin_start": 140.53592681884766,
            "bin_end": 140.75555419921875,
            "count": 0
           },
           {
            "bin_start": 140.75555419921875,
            "bin_end": 140.97518157958984,
            "count": 1
           },
           {
            "bin_start": 140.97518157958984,
            "bin_end": 141.19480895996094,
            "count": 0
           },
           {
            "bin_start": 141.19480895996094,
            "bin_end": 141.41443634033203,
            "count": 0
           },
           {
            "bin_start": 141.41443634033203,
            "bin_end": 141.63406372070312,
            "count": 0
           },
           {
            "bin_start": 141.63406372070312,
            "bin_end": 141.85369110107422,
            "count": 0
           },
           {
            "bin_start": 141.85369110107422,
            "bin_end": 142.0733184814453,
            "count": 1
           },
           {
            "bin_start": 142.0733184814453,
            "bin_end": 142.2929458618164,
            "count": 1
           },
           {
            "bin_start": 142.2929458618164,
            "bin_end": 142.5125732421875,
            "count": 1
           }
          ]
         }
        },
        {
         "name": "PFE",
         "dtype": "float64",
         "stats": {
          "unique_count": 5,
          "nan_count": 0,
          "min": "35.42396545410156",
          "max": "35.78965377807617",
          "histogram": [
           {
            "bin_start": 35.42396545410156,
            "bin_end": 35.460534286499026,
            "count": 1
           },
           {
            "bin_start": 35.460534286499026,
            "bin_end": 35.49710311889648,
            "count": 1
           },
           {
            "bin_start": 35.49710311889648,
            "bin_end": 35.53367195129395,
            "count": 0
           },
           {
            "bin_start": 35.53367195129395,
            "bin_end": 35.5702407836914,
            "count": 0
           },
           {
            "bin_start": 35.5702407836914,
            "bin_end": 35.60680961608887,
            "count": 0
           },
           {
            "bin_start": 35.60680961608887,
            "bin_end": 35.64337844848633,
            "count": 0
           },
           {
            "bin_start": 35.64337844848633,
            "bin_end": 35.67994728088379,
            "count": 1
           },
           {
            "bin_start": 35.67994728088379,
            "bin_end": 35.71651611328125,
            "count": 0
           },
           {
            "bin_start": 35.71651611328125,
            "bin_end": 35.75308494567871,
            "count": 1
           },
           {
            "bin_start": 35.75308494567871,
            "bin_end": 35.78965377807617,
            "count": 1
           }
          ]
         }
        },
        {
         "name": "PG",
         "dtype": "float64",
         "stats": {
          "unique_count": 5,
          "nan_count": 0,
          "min": "134.43896484375",
          "max": "136.7215576171875",
          "histogram": [
           {
            "bin_start": 134.43896484375,
            "bin_end": 134.66722412109374,
            "count": 1
           },
           {
            "bin_start": 134.66722412109374,
            "bin_end": 134.8954833984375,
            "count": 0
           },
           {
            "bin_start": 134.8954833984375,
            "bin_end": 135.12374267578124,
            "count": 0
           },
           {
            "bin_start": 135.12374267578124,
            "bin_end": 135.352001953125,
            "count": 1
           },
           {
            "bin_start": 135.352001953125,
            "bin_end": 135.58026123046875,
            "count": 2
           },
           {
            "bin_start": 135.58026123046875,
            "bin_end": 135.8085205078125,
            "count": 0
           },
           {
            "bin_start": 135.8085205078125,
            "bin_end": 136.03677978515626,
            "count": 0
           },
           {
            "bin_start": 136.03677978515626,
            "bin_end": 136.2650390625,
            "count": 0
           },
           {
            "bin_start": 136.2650390625,
            "bin_end": 136.49329833984376,
            "count": 0
           },
           {
            "bin_start": 136.49329833984376,
            "bin_end": 136.7215576171875,
            "count": 1
           }
          ]
         }
        },
        {
         "name": "PM",
         "dtype": "float64",
         "stats": {
          "unique_count": 5,
          "nan_count": 0,
          "min": "78.48661804199219",
          "max": "80.01782989501953",
          "histogram": [
           {
            "bin_start": 78.48661804199219,
            "bin_end": 78.63973922729492,
            "count": 1
           },
           {
            "bin_start": 78.63973922729492,
            "bin_end": 78.79286041259766,
            "count": 0
           },
           {
            "bin_start": 78.79286041259766,
            "bin_end": 78.94598159790038,
            "count": 0
           },
           {
            "bin_start": 78.94598159790038,
            "bin_end": 79.09910278320312,
            "count": 0
           },
           {
            "bin_start": 79.09910278320312,
            "bin_end": 79.25222396850586,
            "count": 0
           },
           {
            "bin_start": 79.25222396850586,
            "bin_end": 79.4053451538086,
            "count": 1
           },
           {
            "bin_start": 79.4053451538086,
            "bin_end": 79.55846633911133,
            "count": 1
           },
           {
            "bin_start": 79.55846633911133,
            "bin_end": 79.71158752441406,
            "count": 0
           },
           {
            "bin_start": 79.71158752441406,
            "bin_end": 79.8647087097168,
            "count": 0
           },
           {
            "bin_start": 79.8647087097168,
            "bin_end": 80.01782989501953,
            "count": 2
           }
          ]
         }
        },
        {
         "name": "PYPL",
         "dtype": "float64",
         "stats": {
          "unique_count": 5,
          "nan_count": 0,
          "min": "226.8300018310547",
          "max": "242.4600067138672",
          "histogram": [
           {
            "bin_start": 226.8300018310547,
            "bin_end": 228.39300231933595,
            "count": 1
           },
           {
            "bin_start": 228.39300231933595,
            "bin_end": 229.95600280761718,
            "count": 0
           },
           {
            "bin_start": 229.95600280761718,
            "bin_end": 231.51900329589844,
            "count": 0
           },
           {
            "bin_start": 231.51900329589844,
            "bin_end": 233.08200378417968,
            "count": 1
           },
           {
            "bin_start": 233.08200378417968,
            "bin_end": 234.64500427246094,
            "count": 0
           },
           {
            "bin_start": 234.64500427246094,
            "bin_end": 236.2080047607422,
            "count": 2
           },
           {
            "bin_start": 236.2080047607422,
            "bin_end": 237.77100524902343,
            "count": 0
           },
           {
            "bin_start": 237.77100524902343,
            "bin_end": 239.3340057373047,
            "count": 0
           },
           {
            "bin_start": 239.3340057373047,
            "bin_end": 240.89700622558593,
            "count": 0
           },
           {
            "bin_start": 240.89700622558593,
            "bin_end": 242.4600067138672,
            "count": 1
           }
          ]
         }
        },
        {
         "name": "QCOM",
         "dtype": "float64",
         "stats": {
          "unique_count": 5,
          "nan_count": 0,
          "min": "147.04530334472656",
          "max": "155.10556030273438",
          "histogram": [
           {
            "bin_start": 147.04530334472656,
            "bin_end": 147.85132904052733,
            "count": 1
           },
           {
            "bin_start": 147.85132904052733,
            "bin_end": 148.65735473632813,
            "count": 0
           },
           {
            "bin_start": 148.65735473632813,
            "bin_end": 149.4633804321289,
            "count": 0
           },
           {
            "bin_start": 149.4633804321289,
            "bin_end": 150.2694061279297,
            "count": 1
           },
           {
            "bin_start": 150.2694061279297,
            "bin_end": 151.07543182373047,
            "count": 1
           },
           {
            "bin_start": 151.07543182373047,
            "bin_end": 151.88145751953124,
            "count": 0
           },
           {
            "bin_start": 151.88145751953124,
            "bin_end": 152.68748321533204,
            "count": 0
           },
           {
            "bin_start": 152.68748321533204,
            "bin_end": 153.4935089111328,
            "count": 0
           },
           {
            "bin_start": 153.4935089111328,
            "bin_end": 154.2995346069336,
            "count": 1
           },
           {
            "bin_start": 154.2995346069336,
            "bin_end": 155.10556030273438,
            "count": 1
           }
          ]
         }
        },
        {
         "name": "RTX",
         "dtype": "float64",
         "stats": {
          "unique_count": 5,
          "nan_count": 0,
          "min": "67.20109558105469",
          "max": "69.01787567138672",
          "histogram": [
           {
            "bin_start": 67.20109558105469,
            "bin_end": 67.3827735900879,
            "count": 1
           },
           {
            "bin_start": 67.3827735900879,
            "bin_end": 67.5644515991211,
            "count": 0
           },
           {
            "bin_start": 67.5644515991211,
            "bin_end": 67.74612960815429,
            "count": 0
           },
           {
            "bin_start": 67.74612960815429,
            "bin_end": 67.9278076171875,
            "count": 0
           },
           {
            "bin_start": 67.9278076171875,
            "bin_end": 68.1094856262207,
            "count": 0
           },
           {
            "bin_start": 68.1094856262207,
            "bin_end": 68.29116363525391,
            "count": 1
           },
           {
            "bin_start": 68.29116363525391,
            "bin_end": 68.47284164428712,
            "count": 0
           },
           {
            "bin_start": 68.47284164428712,
            "bin_end": 68.6545196533203,
            "count": 2
           },
           {
            "bin_start": 68.6545196533203,
            "bin_end": 68.83619766235351,
            "count": 0
           },
           {
            "bin_start": 68.83619766235351,
            "bin_end": 69.01787567138672,
            "count": 1
           }
          ]
         }
        },
        {
         "name": "SBUX",
         "dtype": "float64",
         "stats": {
          "unique_count": 5,
          "nan_count": 0,
          "min": "102.2560806274414",
          "max": "104.80504608154295",
          "histogram": [
           {
            "bin_start": 102.2560806274414,
            "bin_end": 102.51097717285157,
            "count": 2
           },
           {
            "bin_start": 102.51097717285157,
            "bin_end": 102.76587371826172,
            "count": 1
           },
           {
            "bin_start": 102.76587371826172,
            "bin_end": 103.02077026367186,
            "count": 0
           },
           {
            "bin_start": 103.02077026367186,
            "bin_end": 103.27566680908203,
            "count": 0
           },
           {
            "bin_start": 103.27566680908203,
            "bin_end": 103.53056335449219,
            "count": 1
           },
           {
            "bin_start": 103.53056335449219,
            "bin_end": 103.78545989990234,
            "count": 0
           },
           {
            "bin_start": 103.78545989990234,
            "bin_end": 104.04035644531248,
            "count": 0
           },
           {
            "bin_start": 104.04035644531248,
            "bin_end": 104.29525299072264,
            "count": 0
           },
           {
            "bin_start": 104.29525299072264,
            "bin_end": 104.5501495361328,
            "count": 0
           },
           {
            "bin_start": 104.5501495361328,
            "bin_end": 104.80504608154295,
            "count": 1
           }
          ]
         }
        },
        {
         "name": "SO",
         "dtype": "float64",
         "stats": {
          "unique_count": 5,
          "nan_count": 0,
          "min": "57.56636047363281",
          "max": "59.70957946777344",
          "histogram": [
           {
            "bin_start": 57.56636047363281,
            "bin_end": 57.78068237304687,
            "count": 1
           },
           {
            "bin_start": 57.78068237304687,
            "bin_end": 57.99500427246094,
            "count": 1
           },
           {
            "bin_start": 57.99500427246094,
            "bin_end": 58.209326171875,
            "count": 0
           },
           {
            "bin_start": 58.209326171875,
            "bin_end": 58.423648071289065,
            "count": 0
           },
           {
            "bin_start": 58.423648071289065,
            "bin_end": 58.637969970703125,
            "count": 0
           },
           {
            "bin_start": 58.637969970703125,
            "bin_end": 58.852291870117185,
            "count": 0
           },
           {
            "bin_start": 58.852291870117185,
            "bin_end": 59.06661376953125,
            "count": 0
           },
           {
            "bin_start": 59.06661376953125,
            "bin_end": 59.28093566894531,
            "count": 0
           },
           {
            "bin_start": 59.28093566894531,
            "bin_end": 59.49525756835938,
            "count": 2
           },
           {
            "bin_start": 59.49525756835938,
            "bin_end": 59.70957946777344,
            "count": 1
           }
          ]
         }
        },
        {
         "name": "SPG",
         "dtype": "float64",
         "stats": {
          "unique_count": 5,
          "nan_count": 0,
          "min": "80.10838317871094",
          "max": "83.66832733154297",
          "histogram": [
           {
            "bin_start": 80.10838317871094,
            "bin_end": 80.46437759399414,
            "count": 2
           },
           {
            "bin_start": 80.46437759399414,
            "bin_end": 80.82037200927735,
            "count": 0
           },
           {
            "bin_start": 80.82037200927735,
            "bin_end": 81.17636642456054,
            "count": 0
           },
           {
            "bin_start": 81.17636642456054,
            "bin_end": 81.53236083984375,
            "count": 0
           },
           {
            "bin_start": 81.53236083984375,
            "bin_end": 81.88835525512695,
            "count": 0
           },
           {
            "bin_start": 81.88835525512695,
            "bin_end": 82.24434967041016,
            "count": 0
           },
           {
            "bin_start": 82.24434967041016,
            "bin_end": 82.60034408569337,
            "count": 2
           },
           {
            "bin_start": 82.60034408569337,
            "bin_end": 82.95633850097656,
            "count": 0
           },
           {
            "bin_start": 82.95633850097656,
            "bin_end": 83.31233291625976,
            "count": 0
           },
           {
            "bin_start": 83.31233291625976,
            "bin_end": 83.66832733154297,
            "count": 1
           }
          ]
         }
        },
        {
         "name": "T",
         "dtype": "float64",
         "stats": {
          "unique_count": 5,
          "nan_count": 0,
          "min": "26.708553314208984",
          "max": "27.3018741607666",
          "histogram": [
           {
            "bin_start": 26.708553314208984,
            "bin_end": 26.767885398864745,
            "count": 1
           },
           {
            "bin_start": 26.767885398864745,
            "bin_end": 26.827217483520506,
            "count": 0
           },
           {
            "bin_start": 26.827217483520506,
            "bin_end": 26.88654956817627,
            "count": 1
           },
           {
            "bin_start": 26.88654956817627,
            "bin_end": 26.945881652832032,
            "count": 0
           },
           {
            "bin_start": 26.945881652832032,
            "bin_end": 27.005213737487793,
            "count": 1
           },
           {
            "bin_start": 27.005213737487793,
            "bin_end": 27.064545822143554,
            "count": 0
           },
           {
            "bin_start": 27.064545822143554,
            "bin_end": 27.123877906799315,
            "count": 0
           },
           {
            "bin_start": 27.123877906799315,
            "bin_end": 27.18320999145508,
            "count": 0
           },
           {
            "bin_start": 27.18320999145508,
            "bin_end": 27.24254207611084,
            "count": 1
           },
           {
            "bin_start": 27.24254207611084,
            "bin_end": 27.3018741607666,
            "count": 1
           }
          ]
         }
        },
        {
         "name": "TGT",
         "dtype": "float64",
         "stats": {
          "unique_count": 5,
          "nan_count": 0,
          "min": "175.82254028320312",
          "max": "191.6300506591797",
          "histogram": [
           {
            "bin_start": 175.82254028320312,
            "bin_end": 177.40329132080078,
            "count": 1
           },
           {
            "bin_start": 177.40329132080078,
            "bin_end": 178.98404235839843,
            "count": 1
           },
           {
            "bin_start": 178.98404235839843,
            "bin_end": 180.5647933959961,
            "count": 0
           },
           {
            "bin_start": 180.5647933959961,
            "bin_end": 182.14554443359376,
            "count": 0
           },
           {
            "bin_start": 182.14554443359376,
            "bin_end": 183.7262954711914,
            "count": 0
           },
           {
            "bin_start": 183.7262954711914,
            "bin_end": 185.30704650878906,
            "count": 0
           },
           {
            "bin_start": 185.30704650878906,
            "bin_end": 186.8877975463867,
            "count": 0
           },
           {
            "bin_start": 186.8877975463867,
            "bin_end": 188.4685485839844,
            "count": 1
           },
           {
            "bin_start": 188.4685485839844,
            "bin_end": 190.04929962158204,
            "count": 1
           },
           {
            "bin_start": 190.04929962158204,
            "bin_end": 191.6300506591797,
            "count": 1
           }
          ]
         }
        },
        {
         "name": "TMO",
         "dtype": "float64",
         "stats": {
          "unique_count": 5,
          "nan_count": 0,
          "min": "471.06494140625",
          "max": "511.4801330566406",
          "histogram": [
           {
            "bin_start": 471.06494140625,
            "bin_end": 475.10646057128906,
            "count": 1
           },
           {
            "bin_start": 475.10646057128906,
            "bin_end": 479.1479797363281,
            "count": 1
           },
           {
            "bin_start": 479.1479797363281,
            "bin_end": 483.1894989013672,
            "count": 0
           },
           {
            "bin_start": 483.1894989013672,
            "bin_end": 487.23101806640625,
            "count": 1
           },
           {
            "bin_start": 487.23101806640625,
            "bin_end": 491.2725372314453,
            "count": 0
           },
           {
            "bin_start": 491.2725372314453,
            "bin_end": 495.3140563964844,
            "count": 0
           },
           {
            "bin_start": 495.3140563964844,
            "bin_end": 499.35557556152344,
            "count": 0
           },
           {
            "bin_start": 499.35557556152344,
            "bin_end": 503.3970947265625,
            "count": 1
           },
           {
            "bin_start": 503.3970947265625,
            "bin_end": 507.43861389160156,
            "count": 0
           },
           {
            "bin_start": 507.43861389160156,
            "bin_end": 511.4801330566406,
            "count": 1
           }
          ]
         }
        },
        {
         "name": "TMUS",
         "dtype": "float64",
         "stats": {
          "unique_count": 5,
          "nan_count": 0,
          "min": "131.52999877929688",
          "max": "135.05999755859375",
          "histogram": [
           {
            "bin_start": 131.52999877929688,
            "bin_end": 131.88299865722655,
            "count": 2
           },
           {
            "bin_start": 131.88299865722655,
            "bin_end": 132.23599853515626,
            "count": 0
           },
           {
            "bin_start": 132.23599853515626,
            "bin_end": 132.58899841308593,
            "count": 1
           },
           {
            "bin_start": 132.58899841308593,
            "bin_end": 132.94199829101564,
            "count": 0
           },
           {
            "bin_start": 132.94199829101564,
            "bin_end": 133.2949981689453,
            "count": 1
           },
           {
            "bin_start": 133.2949981689453,
            "bin_end": 133.647998046875,
            "count": 0
           },
           {
            "bin_start": 133.647998046875,
            "bin_end": 134.0009979248047,
            "count": 0
           },
           {
            "bin_start": 134.0009979248047,
            "bin_end": 134.35399780273437,
            "count": 0
           },
           {
            "bin_start": 134.35399780273437,
            "bin_end": 134.70699768066407,
            "count": 0
           },
           {
            "bin_start": 134.70699768066407,
            "bin_end": 135.05999755859375,
            "count": 1
           }
          ]
         }
        },
        {
         "name": "TSLA",
         "dtype": "float64",
         "stats": {
          "unique_count": 5,
          "nan_count": 0,
          "min": "729.77001953125",
          "max": "880.02001953125",
          "histogram": [
           {
            "bin_start": 729.77001953125,
            "bin_end": 744.79501953125,
            "count": 2
           },
           {
            "bin_start": 744.79501953125,
            "bin_end": 759.82001953125,
            "count": 1
           },
           {
            "bin_start": 759.82001953125,
            "bin_end": 774.84501953125,
            "count": 0
           },
           {
            "bin_start": 774.84501953125,
            "bin_end": 789.87001953125,
            "count": 0
           },
           {
            "bin_start": 789.87001953125,
            "bin_end": 804.89501953125,
            "count": 0
           },
           {
            "bin_start": 804.89501953125,
            "bin_end": 819.92001953125,
            "count": 1
           },
           {
            "bin_start": 819.92001953125,
            "bin_end": 834.94501953125,
            "count": 0
           },
           {
            "bin_start": 834.94501953125,
            "bin_end": 849.97001953125,
            "count": 0
           },
           {
            "bin_start": 849.97001953125,
            "bin_end": 864.99501953125,
            "count": 0
           },
           {
            "bin_start": 864.99501953125,
            "bin_end": 880.02001953125,
            "count": 1
           }
          ]
         }
        },
        {
         "name": "TXN",
         "dtype": "float64",
         "stats": {
          "unique_count": 5,
          "nan_count": 0,
          "min": "159.46778869628906",
          "max": "168.25611877441406",
          "histogram": [
           {
            "bin_start": 159.46778869628906,
            "bin_end": 160.34662170410155,
            "count": 1
           },
           {
            "bin_start": 160.34662170410155,
            "bin_end": 161.22545471191407,
            "count": 1
           },
           {
            "bin_start": 161.22545471191407,
            "bin_end": 162.10428771972656,
            "count": 1
           },
           {
            "bin_start": 162.10428771972656,
            "bin_end": 162.98312072753907,
            "count": 0
           },
           {
            "bin_start": 162.98312072753907,
            "bin_end": 163.86195373535156,
            "count": 0
           },
           {
            "bin_start": 163.86195373535156,
            "bin_end": 164.74078674316405,
            "count": 0
           },
           {
            "bin_start": 164.74078674316405,
            "bin_end": 165.61961975097657,
            "count": 1
           },
           {
            "bin_start": 165.61961975097657,
            "bin_end": 166.49845275878906,
            "count": 0
           },
           {
            "bin_start": 166.49845275878906,
            "bin_end": 167.37728576660157,
            "count": 0
           },
           {
            "bin_start": 167.37728576660157,
            "bin_end": 168.25611877441406,
            "count": 1
           }
          ]
         }
        },
        {
         "name": "UNH",
         "dtype": "float64",
         "stats": {
          "unique_count": 5,
          "nan_count": 0,
          "min": "341.128173828125",
          "max": "361.1427612304688",
          "histogram": [
           {
            "bin_start": 341.128173828125,
            "bin_end": 343.1296325683594,
            "count": 1
           },
           {
            "bin_start": 343.1296325683594,
            "bin_end": 345.13109130859374,
            "count": 0
           },
           {
            "bin_start": 345.13109130859374,
            "bin_end": 347.13255004882814,
            "count": 1
           },
           {
            "bin_start": 347.13255004882814,
            "bin_end": 349.13400878906253,
            "count": 0
           },
           {
            "bin_start": 349.13400878906253,
            "bin_end": 351.1354675292969,
            "count": 0
           },
           {
            "bin_start": 351.1354675292969,
            "bin_end": 353.1369262695313,
            "count": 0
           },
           {
            "bin_start": 353.1369262695313,
            "bin_end": 355.13838500976567,
            "count": 0
           },
           {
            "bin_start": 355.13838500976567,
            "bin_end": 357.13984375000007,
            "count": 1
           },
           {
            "bin_start": 357.13984375000007,
            "bin_end": 359.1413024902344,
            "count": 0
           },
           {
            "bin_start": 359.1413024902344,
            "bin_end": 361.1427612304688,
            "count": 2
           }
          ]
         }
        },
        {
         "name": "UNP",
         "dtype": "float64",
         "stats": {
          "unique_count": 5,
          "nan_count": 0,
          "min": "200.1396484375",
          "max": "215.7261199951172",
          "histogram": [
           {
            "bin_start": 200.1396484375,
            "bin_end": 201.69829559326172,
            "count": 1
           },
           {
            "bin_start": 201.69829559326172,
            "bin_end": 203.25694274902344,
            "count": 1
           },
           {
            "bin_start": 203.25694274902344,
            "bin_end": 204.81558990478516,
            "count": 0
           },
           {
            "bin_start": 204.81558990478516,
            "bin_end": 206.37423706054688,
            "count": 0
           },
           {
            "bin_start": 206.37423706054688,
            "bin_end": 207.9328842163086,
            "count": 1
           },
           {
            "bin_start": 207.9328842163086,
            "bin_end": 209.4915313720703,
            "count": 0
           },
           {
            "bin_start": 209.4915313720703,
            "bin_end": 211.05017852783203,
            "count": 1
           },
           {
            "bin_start": 211.05017852783203,
            "bin_end": 212.60882568359375,
            "count": 0
           },
           {
            "bin_start": 212.60882568359375,
            "bin_end": 214.16747283935547,
            "count": 0
           },
           {
            "bin_start": 214.16747283935547,
            "bin_end": 215.7261199951172,
            "count": 1
           }
          ]
         }
        },
        {
         "name": "UPS",
         "dtype": "float64",
         "stats": {
          "unique_count": 5,
          "nan_count": 0,
          "min": "155.81971740722656",
          "max": "161.14195251464844",
          "histogram": [
           {
            "bin_start": 155.81971740722656,
            "bin_end": 156.35194091796876,
            "count": 1
           },
           {
            "bin_start": 156.35194091796876,
            "bin_end": 156.88416442871093,
            "count": 1
           },
           {
            "bin_start": 156.88416442871093,
            "bin_end": 157.41638793945313,
            "count": 0
           },
           {
            "bin_start": 157.41638793945313,
            "bin_end": 157.9486114501953,
            "count": 0
           },
           {
            "bin_start": 157.9486114501953,
            "bin_end": 158.4808349609375,
            "count": 1
           },
           {
            "bin_start": 158.4808349609375,
            "bin_end": 159.0130584716797,
            "count": 1
           },
           {
            "bin_start": 159.0130584716797,
            "bin_end": 159.54528198242187,
            "count": 0
           },
           {
            "bin_start": 159.54528198242187,
            "bin_end": 160.07750549316407,
            "count": 0
           },
           {
            "bin_start": 160.07750549316407,
            "bin_end": 160.60972900390624,
            "count": 0
           },
           {
            "bin_start": 160.60972900390624,
            "bin_end": 161.14195251464844,
            "count": 1
           }
          ]
         }
        },
        {
         "name": "USB",
         "dtype": "float64",
         "stats": {
          "unique_count": 5,
          "nan_count": 0,
          "min": "45.091583251953125",
          "max": "48.87528991699219",
          "histogram": [
           {
            "bin_start": 45.091583251953125,
            "bin_end": 45.46995391845703,
            "count": 2
           },
           {
            "bin_start": 45.46995391845703,
            "bin_end": 45.848324584960935,
            "count": 0
           },
           {
            "bin_start": 45.848324584960935,
            "bin_end": 46.22669525146485,
            "count": 0
           },
           {
            "bin_start": 46.22669525146485,
            "bin_end": 46.60506591796875,
            "count": 0
           },
           {
            "bin_start": 46.60506591796875,
            "bin_end": 46.983436584472656,
            "count": 0
           },
           {
            "bin_start": 46.983436584472656,
            "bin_end": 47.36180725097656,
            "count": 0
           },
           {
            "bin_start": 47.36180725097656,
            "bin_end": 47.740177917480466,
            "count": 0
           },
           {
            "bin_start": 47.740177917480466,
            "bin_end": 48.11854858398438,
            "count": 1
           },
           {
            "bin_start": 48.11854858398438,
            "bin_end": 48.49691925048828,
            "count": 1
           },
           {
            "bin_start": 48.49691925048828,
            "bin_end": 48.87528991699219,
            "count": 1
           }
          ]
         }
        },
        {
         "name": "V",
         "dtype": "float64",
         "stats": {
          "unique_count": 5,
          "nan_count": 0,
          "min": "211.6939239501953",
          "max": "216.81153869628903",
          "histogram": [
           {
            "bin_start": 211.6939239501953,
            "bin_end": 212.2056854248047,
            "count": 1
           },
           {
            "bin_start": 212.2056854248047,
            "bin_end": 212.71744689941406,
            "count": 0
           },
           {
            "bin_start": 212.71744689941406,
            "bin_end": 213.22920837402341,
            "count": 1
           },
           {
            "bin_start": 213.22920837402341,
            "bin_end": 213.7409698486328,
            "count": 1
           },
           {
            "bin_start": 213.7409698486328,
            "bin_end": 214.2527313232422,
            "count": 0
           },
           {
            "bin_start": 214.2527313232422,
            "bin_end": 214.76449279785155,
            "count": 1
           },
           {
            "bin_start": 214.76449279785155,
            "bin_end": 215.2762542724609,
            "count": 0
           },
           {
            "bin_start": 215.2762542724609,
            "bin_end": 215.7880157470703,
            "count": 0
           },
           {
            "bin_start": 215.7880157470703,
            "bin_end": 216.29977722167968,
            "count": 0
           },
           {
            "bin_start": 216.29977722167968,
            "bin_end": 216.81153869628903,
            "count": 1
           }
          ]
         }
        },
        {
         "name": "VZ",
         "dtype": "float64",
         "stats": {
          "unique_count": 5,
          "nan_count": 0,
          "min": "55.88677597045898",
          "max": "56.72024917602539",
          "histogram": [
           {
            "bin_start": 55.88677597045898,
            "bin_end": 55.97012329101562,
            "count": 1
           },
           {
            "bin_start": 55.97012329101562,
            "bin_end": 56.05347061157226,
            "count": 1
           },
           {
            "bin_start": 56.05347061157226,
            "bin_end": 56.1368179321289,
            "count": 0
           },
           {
            "bin_start": 56.1368179321289,
            "bin_end": 56.22016525268554,
            "count": 0
           },
           {
            "bin_start": 56.22016525268554,
            "bin_end": 56.30351257324219,
            "count": 1
           },
           {
            "bin_start": 56.30351257324219,
            "bin_end": 56.38685989379883,
            "count": 0
           },
           {
            "bin_start": 56.38685989379883,
            "bin_end": 56.47020721435547,
            "count": 0
           },
           {
            "bin_start": 56.47020721435547,
            "bin_end": 56.55355453491211,
            "count": 0
           },
           {
            "bin_start": 56.55355453491211,
            "bin_end": 56.63690185546875,
            "count": 1
           },
           {
            "bin_start": 56.63690185546875,
            "bin_end": 56.72024917602539,
            "count": 1
           }
          ]
         }
        },
        {
         "name": "WBA",
         "dtype": "float64",
         "stats": {
          "unique_count": 5,
          "nan_count": 0,
          "min": "40.42319107055664",
          "max": "44.44979476928711",
          "histogram": [
           {
            "bin_start": 40.42319107055664,
            "bin_end": 40.82585144042969,
            "count": 2
           },
           {
            "bin_start": 40.82585144042969,
            "bin_end": 41.228511810302734,
            "count": 0
           },
           {
            "bin_start": 41.228511810302734,
            "bin_end": 41.63117218017578,
            "count": 0
           },
           {
            "bin_start": 41.63117218017578,
            "bin_end": 42.03383255004883,
            "count": 0
           },
           {
            "bin_start": 42.03383255004883,
            "bin_end": 42.436492919921875,
            "count": 1
           },
           {
            "bin_start": 42.436492919921875,
            "bin_end": 42.83915328979492,
            "count": 0
           },
           {
            "bin_start": 42.83915328979492,
            "bin_end": 43.24181365966797,
            "count": 0
           },
           {
            "bin_start": 43.24181365966797,
            "bin_end": 43.644474029541016,
            "count": 0
           },
           {
            "bin_start": 43.644474029541016,
            "bin_end": 44.04713439941406,
            "count": 0
           },
           {
            "bin_start": 44.04713439941406,
            "bin_end": 44.44979476928711,
            "count": 2
           }
          ]
         }
        },
        {
         "name": "WFC",
         "dtype": "float64",
         "stats": {
          "unique_count": 5,
          "nan_count": 0,
          "min": "29.300708770751957",
          "max": "32.980560302734375",
          "histogram": [
           {
            "bin_start": 29.300708770751957,
            "bin_end": 29.668693923950197,
            "count": 1
           },
           {
            "bin_start": 29.668693923950197,
            "bin_end": 30.03667907714844,
            "count": 0
           },
           {
            "bin_start": 30.03667907714844,
            "bin_end": 30.404664230346683,
            "count": 1
           },
           {
            "bin_start": 30.404664230346683,
            "bin_end": 30.772649383544923,
            "count": 0
           },
           {
            "bin_start": 30.772649383544923,
            "bin_end": 31.140634536743164,
            "count": 0
           },
           {
            "bin_start": 31.140634536743164,
            "bin_end": 31.50861968994141,
            "count": 0
           },
           {
            "bin_start": 31.50861968994141,
            "bin_end": 31.87660484313965,
            "count": 0
           },
           {
            "bin_start": 31.87660484313965,
            "bin_end": 32.24458999633789,
            "count": 0
           },
           {
            "bin_start": 32.24458999633789,
            "bin_end": 32.612575149536134,
            "count": 1
           },
           {
            "bin_start": 32.612575149536134,
            "bin_end": 32.980560302734375,
            "count": 2
           }
          ]
         }
        },
        {
         "name": "WMT",
         "dtype": "float64",
         "stats": {
          "unique_count": 5,
          "nan_count": 0,
          "min": "144.046142578125",
          "max": "144.9455108642578",
          "histogram": [
           {
            "bin_start": 144.046142578125,
            "bin_end": 144.13607940673828,
            "count": 1
           },
           {
            "bin_start": 144.13607940673828,
            "bin_end": 144.22601623535155,
            "count": 0
           },
           {
            "bin_start": 144.22601623535155,
            "bin_end": 144.31595306396486,
            "count": 0
           },
           {
            "bin_start": 144.31595306396486,
            "bin_end": 144.40588989257813,
            "count": 0
           },
           {
            "bin_start": 144.40588989257813,
            "bin_end": 144.4958267211914,
            "count": 0
           },
           {
            "bin_start": 144.4958267211914,
            "bin_end": 144.58576354980468,
            "count": 0
           },
           {
            "bin_start": 144.58576354980468,
            "bin_end": 144.67570037841796,
            "count": 0
           },
           {
            "bin_start": 144.67570037841796,
            "bin_end": 144.76563720703126,
            "count": 0
           },
           {
            "bin_start": 144.76563720703126,
            "bin_end": 144.85557403564454,
            "count": 1
           },
           {
            "bin_start": 144.85557403564454,
            "bin_end": 144.9455108642578,
            "count": 3
           }
          ]
         }
        },
        {
         "name": "XOM",
         "dtype": "float64",
         "stats": {
          "unique_count": 5,
          "nan_count": 0,
          "min": "39.621368408203125",
          "max": "43.402103424072266",
          "histogram": [
           {
            "bin_start": 39.621368408203125,
            "bin_end": 39.999441909790036,
            "count": 1
           },
           {
            "bin_start": 39.999441909790036,
            "bin_end": 40.377515411376955,
            "count": 0
           },
           {
            "bin_start": 40.377515411376955,
            "bin_end": 40.755588912963866,
            "count": 0
           },
           {
            "bin_start": 40.755588912963866,
            "bin_end": 41.133662414550784,
            "count": 0
           },
           {
            "bin_start": 41.133662414550784,
            "bin_end": 41.511735916137695,
            "count": 0
           },
           {
            "bin_start": 41.511735916137695,
            "bin_end": 41.88980941772461,
            "count": 1
           },
           {
            "bin_start": 41.88980941772461,
            "bin_end": 42.267882919311525,
            "count": 0
           },
           {
            "bin_start": 42.267882919311525,
            "bin_end": 42.645956420898436,
            "count": 1
           },
           {
            "bin_start": 42.645956420898436,
            "bin_end": 43.024029922485354,
            "count": 1
           },
           {
            "bin_start": 43.024029922485354,
            "bin_end": 43.402103424072266,
            "count": 1
           }
          ]
         }
        },
        {
         "name": "_deepnote_index_column",
         "dtype": "object"
        }
       ],
       "rows": [
        {
         "AAPL": 128.997802734375,
         "ABBV": 100.58539581298828,
         "ABT": 107.44915008544922,
         "ACN": 253.32872009277344,
         "ADBE": 485.3399963378906,
         "AIG": 36.44230270385742,
         "AMGN": 223.41619873046875,
         "AMT": 216.41688537597656,
         "AMZN": 3186.6298828125,
         "AVGO": 418.6448974609375,
         "AXP": 116.6797866821289,
         "BA": 202.72000122070312,
         "BAC": 29.6046142578125,
         "BIIB": 242.9499969482422,
         "BK": 40.59257888793945,
         "BKNG": 2164.080078125,
         "BLK": 700.2908935546875,
         "BMY": 59.9696159362793,
         "C": 58.35795974731445,
         "CAT": 178.42269897460938,
         "CHTR": 647.030029296875,
         "CL": 82.4463882446289,
         "CMCSA": 49.8364372253418,
         "COF": 96.90048217773438,
         "COP": 38.38134002685547,
         "COST": 377.8815307617188,
         "CRM": 220.30999755859372,
         "CSCO": 43.34489059448242,
         "CVS": 68.25929260253906,
         "CVX": 81.42143249511719,
         "DD": 69.4842529296875,
         "DHR": 222.6881103515625,
         "DIS": 177.67999267578125,
         "DOW": 52.341827392578125,
         "DUK": 87.13114929199219,
         "EMR": 76.75382995605469,
         "EXC": 40.41127014160156,
         "F": 8.520000457763672,
         "FB": 268.94000244140625,
         "FDX": 251.1983795166016,
         "GD": 142.1913604736328,
         "GE": 83.67925262451172,
         "GILD": 58.81993103027344,
         "GM": 40.5099983215332,
         "GOOG": 1728.239990234375,
         "GOOGL": 1726.1300048828125,
         "GS": 261.80255126953125,
         "HON": 205.3398284912109,
         "IBM": 114.12940979003906,
         "INTC": 49.06810760498047,
         "JNJ": 153.65277099609375,
         "JPM": 122.78654479980467,
         "KHC": 33.57667922973633,
         "KO": 51.54414749145508,
         "LIN": 255.93081665039065,
         "LLY": 163.5585174560547,
         "LMT": 337.2824401855469,
         "LOW": 158.11497497558594,
         "MA": 349.7742614746094,
         "MCD": 206.65391540527344,
         "MDLZ": 57.32960891723633,
         "MDT": 114.29882049560548,
         "MET": 44.62873458862305,
         "MMM": 167.9380645751953,
         "MO": 38.74184799194336,
         "MRK": 75.25204467773438,
         "MS": 66.73786163330078,
         "MSFT": 216.68942260742188,
         "NEE": 73.10986328125,
         "NFLX": 522.8599853515625,
         "NKE": 139.3043212890625,
         "NVDA": 131.05972290039062,
         "ORCL": 62.78260040283203,
         "PEP": 142.08908081054688,
         "PFE": 35.42396545410156,
         "PG": 134.43896484375,
         "PM": 78.48661804199219,
         "PYPL": 231.9199981689453,
         "QCOM": 147.04530334472656,
         "RTX": 67.20109558105469,
         "SBUX": 102.2560806274414,
         "SO": 57.56636047363281,
         "SPG": 80.10838317871094,
         "T": 26.87285614013672,
         "TGT": 175.82254028320312,
         "TMO": 471.06494140625,
         "TMUS": 132.42999267578125,
         "TSLA": 729.77001953125,
         "TXN": 159.46778869628906,
         "UNH": 345.77813720703125,
         "UNP": 200.1396484375,
         "UPS": 161.14195251464844,
         "USB": 45.091583251953125,
         "V": 216.81153869628903,
         "VZ": 56.29931640625,
         "WBA": 40.65889739990234,
         "WFC": 29.300708770751957,
         "WMT": 144.8170166015625,
         "XOM": 39.621368408203125,
         "_deepnote_index_column": "2021-01-04"
        },
        {
         "AAPL": 130.5926971435547,
         "ABBV": 101.62550354003906,
         "ABT": 108.77859497070312,
         "ACN": 254.7709045410156,
         "ADBE": 485.6900024414063,
         "AIG": 37.05082321166992,
         "AMGN": 224.5004425048828,
         "AMT": 217.5107879638672,
         "AMZN": 3218.510009765625,
         "AVGO": 421.4803466796875,
         "AXP": 117.30252075195312,
         "BA": 211.6300048828125,
         "BAC": 29.83135414123535,
         "BIIB": 246.38999938964844,
         "BK": 41.05020904541016,
         "BKNG": 2188.070068359375,
         "BLK": 703.9952392578125,
         "BMY": 60.13570785522461,
         "C": 59.87173843383789,
         "CAT": 179.88221740722656,
         "CHTR": 636.5900268554688,
         "CL": 82.63213348388672,
         "CMCSA": 49.5390853881836,
         "COF": 99.17839813232422,
         "COP": 40.583152770996094,
         "COST": 373.4978332519531,
         "CRM": 221.5200042724609,
         "CSCO": 43.36460876464844,
         "CVS": 68.7176742553711,
         "CVX": 83.62252807617188,
         "DD": 72.90313720703125,
         "DHR": 228.2146759033203,
         "DIS": 178.44000244140625,
         "DOW": 54.04651641845703,
         "DUK": 87.16999816894531,
         "EMR": 78.08209228515625,
         "EXC": 40.35238265991211,
         "F": 8.649999618530273,
         "FB": 270.9700012207031,
         "FDX": 251.18844604492188,
         "GD": 142.2595672607422,
         "GE": 86.07694244384766,
         "GILD": 58.7122917175293,
         "GM": 41.65999984741211,
         "GOOG": 1740.9200439453125,
         "GOOGL": 1740.050048828125,
         "GS": 267.6609802246094,
         "HON": 205.84344482421875,
         "IBM": 116.15525817871094,
         "INTC": 49.99672317504883,
         "JNJ": 155.45928955078125,
         "JPM": 123.45466613769533,
         "KHC": 32.92927169799805,
         "KO": 50.97751998901367,
         "LIN": 259.9456787109375,
         "LLY": 164.368896484375,
         "LMT": 341.3438415527344,
         "LOW": 158.64735412597656,
         "MA": 345.7240905761719,
         "MCD": 207.89254760742188,
         "MDLZ": 57.38899612426758,
         "MDT": 115.21501922607422,
         "MET": 45.18077850341797,
         "MMM": 167.65469360351562,
         "MO": 38.66595458984375,
         "MRK": 75.38217163085938,
         "MS": 67.87083435058594,
         "MSFT": 216.8984375,
         "NEE": 73.65164184570312,
         "NFLX": 520.7999877929688,
         "NKE": 140.4279022216797,
         "NVDA": 133.97055053710938,
         "ORCL": 62.00458526611328,
         "PEP": 142.5125732421875,
         "PFE": 35.78965377807617,
         "PG": 135.29737854003906,
         "PM": 79.34371185302734,
         "PYPL": 234.91000366210935,
         "QCOM": 150.93678283691406,
         "RTX": 68.1733169555664,
         "SBUX": 102.59329986572266,
         "SO": 57.94457626342773,
         "SPG": 80.4566421508789,
         "T": 26.708553314208984,
         "TGT": 178.53465270996094,
         "TMO": 476.95550537109375,
         "TMUS": 131.85000610351562,
         "TSLA": 735.1099853515625,
         "TXN": 160.63758850097656,
         "UNH": 341.128173828125,
         "UNP": 202.59445190429688,
         "UPS": 158.89894104003906,
         "USB": 45.23823547363281,
         "V": 213.57568359375,
         "VZ": 56.041015625,
         "WBA": 40.42319107055664,
         "WFC": 30.119548797607425,
         "WMT": 144.046142578125,
         "XOM": 41.53083419799805,
         "_deepnote_index_column": "2021-01-05"
        },
        {
         "AAPL": 126.19674682617188,
         "ABBV": 100.74761199951172,
         "ABT": 108.55209350585938,
         "ACN": 257.5564270019531,
         "ADBE": 466.30999755859375,
         "AIG": 39.46525955200195,
         "AMGN": 229.9118804931641,
         "AMT": 211.775146484375,
         "AMZN": 3138.3798828125,
         "AVGO": 418.8811645507813,
         "AXP": 121.64192962646484,
         "BA": 211.02999877929688,
         "BAC": 31.694583892822266,
         "BIIB": 247.75,
         "BK": 43.8251838684082,
         "BKNG": 2249.81005859375,
         "BLK": 724.0733642578125,
         "BMY": 60.282264709472656,
         "C": 63.31654739379883,
         "CAT": 189.89308166503903,
         "CHTR": 624.510009765625,
         "CL": 80.412841796875,
         "CMCSA": 50.11396789550781,
         "COF": 106.348876953125,
         "COP": 42.20298767089844,
         "COST": 367.8119812011719,
         "CRM": 216.1499938964844,
         "CSCO": 43.77873611450195,
         "CVS": 70.7657470703125,
         "CVX": 86.31383514404297,
         "DD": 76.8259506225586,
         "DHR": 235.77626037597656,
         "DIS": 179.1199951171875,
         "DOW": 56.5938720703125,
         "DUK": 88.29666137695312,
         "EMR": 80.7091064453125,
         "EXC": 41.66768646240234,
         "F": 8.84000015258789,
         "FB": 263.3099975585937,
         "FDX": 251.5654754638672,
         "GD": 145.89376831054688,
         "GE": 90.79238891601562,
         "GILD": 60.62044143676758,
         "GM": 42.97999954223633,
         "GOOG": 1735.2900390625,
         "GOOGL": 1722.8800048828125,
         "GS": 282.10455322265625,
         "HON": 209.59571838378903,
         "IBM": 119.05591583251952,
         "INTC": 50.48077774047852,
         "JNJ": 156.9221954345703,
         "JPM": 129.2515869140625,
         "KHC": 33.29220962524414,
         "KO": 49.35577774047852,
         "LIN": 268.4796447753906,
         "LLY": 162.39236450195312,
         "LMT": 340.6000366210937,
         "LOW": 160.7670135498047,
         "MA": 345.8534545898437,
         "MCD": 207.4206695556641,
         "MDLZ": 57.28011703491211,
         "MDT": 117.09668731689452,
         "MET": 47.87322235107422,
         "MMM": 170.20498657226562,
         "MO": 39.29204940795898,
         "MRK": 76.57192993164062,
         "MS": 71.96320343017578,
         "MSFT": 211.2744140625,
         "NEE": 77.25688934326172,
         "NFLX": 500.489990234375,
         "NKE": 141.5415496826172,
         "NVDA": 126.07257843017578,
         "ORCL": 61.85630035400391,
         "PEP": 140.7693328857422,
         "PFE": 35.4817008972168,
         "PG": 136.7215576171875,
         "PM": 79.44964599609375,
         "PYPL": 226.8300018310547,
         "QCOM": 149.70895385742188,
         "RTX": 69.01787567138672,
         "SBUX": 103.337158203125,
         "SO": 59.3604621887207,
         "SPG": 82.2946548461914,
         "T": 27.228849411010746,
         "TGT": 186.9976501464844,
         "TMO": 484.43353271484375,
         "TMUS": 131.52999877929688,
         "TSLA": 755.97998046875,
         "TXN": 161.43385314941406,
         "UNH": 355.4441223144531,
         "UNP": 206.83364868164065,
         "UPS": 158.42672729492188,
         "USB": 47.917137145996094,
         "V": 211.6939239501953,
         "VZ": 56.72024917602539,
         "WBA": 42.25971603393555,
         "WFC": 32.25050735473633,
         "WMT": 144.9455108642578,
         "XOM": 42.59058380126953,
         "_deepnote_index_column": "2021-01-06"
        },
        {
         "AAPL": 130.50299072265625,
         "ABBV": 101.82588958740234,
         "ABT": 109.6058120727539,
         "ACN": 259.9864501953125,
         "ADBE": 477.739990234375,
         "AIG": 40.13266372680664,
         "AMGN": 230.67086791992188,
         "AMT": 214.34732055664065,
         "AMZN": 3162.159912109375,
         "AVGO": 436.5339660644531,
         "AXP": 120.67975616455078,
         "BA": 212.7100067138672,
         "BAC": 32.394527435302734,
         "BIIB": 250.44000244140625,
         "BK": 44.088077545166016,
         "BKNG": 2239.85009765625,
         "BLK": 739.3043212890625,
         "BMY": 60.92709732055664,
         "C": 64.06372833251953,
         "CAT": 190.2555084228516,
         "CHTR": 629.77001953125,
         "CL": 79.972900390625,
         "CMCSA": 50.21308135986328,
         "COF": 109.66670989990234,
         "COP": 43.35724639892578,
         "COST": 365.72454833984375,
         "CRM": 217.97999572753903,
         "CSCO": 44.33089447021485,
         "CVS": 72.16038513183594,
         "CVX": 86.717529296875,
         "DD": 79.91874694824219,
         "DHR": 239.1280975341797,
         "DIS": 178.5800018310547,
         "DOW": 56.67135620117188,
         "DUK": 87.30596923828125,
         "EMR": 80.74845886230469,
         "EXC": 41.25542449951172,
         "F": 9.0600004196167,
         "FB": 268.739990234375,
         "FDX": 244.0947113037109,
         "GD": 147.8229217529297,
         "GE": 90.07308959960938,
         "GILD": 61.17820739746094,
         "GM": 43.31999969482422,
         "GOOG": 1787.25,
         "GOOGL": 1774.3399658203125,
         "GS": 288.1309814453125,
         "HON": 209.9413604736328,
         "IBM": 118.77967071533205,
         "INTC": 51.55757141113281,
         "JNJ": 157.4523468017578,
         "JPM": 133.49609375,
         "KHC": 33.0518913269043,
         "KO": 48.80867385864258,
         "LIN": 267.70831298828125,
         "LLY": 163.88465881347656,
         "LMT": 335.2370300292969,
         "LOW": 161.39794921875,
         "MA": 348.593505859375,
         "MCD": 208.38406372070312,
         "MDLZ": 57.17123794555664,
         "MDT": 116.9390640258789,
         "MET": 48.01850128173828,
         "MMM": 165.8372344970703,
         "MO": 39.6335563659668,
         "MRK": 78.09629821777344,
         "MS": 73.19385528564453,
         "MSFT": 217.28665161132807,
         "NEE": 78.10403442382812,
         "NFLX": 508.8900146484375,
         "NKE": 144.12677001953125,
         "NVDA": 133.36338806152344,
         "ORCL": 62.3505973815918,
         "PEP": 140.31629943847656,
         "PFE": 35.664546966552734,
         "PG": 135.44371032714844,
         "PM": 79.91191101074219,
         "PYPL": 235.0399932861328,
         "QCOM": 154.1747589111328,
         "RTX": 68.52685546875,
         "SBUX": 102.50403594970705,
         "SO": 59.292572021484375,
         "SPG": 82.35269165039062,
         "T": 27.3018741607666,
         "TGT": 189.15548706054688,
         "TMO": 499.529296875,
         "TMUS": 133.19000244140625,
         "TSLA": 816.0399780273438,
         "TXN": 165.09075927734375,
         "UNH": 361.1427612304688,
         "UNP": 209.7123565673828,
         "UPS": 156.41981506347656,
         "USB": 48.87528991699219,
         "V": 212.8787384033203,
         "VZ": 56.59261322021485,
         "WBA": 44.44979476928711,
         "WFC": 32.980560302734375,
         "WMT": 144.9356231689453,
         "XOM": 42.92473983764648,
         "_deepnote_index_column": "2021-01-07"
        },
        {
         "AAPL": 131.62937927246094,
         "ABBV": 102.3602523803711,
         "ABT": 109.9110870361328,
         "ACN": 260.93475341796875,
         "ADBE": 485.1000061035156,
         "AIG": 39.8676643371582,
         "AMGN": 235.07688903808597,
         "AMT": 218.97918701171875,
         "AMZN": 3182.699951171875,
         "AVGO": 438.7491455078125,
         "AXP": 120.7987823486328,
         "BA": 209.8999938964844,
         "BAC": 32.06919860839844,
         "BIIB": 252.5399932861328,
         "BK": 43.62071228027344,
         "BKNG": 2281.5400390625,
         "BLK": 745.2449951171875,
         "BMY": 61.05411529541016,
         "C": 63.432987213134766,
         "CAT": 190.28488159179688,
         "CHTR": 634.3800048828125,
         "CL": 80.51061248779297,
         "CMCSA": 51.08532333374024,
         "COF": 109.49832916259766,
         "COP": 43.35724639892578,
         "COST": 367.73248291015625,
         "CRM": 222.0399932861328,
         "CSCO": 44.42949676513672,
         "CVS": 73.00888061523438,
         "CVX": 87.54414367675781,
         "DD": 80.81793212890625,
         "DHR": 242.89894104003903,
         "DIS": 178.69000244140625,
         "DOW": 56.38078689575195,
         "DUK": 87.46137237548828,
         "EMR": 80.50247955322266,
         "EXC": 41.43210983276367,
         "F": 9,
         "FB": 267.57000732421875,
         "FDX": 243.0331268310547,
         "GD": 146.89730834960938,
         "GE": 90.63255310058594,
         "GILD": 61.68704605102539,
         "GM": 43.060001373291016,
         "GOOG": 1807.2099609375,
         "GOOGL": 1797.8299560546875,
         "GS": 286.5799255371094,
         "HON": 207.3937225341797,
         "IBM": 118.3560791015625,
         "INTC": 51.02412033081055,
         "JNJ": 157.12835693359375,
         "JPM": 133.64349365234375,
         "KHC": 32.97832107543945,
         "KO": 49.902870178222656,
         "LIN": 267.3918762207031,
         "LLY": 164.4578399658203,
         "LMT": 328.9247131347656,
         "LOW": 162.71902465820312,
         "MA": 352.569091796875,
         "MCD": 212.20806884765625,
         "MDLZ": 57.59685516357422,
         "MDT": 117.93407440185548,
         "MET": 47.853851318359375,
         "MMM": 162.8081512451172,
         "MO": 39.45331954956055,
         "MRK": 77.17609405517578,
         "MS": 73.49662780761719,
         "MSFT": 218.6105499267578,
         "NEE": 79.91651153564453,
         "NFLX": 510.3999938964844,
         "NKE": 145.51882934570312,
         "NVDA": 132.6912841796875,
         "ORCL": 62.65705871582031,
         "PEP": 142.00042724609375,
         "PFE": 35.731910705566406,
         "PG": 135.38516235351562,
         "PM": 80.01782989501953,
         "PYPL": 242.4600067138672,
         "QCOM": 155.10556030273438,
         "RTX": 68.60541534423828,
         "SBUX": 104.80504608154295,
         "SO": 59.70957946777344,
         "SPG": 83.66832733154297,
         "T": 26.95816421508789,
         "TGT": 191.6300506591797,
         "TMO": 511.4801330566406,
         "TMUS": 135.05999755859375,
         "TSLA": 880.02001953125,
         "TXN": 168.25611877441406,
         "UNH": 359.520263671875,
         "UNP": 215.7261199951172,
         "UPS": 155.81971740722656,
         "USB": 48.22022247314453,
         "V": 214.5115966796875,
         "VZ": 55.88677597045898,
         "WBA": 44.400691986083984,
         "WFC": 32.7437858581543,
         "WMT": 144.9158477783203,
         "XOM": 43.402103424072266,
         "_deepnote_index_column": "2021-01-08"
        }
       ]
      },
      "text/plain": "                  AAPL        ABBV         ABT         ACN        ADBE  \\\nDate                                                                     \n2021-01-04  128.997803  100.585396  107.449150  253.328720  485.339996   \n2021-01-05  130.592697  101.625504  108.778595  254.770905  485.690002   \n2021-01-06  126.196747  100.747612  108.552094  257.556427  466.309998   \n2021-01-07  130.502991  101.825890  109.605812  259.986450  477.739990   \n2021-01-08  131.629379  102.360252  109.911087  260.934753  485.100006   \n\n                  AIG        AMGN         AMT         AMZN        AVGO  ...  \\\nDate                                                                    ...   \n2021-01-04  36.442303  223.416199  216.416885  3186.629883  418.644897  ...   \n2021-01-05  37.050823  224.500443  217.510788  3218.510010  421.480347  ...   \n2021-01-06  39.465260  229.911880  211.775146  3138.379883  418.881165  ...   \n2021-01-07  40.132664  230.670868  214.347321  3162.159912  436.533966  ...   \n2021-01-08  39.867664  235.076889  218.979187  3182.699951  438.749146  ...   \n\n                   UNH         UNP         UPS        USB           V  \\\nDate                                                                    \n2021-01-04  345.778137  200.139648  161.141953  45.091583  216.811539   \n2021-01-05  341.128174  202.594452  158.898941  45.238235  213.575684   \n2021-01-06  355.444122  206.833649  158.426727  47.917137  211.693924   \n2021-01-07  361.142761  209.712357  156.419815  48.875290  212.878738   \n2021-01-08  359.520264  215.726120  155.819717  48.220222  214.511597   \n\n                   VZ        WBA        WFC         WMT        XOM  \nDate                                                                \n2021-01-04  56.299316  40.658897  29.300709  144.817017  39.621368  \n2021-01-05  56.041016  40.423191  30.119549  144.046143  41.530834  \n2021-01-06  56.720249  42.259716  32.250507  144.945511  42.590584  \n2021-01-07  56.592613  44.449795  32.980560  144.935623  42.924740  \n2021-01-08  55.886776  44.400692  32.743786  144.915848  43.402103  \n\n[5 rows x 99 columns]",
      "text/html": "<div>\n<style scoped>\n    .dataframe tbody tr th:only-of-type {\n        vertical-align: middle;\n    }\n\n    .dataframe tbody tr th {\n        vertical-align: top;\n    }\n\n    .dataframe thead th {\n        text-align: right;\n    }\n</style>\n<table border=\"1\" class=\"dataframe\">\n  <thead>\n    <tr style=\"text-align: right;\">\n      <th></th>\n      <th>AAPL</th>\n      <th>ABBV</th>\n      <th>ABT</th>\n      <th>ACN</th>\n      <th>ADBE</th>\n      <th>AIG</th>\n      <th>AMGN</th>\n      <th>AMT</th>\n      <th>AMZN</th>\n      <th>AVGO</th>\n      <th>...</th>\n      <th>UNH</th>\n      <th>UNP</th>\n      <th>UPS</th>\n      <th>USB</th>\n      <th>V</th>\n      <th>VZ</th>\n      <th>WBA</th>\n      <th>WFC</th>\n      <th>WMT</th>\n      <th>XOM</th>\n    </tr>\n    <tr>\n      <th>Date</th>\n      <th></th>\n      <th></th>\n      <th></th>\n      <th></th>\n      <th></th>\n      <th></th>\n      <th></th>\n      <th></th>\n      <th></th>\n      <th></th>\n      <th></th>\n      <th></th>\n      <th></th>\n      <th></th>\n      <th></th>\n      <th></th>\n      <th></th>\n      <th></th>\n      <th></th>\n      <th></th>\n      <th></th>\n    </tr>\n  </thead>\n  <tbody>\n    <tr>\n      <th>2021-01-04</th>\n      <td>128.997803</td>\n      <td>100.585396</td>\n      <td>107.449150</td>\n      <td>253.328720</td>\n      <td>485.339996</td>\n      <td>36.442303</td>\n      <td>223.416199</td>\n      <td>216.416885</td>\n      <td>3186.629883</td>\n      <td>418.644897</td>\n      <td>...</td>\n      <td>345.778137</td>\n      <td>200.139648</td>\n      <td>161.141953</td>\n      <td>45.091583</td>\n      <td>216.811539</td>\n      <td>56.299316</td>\n      <td>40.658897</td>\n      <td>29.300709</td>\n      <td>144.817017</td>\n      <td>39.621368</td>\n    </tr>\n    <tr>\n      <th>2021-01-05</th>\n      <td>130.592697</td>\n      <td>101.625504</td>\n      <td>108.778595</td>\n      <td>254.770905</td>\n      <td>485.690002</td>\n      <td>37.050823</td>\n      <td>224.500443</td>\n      <td>217.510788</td>\n      <td>3218.510010</td>\n      <td>421.480347</td>\n      <td>...</td>\n      <td>341.128174</td>\n      <td>202.594452</td>\n      <td>158.898941</td>\n      <td>45.238235</td>\n      <td>213.575684</td>\n      <td>56.041016</td>\n      <td>40.423191</td>\n      <td>30.119549</td>\n      <td>144.046143</td>\n      <td>41.530834</td>\n    </tr>\n    <tr>\n      <th>2021-01-06</th>\n      <td>126.196747</td>\n      <td>100.747612</td>\n      <td>108.552094</td>\n      <td>257.556427</td>\n      <td>466.309998</td>\n      <td>39.465260</td>\n      <td>229.911880</td>\n      <td>211.775146</td>\n      <td>3138.379883</td>\n      <td>418.881165</td>\n      <td>...</td>\n      <td>355.444122</td>\n      <td>206.833649</td>\n      <td>158.426727</td>\n      <td>47.917137</td>\n      <td>211.693924</td>\n      <td>56.720249</td>\n      <td>42.259716</td>\n      <td>32.250507</td>\n      <td>144.945511</td>\n      <td>42.590584</td>\n    </tr>\n    <tr>\n      <th>2021-01-07</th>\n      <td>130.502991</td>\n      <td>101.825890</td>\n      <td>109.605812</td>\n      <td>259.986450</td>\n      <td>477.739990</td>\n      <td>40.132664</td>\n      <td>230.670868</td>\n      <td>214.347321</td>\n      <td>3162.159912</td>\n      <td>436.533966</td>\n      <td>...</td>\n      <td>361.142761</td>\n      <td>209.712357</td>\n      <td>156.419815</td>\n      <td>48.875290</td>\n      <td>212.878738</td>\n      <td>56.592613</td>\n      <td>44.449795</td>\n      <td>32.980560</td>\n      <td>144.935623</td>\n      <td>42.924740</td>\n    </tr>\n    <tr>\n      <th>2021-01-08</th>\n      <td>131.629379</td>\n      <td>102.360252</td>\n      <td>109.911087</td>\n      <td>260.934753</td>\n      <td>485.100006</td>\n      <td>39.867664</td>\n      <td>235.076889</td>\n      <td>218.979187</td>\n      <td>3182.699951</td>\n      <td>438.749146</td>\n      <td>...</td>\n      <td>359.520264</td>\n      <td>215.726120</td>\n      <td>155.819717</td>\n      <td>48.220222</td>\n      <td>214.511597</td>\n      <td>55.886776</td>\n      <td>44.400692</td>\n      <td>32.743786</td>\n      <td>144.915848</td>\n      <td>43.402103</td>\n    </tr>\n  </tbody>\n</table>\n<p>5 rows × 99 columns</p>\n</div>"
     },
     "metadata": {}
    }
   ],
   "execution_count": 3
  },
  {
   "cell_type": "code",
   "source": "wanted_stocks = ['GOOG', 'SPG', 'GOOGL', 'MSFT', 'GD', 'ACN', 'COP', 'F', 'BAC', 'GS',\n       'NVDA', 'AIG', 'MS', 'WFC', 'ORCL', 'XOM', 'TGT', 'LOW', 'EXC', 'COST',\n       'AXP', 'BK', 'JPM', 'COF', 'CSCO', 'DHR', 'UNH', 'CVS', 'LLY', 'CVX',\n       'MET', 'AMT', 'CRM', 'BLK', 'RTX', 'MCD', 'TMO', 'LIN', 'ADBE', 'EMR',\n       'USB', 'UPS', 'TSLA', 'PFE', 'PM']\nsap100 = sap100.loc[:,wanted_stocks]\nsap100.head()",
   "metadata": {
    "tags": [],
    "cell_id": "00006-24f60638-15ea-42a7-ae6b-5834edc836d1",
    "deepnote_to_be_reexecuted": false,
    "source_hash": "1a5ba78d",
    "execution_start": 1639691366066,
    "execution_millis": 351,
    "deepnote_cell_type": "code"
   },
   "outputs": [
    {
     "output_type": "execute_result",
     "execution_count": 4,
     "data": {
      "application/vnd.deepnote.dataframe.v3+json": {
       "column_count": 45,
       "row_count": 5,
       "columns": [
        {
         "name": "GOOG",
         "dtype": "float64",
         "stats": {
          "unique_count": 5,
          "nan_count": 0,
          "min": "1728.239990234375",
          "max": "1807.2099609375",
          "histogram": [
           {
            "bin_start": 1728.239990234375,
            "bin_end": 1736.1369873046874,
            "count": 2
           },
           {
            "bin_start": 1736.1369873046874,
            "bin_end": 1744.033984375,
            "count": 1
           },
           {
            "bin_start": 1744.033984375,
            "bin_end": 1751.9309814453125,
            "count": 0
           },
           {
            "bin_start": 1751.9309814453125,
            "bin_end": 1759.827978515625,
            "count": 0
           },
           {
            "bin_start": 1759.827978515625,
            "bin_end": 1767.7249755859375,
            "count": 0
           },
           {
            "bin_start": 1767.7249755859375,
            "bin_end": 1775.62197265625,
            "count": 0
           },
           {
            "bin_start": 1775.62197265625,
            "bin_end": 1783.5189697265625,
            "count": 0
           },
           {
            "bin_start": 1783.5189697265625,
            "bin_end": 1791.415966796875,
            "count": 1
           },
           {
            "bin_start": 1791.415966796875,
            "bin_end": 1799.3129638671876,
            "count": 0
           },
           {
            "bin_start": 1799.3129638671876,
            "bin_end": 1807.2099609375,
            "count": 1
           }
          ]
         }
        },
        {
         "name": "SPG",
         "dtype": "float64",
         "stats": {
          "unique_count": 5,
          "nan_count": 0,
          "min": "80.10838317871094",
          "max": "83.66832733154297",
          "histogram": [
           {
            "bin_start": 80.10838317871094,
            "bin_end": 80.46437759399414,
            "count": 2
           },
           {
            "bin_start": 80.46437759399414,
            "bin_end": 80.82037200927735,
            "count": 0
           },
           {
            "bin_start": 80.82037200927735,
            "bin_end": 81.17636642456054,
            "count": 0
           },
           {
            "bin_start": 81.17636642456054,
            "bin_end": 81.53236083984375,
            "count": 0
           },
           {
            "bin_start": 81.53236083984375,
            "bin_end": 81.88835525512695,
            "count": 0
           },
           {
            "bin_start": 81.88835525512695,
            "bin_end": 82.24434967041016,
            "count": 0
           },
           {
            "bin_start": 82.24434967041016,
            "bin_end": 82.60034408569337,
            "count": 2
           },
           {
            "bin_start": 82.60034408569337,
            "bin_end": 82.95633850097656,
            "count": 0
           },
           {
            "bin_start": 82.95633850097656,
            "bin_end": 83.31233291625976,
            "count": 0
           },
           {
            "bin_start": 83.31233291625976,
            "bin_end": 83.66832733154297,
            "count": 1
           }
          ]
         }
        },
        {
         "name": "GOOGL",
         "dtype": "float64",
         "stats": {
          "unique_count": 5,
          "nan_count": 0,
          "min": "1722.8800048828125",
          "max": "1797.8299560546875",
          "histogram": [
           {
            "bin_start": 1722.8800048828125,
            "bin_end": 1730.375,
            "count": 2
           },
           {
            "bin_start": 1730.375,
            "bin_end": 1737.8699951171875,
            "count": 0
           },
           {
            "bin_start": 1737.8699951171875,
            "bin_end": 1745.364990234375,
            "count": 1
           },
           {
            "bin_start": 1745.364990234375,
            "bin_end": 1752.8599853515625,
            "count": 0
           },
           {
            "bin_start": 1752.8599853515625,
            "bin_end": 1760.35498046875,
            "count": 0
           },
           {
            "bin_start": 1760.35498046875,
            "bin_end": 1767.8499755859375,
            "count": 0
           },
           {
            "bin_start": 1767.8499755859375,
            "bin_end": 1775.344970703125,
            "count": 1
           },
           {
            "bin_start": 1775.344970703125,
            "bin_end": 1782.8399658203125,
            "count": 0
           },
           {
            "bin_start": 1782.8399658203125,
            "bin_end": 1790.3349609375,
            "count": 0
           },
           {
            "bin_start": 1790.3349609375,
            "bin_end": 1797.8299560546875,
            "count": 1
           }
          ]
         }
        },
        {
         "name": "MSFT",
         "dtype": "float64",
         "stats": {
          "unique_count": 5,
          "nan_count": 0,
          "min": "211.2744140625",
          "max": "218.6105499267578",
          "histogram": [
           {
            "bin_start": 211.2744140625,
            "bin_end": 212.00802764892578,
            "count": 1
           },
           {
            "bin_start": 212.00802764892578,
            "bin_end": 212.74164123535155,
            "count": 0
           },
           {
            "bin_start": 212.74164123535155,
            "bin_end": 213.47525482177736,
            "count": 0
           },
           {
            "bin_start": 213.47525482177736,
            "bin_end": 214.20886840820313,
            "count": 0
           },
           {
            "bin_start": 214.20886840820313,
            "bin_end": 214.9424819946289,
            "count": 0
           },
           {
            "bin_start": 214.9424819946289,
            "bin_end": 215.67609558105468,
            "count": 0
           },
           {
            "bin_start": 215.67609558105468,
            "bin_end": 216.40970916748046,
            "count": 0
           },
           {
            "bin_start": 216.40970916748046,
            "bin_end": 217.14332275390626,
            "count": 2
           },
           {
            "bin_start": 217.14332275390626,
            "bin_end": 217.87693634033204,
            "count": 1
           },
           {
            "bin_start": 217.87693634033204,
            "bin_end": 218.6105499267578,
            "count": 1
           }
          ]
         }
        },
        {
         "name": "GD",
         "dtype": "float64",
         "stats": {
          "unique_count": 5,
          "nan_count": 0,
          "min": "142.1913604736328",
          "max": "147.8229217529297",
          "histogram": [
           {
            "bin_start": 142.1913604736328,
            "bin_end": 142.7545166015625,
            "count": 2
           },
           {
            "bin_start": 142.7545166015625,
            "bin_end": 143.3176727294922,
            "count": 0
           },
           {
            "bin_start": 143.3176727294922,
            "bin_end": 143.88082885742188,
            "count": 0
           },
           {
            "bin_start": 143.88082885742188,
            "bin_end": 144.44398498535156,
            "count": 0
           },
           {
            "bin_start": 144.44398498535156,
            "bin_end": 145.00714111328125,
            "count": 0
           },
           {
            "bin_start": 145.00714111328125,
            "bin_end": 145.57029724121094,
            "count": 0
           },
           {
            "bin_start": 145.57029724121094,
            "bin_end": 146.13345336914062,
            "count": 1
           },
           {
            "bin_start": 146.13345336914062,
            "bin_end": 146.6966094970703,
            "count": 0
           },
           {
            "bin_start": 146.6966094970703,
            "bin_end": 147.259765625,
            "count": 1
           },
           {
            "bin_start": 147.259765625,
            "bin_end": 147.8229217529297,
            "count": 1
           }
          ]
         }
        },
        {
         "name": "ACN",
         "dtype": "float64",
         "stats": {
          "unique_count": 5,
          "nan_count": 0,
          "min": "253.32872009277344",
          "max": "260.93475341796875",
          "histogram": [
           {
            "bin_start": 253.32872009277344,
            "bin_end": 254.08932342529297,
            "count": 1
           },
           {
            "bin_start": 254.08932342529297,
            "bin_end": 254.8499267578125,
            "count": 1
           },
           {
            "bin_start": 254.8499267578125,
            "bin_end": 255.61053009033202,
            "count": 0
           },
           {
            "bin_start": 255.61053009033202,
            "bin_end": 256.3711334228516,
            "count": 0
           },
           {
            "bin_start": 256.3711334228516,
            "bin_end": 257.1317367553711,
            "count": 0
           },
           {
            "bin_start": 257.1317367553711,
            "bin_end": 257.8923400878906,
            "count": 1
           },
           {
            "bin_start": 257.8923400878906,
            "bin_end": 258.65294342041017,
            "count": 0
           },
           {
            "bin_start": 258.65294342041017,
            "bin_end": 259.4135467529297,
            "count": 0
           },
           {
            "bin_start": 259.4135467529297,
            "bin_end": 260.17415008544924,
            "count": 1
           },
           {
            "bin_start": 260.17415008544924,
            "bin_end": 260.93475341796875,
            "count": 1
           }
          ]
         }
        },
        {
         "name": "COP",
         "dtype": "float64",
         "stats": {
          "unique_count": 4,
          "nan_count": 0,
          "min": "38.38134002685547",
          "max": "43.35724639892578",
          "histogram": [
           {
            "bin_start": 38.38134002685547,
            "bin_end": 38.8789306640625,
            "count": 1
           },
           {
            "bin_start": 38.8789306640625,
            "bin_end": 39.376521301269534,
            "count": 0
           },
           {
            "bin_start": 39.376521301269534,
            "bin_end": 39.87411193847656,
            "count": 0
           },
           {
            "bin_start": 39.87411193847656,
            "bin_end": 40.37170257568359,
            "count": 0
           },
           {
            "bin_start": 40.37170257568359,
            "bin_end": 40.869293212890625,
            "count": 1
           },
           {
            "bin_start": 40.869293212890625,
            "bin_end": 41.36688385009766,
            "count": 0
           },
           {
            "bin_start": 41.36688385009766,
            "bin_end": 41.86447448730469,
            "count": 0
           },
           {
            "bin_start": 41.86447448730469,
            "bin_end": 42.362065124511716,
            "count": 1
           },
           {
            "bin_start": 42.362065124511716,
            "bin_end": 42.85965576171875,
            "count": 0
           },
           {
            "bin_start": 42.85965576171875,
            "bin_end": 43.35724639892578,
            "count": 2
           }
          ]
         }
        },
        {
         "name": "F",
         "dtype": "float64",
         "stats": {
          "unique_count": 5,
          "nan_count": 0,
          "min": "8.520000457763672",
          "max": "9.0600004196167",
          "histogram": [
           {
            "bin_start": 8.520000457763672,
            "bin_end": 8.574000453948974,
            "count": 1
           },
           {
            "bin_start": 8.574000453948974,
            "bin_end": 8.628000450134277,
            "count": 0
           },
           {
            "bin_start": 8.628000450134277,
            "bin_end": 8.68200044631958,
            "count": 1
           },
           {
            "bin_start": 8.68200044631958,
            "bin_end": 8.736000442504883,
            "count": 0
           },
           {
            "bin_start": 8.736000442504883,
            "bin_end": 8.790000438690186,
            "count": 0
           },
           {
            "bin_start": 8.790000438690186,
            "bin_end": 8.844000434875488,
            "count": 1
           },
           {
            "bin_start": 8.844000434875488,
            "bin_end": 8.89800043106079,
            "count": 0
           },
           {
            "bin_start": 8.89800043106079,
            "bin_end": 8.952000427246094,
            "count": 0
           },
           {
            "bin_start": 8.952000427246094,
            "bin_end": 9.006000423431397,
            "count": 1
           },
           {
            "bin_start": 9.006000423431397,
            "bin_end": 9.0600004196167,
            "count": 1
           }
          ]
         }
        },
        {
         "name": "BAC",
         "dtype": "float64",
         "stats": {
          "unique_count": 5,
          "nan_count": 0,
          "min": "29.6046142578125",
          "max": "32.394527435302734",
          "histogram": [
           {
            "bin_start": 29.6046142578125,
            "bin_end": 29.883605575561525,
            "count": 2
           },
           {
            "bin_start": 29.883605575561525,
            "bin_end": 30.162596893310546,
            "count": 0
           },
           {
            "bin_start": 30.162596893310546,
            "bin_end": 30.44158821105957,
            "count": 0
           },
           {
            "bin_start": 30.44158821105957,
            "bin_end": 30.720579528808592,
            "count": 0
           },
           {
            "bin_start": 30.720579528808592,
            "bin_end": 30.999570846557617,
            "count": 0
           },
           {
            "bin_start": 30.999570846557617,
            "bin_end": 31.278562164306642,
            "count": 0
           },
           {
            "bin_start": 31.278562164306642,
            "bin_end": 31.557553482055663,
            "count": 0
           },
           {
            "bin_start": 31.557553482055663,
            "bin_end": 31.836544799804688,
            "count": 1
           },
           {
            "bin_start": 31.836544799804688,
            "bin_end": 32.11553611755371,
            "count": 1
           },
           {
            "bin_start": 32.11553611755371,
            "bin_end": 32.394527435302734,
            "count": 1
           }
          ]
         }
        },
        {
         "name": "GS",
         "dtype": "float64",
         "stats": {
          "unique_count": 5,
          "nan_count": 0,
          "min": "261.80255126953125",
          "max": "288.1309814453125",
          "histogram": [
           {
            "bin_start": 261.80255126953125,
            "bin_end": 264.4353942871094,
            "count": 1
           },
           {
            "bin_start": 264.4353942871094,
            "bin_end": 267.0682373046875,
            "count": 0
           },
           {
            "bin_start": 267.0682373046875,
            "bin_end": 269.7010803222656,
            "count": 1
           },
           {
            "bin_start": 269.7010803222656,
            "bin_end": 272.33392333984375,
            "count": 0
           },
           {
            "bin_start": 272.33392333984375,
            "bin_end": 274.9667663574219,
            "count": 0
           },
           {
            "bin_start": 274.9667663574219,
            "bin_end": 277.599609375,
            "count": 0
           },
           {
            "bin_start": 277.599609375,
            "bin_end": 280.2324523925781,
            "count": 0
           },
           {
            "bin_start": 280.2324523925781,
            "bin_end": 282.86529541015625,
            "count": 1
           },
           {
            "bin_start": 282.86529541015625,
            "bin_end": 285.4981384277344,
            "count": 0
           },
           {
            "bin_start": 285.4981384277344,
            "bin_end": 288.1309814453125,
            "count": 2
           }
          ]
         }
        },
        {
         "name": "NVDA",
         "dtype": "float64",
         "stats": {
          "unique_count": 5,
          "nan_count": 0,
          "min": "126.07257843017578",
          "max": "133.97055053710938",
          "histogram": [
           {
            "bin_start": 126.07257843017578,
            "bin_end": 126.86237564086915,
            "count": 1
           },
           {
            "bin_start": 126.86237564086915,
            "bin_end": 127.6521728515625,
            "count": 0
           },
           {
            "bin_start": 127.6521728515625,
            "bin_end": 128.44197006225585,
            "count": 0
           },
           {
            "bin_start": 128.44197006225585,
            "bin_end": 129.2317672729492,
            "count": 0
           },
           {
            "bin_start": 129.2317672729492,
            "bin_end": 130.02156448364258,
            "count": 0
           },
           {
            "bin_start": 130.02156448364258,
            "bin_end": 130.81136169433594,
            "count": 0
           },
           {
            "bin_start": 130.81136169433594,
            "bin_end": 131.6011589050293,
            "count": 1
           },
           {
            "bin_start": 131.6011589050293,
            "bin_end": 132.39095611572264,
            "count": 0
           },
           {
            "bin_start": 132.39095611572264,
            "bin_end": 133.180753326416,
            "count": 1
           },
           {
            "bin_start": 133.180753326416,
            "bin_end": 133.97055053710938,
            "count": 2
           }
          ]
         }
        },
        {
         "name": "AIG",
         "dtype": "float64",
         "stats": {
          "unique_count": 5,
          "nan_count": 0,
          "min": "36.44230270385742",
          "max": "40.13266372680664",
          "histogram": [
           {
            "bin_start": 36.44230270385742,
            "bin_end": 36.81133880615234,
            "count": 1
           },
           {
            "bin_start": 36.81133880615234,
            "bin_end": 37.18037490844726,
            "count": 1
           },
           {
            "bin_start": 37.18037490844726,
            "bin_end": 37.54941101074219,
            "count": 0
           },
           {
            "bin_start": 37.54941101074219,
            "bin_end": 37.91844711303711,
            "count": 0
           },
           {
            "bin_start": 37.91844711303711,
            "bin_end": 38.28748321533203,
            "count": 0
           },
           {
            "bin_start": 38.28748321533203,
            "bin_end": 38.65651931762695,
            "count": 0
           },
           {
            "bin_start": 38.65651931762695,
            "bin_end": 39.02555541992187,
            "count": 0
           },
           {
            "bin_start": 39.02555541992187,
            "bin_end": 39.3945915222168,
            "count": 0
           },
           {
            "bin_start": 39.3945915222168,
            "bin_end": 39.76362762451172,
            "count": 1
           },
           {
            "bin_start": 39.76362762451172,
            "bin_end": 40.13266372680664,
            "count": 2
           }
          ]
         }
        },
        {
         "name": "MS",
         "dtype": "float64",
         "stats": {
          "unique_count": 5,
          "nan_count": 0,
          "min": "66.73786163330078",
          "max": "73.49662780761719",
          "histogram": [
           {
            "bin_start": 66.73786163330078,
            "bin_end": 67.41373825073242,
            "count": 1
           },
           {
            "bin_start": 67.41373825073242,
            "bin_end": 68.08961486816406,
            "count": 1
           },
           {
            "bin_start": 68.08961486816406,
            "bin_end": 68.7654914855957,
            "count": 0
           },
           {
            "bin_start": 68.7654914855957,
            "bin_end": 69.44136810302734,
            "count": 0
           },
           {
            "bin_start": 69.44136810302734,
            "bin_end": 70.11724472045898,
            "count": 0
           },
           {
            "bin_start": 70.11724472045898,
            "bin_end": 70.79312133789062,
            "count": 0
           },
           {
            "bin_start": 70.79312133789062,
            "bin_end": 71.46899795532227,
            "count": 0
           },
           {
            "bin_start": 71.46899795532227,
            "bin_end": 72.1448745727539,
            "count": 1
           },
           {
            "bin_start": 72.1448745727539,
            "bin_end": 72.82075119018555,
            "count": 0
           },
           {
            "bin_start": 72.82075119018555,
            "bin_end": 73.49662780761719,
            "count": 2
           }
          ]
         }
        },
        {
         "name": "WFC",
         "dtype": "float64",
         "stats": {
          "unique_count": 5,
          "nan_count": 0,
          "min": "29.300708770751957",
          "max": "32.980560302734375",
          "histogram": [
           {
            "bin_start": 29.300708770751957,
            "bin_end": 29.668693923950197,
            "count": 1
           },
           {
            "bin_start": 29.668693923950197,
            "bin_end": 30.03667907714844,
            "count": 0
           },
           {
            "bin_start": 30.03667907714844,
            "bin_end": 30.404664230346683,
            "count": 1
           },
           {
            "bin_start": 30.404664230346683,
            "bin_end": 30.772649383544923,
            "count": 0
           },
           {
            "bin_start": 30.772649383544923,
            "bin_end": 31.140634536743164,
            "count": 0
           },
           {
            "bin_start": 31.140634536743164,
            "bin_end": 31.50861968994141,
            "count": 0
           },
           {
            "bin_start": 31.50861968994141,
            "bin_end": 31.87660484313965,
            "count": 0
           },
           {
            "bin_start": 31.87660484313965,
            "bin_end": 32.24458999633789,
            "count": 0
           },
           {
            "bin_start": 32.24458999633789,
            "bin_end": 32.612575149536134,
            "count": 1
           },
           {
            "bin_start": 32.612575149536134,
            "bin_end": 32.980560302734375,
            "count": 2
           }
          ]
         }
        },
        {
         "name": "ORCL",
         "dtype": "float64",
         "stats": {
          "unique_count": 5,
          "nan_count": 0,
          "min": "61.85630035400391",
          "max": "62.78260040283203",
          "histogram": [
           {
            "bin_start": 61.85630035400391,
            "bin_end": 61.94893035888673,
            "count": 1
           },
           {
            "bin_start": 61.94893035888673,
            "bin_end": 62.041560363769534,
            "count": 1
           },
           {
            "bin_start": 62.041560363769534,
            "bin_end": 62.13419036865235,
            "count": 0
           },
           {
            "bin_start": 62.13419036865235,
            "bin_end": 62.22682037353516,
            "count": 0
           },
           {
            "bin_start": 62.22682037353516,
            "bin_end": 62.31945037841797,
            "count": 0
           },
           {
            "bin_start": 62.31945037841797,
            "bin_end": 62.41208038330078,
            "count": 1
           },
           {
            "bin_start": 62.41208038330078,
            "bin_end": 62.5047103881836,
            "count": 0
           },
           {
            "bin_start": 62.5047103881836,
            "bin_end": 62.59734039306641,
            "count": 0
           },
           {
            "bin_start": 62.59734039306641,
            "bin_end": 62.68997039794922,
            "count": 1
           },
           {
            "bin_start": 62.68997039794922,
            "bin_end": 62.78260040283203,
            "count": 1
           }
          ]
         }
        },
        {
         "name": "XOM",
         "dtype": "float64",
         "stats": {
          "unique_count": 5,
          "nan_count": 0,
          "min": "39.621368408203125",
          "max": "43.402103424072266",
          "histogram": [
           {
            "bin_start": 39.621368408203125,
            "bin_end": 39.999441909790036,
            "count": 1
           },
           {
            "bin_start": 39.999441909790036,
            "bin_end": 40.377515411376955,
            "count": 0
           },
           {
            "bin_start": 40.377515411376955,
            "bin_end": 40.755588912963866,
            "count": 0
           },
           {
            "bin_start": 40.755588912963866,
            "bin_end": 41.133662414550784,
            "count": 0
           },
           {
            "bin_start": 41.133662414550784,
            "bin_end": 41.511735916137695,
            "count": 0
           },
           {
            "bin_start": 41.511735916137695,
            "bin_end": 41.88980941772461,
            "count": 1
           },
           {
            "bin_start": 41.88980941772461,
            "bin_end": 42.267882919311525,
            "count": 0
           },
           {
            "bin_start": 42.267882919311525,
            "bin_end": 42.645956420898436,
            "count": 1
           },
           {
            "bin_start": 42.645956420898436,
            "bin_end": 43.024029922485354,
            "count": 1
           },
           {
            "bin_start": 43.024029922485354,
            "bin_end": 43.402103424072266,
            "count": 1
           }
          ]
         }
        },
        {
         "name": "TGT",
         "dtype": "float64",
         "stats": {
          "unique_count": 5,
          "nan_count": 0,
          "min": "175.82254028320312",
          "max": "191.6300506591797",
          "histogram": [
           {
            "bin_start": 175.82254028320312,
            "bin_end": 177.40329132080078,
            "count": 1
           },
           {
            "bin_start": 177.40329132080078,
            "bin_end": 178.98404235839843,
            "count": 1
           },
           {
            "bin_start": 178.98404235839843,
            "bin_end": 180.5647933959961,
            "count": 0
           },
           {
            "bin_start": 180.5647933959961,
            "bin_end": 182.14554443359376,
            "count": 0
           },
           {
            "bin_start": 182.14554443359376,
            "bin_end": 183.7262954711914,
            "count": 0
           },
           {
            "bin_start": 183.7262954711914,
            "bin_end": 185.30704650878906,
            "count": 0
           },
           {
            "bin_start": 185.30704650878906,
            "bin_end": 186.8877975463867,
            "count": 0
           },
           {
            "bin_start": 186.8877975463867,
            "bin_end": 188.4685485839844,
            "count": 1
           },
           {
            "bin_start": 188.4685485839844,
            "bin_end": 190.04929962158204,
            "count": 1
           },
           {
            "bin_start": 190.04929962158204,
            "bin_end": 191.6300506591797,
            "count": 1
           }
          ]
         }
        },
        {
         "name": "LOW",
         "dtype": "float64",
         "stats": {
          "unique_count": 5,
          "nan_count": 0,
          "min": "158.11497497558594",
          "max": "162.71902465820312",
          "histogram": [
           {
            "bin_start": 158.11497497558594,
            "bin_end": 158.57537994384765,
            "count": 1
           },
           {
            "bin_start": 158.57537994384765,
            "bin_end": 159.03578491210936,
            "count": 1
           },
           {
            "bin_start": 159.03578491210936,
            "bin_end": 159.4961898803711,
            "count": 0
           },
           {
            "bin_start": 159.4961898803711,
            "bin_end": 159.95659484863282,
            "count": 0
           },
           {
            "bin_start": 159.95659484863282,
            "bin_end": 160.41699981689453,
            "count": 0
           },
           {
            "bin_start": 160.41699981689453,
            "bin_end": 160.87740478515624,
            "count": 1
           },
           {
            "bin_start": 160.87740478515624,
            "bin_end": 161.33780975341796,
            "count": 0
           },
           {
            "bin_start": 161.33780975341796,
            "bin_end": 161.7982147216797,
            "count": 1
           },
           {
            "bin_start": 161.7982147216797,
            "bin_end": 162.2586196899414,
            "count": 0
           },
           {
            "bin_start": 162.2586196899414,
            "bin_end": 162.71902465820312,
            "count": 1
           }
          ]
         }
        },
        {
         "name": "EXC",
         "dtype": "float64",
         "stats": {
          "unique_count": 5,
          "nan_count": 0,
          "min": "40.35238265991211",
          "max": "41.66768646240234",
          "histogram": [
           {
            "bin_start": 40.35238265991211,
            "bin_end": 40.483913040161134,
            "count": 2
           },
           {
            "bin_start": 40.483913040161134,
            "bin_end": 40.61544342041015,
            "count": 0
           },
           {
            "bin_start": 40.61544342041015,
            "bin_end": 40.74697380065918,
            "count": 0
           },
           {
            "bin_start": 40.74697380065918,
            "bin_end": 40.8785041809082,
            "count": 0
           },
           {
            "bin_start": 40.8785041809082,
            "bin_end": 41.01003456115723,
            "count": 0
           },
           {
            "bin_start": 41.01003456115723,
            "bin_end": 41.141564941406244,
            "count": 0
           },
           {
            "bin_start": 41.141564941406244,
            "bin_end": 41.27309532165527,
            "count": 1
           },
           {
            "bin_start": 41.27309532165527,
            "bin_end": 41.404625701904294,
            "count": 0
           },
           {
            "bin_start": 41.404625701904294,
            "bin_end": 41.53615608215331,
            "count": 1
           },
           {
            "bin_start": 41.53615608215331,
            "bin_end": 41.66768646240234,
            "count": 1
           }
          ]
         }
        },
        {
         "name": "COST",
         "dtype": "float64",
         "stats": {
          "unique_count": 5,
          "nan_count": 0,
          "min": "365.72454833984375",
          "max": "377.8815307617188",
          "histogram": [
           {
            "bin_start": 365.72454833984375,
            "bin_end": 366.94024658203125,
            "count": 1
           },
           {
            "bin_start": 366.94024658203125,
            "bin_end": 368.15594482421875,
            "count": 2
           },
           {
            "bin_start": 368.15594482421875,
            "bin_end": 369.37164306640625,
            "count": 0
           },
           {
            "bin_start": 369.37164306640625,
            "bin_end": 370.58734130859375,
            "count": 0
           },
           {
            "bin_start": 370.58734130859375,
            "bin_end": 371.80303955078125,
            "count": 0
           },
           {
            "bin_start": 371.80303955078125,
            "bin_end": 373.0187377929688,
            "count": 0
           },
           {
            "bin_start": 373.0187377929688,
            "bin_end": 374.2344360351563,
            "count": 1
           },
           {
            "bin_start": 374.2344360351563,
            "bin_end": 375.4501342773438,
            "count": 0
           },
           {
            "bin_start": 375.4501342773438,
            "bin_end": 376.6658325195313,
            "count": 0
           },
           {
            "bin_start": 376.6658325195313,
            "bin_end": 377.8815307617188,
            "count": 1
           }
          ]
         }
        },
        {
         "name": "AXP",
         "dtype": "float64",
         "stats": {
          "unique_count": 5,
          "nan_count": 0,
          "min": "116.6797866821289",
          "max": "121.64192962646484",
          "histogram": [
           {
            "bin_start": 116.6797866821289,
            "bin_end": 117.1760009765625,
            "count": 1
           },
           {
            "bin_start": 117.1760009765625,
            "bin_end": 117.67221527099609,
            "count": 1
           },
           {
            "bin_start": 117.67221527099609,
            "bin_end": 118.16842956542969,
            "count": 0
           },
           {
            "bin_start": 118.16842956542969,
            "bin_end": 118.66464385986328,
            "count": 0
           },
           {
            "bin_start": 118.66464385986328,
            "bin_end": 119.16085815429688,
            "count": 0
           },
           {
            "bin_start": 119.16085815429688,
            "bin_end": 119.65707244873047,
            "count": 0
           },
           {
            "bin_start": 119.65707244873047,
            "bin_end": 120.15328674316406,
            "count": 0
           },
           {
            "bin_start": 120.15328674316406,
            "bin_end": 120.64950103759766,
            "count": 0
           },
           {
            "bin_start": 120.64950103759766,
            "bin_end": 121.14571533203124,
            "count": 2
           },
           {
            "bin_start": 121.14571533203124,
            "bin_end": 121.64192962646484,
            "count": 1
           }
          ]
         }
        },
        {
         "name": "BK",
         "dtype": "float64",
         "stats": {
          "unique_count": 5,
          "nan_count": 0,
          "min": "40.59257888793945",
          "max": "44.088077545166016",
          "histogram": [
           {
            "bin_start": 40.59257888793945,
            "bin_end": 40.94212875366211,
            "count": 1
           },
           {
            "bin_start": 40.94212875366211,
            "bin_end": 41.29167861938477,
            "count": 1
           },
           {
            "bin_start": 41.29167861938477,
            "bin_end": 41.64122848510742,
            "count": 0
           },
           {
            "bin_start": 41.64122848510742,
            "bin_end": 41.99077835083008,
            "count": 0
           },
           {
            "bin_start": 41.99077835083008,
            "bin_end": 42.340328216552734,
            "count": 0
           },
           {
            "bin_start": 42.340328216552734,
            "bin_end": 42.68987808227539,
            "count": 0
           },
           {
            "bin_start": 42.68987808227539,
            "bin_end": 43.03942794799805,
            "count": 0
           },
           {
            "bin_start": 43.03942794799805,
            "bin_end": 43.3889778137207,
            "count": 0
           },
           {
            "bin_start": 43.3889778137207,
            "bin_end": 43.73852767944336,
            "count": 1
           },
           {
            "bin_start": 43.73852767944336,
            "bin_end": 44.088077545166016,
            "count": 2
           }
          ]
         }
        },
        {
         "name": "JPM",
         "dtype": "float64",
         "stats": {
          "unique_count": 5,
          "nan_count": 0,
          "min": "122.78654479980467",
          "max": "133.64349365234375",
          "histogram": [
           {
            "bin_start": 122.78654479980467,
            "bin_end": 123.87223968505859,
            "count": 2
           },
           {
            "bin_start": 123.87223968505859,
            "bin_end": 124.95793457031249,
            "count": 0
           },
           {
            "bin_start": 124.95793457031249,
            "bin_end": 126.04362945556639,
            "count": 0
           },
           {
            "bin_start": 126.04362945556639,
            "bin_end": 127.1293243408203,
            "count": 0
           },
           {
            "bin_start": 127.1293243408203,
            "bin_end": 128.21501922607422,
            "count": 0
           },
           {
            "bin_start": 128.21501922607422,
            "bin_end": 129.30071411132812,
            "count": 1
           },
           {
            "bin_start": 129.30071411132812,
            "bin_end": 130.38640899658202,
            "count": 0
           },
           {
            "bin_start": 130.38640899658202,
            "bin_end": 131.47210388183595,
            "count": 0
           },
           {
            "bin_start": 131.47210388183595,
            "bin_end": 132.55779876708985,
            "count": 0
           },
           {
            "bin_start": 132.55779876708985,
            "bin_end": 133.64349365234375,
            "count": 2
           }
          ]
         }
        },
        {
         "name": "COF",
         "dtype": "float64",
         "stats": {
          "unique_count": 5,
          "nan_count": 0,
          "min": "96.90048217773438",
          "max": "109.66670989990234",
          "histogram": [
           {
            "bin_start": 96.90048217773438,
            "bin_end": 98.17710494995117,
            "count": 1
           },
           {
            "bin_start": 98.17710494995117,
            "bin_end": 99.45372772216797,
            "count": 1
           },
           {
            "bin_start": 99.45372772216797,
            "bin_end": 100.73035049438477,
            "count": 0
           },
           {
            "bin_start": 100.73035049438477,
            "bin_end": 102.00697326660156,
            "count": 0
           },
           {
            "bin_start": 102.00697326660156,
            "bin_end": 103.28359603881836,
            "count": 0
           },
           {
            "bin_start": 103.28359603881836,
            "bin_end": 104.56021881103516,
            "count": 0
           },
           {
            "bin_start": 104.56021881103516,
            "bin_end": 105.83684158325195,
            "count": 0
           },
           {
            "bin_start": 105.83684158325195,
            "bin_end": 107.11346435546875,
            "count": 1
           },
           {
            "bin_start": 107.11346435546875,
            "bin_end": 108.39008712768555,
            "count": 0
           },
           {
            "bin_start": 108.39008712768555,
            "bin_end": 109.66670989990234,
            "count": 2
           }
          ]
         }
        },
        {
         "name": "CSCO",
         "dtype": "float64",
         "stats": {
          "unique_count": 5,
          "nan_count": 0,
          "min": "43.34489059448242",
          "max": "44.42949676513672",
          "histogram": [
           {
            "bin_start": 43.34489059448242,
            "bin_end": 43.453351211547854,
            "count": 2
           },
           {
            "bin_start": 43.453351211547854,
            "bin_end": 43.56181182861328,
            "count": 0
           },
           {
            "bin_start": 43.56181182861328,
            "bin_end": 43.67027244567871,
            "count": 0
           },
           {
            "bin_start": 43.67027244567871,
            "bin_end": 43.77873306274414,
            "count": 0
           },
           {
            "bin_start": 43.77873306274414,
            "bin_end": 43.88719367980957,
            "count": 1
           },
           {
            "bin_start": 43.88719367980957,
            "bin_end": 43.995654296875,
            "count": 0
           },
           {
            "bin_start": 43.995654296875,
            "bin_end": 44.10411491394043,
            "count": 0
           },
           {
            "bin_start": 44.10411491394043,
            "bin_end": 44.21257553100586,
            "count": 0
           },
           {
            "bin_start": 44.21257553100586,
            "bin_end": 44.321036148071286,
            "count": 0
           },
           {
            "bin_start": 44.321036148071286,
            "bin_end": 44.42949676513672,
            "count": 2
           }
          ]
         }
        },
        {
         "name": "DHR",
         "dtype": "float64",
         "stats": {
          "unique_count": 5,
          "nan_count": 0,
          "min": "222.6881103515625",
          "max": "242.89894104003903",
          "histogram": [
           {
            "bin_start": 222.6881103515625,
            "bin_end": 224.70919342041014,
            "count": 1
           },
           {
            "bin_start": 224.70919342041014,
            "bin_end": 226.73027648925782,
            "count": 0
           },
           {
            "bin_start": 226.73027648925782,
            "bin_end": 228.75135955810546,
            "count": 1
           },
           {
            "bin_start": 228.75135955810546,
            "bin_end": 230.7724426269531,
            "count": 0
           },
           {
            "bin_start": 230.7724426269531,
            "bin_end": 232.79352569580078,
            "count": 0
           },
           {
            "bin_start": 232.79352569580078,
            "bin_end": 234.81460876464843,
            "count": 0
           },
           {
            "bin_start": 234.81460876464843,
            "bin_end": 236.83569183349607,
            "count": 1
           },
           {
            "bin_start": 236.83569183349607,
            "bin_end": 238.85677490234372,
            "count": 0
           },
           {
            "bin_start": 238.85677490234372,
            "bin_end": 240.8778579711914,
            "count": 1
           },
           {
            "bin_start": 240.8778579711914,
            "bin_end": 242.89894104003903,
            "count": 1
           }
          ]
         }
        },
        {
         "name": "UNH",
         "dtype": "float64",
         "stats": {
          "unique_count": 5,
          "nan_count": 0,
          "min": "341.128173828125",
          "max": "361.1427612304688",
          "histogram": [
           {
            "bin_start": 341.128173828125,
            "bin_end": 343.1296325683594,
            "count": 1
           },
           {
            "bin_start": 343.1296325683594,
            "bin_end": 345.13109130859374,
            "count": 0
           },
           {
            "bin_start": 345.13109130859374,
            "bin_end": 347.13255004882814,
            "count": 1
           },
           {
            "bin_start": 347.13255004882814,
            "bin_end": 349.13400878906253,
            "count": 0
           },
           {
            "bin_start": 349.13400878906253,
            "bin_end": 351.1354675292969,
            "count": 0
           },
           {
            "bin_start": 351.1354675292969,
            "bin_end": 353.1369262695313,
            "count": 0
           },
           {
            "bin_start": 353.1369262695313,
            "bin_end": 355.13838500976567,
            "count": 0
           },
           {
            "bin_start": 355.13838500976567,
            "bin_end": 357.13984375000007,
            "count": 1
           },
           {
            "bin_start": 357.13984375000007,
            "bin_end": 359.1413024902344,
            "count": 0
           },
           {
            "bin_start": 359.1413024902344,
            "bin_end": 361.1427612304688,
            "count": 2
           }
          ]
         }
        },
        {
         "name": "CVS",
         "dtype": "float64",
         "stats": {
          "unique_count": 5,
          "nan_count": 0,
          "min": "68.25929260253906",
          "max": "73.00888061523438",
          "histogram": [
           {
            "bin_start": 68.25929260253906,
            "bin_end": 68.7342514038086,
            "count": 2
           },
           {
            "bin_start": 68.7342514038086,
            "bin_end": 69.20921020507812,
            "count": 0
           },
           {
            "bin_start": 69.20921020507812,
            "bin_end": 69.68416900634766,
            "count": 0
           },
           {
            "bin_start": 69.68416900634766,
            "bin_end": 70.15912780761718,
            "count": 0
           },
           {
            "bin_start": 70.15912780761718,
            "bin_end": 70.63408660888672,
            "count": 0
           },
           {
            "bin_start": 70.63408660888672,
            "bin_end": 71.10904541015626,
            "count": 1
           },
           {
            "bin_start": 71.10904541015626,
            "bin_end": 71.58400421142578,
            "count": 0
           },
           {
            "bin_start": 71.58400421142578,
            "bin_end": 72.05896301269532,
            "count": 0
           },
           {
            "bin_start": 72.05896301269532,
            "bin_end": 72.53392181396484,
            "count": 1
           },
           {
            "bin_start": 72.53392181396484,
            "bin_end": 73.00888061523438,
            "count": 1
           }
          ]
         }
        },
        {
         "name": "LLY",
         "dtype": "float64",
         "stats": {
          "unique_count": 5,
          "nan_count": 0,
          "min": "162.39236450195312",
          "max": "164.4578399658203",
          "histogram": [
           {
            "bin_start": 162.39236450195312,
            "bin_end": 162.59891204833986,
            "count": 1
           },
           {
            "bin_start": 162.59891204833986,
            "bin_end": 162.80545959472656,
            "count": 0
           },
           {
            "bin_start": 162.80545959472656,
            "bin_end": 163.0120071411133,
            "count": 0
           },
           {
            "bin_start": 163.0120071411133,
            "bin_end": 163.2185546875,
            "count": 0
           },
           {
            "bin_start": 163.2185546875,
            "bin_end": 163.42510223388672,
            "count": 0
           },
           {
            "bin_start": 163.42510223388672,
            "bin_end": 163.63164978027345,
            "count": 1
           },
           {
            "bin_start": 163.63164978027345,
            "bin_end": 163.83819732666015,
            "count": 0
           },
           {
            "bin_start": 163.83819732666015,
            "bin_end": 164.04474487304688,
            "count": 1
           },
           {
            "bin_start": 164.04474487304688,
            "bin_end": 164.25129241943358,
            "count": 0
           },
           {
            "bin_start": 164.25129241943358,
            "bin_end": 164.4578399658203,
            "count": 2
           }
          ]
         }
        },
        {
         "name": "CVX",
         "dtype": "float64",
         "stats": {
          "unique_count": 5,
          "nan_count": 0,
          "min": "81.42143249511719",
          "max": "87.54414367675781",
          "histogram": [
           {
            "bin_start": 81.42143249511719,
            "bin_end": 82.03370361328125,
            "count": 1
           },
           {
            "bin_start": 82.03370361328125,
            "bin_end": 82.6459747314453,
            "count": 0
           },
           {
            "bin_start": 82.6459747314453,
            "bin_end": 83.25824584960938,
            "count": 0
           },
           {
            "bin_start": 83.25824584960938,
            "bin_end": 83.87051696777344,
            "count": 1
           },
           {
            "bin_start": 83.87051696777344,
            "bin_end": 84.4827880859375,
            "count": 0
           },
           {
            "bin_start": 84.4827880859375,
            "bin_end": 85.09505920410156,
            "count": 0
           },
           {
            "bin_start": 85.09505920410156,
            "bin_end": 85.70733032226562,
            "count": 0
           },
           {
            "bin_start": 85.70733032226562,
            "bin_end": 86.3196014404297,
            "count": 1
           },
           {
            "bin_start": 86.3196014404297,
            "bin_end": 86.93187255859375,
            "count": 1
           },
           {
            "bin_start": 86.93187255859375,
            "bin_end": 87.54414367675781,
            "count": 1
           }
          ]
         }
        },
        {
         "name": "MET",
         "dtype": "float64",
         "stats": {
          "unique_count": 5,
          "nan_count": 0,
          "min": "44.62873458862305",
          "max": "48.01850128173828",
          "histogram": [
           {
            "bin_start": 44.62873458862305,
            "bin_end": 44.96771125793457,
            "count": 1
           },
           {
            "bin_start": 44.96771125793457,
            "bin_end": 45.306687927246095,
            "count": 1
           },
           {
            "bin_start": 45.306687927246095,
            "bin_end": 45.645664596557616,
            "count": 0
           },
           {
            "bin_start": 45.645664596557616,
            "bin_end": 45.98464126586914,
            "count": 0
           },
           {
            "bin_start": 45.98464126586914,
            "bin_end": 46.323617935180664,
            "count": 0
           },
           {
            "bin_start": 46.323617935180664,
            "bin_end": 46.662594604492185,
            "count": 0
           },
           {
            "bin_start": 46.662594604492185,
            "bin_end": 47.00157127380371,
            "count": 0
           },
           {
            "bin_start": 47.00157127380371,
            "bin_end": 47.34054794311523,
            "count": 0
           },
           {
            "bin_start": 47.34054794311523,
            "bin_end": 47.67952461242676,
            "count": 0
           },
           {
            "bin_start": 47.67952461242676,
            "bin_end": 48.01850128173828,
            "count": 3
           }
          ]
         }
        },
        {
         "name": "AMT",
         "dtype": "float64",
         "stats": {
          "unique_count": 5,
          "nan_count": 0,
          "min": "211.775146484375",
          "max": "218.97918701171875",
          "histogram": [
           {
            "bin_start": 211.775146484375,
            "bin_end": 212.49555053710938,
            "count": 1
           },
           {
            "bin_start": 212.49555053710938,
            "bin_end": 213.21595458984376,
            "count": 0
           },
           {
            "bin_start": 213.21595458984376,
            "bin_end": 213.9363586425781,
            "count": 0
           },
           {
            "bin_start": 213.9363586425781,
            "bin_end": 214.6567626953125,
            "count": 1
           },
           {
            "bin_start": 214.6567626953125,
            "bin_end": 215.37716674804688,
            "count": 0
           },
           {
            "bin_start": 215.37716674804688,
            "bin_end": 216.09757080078126,
            "count": 0
           },
           {
            "bin_start": 216.09757080078126,
            "bin_end": 216.81797485351564,
            "count": 1
           },
           {
            "bin_start": 216.81797485351564,
            "bin_end": 217.53837890625,
            "count": 1
           },
           {
            "bin_start": 217.53837890625,
            "bin_end": 218.25878295898437,
            "count": 0
           },
           {
            "bin_start": 218.25878295898437,
            "bin_end": 218.97918701171875,
            "count": 1
           }
          ]
         }
        },
        {
         "name": "CRM",
         "dtype": "float64",
         "stats": {
          "unique_count": 5,
          "nan_count": 0,
          "min": "216.1499938964844",
          "max": "222.0399932861328",
          "histogram": [
           {
            "bin_start": 216.1499938964844,
            "bin_end": 216.73899383544924,
            "count": 1
           },
           {
            "bin_start": 216.73899383544924,
            "bin_end": 217.3279937744141,
            "count": 0
           },
           {
            "bin_start": 217.3279937744141,
            "bin_end": 217.91699371337893,
            "count": 0
           },
           {
            "bin_start": 217.91699371337893,
            "bin_end": 218.50599365234376,
            "count": 1
           },
           {
            "bin_start": 218.50599365234376,
            "bin_end": 219.0949935913086,
            "count": 0
           },
           {
            "bin_start": 219.0949935913086,
            "bin_end": 219.68399353027345,
            "count": 0
           },
           {
            "bin_start": 219.68399353027345,
            "bin_end": 220.2729934692383,
            "count": 0
           },
           {
            "bin_start": 220.2729934692383,
            "bin_end": 220.86199340820312,
            "count": 1
           },
           {
            "bin_start": 220.86199340820312,
            "bin_end": 221.45099334716798,
            "count": 0
           },
           {
            "bin_start": 221.45099334716798,
            "bin_end": 222.0399932861328,
            "count": 2
           }
          ]
         }
        },
        {
         "name": "BLK",
         "dtype": "float64",
         "stats": {
          "unique_count": 5,
          "nan_count": 0,
          "min": "700.2908935546875",
          "max": "745.2449951171875",
          "histogram": [
           {
            "bin_start": 700.2908935546875,
            "bin_end": 704.7863037109375,
            "count": 2
           },
           {
            "bin_start": 704.7863037109375,
            "bin_end": 709.2817138671875,
            "count": 0
           },
           {
            "bin_start": 709.2817138671875,
            "bin_end": 713.7771240234375,
            "count": 0
           },
           {
            "bin_start": 713.7771240234375,
            "bin_end": 718.2725341796875,
            "count": 0
           },
           {
            "bin_start": 718.2725341796875,
            "bin_end": 722.7679443359375,
            "count": 0
           },
           {
            "bin_start": 722.7679443359375,
            "bin_end": 727.2633544921875,
            "count": 1
           },
           {
            "bin_start": 727.2633544921875,
            "bin_end": 731.7587646484375,
            "count": 0
           },
           {
            "bin_start": 731.7587646484375,
            "bin_end": 736.2541748046875,
            "count": 0
           },
           {
            "bin_start": 736.2541748046875,
            "bin_end": 740.7495849609375,
            "count": 1
           },
           {
            "bin_start": 740.7495849609375,
            "bin_end": 745.2449951171875,
            "count": 1
           }
          ]
         }
        },
        {
         "name": "RTX",
         "dtype": "float64",
         "stats": {
          "unique_count": 5,
          "nan_count": 0,
          "min": "67.20109558105469",
          "max": "69.01787567138672",
          "histogram": [
           {
            "bin_start": 67.20109558105469,
            "bin_end": 67.3827735900879,
            "count": 1
           },
           {
            "bin_start": 67.3827735900879,
            "bin_end": 67.5644515991211,
            "count": 0
           },
           {
            "bin_start": 67.5644515991211,
            "bin_end": 67.74612960815429,
            "count": 0
           },
           {
            "bin_start": 67.74612960815429,
            "bin_end": 67.9278076171875,
            "count": 0
           },
           {
            "bin_start": 67.9278076171875,
            "bin_end": 68.1094856262207,
            "count": 0
           },
           {
            "bin_start": 68.1094856262207,
            "bin_end": 68.29116363525391,
            "count": 1
           },
           {
            "bin_start": 68.29116363525391,
            "bin_end": 68.47284164428712,
            "count": 0
           },
           {
            "bin_start": 68.47284164428712,
            "bin_end": 68.6545196533203,
            "count": 2
           },
           {
            "bin_start": 68.6545196533203,
            "bin_end": 68.83619766235351,
            "count": 0
           },
           {
            "bin_start": 68.83619766235351,
            "bin_end": 69.01787567138672,
            "count": 1
           }
          ]
         }
        },
        {
         "name": "MCD",
         "dtype": "float64",
         "stats": {
          "unique_count": 5,
          "nan_count": 0,
          "min": "206.65391540527344",
          "max": "212.20806884765625",
          "histogram": [
           {
            "bin_start": 206.65391540527344,
            "bin_end": 207.2093307495117,
            "count": 1
           },
           {
            "bin_start": 207.2093307495117,
            "bin_end": 207.76474609375,
            "count": 1
           },
           {
            "bin_start": 207.76474609375,
            "bin_end": 208.32016143798828,
            "count": 1
           },
           {
            "bin_start": 208.32016143798828,
            "bin_end": 208.87557678222657,
            "count": 1
           },
           {
            "bin_start": 208.87557678222657,
            "bin_end": 209.43099212646484,
            "count": 0
           },
           {
            "bin_start": 209.43099212646484,
            "bin_end": 209.9864074707031,
            "count": 0
           },
           {
            "bin_start": 209.9864074707031,
            "bin_end": 210.5418228149414,
            "count": 0
           },
           {
            "bin_start": 210.5418228149414,
            "bin_end": 211.09723815917968,
            "count": 0
           },
           {
            "bin_start": 211.09723815917968,
            "bin_end": 211.65265350341798,
            "count": 0
           },
           {
            "bin_start": 211.65265350341798,
            "bin_end": 212.20806884765625,
            "count": 1
           }
          ]
         }
        },
        {
         "name": "TMO",
         "dtype": "float64",
         "stats": {
          "unique_count": 5,
          "nan_count": 0,
          "min": "471.06494140625",
          "max": "511.4801330566406",
          "histogram": [
           {
            "bin_start": 471.06494140625,
            "bin_end": 475.10646057128906,
            "count": 1
           },
           {
            "bin_start": 475.10646057128906,
            "bin_end": 479.1479797363281,
            "count": 1
           },
           {
            "bin_start": 479.1479797363281,
            "bin_end": 483.1894989013672,
            "count": 0
           },
           {
            "bin_start": 483.1894989013672,
            "bin_end": 487.23101806640625,
            "count": 1
           },
           {
            "bin_start": 487.23101806640625,
            "bin_end": 491.2725372314453,
            "count": 0
           },
           {
            "bin_start": 491.2725372314453,
            "bin_end": 495.3140563964844,
            "count": 0
           },
           {
            "bin_start": 495.3140563964844,
            "bin_end": 499.35557556152344,
            "count": 0
           },
           {
            "bin_start": 499.35557556152344,
            "bin_end": 503.3970947265625,
            "count": 1
           },
           {
            "bin_start": 503.3970947265625,
            "bin_end": 507.43861389160156,
            "count": 0
           },
           {
            "bin_start": 507.43861389160156,
            "bin_end": 511.4801330566406,
            "count": 1
           }
          ]
         }
        },
        {
         "name": "LIN",
         "dtype": "float64",
         "stats": {
          "unique_count": 5,
          "nan_count": 0,
          "min": "255.93081665039065",
          "max": "268.4796447753906",
          "histogram": [
           {
            "bin_start": 255.93081665039065,
            "bin_end": 257.1856994628906,
            "count": 1
           },
           {
            "bin_start": 257.1856994628906,
            "bin_end": 258.4405822753906,
            "count": 0
           },
           {
            "bin_start": 258.4405822753906,
            "bin_end": 259.6954650878906,
            "count": 0
           },
           {
            "bin_start": 259.6954650878906,
            "bin_end": 260.9503479003906,
            "count": 1
           },
           {
            "bin_start": 260.9503479003906,
            "bin_end": 262.2052307128906,
            "count": 0
           },
           {
            "bin_start": 262.2052307128906,
            "bin_end": 263.4601135253906,
            "count": 0
           },
           {
            "bin_start": 263.4601135253906,
            "bin_end": 264.7149963378906,
            "count": 0
           },
           {
            "bin_start": 264.7149963378906,
            "bin_end": 265.9698791503906,
            "count": 0
           },
           {
            "bin_start": 265.9698791503906,
            "bin_end": 267.2247619628906,
            "count": 0
           },
           {
            "bin_start": 267.2247619628906,
            "bin_end": 268.4796447753906,
            "count": 3
           }
          ]
         }
        },
        {
         "name": "ADBE",
         "dtype": "float64",
         "stats": {
          "unique_count": 5,
          "nan_count": 0,
          "min": "466.30999755859375",
          "max": "485.6900024414063",
          "histogram": [
           {
            "bin_start": 466.30999755859375,
            "bin_end": 468.247998046875,
            "count": 1
           },
           {
            "bin_start": 468.247998046875,
            "bin_end": 470.1859985351563,
            "count": 0
           },
           {
            "bin_start": 470.1859985351563,
            "bin_end": 472.12399902343753,
            "count": 0
           },
           {
            "bin_start": 472.12399902343753,
            "bin_end": 474.0619995117188,
            "count": 0
           },
           {
            "bin_start": 474.0619995117188,
            "bin_end": 476,
            "count": 0
           },
           {
            "bin_start": 476,
            "bin_end": 477.93800048828126,
            "count": 1
           },
           {
            "bin_start": 477.93800048828126,
            "bin_end": 479.8760009765625,
            "count": 0
           },
           {
            "bin_start": 479.8760009765625,
            "bin_end": 481.8140014648438,
            "count": 0
           },
           {
            "bin_start": 481.8140014648438,
            "bin_end": 483.75200195312505,
            "count": 0
           },
           {
            "bin_start": 483.75200195312505,
            "bin_end": 485.6900024414063,
            "count": 3
           }
          ]
         }
        },
        {
         "name": "EMR",
         "dtype": "float64",
         "stats": {
          "unique_count": 5,
          "nan_count": 0,
          "min": "76.75382995605469",
          "max": "80.74845886230469",
          "histogram": [
           {
            "bin_start": 76.75382995605469,
            "bin_end": 77.15329284667969,
            "count": 1
           },
           {
            "bin_start": 77.15329284667969,
            "bin_end": 77.5527557373047,
            "count": 0
           },
           {
            "bin_start": 77.5527557373047,
            "bin_end": 77.95221862792968,
            "count": 0
           },
           {
            "bin_start": 77.95221862792968,
            "bin_end": 78.35168151855468,
            "count": 1
           },
           {
            "bin_start": 78.35168151855468,
            "bin_end": 78.75114440917969,
            "count": 0
           },
           {
            "bin_start": 78.75114440917969,
            "bin_end": 79.15060729980469,
            "count": 0
           },
           {
            "bin_start": 79.15060729980469,
            "bin_end": 79.5500701904297,
            "count": 0
           },
           {
            "bin_start": 79.5500701904297,
            "bin_end": 79.94953308105468,
            "count": 0
           },
           {
            "bin_start": 79.94953308105468,
            "bin_end": 80.34899597167968,
            "count": 0
           },
           {
            "bin_start": 80.34899597167968,
            "bin_end": 80.74845886230469,
            "count": 3
           }
          ]
         }
        },
        {
         "name": "USB",
         "dtype": "float64",
         "stats": {
          "unique_count": 5,
          "nan_count": 0,
          "min": "45.091583251953125",
          "max": "48.87528991699219",
          "histogram": [
           {
            "bin_start": 45.091583251953125,
            "bin_end": 45.46995391845703,
            "count": 2
           },
           {
            "bin_start": 45.46995391845703,
            "bin_end": 45.848324584960935,
            "count": 0
           },
           {
            "bin_start": 45.848324584960935,
            "bin_end": 46.22669525146485,
            "count": 0
           },
           {
            "bin_start": 46.22669525146485,
            "bin_end": 46.60506591796875,
            "count": 0
           },
           {
            "bin_start": 46.60506591796875,
            "bin_end": 46.983436584472656,
            "count": 0
           },
           {
            "bin_start": 46.983436584472656,
            "bin_end": 47.36180725097656,
            "count": 0
           },
           {
            "bin_start": 47.36180725097656,
            "bin_end": 47.740177917480466,
            "count": 0
           },
           {
            "bin_start": 47.740177917480466,
            "bin_end": 48.11854858398438,
            "count": 1
           },
           {
            "bin_start": 48.11854858398438,
            "bin_end": 48.49691925048828,
            "count": 1
           },
           {
            "bin_start": 48.49691925048828,
            "bin_end": 48.87528991699219,
            "count": 1
           }
          ]
         }
        },
        {
         "name": "UPS",
         "dtype": "float64",
         "stats": {
          "unique_count": 5,
          "nan_count": 0,
          "min": "155.81971740722656",
          "max": "161.14195251464844",
          "histogram": [
           {
            "bin_start": 155.81971740722656,
            "bin_end": 156.35194091796876,
            "count": 1
           },
           {
            "bin_start": 156.35194091796876,
            "bin_end": 156.88416442871093,
            "count": 1
           },
           {
            "bin_start": 156.88416442871093,
            "bin_end": 157.41638793945313,
            "count": 0
           },
           {
            "bin_start": 157.41638793945313,
            "bin_end": 157.9486114501953,
            "count": 0
           },
           {
            "bin_start": 157.9486114501953,
            "bin_end": 158.4808349609375,
            "count": 1
           },
           {
            "bin_start": 158.4808349609375,
            "bin_end": 159.0130584716797,
            "count": 1
           },
           {
            "bin_start": 159.0130584716797,
            "bin_end": 159.54528198242187,
            "count": 0
           },
           {
            "bin_start": 159.54528198242187,
            "bin_end": 160.07750549316407,
            "count": 0
           },
           {
            "bin_start": 160.07750549316407,
            "bin_end": 160.60972900390624,
            "count": 0
           },
           {
            "bin_start": 160.60972900390624,
            "bin_end": 161.14195251464844,
            "count": 1
           }
          ]
         }
        },
        {
         "name": "TSLA",
         "dtype": "float64",
         "stats": {
          "unique_count": 5,
          "nan_count": 0,
          "min": "729.77001953125",
          "max": "880.02001953125",
          "histogram": [
           {
            "bin_start": 729.77001953125,
            "bin_end": 744.79501953125,
            "count": 2
           },
           {
            "bin_start": 744.79501953125,
            "bin_end": 759.82001953125,
            "count": 1
           },
           {
            "bin_start": 759.82001953125,
            "bin_end": 774.84501953125,
            "count": 0
           },
           {
            "bin_start": 774.84501953125,
            "bin_end": 789.87001953125,
            "count": 0
           },
           {
            "bin_start": 789.87001953125,
            "bin_end": 804.89501953125,
            "count": 0
           },
           {
            "bin_start": 804.89501953125,
            "bin_end": 819.92001953125,
            "count": 1
           },
           {
            "bin_start": 819.92001953125,
            "bin_end": 834.94501953125,
            "count": 0
           },
           {
            "bin_start": 834.94501953125,
            "bin_end": 849.97001953125,
            "count": 0
           },
           {
            "bin_start": 849.97001953125,
            "bin_end": 864.99501953125,
            "count": 0
           },
           {
            "bin_start": 864.99501953125,
            "bin_end": 880.02001953125,
            "count": 1
           }
          ]
         }
        },
        {
         "name": "PFE",
         "dtype": "float64",
         "stats": {
          "unique_count": 5,
          "nan_count": 0,
          "min": "35.42396545410156",
          "max": "35.78965377807617",
          "histogram": [
           {
            "bin_start": 35.42396545410156,
            "bin_end": 35.460534286499026,
            "count": 1
           },
           {
            "bin_start": 35.460534286499026,
            "bin_end": 35.49710311889648,
            "count": 1
           },
           {
            "bin_start": 35.49710311889648,
            "bin_end": 35.53367195129395,
            "count": 0
           },
           {
            "bin_start": 35.53367195129395,
            "bin_end": 35.5702407836914,
            "count": 0
           },
           {
            "bin_start": 35.5702407836914,
            "bin_end": 35.60680961608887,
            "count": 0
           },
           {
            "bin_start": 35.60680961608887,
            "bin_end": 35.64337844848633,
            "count": 0
           },
           {
            "bin_start": 35.64337844848633,
            "bin_end": 35.67994728088379,
            "count": 1
           },
           {
            "bin_start": 35.67994728088379,
            "bin_end": 35.71651611328125,
            "count": 0
           },
           {
            "bin_start": 35.71651611328125,
            "bin_end": 35.75308494567871,
            "count": 1
           },
           {
            "bin_start": 35.75308494567871,
            "bin_end": 35.78965377807617,
            "count": 1
           }
          ]
         }
        },
        {
         "name": "PM",
         "dtype": "float64",
         "stats": {
          "unique_count": 5,
          "nan_count": 0,
          "min": "78.48661804199219",
          "max": "80.01782989501953",
          "histogram": [
           {
            "bin_start": 78.48661804199219,
            "bin_end": 78.63973922729492,
            "count": 1
           },
           {
            "bin_start": 78.63973922729492,
            "bin_end": 78.79286041259766,
            "count": 0
           },
           {
            "bin_start": 78.79286041259766,
            "bin_end": 78.94598159790038,
            "count": 0
           },
           {
            "bin_start": 78.94598159790038,
            "bin_end": 79.09910278320312,
            "count": 0
           },
           {
            "bin_start": 79.09910278320312,
            "bin_end": 79.25222396850586,
            "count": 0
           },
           {
            "bin_start": 79.25222396850586,
            "bin_end": 79.4053451538086,
            "count": 1
           },
           {
            "bin_start": 79.4053451538086,
            "bin_end": 79.55846633911133,
            "count": 1
           },
           {
            "bin_start": 79.55846633911133,
            "bin_end": 79.71158752441406,
            "count": 0
           },
           {
            "bin_start": 79.71158752441406,
            "bin_end": 79.8647087097168,
            "count": 0
           },
           {
            "bin_start": 79.8647087097168,
            "bin_end": 80.01782989501953,
            "count": 2
           }
          ]
         }
        },
        {
         "name": "_deepnote_index_column",
         "dtype": "object"
        }
       ],
       "rows": [
        {
         "GOOG": 1728.239990234375,
         "SPG": 80.10838317871094,
         "GOOGL": 1726.1300048828125,
         "MSFT": 216.68942260742188,
         "GD": 142.1913604736328,
         "ACN": 253.32872009277344,
         "COP": 38.38134002685547,
         "F": 8.520000457763672,
         "BAC": 29.6046142578125,
         "GS": 261.80255126953125,
         "NVDA": 131.05972290039062,
         "AIG": 36.44230270385742,
         "MS": 66.73786163330078,
         "WFC": 29.300708770751957,
         "ORCL": 62.78260040283203,
         "XOM": 39.621368408203125,
         "TGT": 175.82254028320312,
         "LOW": 158.11497497558594,
         "EXC": 40.41127014160156,
         "COST": 377.8815307617188,
         "AXP": 116.6797866821289,
         "BK": 40.59257888793945,
         "JPM": 122.78654479980467,
         "COF": 96.90048217773438,
         "CSCO": 43.34489059448242,
         "DHR": 222.6881103515625,
         "UNH": 345.77813720703125,
         "CVS": 68.25929260253906,
         "LLY": 163.5585174560547,
         "CVX": 81.42143249511719,
         "MET": 44.62873458862305,
         "AMT": 216.41688537597656,
         "CRM": 220.30999755859372,
         "BLK": 700.2908935546875,
         "RTX": 67.20109558105469,
         "MCD": 206.65391540527344,
         "TMO": 471.06494140625,
         "LIN": 255.93081665039065,
         "ADBE": 485.3399963378906,
         "EMR": 76.75382995605469,
         "USB": 45.091583251953125,
         "UPS": 161.14195251464844,
         "TSLA": 729.77001953125,
         "PFE": 35.42396545410156,
         "PM": 78.48661804199219,
         "_deepnote_index_column": "2021-01-04"
        },
        {
         "GOOG": 1740.9200439453125,
         "SPG": 80.4566421508789,
         "GOOGL": 1740.050048828125,
         "MSFT": 216.8984375,
         "GD": 142.2595672607422,
         "ACN": 254.7709045410156,
         "COP": 40.583152770996094,
         "F": 8.649999618530273,
         "BAC": 29.83135414123535,
         "GS": 267.6609802246094,
         "NVDA": 133.97055053710938,
         "AIG": 37.05082321166992,
         "MS": 67.87083435058594,
         "WFC": 30.119548797607425,
         "ORCL": 62.00458526611328,
         "XOM": 41.53083419799805,
         "TGT": 178.53465270996094,
         "LOW": 158.64735412597656,
         "EXC": 40.35238265991211,
         "COST": 373.4978332519531,
         "AXP": 117.30252075195312,
         "BK": 41.05020904541016,
         "JPM": 123.45466613769533,
         "COF": 99.17839813232422,
         "CSCO": 43.36460876464844,
         "DHR": 228.2146759033203,
         "UNH": 341.128173828125,
         "CVS": 68.7176742553711,
         "LLY": 164.368896484375,
         "CVX": 83.62252807617188,
         "MET": 45.18077850341797,
         "AMT": 217.5107879638672,
         "CRM": 221.5200042724609,
         "BLK": 703.9952392578125,
         "RTX": 68.1733169555664,
         "MCD": 207.89254760742188,
         "TMO": 476.95550537109375,
         "LIN": 259.9456787109375,
         "ADBE": 485.6900024414063,
         "EMR": 78.08209228515625,
         "USB": 45.23823547363281,
         "UPS": 158.89894104003906,
         "TSLA": 735.1099853515625,
         "PFE": 35.78965377807617,
         "PM": 79.34371185302734,
         "_deepnote_index_column": "2021-01-05"
        },
        {
         "GOOG": 1735.2900390625,
         "SPG": 82.2946548461914,
         "GOOGL": 1722.8800048828125,
         "MSFT": 211.2744140625,
         "GD": 145.89376831054688,
         "ACN": 257.5564270019531,
         "COP": 42.20298767089844,
         "F": 8.84000015258789,
         "BAC": 31.694583892822266,
         "GS": 282.10455322265625,
         "NVDA": 126.07257843017578,
         "AIG": 39.46525955200195,
         "MS": 71.96320343017578,
         "WFC": 32.25050735473633,
         "ORCL": 61.85630035400391,
         "XOM": 42.59058380126953,
         "TGT": 186.9976501464844,
         "LOW": 160.7670135498047,
         "EXC": 41.66768646240234,
         "COST": 367.8119812011719,
         "AXP": 121.64192962646484,
         "BK": 43.8251838684082,
         "JPM": 129.2515869140625,
         "COF": 106.348876953125,
         "CSCO": 43.77873611450195,
         "DHR": 235.77626037597656,
         "UNH": 355.4441223144531,
         "CVS": 70.7657470703125,
         "LLY": 162.39236450195312,
         "CVX": 86.31383514404297,
         "MET": 47.87322235107422,
         "AMT": 211.775146484375,
         "CRM": 216.1499938964844,
         "BLK": 724.0733642578125,
         "RTX": 69.01787567138672,
         "MCD": 207.4206695556641,
         "TMO": 484.43353271484375,
         "LIN": 268.4796447753906,
         "ADBE": 466.30999755859375,
         "EMR": 80.7091064453125,
         "USB": 47.917137145996094,
         "UPS": 158.42672729492188,
         "TSLA": 755.97998046875,
         "PFE": 35.4817008972168,
         "PM": 79.44964599609375,
         "_deepnote_index_column": "2021-01-06"
        },
        {
         "GOOG": 1787.25,
         "SPG": 82.35269165039062,
         "GOOGL": 1774.3399658203125,
         "MSFT": 217.28665161132807,
         "GD": 147.8229217529297,
         "ACN": 259.9864501953125,
         "COP": 43.35724639892578,
         "F": 9.0600004196167,
         "BAC": 32.394527435302734,
         "GS": 288.1309814453125,
         "NVDA": 133.36338806152344,
         "AIG": 40.13266372680664,
         "MS": 73.19385528564453,
         "WFC": 32.980560302734375,
         "ORCL": 62.3505973815918,
         "XOM": 42.92473983764648,
         "TGT": 189.15548706054688,
         "LOW": 161.39794921875,
         "EXC": 41.25542449951172,
         "COST": 365.72454833984375,
         "AXP": 120.67975616455078,
         "BK": 44.088077545166016,
         "JPM": 133.49609375,
         "COF": 109.66670989990234,
         "CSCO": 44.33089447021485,
         "DHR": 239.1280975341797,
         "UNH": 361.1427612304688,
         "CVS": 72.16038513183594,
         "LLY": 163.88465881347656,
         "CVX": 86.717529296875,
         "MET": 48.01850128173828,
         "AMT": 214.34732055664065,
         "CRM": 217.97999572753903,
         "BLK": 739.3043212890625,
         "RTX": 68.52685546875,
         "MCD": 208.38406372070312,
         "TMO": 499.529296875,
         "LIN": 267.70831298828125,
         "ADBE": 477.739990234375,
         "EMR": 80.74845886230469,
         "USB": 48.87528991699219,
         "UPS": 156.41981506347656,
         "TSLA": 816.0399780273438,
         "PFE": 35.664546966552734,
         "PM": 79.91191101074219,
         "_deepnote_index_column": "2021-01-07"
        },
        {
         "GOOG": 1807.2099609375,
         "SPG": 83.66832733154297,
         "GOOGL": 1797.8299560546875,
         "MSFT": 218.6105499267578,
         "GD": 146.89730834960938,
         "ACN": 260.93475341796875,
         "COP": 43.35724639892578,
         "F": 9,
         "BAC": 32.06919860839844,
         "GS": 286.5799255371094,
         "NVDA": 132.6912841796875,
         "AIG": 39.8676643371582,
         "MS": 73.49662780761719,
         "WFC": 32.7437858581543,
         "ORCL": 62.65705871582031,
         "XOM": 43.402103424072266,
         "TGT": 191.6300506591797,
         "LOW": 162.71902465820312,
         "EXC": 41.43210983276367,
         "COST": 367.73248291015625,
         "AXP": 120.7987823486328,
         "BK": 43.62071228027344,
         "JPM": 133.64349365234375,
         "COF": 109.49832916259766,
         "CSCO": 44.42949676513672,
         "DHR": 242.89894104003903,
         "UNH": 359.520263671875,
         "CVS": 73.00888061523438,
         "LLY": 164.4578399658203,
         "CVX": 87.54414367675781,
         "MET": 47.853851318359375,
         "AMT": 218.97918701171875,
         "CRM": 222.0399932861328,
         "BLK": 745.2449951171875,
         "RTX": 68.60541534423828,
         "MCD": 212.20806884765625,
         "TMO": 511.4801330566406,
         "LIN": 267.3918762207031,
         "ADBE": 485.1000061035156,
         "EMR": 80.50247955322266,
         "USB": 48.22022247314453,
         "UPS": 155.81971740722656,
         "TSLA": 880.02001953125,
         "PFE": 35.731910705566406,
         "PM": 80.01782989501953,
         "_deepnote_index_column": "2021-01-08"
        }
       ]
      },
      "text/plain": "                   GOOG        SPG        GOOGL        MSFT          GD  \\\nDate                                                                      \n2021-01-04  1728.239990  80.108383  1726.130005  216.689423  142.191360   \n2021-01-05  1740.920044  80.456642  1740.050049  216.898438  142.259567   \n2021-01-06  1735.290039  82.294655  1722.880005  211.274414  145.893768   \n2021-01-07  1787.250000  82.352692  1774.339966  217.286652  147.822922   \n2021-01-08  1807.209961  83.668327  1797.829956  218.610550  146.897308   \n\n                   ACN        COP     F        BAC          GS  ...  \\\nDate                                                            ...   \n2021-01-04  253.328720  38.381340  8.52  29.604614  261.802551  ...   \n2021-01-05  254.770905  40.583153  8.65  29.831354  267.660980  ...   \n2021-01-06  257.556427  42.202988  8.84  31.694584  282.104553  ...   \n2021-01-07  259.986450  43.357246  9.06  32.394527  288.130981  ...   \n2021-01-08  260.934753  43.357246  9.00  32.069199  286.579926  ...   \n\n                   MCD         TMO         LIN        ADBE        EMR  \\\nDate                                                                    \n2021-01-04  206.653915  471.064941  255.930817  485.339996  76.753830   \n2021-01-05  207.892548  476.955505  259.945679  485.690002  78.082092   \n2021-01-06  207.420670  484.433533  268.479645  466.309998  80.709106   \n2021-01-07  208.384064  499.529297  267.708313  477.739990  80.748459   \n2021-01-08  212.208069  511.480133  267.391876  485.100006  80.502480   \n\n                  USB         UPS        TSLA        PFE         PM  \nDate                                                                 \n2021-01-04  45.091583  161.141953  729.770020  35.423965  78.486618  \n2021-01-05  45.238235  158.898941  735.109985  35.789654  79.343712  \n2021-01-06  47.917137  158.426727  755.979980  35.481701  79.449646  \n2021-01-07  48.875290  156.419815  816.039978  35.664547  79.911911  \n2021-01-08  48.220222  155.819717  880.020020  35.731911  80.017830  \n\n[5 rows x 45 columns]",
      "text/html": "<div>\n<style scoped>\n    .dataframe tbody tr th:only-of-type {\n        vertical-align: middle;\n    }\n\n    .dataframe tbody tr th {\n        vertical-align: top;\n    }\n\n    .dataframe thead th {\n        text-align: right;\n    }\n</style>\n<table border=\"1\" class=\"dataframe\">\n  <thead>\n    <tr style=\"text-align: right;\">\n      <th></th>\n      <th>GOOG</th>\n      <th>SPG</th>\n      <th>GOOGL</th>\n      <th>MSFT</th>\n      <th>GD</th>\n      <th>ACN</th>\n      <th>COP</th>\n      <th>F</th>\n      <th>BAC</th>\n      <th>GS</th>\n      <th>...</th>\n      <th>MCD</th>\n      <th>TMO</th>\n      <th>LIN</th>\n      <th>ADBE</th>\n      <th>EMR</th>\n      <th>USB</th>\n      <th>UPS</th>\n      <th>TSLA</th>\n      <th>PFE</th>\n      <th>PM</th>\n    </tr>\n    <tr>\n      <th>Date</th>\n      <th></th>\n      <th></th>\n      <th></th>\n      <th></th>\n      <th></th>\n      <th></th>\n      <th></th>\n      <th></th>\n      <th></th>\n      <th></th>\n      <th></th>\n      <th></th>\n      <th></th>\n      <th></th>\n      <th></th>\n      <th></th>\n      <th></th>\n      <th></th>\n      <th></th>\n      <th></th>\n      <th></th>\n    </tr>\n  </thead>\n  <tbody>\n    <tr>\n      <th>2021-01-04</th>\n      <td>1728.239990</td>\n      <td>80.108383</td>\n      <td>1726.130005</td>\n      <td>216.689423</td>\n      <td>142.191360</td>\n      <td>253.328720</td>\n      <td>38.381340</td>\n      <td>8.52</td>\n      <td>29.604614</td>\n      <td>261.802551</td>\n      <td>...</td>\n      <td>206.653915</td>\n      <td>471.064941</td>\n      <td>255.930817</td>\n      <td>485.339996</td>\n      <td>76.753830</td>\n      <td>45.091583</td>\n      <td>161.141953</td>\n      <td>729.770020</td>\n      <td>35.423965</td>\n      <td>78.486618</td>\n    </tr>\n    <tr>\n      <th>2021-01-05</th>\n      <td>1740.920044</td>\n      <td>80.456642</td>\n      <td>1740.050049</td>\n      <td>216.898438</td>\n      <td>142.259567</td>\n      <td>254.770905</td>\n      <td>40.583153</td>\n      <td>8.65</td>\n      <td>29.831354</td>\n      <td>267.660980</td>\n      <td>...</td>\n      <td>207.892548</td>\n      <td>476.955505</td>\n      <td>259.945679</td>\n      <td>485.690002</td>\n      <td>78.082092</td>\n      <td>45.238235</td>\n      <td>158.898941</td>\n      <td>735.109985</td>\n      <td>35.789654</td>\n      <td>79.343712</td>\n    </tr>\n    <tr>\n      <th>2021-01-06</th>\n      <td>1735.290039</td>\n      <td>82.294655</td>\n      <td>1722.880005</td>\n      <td>211.274414</td>\n      <td>145.893768</td>\n      <td>257.556427</td>\n      <td>42.202988</td>\n      <td>8.84</td>\n      <td>31.694584</td>\n      <td>282.104553</td>\n      <td>...</td>\n      <td>207.420670</td>\n      <td>484.433533</td>\n      <td>268.479645</td>\n      <td>466.309998</td>\n      <td>80.709106</td>\n      <td>47.917137</td>\n      <td>158.426727</td>\n      <td>755.979980</td>\n      <td>35.481701</td>\n      <td>79.449646</td>\n    </tr>\n    <tr>\n      <th>2021-01-07</th>\n      <td>1787.250000</td>\n      <td>82.352692</td>\n      <td>1774.339966</td>\n      <td>217.286652</td>\n      <td>147.822922</td>\n      <td>259.986450</td>\n      <td>43.357246</td>\n      <td>9.06</td>\n      <td>32.394527</td>\n      <td>288.130981</td>\n      <td>...</td>\n      <td>208.384064</td>\n      <td>499.529297</td>\n      <td>267.708313</td>\n      <td>477.739990</td>\n      <td>80.748459</td>\n      <td>48.875290</td>\n      <td>156.419815</td>\n      <td>816.039978</td>\n      <td>35.664547</td>\n      <td>79.911911</td>\n    </tr>\n    <tr>\n      <th>2021-01-08</th>\n      <td>1807.209961</td>\n      <td>83.668327</td>\n      <td>1797.829956</td>\n      <td>218.610550</td>\n      <td>146.897308</td>\n      <td>260.934753</td>\n      <td>43.357246</td>\n      <td>9.00</td>\n      <td>32.069199</td>\n      <td>286.579926</td>\n      <td>...</td>\n      <td>212.208069</td>\n      <td>511.480133</td>\n      <td>267.391876</td>\n      <td>485.100006</td>\n      <td>80.502480</td>\n      <td>48.220222</td>\n      <td>155.819717</td>\n      <td>880.020020</td>\n      <td>35.731911</td>\n      <td>80.017830</td>\n    </tr>\n  </tbody>\n</table>\n<p>5 rows × 45 columns</p>\n</div>"
     },
     "metadata": {}
    }
   ],
   "execution_count": 4
  },
  {
   "cell_type": "markdown",
   "source": "# Vyhodnotenie akcii",
   "metadata": {
    "tags": [],
    "is_collapsed": false,
    "cell_id": "00006-2e592566-39e2-46b2-933d-82f73636a2d7",
    "deepnote_cell_type": "text-cell-h1"
   }
  },
  {
   "cell_type": "code",
   "source": "num_days = 252\nrates = sap100/sap100.shift(1) -1\nrates.head()",
   "metadata": {
    "tags": [],
    "cell_id": "00007-37c9833b-8121-47d8-8f89-1139432e0b9c",
    "deepnote_to_be_reexecuted": false,
    "source_hash": "35447d10",
    "execution_start": 1639691366414,
    "execution_millis": 337,
    "deepnote_cell_type": "code"
   },
   "outputs": [
    {
     "output_type": "execute_result",
     "execution_count": 5,
     "data": {
      "application/vnd.deepnote.dataframe.v3+json": {
       "column_count": 45,
       "row_count": 5,
       "columns": [
        {
         "name": "GOOG",
         "dtype": "float64",
         "stats": {
          "unique_count": 4,
          "nan_count": 1,
          "min": "-0.0032339250170579925",
          "max": "0.029943098714248162",
          "histogram": [
           {
            "bin_start": -0.0032339250170579925,
            "bin_end": 0.00008377735607262293,
            "count": 1
           },
           {
            "bin_start": 0.00008377735607262293,
            "bin_end": 0.0034014797292032384,
            "count": 0
           },
           {
            "bin_start": 0.0034014797292032384,
            "bin_end": 0.006719182102333854,
            "count": 0
           },
           {
            "bin_start": 0.006719182102333854,
            "bin_end": 0.01003688447546447,
            "count": 1
           },
           {
            "bin_start": 0.01003688447546447,
            "bin_end": 0.013354586848595085,
            "count": 1
           },
           {
            "bin_start": 0.013354586848595085,
            "bin_end": 0.0166722892217257,
            "count": 0
           },
           {
            "bin_start": 0.0166722892217257,
            "bin_end": 0.019989991594856316,
            "count": 0
           },
           {
            "bin_start": 0.019989991594856316,
            "bin_end": 0.02330769396798693,
            "count": 0
           },
           {
            "bin_start": 0.02330769396798693,
            "bin_end": 0.026625396341117546,
            "count": 0
           },
           {
            "bin_start": 0.026625396341117546,
            "bin_end": 0.029943098714248162,
            "count": 1
           }
          ]
         }
        },
        {
         "name": "SPG",
         "dtype": "float64",
         "stats": {
          "unique_count": 4,
          "nan_count": 1,
          "min": "0.0007052317590696688",
          "max": "0.02284476018606041",
          "histogram": [
           {
            "bin_start": 0.0007052317590696688,
            "bin_end": 0.002919184601768743,
            "count": 1
           },
           {
            "bin_start": 0.002919184601768743,
            "bin_end": 0.005133137444467817,
            "count": 1
           },
           {
            "bin_start": 0.005133137444467817,
            "bin_end": 0.0073470902871668915,
            "count": 0
           },
           {
            "bin_start": 0.0073470902871668915,
            "bin_end": 0.009561043129865965,
            "count": 0
           },
           {
            "bin_start": 0.009561043129865965,
            "bin_end": 0.011774995972565039,
            "count": 0
           },
           {
            "bin_start": 0.011774995972565039,
            "bin_end": 0.013988948815264114,
            "count": 0
           },
           {
            "bin_start": 0.013988948815264114,
            "bin_end": 0.01620290165796319,
            "count": 1
           },
           {
            "bin_start": 0.01620290165796319,
            "bin_end": 0.01841685450066226,
            "count": 0
           },
           {
            "bin_start": 0.01841685450066226,
            "bin_end": 0.020630807343361337,
            "count": 0
           },
           {
            "bin_start": 0.020630807343361337,
            "bin_end": 0.02284476018606041,
            "count": 1
           }
          ]
         }
        },
        {
         "name": "GOOGL",
         "dtype": "float64",
         "stats": {
          "unique_count": 4,
          "nan_count": 1,
          "min": "-0.009867557520472525",
          "max": "0.0298685693673717",
          "histogram": [
           {
            "bin_start": -0.009867557520472525,
            "bin_end": -0.005893944831688103,
            "count": 1
           },
           {
            "bin_start": -0.005893944831688103,
            "bin_end": -0.0019203321429036805,
            "count": 0
           },
           {
            "bin_start": -0.0019203321429036805,
            "bin_end": 0.002053280545880741,
            "count": 0
           },
           {
            "bin_start": 0.002053280545880741,
            "bin_end": 0.006026893234665164,
            "count": 0
           },
           {
            "bin_start": 0.006026893234665164,
            "bin_end": 0.010000505923449587,
            "count": 1
           },
           {
            "bin_start": 0.010000505923449587,
            "bin_end": 0.013974118612234007,
            "count": 1
           },
           {
            "bin_start": 0.013974118612234007,
            "bin_end": 0.01794773130101843,
            "count": 0
           },
           {
            "bin_start": 0.01794773130101843,
            "bin_end": 0.021921343989802854,
            "count": 0
           },
           {
            "bin_start": 0.021921343989802854,
            "bin_end": 0.025894956678587273,
            "count": 0
           },
           {
            "bin_start": 0.025894956678587273,
            "bin_end": 0.0298685693673717,
            "count": 1
           }
          ]
         }
        },
        {
         "name": "MSFT",
         "dtype": "float64",
         "stats": {
          "unique_count": 4,
          "nan_count": 1,
          "min": "-0.025929294384612667",
          "max": "0.028457007326261108",
          "histogram": [
           {
            "bin_start": -0.025929294384612667,
            "bin_end": -0.02049066421352529,
            "count": 1
           },
           {
            "bin_start": -0.02049066421352529,
            "bin_end": -0.015052034042437911,
            "count": 0
           },
           {
            "bin_start": -0.015052034042437911,
            "bin_end": -0.009613403871350533,
            "count": 0
           },
           {
            "bin_start": -0.009613403871350533,
            "bin_end": -0.004174773700263156,
            "count": 0
           },
           {
            "bin_start": -0.004174773700263156,
            "bin_end": 0.0012638564708242206,
            "count": 1
           },
           {
            "bin_start": 0.0012638564708242206,
            "bin_end": 0.006702486641911601,
            "count": 1
           },
           {
            "bin_start": 0.006702486641911601,
            "bin_end": 0.012141116812998974,
            "count": 0
           },
           {
            "bin_start": 0.012141116812998974,
            "bin_end": 0.017579746984086354,
            "count": 0
           },
           {
            "bin_start": 0.017579746984086354,
            "bin_end": 0.023018377155173735,
            "count": 0
           },
           {
            "bin_start": 0.023018377155173735,
            "bin_end": 0.028457007326261108,
            "count": 1
           }
          ]
         }
        },
        {
         "name": "GD",
         "dtype": "float64",
         "stats": {
          "unique_count": 4,
          "nan_count": 1,
          "min": "-0.006261636506328716",
          "max": "0.02554626813354277",
          "histogram": [
           {
            "bin_start": -0.006261636506328716,
            "bin_end": -0.0030808460423415673,
            "count": 1
           },
           {
            "bin_start": -0.0030808460423415673,
            "bin_end": 0.00009994442164558155,
            "count": 0
           },
           {
            "bin_start": 0.00009994442164558155,
            "bin_end": 0.0032807348856327308,
            "count": 1
           },
           {
            "bin_start": 0.0032807348856327308,
            "bin_end": 0.006461525349619879,
            "count": 0
           },
           {
            "bin_start": 0.006461525349619879,
            "bin_end": 0.009642315813607027,
            "count": 0
           },
           {
            "bin_start": 0.009642315813607027,
            "bin_end": 0.012823106277594178,
            "count": 0
           },
           {
            "bin_start": 0.012823106277594178,
            "bin_end": 0.016003896741581324,
            "count": 1
           },
           {
            "bin_start": 0.016003896741581324,
            "bin_end": 0.019184687205568474,
            "count": 0
           },
           {
            "bin_start": 0.019184687205568474,
            "bin_end": 0.022365477669555624,
            "count": 0
           },
           {
            "bin_start": 0.022365477669555624,
            "bin_end": 0.02554626813354277,
            "count": 1
           }
          ]
         }
        },
        {
         "name": "ACN",
         "dtype": "float64",
         "stats": {
          "unique_count": 4,
          "nan_count": 1,
          "min": "0.003647510175795121",
          "max": "0.010933440244896842",
          "histogram": [
           {
            "bin_start": 0.003647510175795121,
            "bin_end": 0.004376103182705293,
            "count": 1
           },
           {
            "bin_start": 0.004376103182705293,
            "bin_end": 0.005104696189615465,
            "count": 0
           },
           {
            "bin_start": 0.005104696189615465,
            "bin_end": 0.005833289196525637,
            "count": 1
           },
           {
            "bin_start": 0.005833289196525637,
            "bin_end": 0.00656188220343581,
            "count": 0
           },
           {
            "bin_start": 0.00656188220343581,
            "bin_end": 0.007290475210345981,
            "count": 0
           },
           {
            "bin_start": 0.007290475210345981,
            "bin_end": 0.008019068217256153,
            "count": 0
           },
           {
            "bin_start": 0.008019068217256153,
            "bin_end": 0.008747661224166325,
            "count": 0
           },
           {
            "bin_start": 0.008747661224166325,
            "bin_end": 0.009476254231076498,
            "count": 1
           },
           {
            "bin_start": 0.009476254231076498,
            "bin_end": 0.010204847237986668,
            "count": 0
           },
           {
            "bin_start": 0.010204847237986668,
            "bin_end": 0.010933440244896842,
            "count": 1
           }
          ]
         }
        },
        {
         "name": "COP",
         "dtype": "float64",
         "stats": {
          "unique_count": 4,
          "nan_count": 1,
          "min": "0.0",
          "max": "0.05736675016036474",
          "histogram": [
           {
            "bin_start": 0,
            "bin_end": 0.005736675016036474,
            "count": 1
           },
           {
            "bin_start": 0.005736675016036474,
            "bin_end": 0.011473350032072949,
            "count": 0
           },
           {
            "bin_start": 0.011473350032072949,
            "bin_end": 0.017210025048109423,
            "count": 0
           },
           {
            "bin_start": 0.017210025048109423,
            "bin_end": 0.022946700064145897,
            "count": 0
           },
           {
            "bin_start": 0.022946700064145897,
            "bin_end": 0.02868337508018237,
            "count": 1
           },
           {
            "bin_start": 0.02868337508018237,
            "bin_end": 0.034420050096218846,
            "count": 0
           },
           {
            "bin_start": 0.034420050096218846,
            "bin_end": 0.04015672511225532,
            "count": 1
           },
           {
            "bin_start": 0.04015672511225532,
            "bin_end": 0.045893400128291795,
            "count": 0
           },
           {
            "bin_start": 0.045893400128291795,
            "bin_end": 0.05163007514432827,
            "count": 0
           },
           {
            "bin_start": 0.05163007514432827,
            "bin_end": 0.05736675016036474,
            "count": 1
           }
          ]
         }
        },
        {
         "name": "F",
         "dtype": "float64",
         "stats": {
          "unique_count": 4,
          "nan_count": 1,
          "min": "-0.006622562564874368",
          "max": "0.024886907605358388",
          "histogram": [
           {
            "bin_start": -0.006622562564874368,
            "bin_end": -0.0034716155478510926,
            "count": 1
           },
           {
            "bin_start": -0.0034716155478510926,
            "bin_end": -0.0003206685308278171,
            "count": 0
           },
           {
            "bin_start": -0.0003206685308278171,
            "bin_end": 0.0028302784861954575,
            "count": 0
           },
           {
            "bin_start": 0.0028302784861954575,
            "bin_end": 0.005981225503218734,
            "count": 0
           },
           {
            "bin_start": 0.005981225503218734,
            "bin_end": 0.00913217252024201,
            "count": 0
           },
           {
            "bin_start": 0.00913217252024201,
            "bin_end": 0.012283119537265283,
            "count": 0
           },
           {
            "bin_start": 0.012283119537265283,
            "bin_end": 0.01543406655428856,
            "count": 1
           },
           {
            "bin_start": 0.01543406655428856,
            "bin_end": 0.018585013571311836,
            "count": 0
           },
           {
            "bin_start": 0.018585013571311836,
            "bin_end": 0.021735960588335112,
            "count": 0
           },
           {
            "bin_start": 0.021735960588335112,
            "bin_end": 0.024886907605358388,
            "count": 2
           }
          ]
         }
        },
        {
         "name": "BAC",
         "dtype": "float64",
         "stats": {
          "unique_count": 4,
          "nan_count": 1,
          "min": "-0.010042709453133125",
          "max": "0.06245877216185125",
          "histogram": [
           {
            "bin_start": -0.010042709453133125,
            "bin_end": -0.0027925612916346876,
            "count": 1
           },
           {
            "bin_start": -0.0027925612916346876,
            "bin_end": 0.00445758686986375,
            "count": 0
           },
           {
            "bin_start": 0.00445758686986375,
            "bin_end": 0.011707735031362188,
            "count": 1
           },
           {
            "bin_start": 0.011707735031362188,
            "bin_end": 0.018957883192860625,
            "count": 0
           },
           {
            "bin_start": 0.018957883192860625,
            "bin_end": 0.026208031354359063,
            "count": 1
           },
           {
            "bin_start": 0.026208031354359063,
            "bin_end": 0.0334581795158575,
            "count": 0
           },
           {
            "bin_start": 0.0334581795158575,
            "bin_end": 0.04070832767735594,
            "count": 0
           },
           {
            "bin_start": 0.04070832767735594,
            "bin_end": 0.047958475838854375,
            "count": 0
           },
           {
            "bin_start": 0.047958475838854375,
            "bin_end": 0.05520862400035281,
            "count": 0
           },
           {
            "bin_start": 0.05520862400035281,
            "bin_end": 0.06245877216185125,
            "count": 1
           }
          ]
         }
        },
        {
         "name": "GS",
         "dtype": "float64",
         "stats": {
          "unique_count": 4,
          "nan_count": 1,
          "min": "-0.0053831625478897305",
          "max": "0.05396219122386259",
          "histogram": [
           {
            "bin_start": -0.0053831625478897305,
            "bin_end": 0.000551372829285501,
            "count": 1
           },
           {
            "bin_start": 0.000551372829285501,
            "bin_end": 0.0064859082064607325,
            "count": 0
           },
           {
            "bin_start": 0.0064859082064607325,
            "bin_end": 0.012420443583635962,
            "count": 0
           },
           {
            "bin_start": 0.012420443583635962,
            "bin_end": 0.018354978960811195,
            "count": 0
           },
           {
            "bin_start": 0.018354978960811195,
            "bin_end": 0.02428951433798643,
            "count": 2
           },
           {
            "bin_start": 0.02428951433798643,
            "bin_end": 0.030224049715161655,
            "count": 0
           },
           {
            "bin_start": 0.030224049715161655,
            "bin_end": 0.03615858509233689,
            "count": 0
           },
           {
            "bin_start": 0.03615858509233689,
            "bin_end": 0.04209312046951212,
            "count": 0
           },
           {
            "bin_start": 0.04209312046951212,
            "bin_end": 0.048027655846687355,
            "count": 0
           },
           {
            "bin_start": 0.048027655846687355,
            "bin_end": 0.05396219122386259,
            "count": 1
           }
          ]
         }
        },
        {
         "name": "NVDA",
         "dtype": "float64",
         "stats": {
          "unique_count": 4,
          "nan_count": 1,
          "min": "-0.058953046585756064",
          "max": "0.05783025715925705",
          "histogram": [
           {
            "bin_start": -0.058953046585756064,
            "bin_end": -0.04727471621125475,
            "count": 1
           },
           {
            "bin_start": -0.04727471621125475,
            "bin_end": -0.03559638583675344,
            "count": 0
           },
           {
            "bin_start": -0.03559638583675344,
            "bin_end": -0.023918055462252133,
            "count": 0
           },
           {
            "bin_start": -0.023918055462252133,
            "bin_end": -0.01223972508775082,
            "count": 0
           },
           {
            "bin_start": -0.01223972508775082,
            "bin_end": -0.0005613947132495078,
            "count": 1
           },
           {
            "bin_start": -0.0005613947132495078,
            "bin_end": 0.011116935661251798,
            "count": 0
           },
           {
            "bin_start": 0.011116935661251798,
            "bin_end": 0.022795266035753117,
            "count": 1
           },
           {
            "bin_start": 0.022795266035753117,
            "bin_end": 0.03447359641025442,
            "count": 0
           },
           {
            "bin_start": 0.03447359641025442,
            "bin_end": 0.04615192678475573,
            "count": 0
           },
           {
            "bin_start": 0.04615192678475573,
            "bin_end": 0.05783025715925705,
            "count": 1
           }
          ]
         }
        },
        {
         "name": "AIG",
         "dtype": "float64",
         "stats": {
          "unique_count": 4,
          "nan_count": 1,
          "min": "-0.0066030849946158154",
          "max": "0.06516552483971672",
          "histogram": [
           {
            "bin_start": -0.0066030849946158154,
            "bin_end": 0.000573775988817438,
            "count": 1
           },
           {
            "bin_start": 0.000573775988817438,
            "bin_end": 0.007750636972250691,
            "count": 0
           },
           {
            "bin_start": 0.007750636972250691,
            "bin_end": 0.014927497955683947,
            "count": 0
           },
           {
            "bin_start": 0.014927497955683947,
            "bin_end": 0.022104358939117198,
            "count": 2
           },
           {
            "bin_start": 0.022104358939117198,
            "bin_end": 0.02928121992255045,
            "count": 0
           },
           {
            "bin_start": 0.02928121992255045,
            "bin_end": 0.03645808090598371,
            "count": 0
           },
           {
            "bin_start": 0.03645808090598371,
            "bin_end": 0.04363494188941696,
            "count": 0
           },
           {
            "bin_start": 0.04363494188941696,
            "bin_end": 0.05081180287285021,
            "count": 0
           },
           {
            "bin_start": 0.05081180287285021,
            "bin_end": 0.05798866385628347,
            "count": 0
           },
           {
            "bin_start": 0.05798866385628347,
            "bin_end": 0.06516552483971672,
            "count": 1
           }
          ]
         }
        },
        {
         "name": "MS",
         "dtype": "float64",
         "stats": {
          "unique_count": 4,
          "nan_count": 1,
          "min": "0.004136583881134026",
          "max": "0.06029643098905724",
          "histogram": [
           {
            "bin_start": 0.004136583881134026,
            "bin_end": 0.009752568591926348,
            "count": 1
           },
           {
            "bin_start": 0.009752568591926348,
            "bin_end": 0.015368553302718668,
            "count": 0
           },
           {
            "bin_start": 0.015368553302718668,
            "bin_end": 0.020984538013510988,
            "count": 2
           },
           {
            "bin_start": 0.020984538013510988,
            "bin_end": 0.02660052272430331,
            "count": 0
           },
           {
            "bin_start": 0.02660052272430331,
            "bin_end": 0.03221650743509563,
            "count": 0
           },
           {
            "bin_start": 0.03221650743509563,
            "bin_end": 0.03783249214588795,
            "count": 0
           },
           {
            "bin_start": 0.03783249214588795,
            "bin_end": 0.043448476856680275,
            "count": 0
           },
           {
            "bin_start": 0.043448476856680275,
            "bin_end": 0.04906446156747259,
            "count": 0
           },
           {
            "bin_start": 0.04906446156747259,
            "bin_end": 0.05468044627826491,
            "count": 0
           },
           {
            "bin_start": 0.05468044627826491,
            "bin_end": 0.06029643098905724,
            "count": 1
           }
          ]
         }
        },
        {
         "name": "WFC",
         "dtype": "float64",
         "stats": {
          "unique_count": 4,
          "nan_count": 1,
          "min": "-0.007179212311940186",
          "max": "0.0707500159264729",
          "histogram": [
           {
            "bin_start": -0.007179212311940186,
            "bin_end": 0.0006137105119011221,
            "count": 1
           },
           {
            "bin_start": 0.0006137105119011221,
            "bin_end": 0.00840663333574243,
            "count": 0
           },
           {
            "bin_start": 0.00840663333574243,
            "bin_end": 0.01619955615958374,
            "count": 0
           },
           {
            "bin_start": 0.01619955615958374,
            "bin_end": 0.023992478983425047,
            "count": 1
           },
           {
            "bin_start": 0.023992478983425047,
            "bin_end": 0.031785401807266356,
            "count": 1
           },
           {
            "bin_start": 0.031785401807266356,
            "bin_end": 0.039578324631107664,
            "count": 0
           },
           {
            "bin_start": 0.039578324631107664,
            "bin_end": 0.04737124745494897,
            "count": 0
           },
           {
            "bin_start": 0.04737124745494897,
            "bin_end": 0.05516417027879028,
            "count": 0
           },
           {
            "bin_start": 0.05516417027879028,
            "bin_end": 0.06295709310263159,
            "count": 0
           },
           {
            "bin_start": 0.06295709310263159,
            "bin_end": 0.0707500159264729,
            "count": 1
           }
          ]
         }
        },
        {
         "name": "ORCL",
         "dtype": "float64",
         "stats": {
          "unique_count": 4,
          "nan_count": 1,
          "min": "-0.012392209493183981",
          "max": "0.007991053858038999",
          "histogram": [
           {
            "bin_start": -0.012392209493183981,
            "bin_end": -0.010353883158061683,
            "count": 1
           },
           {
            "bin_start": -0.010353883158061683,
            "bin_end": -0.008315556822939385,
            "count": 0
           },
           {
            "bin_start": -0.008315556822939385,
            "bin_end": -0.006277230487817087,
            "count": 0
           },
           {
            "bin_start": -0.006277230487817087,
            "bin_end": -0.004238904152694789,
            "count": 0
           },
           {
            "bin_start": -0.004238904152694789,
            "bin_end": -0.002200577817572491,
            "count": 1
           },
           {
            "bin_start": -0.002200577817572491,
            "bin_end": -0.00016225148245019305,
            "count": 0
           },
           {
            "bin_start": -0.00016225148245019305,
            "bin_end": 0.001876074852672105,
            "count": 0
           },
           {
            "bin_start": 0.001876074852672105,
            "bin_end": 0.003914401187794403,
            "count": 0
           },
           {
            "bin_start": 0.003914401187794403,
            "bin_end": 0.005952727522916701,
            "count": 1
           },
           {
            "bin_start": 0.005952727522916701,
            "bin_end": 0.007991053858038999,
            "count": 1
           }
          ]
         }
        },
        {
         "name": "XOM",
         "dtype": "float64",
         "stats": {
          "unique_count": 4,
          "nan_count": 1,
          "min": "0.007845772622797176",
          "max": "0.048192827923620785",
          "histogram": [
           {
            "bin_start": 0.007845772622797176,
            "bin_end": 0.011880478152879537,
            "count": 2
           },
           {
            "bin_start": 0.011880478152879537,
            "bin_end": 0.015915183682961898,
            "count": 0
           },
           {
            "bin_start": 0.015915183682961898,
            "bin_end": 0.01994988921304426,
            "count": 0
           },
           {
            "bin_start": 0.01994988921304426,
            "bin_end": 0.02398459474312662,
            "count": 0
           },
           {
            "bin_start": 0.02398459474312662,
            "bin_end": 0.02801930027320898,
            "count": 1
           },
           {
            "bin_start": 0.02801930027320898,
            "bin_end": 0.03205400580329135,
            "count": 0
           },
           {
            "bin_start": 0.03205400580329135,
            "bin_end": 0.036088711333373706,
            "count": 0
           },
           {
            "bin_start": 0.036088711333373706,
            "bin_end": 0.040123416863456066,
            "count": 0
           },
           {
            "bin_start": 0.040123416863456066,
            "bin_end": 0.044158122393538425,
            "count": 0
           },
           {
            "bin_start": 0.044158122393538425,
            "bin_end": 0.048192827923620785,
            "count": 1
           }
          ]
         }
        },
        {
         "name": "TGT",
         "dtype": "float64",
         "stats": {
          "unique_count": 4,
          "nan_count": 1,
          "min": "0.011539379839116348",
          "max": "0.04740254795393728",
          "histogram": [
           {
            "bin_start": 0.011539379839116348,
            "bin_end": 0.01512569665059844,
            "count": 2
           },
           {
            "bin_start": 0.01512569665059844,
            "bin_end": 0.018712013462080533,
            "count": 1
           },
           {
            "bin_start": 0.018712013462080533,
            "bin_end": 0.02229833027356263,
            "count": 0
           },
           {
            "bin_start": 0.02229833027356263,
            "bin_end": 0.02588464708504472,
            "count": 0
           },
           {
            "bin_start": 0.02588464708504472,
            "bin_end": 0.029470963896526814,
            "count": 0
           },
           {
            "bin_start": 0.029470963896526814,
            "bin_end": 0.03305728070800891,
            "count": 0
           },
           {
            "bin_start": 0.03305728070800891,
            "bin_end": 0.036643597519491006,
            "count": 0
           },
           {
            "bin_start": 0.036643597519491006,
            "bin_end": 0.040229914330973095,
            "count": 0
           },
           {
            "bin_start": 0.040229914330973095,
            "bin_end": 0.04381623114245519,
            "count": 0
           },
           {
            "bin_start": 0.04381623114245519,
            "bin_end": 0.04740254795393728,
            "count": 1
           }
          ]
         }
        },
        {
         "name": "LOW",
         "dtype": "float64",
         "stats": {
          "unique_count": 4,
          "nan_count": 1,
          "min": "0.0033670381345778377",
          "max": "0.013360824298052743",
          "histogram": [
           {
            "bin_start": 0.0033670381345778377,
            "bin_end": 0.0043664167509253286,
            "count": 2
           },
           {
            "bin_start": 0.0043664167509253286,
            "bin_end": 0.0053657953672728185,
            "count": 0
           },
           {
            "bin_start": 0.0053657953672728185,
            "bin_end": 0.0063651739836203085,
            "count": 0
           },
           {
            "bin_start": 0.0063651739836203085,
            "bin_end": 0.007364552599967799,
            "count": 0
           },
           {
            "bin_start": 0.007364552599967799,
            "bin_end": 0.00836393121631529,
            "count": 1
           },
           {
            "bin_start": 0.00836393121631529,
            "bin_end": 0.00936330983266278,
            "count": 0
           },
           {
            "bin_start": 0.00936330983266278,
            "bin_end": 0.01036268844901027,
            "count": 0
           },
           {
            "bin_start": 0.01036268844901027,
            "bin_end": 0.011362067065357761,
            "count": 0
           },
           {
            "bin_start": 0.011362067065357761,
            "bin_end": 0.012361445681705252,
            "count": 0
           },
           {
            "bin_start": 0.012361445681705252,
            "bin_end": 0.013360824298052743,
            "count": 1
           }
          ]
         }
        },
        {
         "name": "EXC",
         "dtype": "float64",
         "stats": {
          "unique_count": 4,
          "nan_count": 1,
          "min": "-0.009894044951658465",
          "max": "0.03259544333665598",
          "histogram": [
           {
            "bin_start": -0.009894044951658465,
            "bin_end": -0.00564509612282702,
            "count": 1
           },
           {
            "bin_start": -0.00564509612282702,
            "bin_end": -0.0013961472939955748,
            "count": 1
           },
           {
            "bin_start": -0.0013961472939955748,
            "bin_end": 0.0028528015348358703,
            "count": 0
           },
           {
            "bin_start": 0.0028528015348358703,
            "bin_end": 0.0071017503636673154,
            "count": 1
           },
           {
            "bin_start": 0.0071017503636673154,
            "bin_end": 0.011350699192498759,
            "count": 0
           },
           {
            "bin_start": 0.011350699192498759,
            "bin_end": 0.015599648021330206,
            "count": 0
           },
           {
            "bin_start": 0.015599648021330206,
            "bin_end": 0.019848596850161652,
            "count": 0
           },
           {
            "bin_start": 0.019848596850161652,
            "bin_end": 0.024097545678993096,
            "count": 0
           },
           {
            "bin_start": 0.024097545678993096,
            "bin_end": 0.02834649450782454,
            "count": 0
           },
           {
            "bin_start": 0.02834649450782454,
            "bin_end": 0.03259544333665598,
            "count": 1
           }
          ]
         }
        },
        {
         "name": "COST",
         "dtype": "float64",
         "stats": {
          "unique_count": 4,
          "nan_count": 1,
          "min": "-0.015223253107724766",
          "max": "0.005490292022855003",
          "histogram": [
           {
            "bin_start": -0.015223253107724766,
            "bin_end": -0.013151898594666788,
            "count": 1
           },
           {
            "bin_start": -0.013151898594666788,
            "bin_end": -0.011080544081608811,
            "count": 1
           },
           {
            "bin_start": -0.011080544081608811,
            "bin_end": -0.009009189568550836,
            "count": 0
           },
           {
            "bin_start": -0.009009189568550836,
            "bin_end": -0.006937835055492858,
            "count": 0
           },
           {
            "bin_start": -0.006937835055492858,
            "bin_end": -0.004866480542434881,
            "count": 1
           },
           {
            "bin_start": -0.004866480542434881,
            "bin_end": -0.0027951260293769056,
            "count": 0
           },
           {
            "bin_start": -0.0027951260293769056,
            "bin_end": -0.0007237715163189284,
            "count": 0
           },
           {
            "bin_start": -0.0007237715163189284,
            "bin_end": 0.0013475829967390489,
            "count": 0
           },
           {
            "bin_start": 0.0013475829967390489,
            "bin_end": 0.0034189375097970244,
            "count": 0
           },
           {
            "bin_start": 0.0034189375097970244,
            "bin_end": 0.005490292022855003,
            "count": 1
           }
          ]
         }
        },
        {
         "name": "AXP",
         "dtype": "float64",
         "stats": {
          "unique_count": 4,
          "nan_count": 1,
          "min": "-0.007909883252170347",
          "max": "0.03699331307370457",
          "histogram": [
           {
            "bin_start": -0.007909883252170347,
            "bin_end": -0.003419563619582855,
            "count": 1
           },
           {
            "bin_start": -0.003419563619582855,
            "bin_end": 0.0010707560130046364,
            "count": 1
           },
           {
            "bin_start": 0.0010707560130046364,
            "bin_end": 0.005561075645592127,
            "count": 1
           },
           {
            "bin_start": 0.005561075645592127,
            "bin_end": 0.01005139527817962,
            "count": 0
           },
           {
            "bin_start": 0.01005139527817962,
            "bin_end": 0.014541714910767112,
            "count": 0
           },
           {
            "bin_start": 0.014541714910767112,
            "bin_end": 0.0190320345433546,
            "count": 0
           },
           {
            "bin_start": 0.0190320345433546,
            "bin_end": 0.023522354175942096,
            "count": 0
           },
           {
            "bin_start": 0.023522354175942096,
            "bin_end": 0.028012673808529585,
            "count": 0
           },
           {
            "bin_start": 0.028012673808529585,
            "bin_end": 0.032502993441117074,
            "count": 0
           },
           {
            "bin_start": 0.032502993441117074,
            "bin_end": 0.03699331307370457,
            "count": 1
           }
          ]
         }
        },
        {
         "name": "BK",
         "dtype": "float64",
         "stats": {
          "unique_count": 4,
          "nan_count": 1,
          "min": "-0.010600717720426478",
          "max": "0.06759952963767701",
          "histogram": [
           {
            "bin_start": -0.010600717720426478,
            "bin_end": -0.0027806929846161295,
            "count": 1
           },
           {
            "bin_start": -0.0027806929846161295,
            "bin_end": 0.005039331751194219,
            "count": 0
           },
           {
            "bin_start": 0.005039331751194219,
            "bin_end": 0.012859356487004567,
            "count": 2
           },
           {
            "bin_start": 0.012859356487004567,
            "bin_end": 0.020679381222814916,
            "count": 0
           },
           {
            "bin_start": 0.020679381222814916,
            "bin_end": 0.028499405958625268,
            "count": 0
           },
           {
            "bin_start": 0.028499405958625268,
            "bin_end": 0.03631943069443561,
            "count": 0
           },
           {
            "bin_start": 0.03631943069443561,
            "bin_end": 0.04413945543024596,
            "count": 0
           },
           {
            "bin_start": 0.04413945543024596,
            "bin_end": 0.05195948016605631,
            "count": 0
           },
           {
            "bin_start": 0.05195948016605631,
            "bin_end": 0.05977950490186666,
            "count": 0
           },
           {
            "bin_start": 0.05977950490186666,
            "bin_end": 0.06759952963767701,
            "count": 1
           }
          ]
         }
        },
        {
         "name": "JPM",
         "dtype": "float64",
         "stats": {
          "unique_count": 4,
          "nan_count": 1,
          "min": "0.001104151426481348",
          "max": "0.04695586613066194",
          "histogram": [
           {
            "bin_start": 0.001104151426481348,
            "bin_end": 0.005689322896899407,
            "count": 2
           },
           {
            "bin_start": 0.005689322896899407,
            "bin_end": 0.010274494367317467,
            "count": 0
           },
           {
            "bin_start": 0.010274494367317467,
            "bin_end": 0.014859665837735526,
            "count": 0
           },
           {
            "bin_start": 0.014859665837735526,
            "bin_end": 0.019444837308153586,
            "count": 0
           },
           {
            "bin_start": 0.019444837308153586,
            "bin_end": 0.024030008778571643,
            "count": 0
           },
           {
            "bin_start": 0.024030008778571643,
            "bin_end": 0.028615180248989704,
            "count": 0
           },
           {
            "bin_start": 0.028615180248989704,
            "bin_end": 0.033200351719407765,
            "count": 1
           },
           {
            "bin_start": 0.033200351719407765,
            "bin_end": 0.03778552318982582,
            "count": 0
           },
           {
            "bin_start": 0.03778552318982582,
            "bin_end": 0.04237069466024388,
            "count": 0
           },
           {
            "bin_start": 0.04237069466024388,
            "bin_end": 0.04695586613066194,
            "count": 1
           }
          ]
         }
        },
        {
         "name": "COF",
         "dtype": "float64",
         "stats": {
          "unique_count": 4,
          "nan_count": 1,
          "min": "-0.0015353860570667122",
          "max": "0.07229879647011339",
          "histogram": [
           {
            "bin_start": -0.0015353860570667122,
            "bin_end": 0.0058480321956512985,
            "count": 1
           },
           {
            "bin_start": 0.0058480321956512985,
            "bin_end": 0.01323145044836931,
            "count": 0
           },
           {
            "bin_start": 0.01323145044836931,
            "bin_end": 0.02061486870108732,
            "count": 0
           },
           {
            "bin_start": 0.02061486870108732,
            "bin_end": 0.02799828695380533,
            "count": 1
           },
           {
            "bin_start": 0.02799828695380533,
            "bin_end": 0.03538170520652334,
            "count": 1
           },
           {
            "bin_start": 0.03538170520652334,
            "bin_end": 0.042765123459241355,
            "count": 0
           },
           {
            "bin_start": 0.042765123459241355,
            "bin_end": 0.050148541711959364,
            "count": 0
           },
           {
            "bin_start": 0.050148541711959364,
            "bin_end": 0.05753195996467737,
            "count": 0
           },
           {
            "bin_start": 0.05753195996467737,
            "bin_end": 0.06491537821739539,
            "count": 0
           },
           {
            "bin_start": 0.06491537821739539,
            "bin_end": 0.07229879647011339,
            "count": 1
           }
          ]
         }
        },
        {
         "name": "CSCO",
         "dtype": "float64",
         "stats": {
          "unique_count": 4,
          "nan_count": 1,
          "min": "0.0004549133680020745",
          "max": "0.012612478219306",
          "histogram": [
           {
            "bin_start": 0.0004549133680020745,
            "bin_end": 0.001670669853132467,
            "count": 1
           },
           {
            "bin_start": 0.001670669853132467,
            "bin_end": 0.0028864263382628597,
            "count": 1
           },
           {
            "bin_start": 0.0028864263382628597,
            "bin_end": 0.004102182823393252,
            "count": 0
           },
           {
            "bin_start": 0.004102182823393252,
            "bin_end": 0.005317939308523645,
            "count": 0
           },
           {
            "bin_start": 0.005317939308523645,
            "bin_end": 0.006533695793654037,
            "count": 0
           },
           {
            "bin_start": 0.006533695793654037,
            "bin_end": 0.00774945227878443,
            "count": 0
           },
           {
            "bin_start": 0.00774945227878443,
            "bin_end": 0.008965208763914823,
            "count": 0
           },
           {
            "bin_start": 0.008965208763914823,
            "bin_end": 0.010180965249045215,
            "count": 1
           },
           {
            "bin_start": 0.010180965249045215,
            "bin_end": 0.011396721734175608,
            "count": 0
           },
           {
            "bin_start": 0.011396721734175608,
            "bin_end": 0.012612478219306,
            "count": 1
           }
          ]
         }
        },
        {
         "name": "DHR",
         "dtype": "float64",
         "stats": {
          "unique_count": 4,
          "nan_count": 1,
          "min": "0.014216177459334345",
          "max": "0.0331336468293546",
          "histogram": [
           {
            "bin_start": 0.014216177459334345,
            "bin_end": 0.01610792439633637,
            "count": 2
           },
           {
            "bin_start": 0.01610792439633637,
            "bin_end": 0.017999671333338397,
            "count": 0
           },
           {
            "bin_start": 0.017999671333338397,
            "bin_end": 0.01989141827034042,
            "count": 0
           },
           {
            "bin_start": 0.01989141827034042,
            "bin_end": 0.02178316520734245,
            "count": 0
           },
           {
            "bin_start": 0.02178316520734245,
            "bin_end": 0.023674912144344473,
            "count": 0
           },
           {
            "bin_start": 0.023674912144344473,
            "bin_end": 0.025566659081346498,
            "count": 1
           },
           {
            "bin_start": 0.025566659081346498,
            "bin_end": 0.027458406018348522,
            "count": 0
           },
           {
            "bin_start": 0.027458406018348522,
            "bin_end": 0.02935015295535055,
            "count": 0
           },
           {
            "bin_start": 0.02935015295535055,
            "bin_end": 0.031241899892352574,
            "count": 0
           },
           {
            "bin_start": 0.031241899892352574,
            "bin_end": 0.0331336468293546,
            "count": 1
           }
          ]
         }
        },
        {
         "name": "UNH",
         "dtype": "float64",
         "stats": {
          "unique_count": 4,
          "nan_count": 1,
          "min": "-0.013447823556647087",
          "max": "0.041966479419378366",
          "histogram": [
           {
            "bin_start": -0.013447823556647087,
            "bin_end": -0.007906393259044542,
            "count": 1
           },
           {
            "bin_start": -0.007906393259044542,
            "bin_end": -0.002364962961441997,
            "count": 1
           },
           {
            "bin_start": -0.002364962961441997,
            "bin_end": 0.003176467336160546,
            "count": 0
           },
           {
            "bin_start": 0.003176467336160546,
            "bin_end": 0.008717897633763093,
            "count": 0
           },
           {
            "bin_start": 0.008717897633763093,
            "bin_end": 0.01425932793136564,
            "count": 0
           },
           {
            "bin_start": 0.01425932793136564,
            "bin_end": 0.01980075822896818,
            "count": 1
           },
           {
            "bin_start": 0.01980075822896818,
            "bin_end": 0.025342188526570726,
            "count": 0
           },
           {
            "bin_start": 0.025342188526570726,
            "bin_end": 0.030883618824173273,
            "count": 0
           },
           {
            "bin_start": 0.030883618824173273,
            "bin_end": 0.03642504912177582,
            "count": 0
           },
           {
            "bin_start": 0.03642504912177582,
            "bin_end": 0.041966479419378366,
            "count": 1
           }
          ]
         }
        },
        {
         "name": "CVS",
         "dtype": "float64",
         "stats": {
          "unique_count": 4,
          "nan_count": 1,
          "min": "0.006715300369447119",
          "max": "0.02980416373421324",
          "histogram": [
           {
            "bin_start": 0.006715300369447119,
            "bin_end": 0.009024186705923731,
            "count": 1
           },
           {
            "bin_start": 0.009024186705923731,
            "bin_end": 0.011333073042400343,
            "count": 0
           },
           {
            "bin_start": 0.011333073042400343,
            "bin_end": 0.013641959378876956,
            "count": 1
           },
           {
            "bin_start": 0.013641959378876956,
            "bin_end": 0.015950845715353566,
            "count": 0
           },
           {
            "bin_start": 0.015950845715353566,
            "bin_end": 0.01825973205183018,
            "count": 0
           },
           {
            "bin_start": 0.01825973205183018,
            "bin_end": 0.020568618388306793,
            "count": 1
           },
           {
            "bin_start": 0.020568618388306793,
            "bin_end": 0.022877504724783403,
            "count": 0
           },
           {
            "bin_start": 0.022877504724783403,
            "bin_end": 0.025186391061260017,
            "count": 0
           },
           {
            "bin_start": 0.025186391061260017,
            "bin_end": 0.02749527739773663,
            "count": 0
           },
           {
            "bin_start": 0.02749527739773663,
            "bin_end": 0.02980416373421324,
            "count": 1
           }
          ]
         }
        },
        {
         "name": "LLY",
         "dtype": "float64",
         "stats": {
          "unique_count": 4,
          "nan_count": 1,
          "min": "-0.012024975677863536",
          "max": "0.009189436437484044",
          "histogram": [
           {
            "bin_start": -0.012024975677863536,
            "bin_end": -0.009903534466328778,
            "count": 1
           },
           {
            "bin_start": -0.009903534466328778,
            "bin_end": -0.00778209325479402,
            "count": 0
           },
           {
            "bin_start": -0.00778209325479402,
            "bin_end": -0.005660652043259263,
            "count": 0
           },
           {
            "bin_start": -0.005660652043259263,
            "bin_end": -0.0035392108317245045,
            "count": 0
           },
           {
            "bin_start": -0.0035392108317245045,
            "bin_end": -0.001417769620189746,
            "count": 0
           },
           {
            "bin_start": -0.001417769620189746,
            "bin_end": 0.0007036715913450106,
            "count": 0
           },
           {
            "bin_start": 0.0007036715913450106,
            "bin_end": 0.002825112802879769,
            "count": 0
           },
           {
            "bin_start": 0.002825112802879769,
            "bin_end": 0.0049465540144145274,
            "count": 1
           },
           {
            "bin_start": 0.0049465540144145274,
            "bin_end": 0.007067995225949284,
            "count": 1
           },
           {
            "bin_start": 0.007067995225949284,
            "bin_end": 0.009189436437484044,
            "count": 1
           }
          ]
         }
        },
        {
         "name": "CVX",
         "dtype": "float64",
         "stats": {
          "unique_count": 4,
          "nan_count": 1,
          "min": "0.004677050349556788",
          "max": "0.03218399550680395",
          "histogram": [
           {
            "bin_start": 0.004677050349556788,
            "bin_end": 0.0074277448652815044,
            "count": 1
           },
           {
            "bin_start": 0.0074277448652815044,
            "bin_end": 0.01017843938100622,
            "count": 1
           },
           {
            "bin_start": 0.01017843938100622,
            "bin_end": 0.012929133896730938,
            "count": 0
           },
           {
            "bin_start": 0.012929133896730938,
            "bin_end": 0.015679828412455653,
            "count": 0
           },
           {
            "bin_start": 0.015679828412455653,
            "bin_end": 0.01843052292818037,
            "count": 0
           },
           {
            "bin_start": 0.01843052292818037,
            "bin_end": 0.02118121744390509,
            "count": 0
           },
           {
            "bin_start": 0.02118121744390509,
            "bin_end": 0.023931911959629803,
            "count": 0
           },
           {
            "bin_start": 0.023931911959629803,
            "bin_end": 0.02668260647535452,
            "count": 0
           },
           {
            "bin_start": 0.02668260647535452,
            "bin_end": 0.02943330099107924,
            "count": 1
           },
           {
            "bin_start": 0.02943330099107924,
            "bin_end": 0.03218399550680395,
            "count": 1
           }
          ]
         }
        },
        {
         "name": "MET",
         "dtype": "float64",
         "stats": {
          "unique_count": 4,
          "nan_count": 1,
          "min": "-0.0034288859290475537",
          "max": "0.05959268381027494",
          "histogram": [
           {
            "bin_start": -0.0034288859290475537,
            "bin_end": 0.002873271044884695,
            "count": 1
           },
           {
            "bin_start": 0.002873271044884695,
            "bin_end": 0.009175428018816944,
            "count": 1
           },
           {
            "bin_start": 0.009175428018816944,
            "bin_end": 0.015477584992749191,
            "count": 1
           },
           {
            "bin_start": 0.015477584992749191,
            "bin_end": 0.02177974196668144,
            "count": 0
           },
           {
            "bin_start": 0.02177974196668144,
            "bin_end": 0.028081898940613692,
            "count": 0
           },
           {
            "bin_start": 0.028081898940613692,
            "bin_end": 0.034384055914545936,
            "count": 0
           },
           {
            "bin_start": 0.034384055914545936,
            "bin_end": 0.040686212888478186,
            "count": 0
           },
           {
            "bin_start": 0.040686212888478186,
            "bin_end": 0.04698836986241044,
            "count": 0
           },
           {
            "bin_start": 0.04698836986241044,
            "bin_end": 0.05329052683634269,
            "count": 0
           },
           {
            "bin_start": 0.05329052683634269,
            "bin_end": 0.05959268381027494,
            "count": 1
           }
          ]
         }
        },
        {
         "name": "AMT",
         "dtype": "float64",
         "stats": {
          "unique_count": 4,
          "nan_count": 1,
          "min": "-0.026369457502241178",
          "max": "0.021609164243572287",
          "histogram": [
           {
            "bin_start": -0.026369457502241178,
            "bin_end": -0.021571595327659832,
            "count": 1
           },
           {
            "bin_start": -0.021571595327659832,
            "bin_end": -0.016773733153078486,
            "count": 0
           },
           {
            "bin_start": -0.016773733153078486,
            "bin_end": -0.011975870978497137,
            "count": 0
           },
           {
            "bin_start": -0.011975870978497137,
            "bin_end": -0.007178008803915791,
            "count": 0
           },
           {
            "bin_start": -0.007178008803915791,
            "bin_end": -0.0023801466293344453,
            "count": 0
           },
           {
            "bin_start": -0.0023801466293344453,
            "bin_end": 0.002417715545246904,
            "count": 0
           },
           {
            "bin_start": 0.002417715545246904,
            "bin_end": 0.007215577719828246,
            "count": 1
           },
           {
            "bin_start": 0.007215577719828246,
            "bin_end": 0.012013439894409596,
            "count": 0
           },
           {
            "bin_start": 0.012013439894409596,
            "bin_end": 0.016811302068990945,
            "count": 1
           },
           {
            "bin_start": 0.016811302068990945,
            "bin_end": 0.021609164243572287,
            "count": 1
           }
          ]
         }
        },
        {
         "name": "CRM",
         "dtype": "float64",
         "stats": {
          "unique_count": 4,
          "nan_count": 1,
          "min": "-0.02424164983931476",
          "max": "0.018625551143089725",
          "histogram": [
           {
            "bin_start": -0.02424164983931476,
            "bin_end": -0.019954929741074313,
            "count": 1
           },
           {
            "bin_start": -0.019954929741074313,
            "bin_end": -0.015668209642833865,
            "count": 0
           },
           {
            "bin_start": -0.015668209642833865,
            "bin_end": -0.011381489544593414,
            "count": 0
           },
           {
            "bin_start": -0.011381489544593414,
            "bin_end": -0.007094769446352966,
            "count": 0
           },
           {
            "bin_start": -0.007094769446352966,
            "bin_end": -0.002808049348112518,
            "count": 0
           },
           {
            "bin_start": -0.002808049348112518,
            "bin_end": 0.0014786707501279334,
            "count": 0
           },
           {
            "bin_start": 0.0014786707501279334,
            "bin_end": 0.005765390848368381,
            "count": 1
           },
           {
            "bin_start": 0.005765390848368381,
            "bin_end": 0.010052110946608829,
            "count": 1
           },
           {
            "bin_start": 0.010052110946608829,
            "bin_end": 0.01433883104484928,
            "count": 0
           },
           {
            "bin_start": 0.01433883104484928,
            "bin_end": 0.018625551143089725,
            "count": 1
           }
          ]
         }
        },
        {
         "name": "BLK",
         "dtype": "float64",
         "stats": {
          "unique_count": 4,
          "nan_count": 1,
          "min": "0.005289724223489056",
          "max": "0.028520256786348952",
          "histogram": [
           {
            "bin_start": 0.005289724223489056,
            "bin_end": 0.0076127774797750455,
            "count": 1
           },
           {
            "bin_start": 0.0076127774797750455,
            "bin_end": 0.009935830736061035,
            "count": 1
           },
           {
            "bin_start": 0.009935830736061035,
            "bin_end": 0.012258883992347026,
            "count": 0
           },
           {
            "bin_start": 0.012258883992347026,
            "bin_end": 0.014581937248633015,
            "count": 0
           },
           {
            "bin_start": 0.014581937248633015,
            "bin_end": 0.016904990504919004,
            "count": 0
           },
           {
            "bin_start": 0.016904990504919004,
            "bin_end": 0.019228043761204995,
            "count": 0
           },
           {
            "bin_start": 0.019228043761204995,
            "bin_end": 0.021551097017490983,
            "count": 1
           },
           {
            "bin_start": 0.021551097017490983,
            "bin_end": 0.023874150273776974,
            "count": 0
           },
           {
            "bin_start": 0.023874150273776974,
            "bin_end": 0.026197203530062965,
            "count": 0
           },
           {
            "bin_start": 0.026197203530062965,
            "bin_end": 0.028520256786348952,
            "count": 1
           }
          ]
         }
        },
        {
         "name": "RTX",
         "dtype": "float64",
         "stats": {
          "unique_count": 4,
          "nan_count": 1,
          "min": "-0.007114391711715462",
          "max": "0.01446734411255357",
          "histogram": [
           {
            "bin_start": -0.007114391711715462,
            "bin_end": -0.004956218129288559,
            "count": 1
           },
           {
            "bin_start": -0.004956218129288559,
            "bin_end": -0.0027980445468616553,
            "count": 0
           },
           {
            "bin_start": -0.0027980445468616553,
            "bin_end": -0.0006398709644347515,
            "count": 0
           },
           {
            "bin_start": -0.0006398709644347515,
            "bin_end": 0.0015183026179921514,
            "count": 1
           },
           {
            "bin_start": 0.0015183026179921514,
            "bin_end": 0.0036764762004190543,
            "count": 0
           },
           {
            "bin_start": 0.0036764762004190543,
            "bin_end": 0.005834649782845959,
            "count": 0
           },
           {
            "bin_start": 0.005834649782845959,
            "bin_end": 0.007992823365272862,
            "count": 0
           },
           {
            "bin_start": 0.007992823365272862,
            "bin_end": 0.010150996947699765,
            "count": 0
           },
           {
            "bin_start": 0.010150996947699765,
            "bin_end": 0.01230917053012667,
            "count": 0
           },
           {
            "bin_start": 0.01230917053012667,
            "bin_end": 0.01446734411255357,
            "count": 2
           }
          ]
         }
        },
        {
         "name": "MCD",
         "dtype": "float64",
         "stats": {
          "unique_count": 4,
          "nan_count": 1,
          "min": "-0.0022698170626532788",
          "max": "0.018350756092742504",
          "histogram": [
           {
            "bin_start": -0.0022698170626532788,
            "bin_end": -0.0002077597471137004,
            "count": 1
           },
           {
            "bin_start": -0.0002077597471137004,
            "bin_end": 0.001854297568425878,
            "count": 0
           },
           {
            "bin_start": 0.001854297568425878,
            "bin_end": 0.003916354883965457,
            "count": 0
           },
           {
            "bin_start": 0.003916354883965457,
            "bin_end": 0.005978412199505035,
            "count": 1
           },
           {
            "bin_start": 0.005978412199505035,
            "bin_end": 0.008040469515044613,
            "count": 1
           },
           {
            "bin_start": 0.008040469515044613,
            "bin_end": 0.010102526830584192,
            "count": 0
           },
           {
            "bin_start": 0.010102526830584192,
            "bin_end": 0.01216458414612377,
            "count": 0
           },
           {
            "bin_start": 0.01216458414612377,
            "bin_end": 0.014226641461663348,
            "count": 0
           },
           {
            "bin_start": 0.014226641461663348,
            "bin_end": 0.016288698777202928,
            "count": 0
           },
           {
            "bin_start": 0.016288698777202928,
            "bin_end": 0.018350756092742504,
            "count": 1
           }
          ]
         }
        },
        {
         "name": "TMO",
         "dtype": "float64",
         "stats": {
          "unique_count": 4,
          "nan_count": 1,
          "min": "0.012504781075957094",
          "max": "0.031161682956910797",
          "histogram": [
           {
            "bin_start": 0.012504781075957094,
            "bin_end": 0.014370471264052465,
            "count": 1
           },
           {
            "bin_start": 0.014370471264052465,
            "bin_end": 0.016236161452147835,
            "count": 1
           },
           {
            "bin_start": 0.016236161452147835,
            "bin_end": 0.018101851640243204,
            "count": 0
           },
           {
            "bin_start": 0.018101851640243204,
            "bin_end": 0.019967541828338577,
            "count": 0
           },
           {
            "bin_start": 0.019967541828338577,
            "bin_end": 0.021833232016433946,
            "count": 0
           },
           {
            "bin_start": 0.021833232016433946,
            "bin_end": 0.023698922204529314,
            "count": 0
           },
           {
            "bin_start": 0.023698922204529314,
            "bin_end": 0.025564612392624683,
            "count": 1
           },
           {
            "bin_start": 0.025564612392624683,
            "bin_end": 0.027430302580720056,
            "count": 0
           },
           {
            "bin_start": 0.027430302580720056,
            "bin_end": 0.029295992768815424,
            "count": 0
           },
           {
            "bin_start": 0.029295992768815424,
            "bin_end": 0.031161682956910797,
            "count": 1
           }
          ]
         }
        },
        {
         "name": "LIN",
         "dtype": "float64",
         "stats": {
          "unique_count": 4,
          "nan_count": 1,
          "min": "-0.0028729618878730045",
          "max": "0.03282980546848391",
          "histogram": [
           {
            "bin_start": -0.0028729618878730045,
            "bin_end": 0.0006973148477626865,
            "count": 2
           },
           {
            "bin_start": 0.0006973148477626865,
            "bin_end": 0.004267591583398378,
            "count": 0
           },
           {
            "bin_start": 0.004267591583398378,
            "bin_end": 0.007837868319034068,
            "count": 0
           },
           {
            "bin_start": 0.007837868319034068,
            "bin_end": 0.01140814505466976,
            "count": 0
           },
           {
            "bin_start": 0.01140814505466976,
            "bin_end": 0.014978421790305452,
            "count": 0
           },
           {
            "bin_start": 0.014978421790305452,
            "bin_end": 0.01854869852594114,
            "count": 1
           },
           {
            "bin_start": 0.01854869852594114,
            "bin_end": 0.022118975261576832,
            "count": 0
           },
           {
            "bin_start": 0.022118975261576832,
            "bin_end": 0.025689251997212524,
            "count": 0
           },
           {
            "bin_start": 0.025689251997212524,
            "bin_end": 0.029259528732848213,
            "count": 0
           },
           {
            "bin_start": 0.029259528732848213,
            "bin_end": 0.03282980546848391,
            "count": 1
           }
          ]
         }
        },
        {
         "name": "ADBE",
         "dtype": "float64",
         "stats": {
          "unique_count": 4,
          "nan_count": 1,
          "min": "-0.0399020049525326",
          "max": "0.02451157542326765",
          "histogram": [
           {
            "bin_start": -0.0399020049525326,
            "bin_end": -0.033460646914952576,
            "count": 1
           },
           {
            "bin_start": -0.033460646914952576,
            "bin_end": -0.02701928887737255,
            "count": 0
           },
           {
            "bin_start": -0.02701928887737255,
            "bin_end": -0.02057793083979252,
            "count": 0
           },
           {
            "bin_start": -0.02057793083979252,
            "bin_end": -0.014136572802212498,
            "count": 0
           },
           {
            "bin_start": -0.014136572802212498,
            "bin_end": -0.007695214764632474,
            "count": 0
           },
           {
            "bin_start": -0.007695214764632474,
            "bin_end": -0.0012538567270524437,
            "count": 0
           },
           {
            "bin_start": -0.0012538567270524437,
            "bin_end": 0.00518750131052758,
            "count": 1
           },
           {
            "bin_start": 0.00518750131052758,
            "bin_end": 0.011628859348107604,
            "count": 0
           },
           {
            "bin_start": 0.011628859348107604,
            "bin_end": 0.018070217385687627,
            "count": 1
           },
           {
            "bin_start": 0.018070217385687627,
            "bin_end": 0.02451157542326765,
            "count": 1
           }
          ]
         }
        },
        {
         "name": "EMR",
         "dtype": "float64",
         "stats": {
          "unique_count": 4,
          "nan_count": 1,
          "min": "-0.0030462415326276693",
          "max": "0.033644259308041935",
          "histogram": [
           {
            "bin_start": -0.0030462415326276693,
            "bin_end": 0.0006228085514392912,
            "count": 2
           },
           {
            "bin_start": 0.0006228085514392912,
            "bin_end": 0.004291858635506252,
            "count": 0
           },
           {
            "bin_start": 0.004291858635506252,
            "bin_end": 0.007960908719573213,
            "count": 0
           },
           {
            "bin_start": 0.007960908719573213,
            "bin_end": 0.011629958803640173,
            "count": 0
           },
           {
            "bin_start": 0.011629958803640173,
            "bin_end": 0.015299008887707133,
            "count": 0
           },
           {
            "bin_start": 0.015299008887707133,
            "bin_end": 0.018968058971774095,
            "count": 1
           },
           {
            "bin_start": 0.018968058971774095,
            "bin_end": 0.022637109055841053,
            "count": 0
           },
           {
            "bin_start": 0.022637109055841053,
            "bin_end": 0.026306159139908015,
            "count": 0
           },
           {
            "bin_start": 0.026306159139908015,
            "bin_end": 0.029975209223974973,
            "count": 0
           },
           {
            "bin_start": 0.029975209223974973,
            "bin_end": 0.033644259308041935,
            "count": 1
           }
          ]
         }
        },
        {
         "name": "USB",
         "dtype": "float64",
         "stats": {
          "unique_count": 4,
          "nan_count": 1,
          "min": "-0.013402834949116316",
          "max": "0.05921764287036968",
          "histogram": [
           {
            "bin_start": -0.013402834949116316,
            "bin_end": -0.006140787167167716,
            "count": 1
           },
           {
            "bin_start": -0.006140787167167716,
            "bin_end": 0.0011212606147808831,
            "count": 0
           },
           {
            "bin_start": 0.0011212606147808831,
            "bin_end": 0.008383308396729482,
            "count": 1
           },
           {
            "bin_start": 0.008383308396729482,
            "bin_end": 0.015645356178678082,
            "count": 0
           },
           {
            "bin_start": 0.015645356178678082,
            "bin_end": 0.022907403960626682,
            "count": 1
           },
           {
            "bin_start": 0.022907403960626682,
            "bin_end": 0.03016945174257528,
            "count": 0
           },
           {
            "bin_start": 0.03016945174257528,
            "bin_end": 0.03743149952452388,
            "count": 0
           },
           {
            "bin_start": 0.03743149952452388,
            "bin_end": 0.04469354730647248,
            "count": 0
           },
           {
            "bin_start": 0.04469354730647248,
            "bin_end": 0.05195559508842108,
            "count": 0
           },
           {
            "bin_start": 0.05195559508842108,
            "bin_end": 0.05921764287036968,
            "count": 1
           }
          ]
         }
        },
        {
         "name": "UPS",
         "dtype": "float64",
         "stats": {
          "unique_count": 4,
          "nan_count": 1,
          "min": "-0.013919475590352448",
          "max": "-0.0029717866086861333",
          "histogram": [
           {
            "bin_start": -0.013919475590352448,
            "bin_end": -0.012824706692185817,
            "count": 1
           },
           {
            "bin_start": -0.012824706692185817,
            "bin_end": -0.011729937794019185,
            "count": 1
           },
           {
            "bin_start": -0.011729937794019185,
            "bin_end": -0.010635168895852554,
            "count": 0
           },
           {
            "bin_start": -0.010635168895852554,
            "bin_end": -0.009540399997685921,
            "count": 0
           },
           {
            "bin_start": -0.009540399997685921,
            "bin_end": -0.00844563109951929,
            "count": 0
           },
           {
            "bin_start": -0.00844563109951929,
            "bin_end": -0.00735086220135266,
            "count": 0
           },
           {
            "bin_start": -0.00735086220135266,
            "bin_end": -0.006256093303186028,
            "count": 0
           },
           {
            "bin_start": -0.006256093303186028,
            "bin_end": -0.005161324405019397,
            "count": 0
           },
           {
            "bin_start": -0.005161324405019397,
            "bin_end": -0.004066555506852766,
            "count": 0
           },
           {
            "bin_start": -0.004066555506852766,
            "bin_end": -0.0029717866086861333,
            "count": 2
           }
          ]
         }
        },
        {
         "name": "TSLA",
         "dtype": "float64",
         "stats": {
          "unique_count": 4,
          "nan_count": 1,
          "min": "0.0073173269350561565",
          "max": "0.07944654502802195",
          "histogram": [
           {
            "bin_start": 0.0073173269350561565,
            "bin_end": 0.014530248744352737,
            "count": 1
           },
           {
            "bin_start": 0.014530248744352737,
            "bin_end": 0.021743170553649317,
            "count": 0
           },
           {
            "bin_start": 0.021743170553649317,
            "bin_end": 0.0289560923629459,
            "count": 1
           },
           {
            "bin_start": 0.0289560923629459,
            "bin_end": 0.03616901417224248,
            "count": 0
           },
           {
            "bin_start": 0.03616901417224248,
            "bin_end": 0.043381935981539055,
            "count": 0
           },
           {
            "bin_start": 0.043381935981539055,
            "bin_end": 0.05059485779083564,
            "count": 0
           },
           {
            "bin_start": 0.05059485779083564,
            "bin_end": 0.05780777960013222,
            "count": 0
           },
           {
            "bin_start": 0.05780777960013222,
            "bin_end": 0.0650207014094288,
            "count": 0
           },
           {
            "bin_start": 0.0650207014094288,
            "bin_end": 0.07223362321872538,
            "count": 0
           },
           {
            "bin_start": 0.07223362321872538,
            "bin_end": 0.07944654502802195,
            "count": 2
           }
          ]
         }
        },
        {
         "name": "PFE",
         "dtype": "float64",
         "stats": {
          "unique_count": 4,
          "nan_count": 1,
          "min": "-0.00860452249046395",
          "max": "0.010323189944627442",
          "histogram": [
           {
            "bin_start": -0.00860452249046395,
            "bin_end": -0.006711751246954811,
            "count": 1
           },
           {
            "bin_start": -0.006711751246954811,
            "bin_end": -0.004818980003445672,
            "count": 0
           },
           {
            "bin_start": -0.004818980003445672,
            "bin_end": -0.0029262087599365334,
            "count": 0
           },
           {
            "bin_start": -0.0029262087599365334,
            "bin_end": -0.0010334375164273938,
            "count": 0
           },
           {
            "bin_start": -0.0010334375164273938,
            "bin_end": 0.0008593337270817458,
            "count": 0
           },
           {
            "bin_start": 0.0008593337270817458,
            "bin_end": 0.0027521049705908837,
            "count": 1
           },
           {
            "bin_start": 0.0027521049705908837,
            "bin_end": 0.004644876214100023,
            "count": 0
           },
           {
            "bin_start": 0.004644876214100023,
            "bin_end": 0.006537647457609163,
            "count": 1
           },
           {
            "bin_start": 0.006537647457609163,
            "bin_end": 0.0084304187011183,
            "count": 0
           },
           {
            "bin_start": 0.0084304187011183,
            "bin_end": 0.010323189944627442,
            "count": 1
           }
          ]
         }
        },
        {
         "name": "PM",
         "dtype": "float64",
         "stats": {
          "unique_count": 4,
          "nan_count": 1,
          "min": "0.0013254455179165792",
          "max": "0.010920254081741465",
          "histogram": [
           {
            "bin_start": 0.0013254455179165792,
            "bin_end": 0.002284926374299068,
            "count": 2
           },
           {
            "bin_start": 0.002284926374299068,
            "bin_end": 0.0032444072306815563,
            "count": 0
           },
           {
            "bin_start": 0.0032444072306815563,
            "bin_end": 0.004203888087064045,
            "count": 0
           },
           {
            "bin_start": 0.004203888087064045,
            "bin_end": 0.005163368943446533,
            "count": 0
           },
           {
            "bin_start": 0.005163368943446533,
            "bin_end": 0.006122849799829022,
            "count": 1
           },
           {
            "bin_start": 0.006122849799829022,
            "bin_end": 0.00708233065621151,
            "count": 0
           },
           {
            "bin_start": 0.00708233065621151,
            "bin_end": 0.008041811512593998,
            "count": 0
           },
           {
            "bin_start": 0.008041811512593998,
            "bin_end": 0.009001292368976488,
            "count": 0
           },
           {
            "bin_start": 0.009001292368976488,
            "bin_end": 0.009960773225358975,
            "count": 0
           },
           {
            "bin_start": 0.009960773225358975,
            "bin_end": 0.010920254081741465,
            "count": 1
           }
          ]
         }
        },
        {
         "name": "_deepnote_index_column",
         "dtype": "object"
        }
       ],
       "rows": [
        {
         "GOOG": "nan",
         "SPG": "nan",
         "GOOGL": "nan",
         "MSFT": "nan",
         "GD": "nan",
         "ACN": "nan",
         "COP": "nan",
         "F": "nan",
         "BAC": "nan",
         "GS": "nan",
         "NVDA": "nan",
         "AIG": "nan",
         "MS": "nan",
         "WFC": "nan",
         "ORCL": "nan",
         "XOM": "nan",
         "TGT": "nan",
         "LOW": "nan",
         "EXC": "nan",
         "COST": "nan",
         "AXP": "nan",
         "BK": "nan",
         "JPM": "nan",
         "COF": "nan",
         "CSCO": "nan",
         "DHR": "nan",
         "UNH": "nan",
         "CVS": "nan",
         "LLY": "nan",
         "CVX": "nan",
         "MET": "nan",
         "AMT": "nan",
         "CRM": "nan",
         "BLK": "nan",
         "RTX": "nan",
         "MCD": "nan",
         "TMO": "nan",
         "LIN": "nan",
         "ADBE": "nan",
         "EMR": "nan",
         "USB": "nan",
         "UPS": "nan",
         "TSLA": "nan",
         "PFE": "nan",
         "PM": "nan",
         "_deepnote_index_column": "2021-01-04"
        },
        {
         "GOOG": 0.007336975062831375,
         "SPG": 0.00434734741045828,
         "GOOGL": 0.008064307964021245,
         "MSFT": 0.0009645828119482225,
         "GD": 0.00047968306148971074,
         "ACN": 0.00569293701761886,
         "COP": 0.05736675016036474,
         "F": 0.015258116641078567,
         "BAC": 0.007658937267288168,
         "GS": 0.022377279849525866,
         "NVDA": 0.02220993278713901,
         "AIG": 0.016698190362929077,
         "MS": 0.016976461180467695,
         "WFC": 0.027946082576433717,
         "ORCL": -0.012392209493183981,
         "XOM": 0.048192827923620785,
         "TGT": 0.015425282915315197,
         "LOW": 0.0033670381345778377,
         "EXC": -0.001457204425476144,
         "COST": -0.011600719148483374,
         "AXP": 0.0053371204004746264,
         "BK": 0.011273739437300812,
         "JPM": 0.00544132371327799,
         "COF": 0.02350778761257044,
         "CSCO": 0.0004549133680020745,
         "DHR": 0.024817515147229408,
         "UNH": -0.013447823556647087,
         "CVS": 0.006715300369447119,
         "LLY": 0.0049546733543732735,
         "CVX": 0.02703336840931514,
         "MET": 0.012369696785793582,
         "AMT": 0.00505460831297988,
         "CRM": 0.005492291440588826,
         "BLK": 0.005289724223489056,
         "RTX": 0.01446734411255357,
         "MCD": 0.005993751435676042,
         "TMO": 0.012504781075957094,
         "LIN": 0.015687294375461125,
         "ADBE": 0.0007211565215243798,
         "EMR": 0.017305485991540248,
         "USB": 0.0032523191935900364,
         "UPS": -0.013919475590352448,
         "TSLA": 0.0073173269350561565,
         "PFE": 0.010323189944627442,
         "PM": 0.010920254081741465,
         "_deepnote_index_column": "2021-01-05"
        },
        {
         "GOOG": -0.0032339250170579925,
         "SPG": 0.02284476018606041,
         "GOOGL": -0.009867557520472525,
         "MSFT": -0.025929294384612667,
         "GD": 0.02554626813354277,
         "ACN": 0.010933440244896842,
         "COP": 0.039913973885735254,
         "F": 0.021965380628525377,
         "BAC": 0.06245877216185125,
         "GS": 0.05396219122386259,
         "NVDA": -0.058953046585756064,
         "AIG": 0.06516552483971672,
         "MS": 0.06029643098905724,
         "WFC": 0.0707500159264729,
         "ORCL": -0.002391515264120403,
         "XOM": 0.025517175942557202,
         "TGT": 0.04740254795393728,
         "LOW": 0.013360824298052743,
         "EXC": 0.03259544333665598,
         "COST": -0.015223253107724766,
         "AXP": 0.03699331307370457,
         "BK": 0.06759952963767701,
         "JPM": 0.04695586613066194,
         "COF": 0.07229879647011339,
         "CSCO": 0.009549892450341213,
         "DHR": 0.0331336468293546,
         "UNH": 0.041966479419378366,
         "CVS": 0.02980416373421324,
         "LLY": -0.012024975677863536,
         "CVX": 0.03218399550680395,
         "MET": 0.05959268381027494,
         "AMT": -0.026369457502241178,
         "CRM": -0.02424164983931476,
         "BLK": 0.028520256786348952,
         "RTX": 0.012388405809427905,
         "MCD": -0.0022698170626532788,
         "TMO": 0.015678668679863117,
         "LIN": 0.03282980546848391,
         "ADBE": -0.0399020049525326,
         "EMR": 0.033644259308041935,
         "USB": 0.05921764287036968,
         "UPS": -0.0029717866086861333,
         "TSLA": 0.028390302856798444,
         "PFE": -0.00860452249046395,
         "PM": 0.0013351296604655616,
         "_deepnote_index_column": "2021-01-06"
        },
        {
         "GOOG": 0.029943098714248162,
         "SPG": 0.0007052317590696688,
         "GOOGL": 0.0298685693673717,
         "MSFT": 0.028457007326261108,
         "GD": 0.013223000987104827,
         "ACN": 0.009434915764462648,
         "COP": 0.02735016622586839,
         "F": 0.024886907605358388,
         "BAC": 0.022084011099416267,
         "GS": 0.02136239260874251,
         "NVDA": 0.05783025715925705,
         "AIG": 0.0169111816919707,
         "MS": 0.017101126642629527,
         "WFC": 0.022636944590294306,
         "ORCL": 0.007991053858038999,
         "XOM": 0.007845772622797176,
         "TGT": 0.011539379839116348,
         "LOW": 0.003924534361956278,
         "EXC": -0.009894044951658465,
         "COST": -0.005675271519190672,
         "AXP": -0.007909883252170347,
         "BK": 0.005998689647194411,
         "JPM": 0.03283910810905244,
         "COF": 0.03119763030727385,
         "CSCO": 0.012612478219306,
         "DHR": 0.014216177459334345,
         "UNH": 0.016032446616107476,
         "CVS": 0.01970781231402441,
         "LLY": 0.009189436437484044,
         "CVX": 0.004677050349556788,
         "MET": 0.0030346595346908423,
         "AMT": 0.012145778742055802,
         "CRM": 0.008466351527777638,
         "BLK": 0.02103510194282876,
         "RTX": -0.007114391711715462,
         "MCD": 0.0046446391630246,
         "TMO": 0.031161682956910797,
         "LIN": -0.0028729618878730045,
         "ADBE": 0.02451157542326765,
         "EMR": 0.0004875833561464038,
         "USB": 0.0199960354074733,
         "UPS": -0.012667762982374264,
         "TSLA": 0.07944654502802195,
         "PFE": 0.005153249836179041,
         "PM": 0.005818339513698589,
         "_deepnote_index_column": "2021-01-07"
        },
        {
         "GOOG": 0.01116797366764577,
         "SPG": 0.015975624533774546,
         "GOOGL": 0.01323872013642835,
         "MSFT": 0.006092865372134604,
         "GD": -0.006261636506328716,
         "ACN": 0.003647510175795121,
         "COP": 0,
         "F": -0.006622562564874368,
         "BAC": -0.010042709453133125,
         "GS": -0.0053831625478897305,
         "NVDA": -0.005039643125487214,
         "AIG": -0.0066030849946158154,
         "MS": 0.004136583881134026,
         "WFC": -0.007179212311940186,
         "ORCL": 0.004915130681955482,
         "XOM": 0.011120943032649988,
         "TGT": 0.01308216661904571,
         "LOW": 0.00818520585823923,
         "EXC": 0.004282717615814224,
         "COST": 0.005490292022855003,
         "AXP": 0.0009862978503181186,
         "BK": -0.010600717720426478,
         "JPM": 0.001104151426481348,
         "COF": -0.0015353860570667122,
         "CSCO": 0.002224234274995629,
         "DHR": 0.015769136060309163,
         "UNH": -0.004492676394968309,
         "CVS": 0.011758466669049117,
         "LLY": 0.003497466794595505,
         "CVX": 0.00953226396767981,
         "MET": -0.0034288859290475537,
         "AMT": 0.021609164243572287,
         "CRM": 0.018625551143089725,
         "BLK": 0.008035491822591778,
         "RTX": 0.001146410045388846,
         "MCD": 0.018350756092742504,
         "TMO": 0.02392419474974483,
         "LIN": -0.0011820207002386507,
         "ADBE": 0.015405902833317109,
         "EMR": -0.0030462415326276693,
         "USB": -0.013402834949116316,
         "UPS": -0.0038364554772455373,
         "TSLA": 0.07840307243104516,
         "PFE": 0.0018888152168832217,
         "PM": 0.0013254455179165792,
         "_deepnote_index_column": "2021-01-08"
        }
       ]
      },
      "text/plain": "                GOOG       SPG     GOOGL      MSFT        GD       ACN  \\\nDate                                                                     \n2021-01-04       NaN       NaN       NaN       NaN       NaN       NaN   \n2021-01-05  0.007337  0.004347  0.008064  0.000965  0.000480  0.005693   \n2021-01-06 -0.003234  0.022845 -0.009868 -0.025929  0.025546  0.010933   \n2021-01-07  0.029943  0.000705  0.029869  0.028457  0.013223  0.009435   \n2021-01-08  0.011168  0.015976  0.013239  0.006093 -0.006262  0.003648   \n\n                 COP         F       BAC        GS  ...       MCD       TMO  \\\nDate                                                ...                       \n2021-01-04       NaN       NaN       NaN       NaN  ...       NaN       NaN   \n2021-01-05  0.057367  0.015258  0.007659  0.022377  ...  0.005994  0.012505   \n2021-01-06  0.039914  0.021965  0.062459  0.053962  ... -0.002270  0.015679   \n2021-01-07  0.027350  0.024887  0.022084  0.021362  ...  0.004645  0.031162   \n2021-01-08  0.000000 -0.006623 -0.010043 -0.005383  ...  0.018351  0.023924   \n\n                 LIN      ADBE       EMR       USB       UPS      TSLA  \\\nDate                                                                     \n2021-01-04       NaN       NaN       NaN       NaN       NaN       NaN   \n2021-01-05  0.015687  0.000721  0.017305  0.003252 -0.013919  0.007317   \n2021-01-06  0.032830 -0.039902  0.033644  0.059218 -0.002972  0.028390   \n2021-01-07 -0.002873  0.024512  0.000488  0.019996 -0.012668  0.079447   \n2021-01-08 -0.001182  0.015406 -0.003046 -0.013403 -0.003836  0.078403   \n\n                 PFE        PM  \nDate                            \n2021-01-04       NaN       NaN  \n2021-01-05  0.010323  0.010920  \n2021-01-06 -0.008605  0.001335  \n2021-01-07  0.005153  0.005818  \n2021-01-08  0.001889  0.001325  \n\n[5 rows x 45 columns]",
      "text/html": "<div>\n<style scoped>\n    .dataframe tbody tr th:only-of-type {\n        vertical-align: middle;\n    }\n\n    .dataframe tbody tr th {\n        vertical-align: top;\n    }\n\n    .dataframe thead th {\n        text-align: right;\n    }\n</style>\n<table border=\"1\" class=\"dataframe\">\n  <thead>\n    <tr style=\"text-align: right;\">\n      <th></th>\n      <th>GOOG</th>\n      <th>SPG</th>\n      <th>GOOGL</th>\n      <th>MSFT</th>\n      <th>GD</th>\n      <th>ACN</th>\n      <th>COP</th>\n      <th>F</th>\n      <th>BAC</th>\n      <th>GS</th>\n      <th>...</th>\n      <th>MCD</th>\n      <th>TMO</th>\n      <th>LIN</th>\n      <th>ADBE</th>\n      <th>EMR</th>\n      <th>USB</th>\n      <th>UPS</th>\n      <th>TSLA</th>\n      <th>PFE</th>\n      <th>PM</th>\n    </tr>\n    <tr>\n      <th>Date</th>\n      <th></th>\n      <th></th>\n      <th></th>\n      <th></th>\n      <th></th>\n      <th></th>\n      <th></th>\n      <th></th>\n      <th></th>\n      <th></th>\n      <th></th>\n      <th></th>\n      <th></th>\n      <th></th>\n      <th></th>\n      <th></th>\n      <th></th>\n      <th></th>\n      <th></th>\n      <th></th>\n      <th></th>\n    </tr>\n  </thead>\n  <tbody>\n    <tr>\n      <th>2021-01-04</th>\n      <td>NaN</td>\n      <td>NaN</td>\n      <td>NaN</td>\n      <td>NaN</td>\n      <td>NaN</td>\n      <td>NaN</td>\n      <td>NaN</td>\n      <td>NaN</td>\n      <td>NaN</td>\n      <td>NaN</td>\n      <td>...</td>\n      <td>NaN</td>\n      <td>NaN</td>\n      <td>NaN</td>\n      <td>NaN</td>\n      <td>NaN</td>\n      <td>NaN</td>\n      <td>NaN</td>\n      <td>NaN</td>\n      <td>NaN</td>\n      <td>NaN</td>\n    </tr>\n    <tr>\n      <th>2021-01-05</th>\n      <td>0.007337</td>\n      <td>0.004347</td>\n      <td>0.008064</td>\n      <td>0.000965</td>\n      <td>0.000480</td>\n      <td>0.005693</td>\n      <td>0.057367</td>\n      <td>0.015258</td>\n      <td>0.007659</td>\n      <td>0.022377</td>\n      <td>...</td>\n      <td>0.005994</td>\n      <td>0.012505</td>\n      <td>0.015687</td>\n      <td>0.000721</td>\n      <td>0.017305</td>\n      <td>0.003252</td>\n      <td>-0.013919</td>\n      <td>0.007317</td>\n      <td>0.010323</td>\n      <td>0.010920</td>\n    </tr>\n    <tr>\n      <th>2021-01-06</th>\n      <td>-0.003234</td>\n      <td>0.022845</td>\n      <td>-0.009868</td>\n      <td>-0.025929</td>\n      <td>0.025546</td>\n      <td>0.010933</td>\n      <td>0.039914</td>\n      <td>0.021965</td>\n      <td>0.062459</td>\n      <td>0.053962</td>\n      <td>...</td>\n      <td>-0.002270</td>\n      <td>0.015679</td>\n      <td>0.032830</td>\n      <td>-0.039902</td>\n      <td>0.033644</td>\n      <td>0.059218</td>\n      <td>-0.002972</td>\n      <td>0.028390</td>\n      <td>-0.008605</td>\n      <td>0.001335</td>\n    </tr>\n    <tr>\n      <th>2021-01-07</th>\n      <td>0.029943</td>\n      <td>0.000705</td>\n      <td>0.029869</td>\n      <td>0.028457</td>\n      <td>0.013223</td>\n      <td>0.009435</td>\n      <td>0.027350</td>\n      <td>0.024887</td>\n      <td>0.022084</td>\n      <td>0.021362</td>\n      <td>...</td>\n      <td>0.004645</td>\n      <td>0.031162</td>\n      <td>-0.002873</td>\n      <td>0.024512</td>\n      <td>0.000488</td>\n      <td>0.019996</td>\n      <td>-0.012668</td>\n      <td>0.079447</td>\n      <td>0.005153</td>\n      <td>0.005818</td>\n    </tr>\n    <tr>\n      <th>2021-01-08</th>\n      <td>0.011168</td>\n      <td>0.015976</td>\n      <td>0.013239</td>\n      <td>0.006093</td>\n      <td>-0.006262</td>\n      <td>0.003648</td>\n      <td>0.000000</td>\n      <td>-0.006623</td>\n      <td>-0.010043</td>\n      <td>-0.005383</td>\n      <td>...</td>\n      <td>0.018351</td>\n      <td>0.023924</td>\n      <td>-0.001182</td>\n      <td>0.015406</td>\n      <td>-0.003046</td>\n      <td>-0.013403</td>\n      <td>-0.003836</td>\n      <td>0.078403</td>\n      <td>0.001889</td>\n      <td>0.001325</td>\n    </tr>\n  </tbody>\n</table>\n<p>5 rows × 45 columns</p>\n</div>"
     },
     "metadata": {}
    }
   ],
   "execution_count": 5
  },
  {
   "cell_type": "markdown",
   "source": "Ocakavene vynosy",
   "metadata": {
    "tags": [],
    "is_collapsed": false,
    "cell_id": "00008-93065748-c8fc-4f99-8c69-234f490b74c2",
    "deepnote_cell_type": "text-cell-p"
   }
  },
  {
   "cell_type": "code",
   "source": "V = rates.cov() * num_days\nV.head()",
   "metadata": {
    "tags": [],
    "cell_id": "00010-721e7bc2-70c3-4621-96b3-9789f4e0f125",
    "deepnote_to_be_reexecuted": false,
    "source_hash": "59dccba4",
    "execution_start": 1639691366752,
    "execution_millis": 287,
    "deepnote_cell_type": "code"
   },
   "outputs": [
    {
     "output_type": "execute_result",
     "execution_count": 6,
     "data": {
      "application/vnd.deepnote.dataframe.v3+json": {
       "column_count": 45,
       "row_count": 5,
       "columns": [
        {
         "name": "GOOG",
         "dtype": "float64",
         "stats": {
          "unique_count": 5,
          "nan_count": 0,
          "min": "0.007998504496865734",
          "max": "0.0592874874954918",
          "histogram": [
           {
            "bin_start": 0.007998504496865734,
            "bin_end": 0.013127402796728341,
            "count": 1
           },
           {
            "bin_start": 0.013127402796728341,
            "bin_end": 0.018256301096590946,
            "count": 1
           },
           {
            "bin_start": 0.018256301096590946,
            "bin_end": 0.023385199396453553,
            "count": 0
           },
           {
            "bin_start": 0.023385199396453553,
            "bin_end": 0.02851409769631616,
            "count": 0
           },
           {
            "bin_start": 0.02851409769631616,
            "bin_end": 0.033642995996178766,
            "count": 0
           },
           {
            "bin_start": 0.033642995996178766,
            "bin_end": 0.03877189429604137,
            "count": 1
           },
           {
            "bin_start": 0.03877189429604137,
            "bin_end": 0.04390079259590398,
            "count": 0
           },
           {
            "bin_start": 0.04390079259590398,
            "bin_end": 0.04902969089576659,
            "count": 0
           },
           {
            "bin_start": 0.04902969089576659,
            "bin_end": 0.05415858919562919,
            "count": 0
           },
           {
            "bin_start": 0.05415858919562919,
            "bin_end": 0.0592874874954918,
            "count": 2
           }
          ]
         }
        },
        {
         "name": "SPG",
         "dtype": "float64",
         "stats": {
          "unique_count": 5,
          "nan_count": 0,
          "min": "0.006907808689327489",
          "max": "0.09278512529462227",
          "histogram": [
           {
            "bin_start": 0.006907808689327489,
            "bin_end": 0.015495540349856967,
            "count": 3
           },
           {
            "bin_start": 0.015495540349856967,
            "bin_end": 0.024083272010386444,
            "count": 1
           },
           {
            "bin_start": 0.024083272010386444,
            "bin_end": 0.032671003670915924,
            "count": 0
           },
           {
            "bin_start": 0.032671003670915924,
            "bin_end": 0.041258735331445404,
            "count": 0
           },
           {
            "bin_start": 0.041258735331445404,
            "bin_end": 0.04984646699197488,
            "count": 0
           },
           {
            "bin_start": 0.04984646699197488,
            "bin_end": 0.05843419865250435,
            "count": 0
           },
           {
            "bin_start": 0.05843419865250435,
            "bin_end": 0.06702193031303383,
            "count": 0
           },
           {
            "bin_start": 0.06702193031303383,
            "bin_end": 0.07560966197356331,
            "count": 0
           },
           {
            "bin_start": 0.07560966197356331,
            "bin_end": 0.08419739363409279,
            "count": 0
           },
           {
            "bin_start": 0.08419739363409279,
            "bin_end": 0.09278512529462227,
            "count": 1
           }
          ]
         }
        },
        {
         "name": "GOOGL",
         "dtype": "float64",
         "stats": {
          "unique_count": 5,
          "nan_count": 0,
          "min": "0.007802758988704626",
          "max": "0.0624277105217813",
          "histogram": [
           {
            "bin_start": 0.007802758988704626,
            "bin_end": 0.013265254142012295,
            "count": 1
           },
           {
            "bin_start": 0.013265254142012295,
            "bin_end": 0.01872774929531996,
            "count": 1
           },
           {
            "bin_start": 0.01872774929531996,
            "bin_end": 0.024190244448627628,
            "count": 0
           },
           {
            "bin_start": 0.024190244448627628,
            "bin_end": 0.029652739601935298,
            "count": 0
           },
           {
            "bin_start": 0.029652739601935298,
            "bin_end": 0.03511523475524297,
            "count": 0
           },
           {
            "bin_start": 0.03511523475524297,
            "bin_end": 0.04057772990855063,
            "count": 1
           },
           {
            "bin_start": 0.04057772990855063,
            "bin_end": 0.0460402250618583,
            "count": 0
           },
           {
            "bin_start": 0.0460402250618583,
            "bin_end": 0.05150272021516597,
            "count": 0
           },
           {
            "bin_start": 0.05150272021516597,
            "bin_end": 0.05696521536847364,
            "count": 0
           },
           {
            "bin_start": 0.05696521536847364,
            "bin_end": 0.0624277105217813,
            "count": 2
           }
          ]
         }
        },
        {
         "name": "MSFT",
         "dtype": "float64",
         "stats": {
          "unique_count": 5,
          "nan_count": 0,
          "min": "0.003716388484454604",
          "max": "0.042574085055095724",
          "histogram": [
           {
            "bin_start": 0.003716388484454604,
            "bin_end": 0.007602158141518716,
            "count": 2
           },
           {
            "bin_start": 0.007602158141518716,
            "bin_end": 0.011487927798582829,
            "count": 0
           },
           {
            "bin_start": 0.011487927798582829,
            "bin_end": 0.01537369745564694,
            "count": 0
           },
           {
            "bin_start": 0.01537369745564694,
            "bin_end": 0.01925946711271105,
            "count": 0
           },
           {
            "bin_start": 0.01925946711271105,
            "bin_end": 0.023145236769775167,
            "count": 0
           },
           {
            "bin_start": 0.023145236769775167,
            "bin_end": 0.027031006426839276,
            "count": 0
           },
           {
            "bin_start": 0.027031006426839276,
            "bin_end": 0.03091677608390339,
            "count": 0
           },
           {
            "bin_start": 0.03091677608390339,
            "bin_end": 0.0348025457409675,
            "count": 0
           },
           {
            "bin_start": 0.0348025457409675,
            "bin_end": 0.03868831539803161,
            "count": 2
           },
           {
            "bin_start": 0.03868831539803161,
            "bin_end": 0.042574085055095724,
            "count": 1
           }
          ]
         }
        },
        {
         "name": "GD",
         "dtype": "float64",
         "stats": {
          "unique_count": 5,
          "nan_count": 0,
          "min": "0.003716388484454604",
          "max": "0.029850163351947567",
          "histogram": [
           {
            "bin_start": 0.003716388484454604,
            "bin_end": 0.0063297659712039005,
            "count": 1
           },
           {
            "bin_start": 0.0063297659712039005,
            "bin_end": 0.008943143457953197,
            "count": 2
           },
           {
            "bin_start": 0.008943143457953197,
            "bin_end": 0.011556520944702492,
            "count": 0
           },
           {
            "bin_start": 0.011556520944702492,
            "bin_end": 0.01416989843145179,
            "count": 0
           },
           {
            "bin_start": 0.01416989843145179,
            "bin_end": 0.016783275918201085,
            "count": 0
           },
           {
            "bin_start": 0.016783275918201085,
            "bin_end": 0.01939665340495038,
            "count": 0
           },
           {
            "bin_start": 0.01939665340495038,
            "bin_end": 0.02201003089169968,
            "count": 0
           },
           {
            "bin_start": 0.02201003089169968,
            "bin_end": 0.024623408378448973,
            "count": 1
           },
           {
            "bin_start": 0.024623408378448973,
            "bin_end": 0.027236785865198274,
            "count": 0
           },
           {
            "bin_start": 0.027236785865198274,
            "bin_end": 0.029850163351947567,
            "count": 1
           }
          ]
         }
        },
        {
         "name": "ACN",
         "dtype": "float64",
         "stats": {
          "unique_count": 5,
          "nan_count": 0,
          "min": "0.012099292316008961",
          "max": "0.019891544057879636",
          "histogram": [
           {
            "bin_start": 0.012099292316008961,
            "bin_end": 0.012878517490196029,
            "count": 1
           },
           {
            "bin_start": 0.012878517490196029,
            "bin_end": 0.013657742664383096,
            "count": 0
           },
           {
            "bin_start": 0.013657742664383096,
            "bin_end": 0.014436967838570163,
            "count": 0
           },
           {
            "bin_start": 0.014436967838570163,
            "bin_end": 0.015216193012757232,
            "count": 0
           },
           {
            "bin_start": 0.015216193012757232,
            "bin_end": 0.015995418186944298,
            "count": 0
           },
           {
            "bin_start": 0.015995418186944298,
            "bin_end": 0.016774643361131367,
            "count": 1
           },
           {
            "bin_start": 0.016774643361131367,
            "bin_end": 0.017553868535318436,
            "count": 0
           },
           {
            "bin_start": 0.017553868535318436,
            "bin_end": 0.0183330937095055,
            "count": 0
           },
           {
            "bin_start": 0.0183330937095055,
            "bin_end": 0.019112318883692567,
            "count": 0
           },
           {
            "bin_start": 0.019112318883692567,
            "bin_end": 0.019891544057879636,
            "count": 3
           }
          ]
         }
        },
        {
         "name": "COP",
         "dtype": "float64",
         "stats": {
          "unique_count": 5,
          "nan_count": 0,
          "min": "-0.002032214592421308",
          "max": "0.05149650743272874",
          "histogram": [
           {
            "bin_start": -0.002032214592421308,
            "bin_end": 0.0033206576100936968,
            "count": 1
           },
           {
            "bin_start": 0.0033206576100936968,
            "bin_end": 0.008673529812608702,
            "count": 0
           },
           {
            "bin_start": 0.008673529812608702,
            "bin_end": 0.014026402015123705,
            "count": 0
           },
           {
            "bin_start": 0.014026402015123705,
            "bin_end": 0.01937927421763871,
            "count": 2
           },
           {
            "bin_start": 0.01937927421763871,
            "bin_end": 0.024732146420153717,
            "count": 1
           },
           {
            "bin_start": 0.024732146420153717,
            "bin_end": 0.030085018622668717,
            "count": 0
           },
           {
            "bin_start": 0.030085018622668717,
            "bin_end": 0.03543789082518372,
            "count": 0
           },
           {
            "bin_start": 0.03543789082518372,
            "bin_end": 0.040790763027698726,
            "count": 0
           },
           {
            "bin_start": 0.040790763027698726,
            "bin_end": 0.04614363523021373,
            "count": 0
           },
           {
            "bin_start": 0.04614363523021373,
            "bin_end": 0.05149650743272874,
            "count": 1
           }
          ]
         }
        },
        {
         "name": "F",
         "dtype": "float64",
         "stats": {
          "unique_count": 5,
          "nan_count": 0,
          "min": "0.0032645195160931973",
          "max": "0.05585049579791361",
          "histogram": [
           {
            "bin_start": 0.0032645195160931973,
            "bin_end": 0.008523117144275238,
            "count": 1
           },
           {
            "bin_start": 0.008523117144275238,
            "bin_end": 0.01378171477245728,
            "count": 2
           },
           {
            "bin_start": 0.01378171477245728,
            "bin_end": 0.01904031240063932,
            "count": 1
           },
           {
            "bin_start": 0.01904031240063932,
            "bin_end": 0.024298910028821362,
            "count": 0
           },
           {
            "bin_start": 0.024298910028821362,
            "bin_end": 0.029557507657003403,
            "count": 0
           },
           {
            "bin_start": 0.029557507657003403,
            "bin_end": 0.034816105285185445,
            "count": 0
           },
           {
            "bin_start": 0.034816105285185445,
            "bin_end": 0.04007470291336749,
            "count": 0
           },
           {
            "bin_start": 0.04007470291336749,
            "bin_end": 0.04533330054154953,
            "count": 0
           },
           {
            "bin_start": 0.04533330054154953,
            "bin_end": 0.050591898169731565,
            "count": 0
           },
           {
            "bin_start": 0.050591898169731565,
            "bin_end": 0.05585049579791361,
            "count": 1
           }
          ]
         }
        },
        {
         "name": "BAC",
         "dtype": "float64",
         "stats": {
          "unique_count": 5,
          "nan_count": 0,
          "min": "-0.00452260522239529",
          "max": "0.03858455283446213",
          "histogram": [
           {
            "bin_start": -0.00452260522239529,
            "bin_end": -0.00021188941670954864,
            "count": 1
           },
           {
            "bin_start": -0.00021188941670954864,
            "bin_end": 0.004098826388976193,
            "count": 0
           },
           {
            "bin_start": 0.004098826388976193,
            "bin_end": 0.008409542194661935,
            "count": 2
           },
           {
            "bin_start": 0.008409542194661935,
            "bin_end": 0.012720258000347677,
            "count": 0
           },
           {
            "bin_start": 0.012720258000347677,
            "bin_end": 0.01703097380603342,
            "count": 0
           },
           {
            "bin_start": 0.01703097380603342,
            "bin_end": 0.02134168961171916,
            "count": 0
           },
           {
            "bin_start": 0.02134168961171916,
            "bin_end": 0.025652405417404905,
            "count": 1
           },
           {
            "bin_start": 0.025652405417404905,
            "bin_end": 0.029963121223090645,
            "count": 0
           },
           {
            "bin_start": 0.029963121223090645,
            "bin_end": 0.034273837028776385,
            "count": 0
           },
           {
            "bin_start": 0.034273837028776385,
            "bin_end": 0.03858455283446213,
            "count": 1
           }
          ]
         }
        },
        {
         "name": "GS",
         "dtype": "float64",
         "stats": {
          "unique_count": 5,
          "nan_count": 0,
          "min": "-0.0005844126022659073",
          "max": "0.040721762830357694",
          "histogram": [
           {
            "bin_start": -0.0005844126022659073,
            "bin_end": 0.003546204940996453,
            "count": 1
           },
           {
            "bin_start": 0.003546204940996453,
            "bin_end": 0.0076768224842588125,
            "count": 0
           },
           {
            "bin_start": 0.0076768224842588125,
            "bin_end": 0.011807440027521173,
            "count": 2
           },
           {
            "bin_start": 0.011807440027521173,
            "bin_end": 0.015938057570783534,
            "count": 0
           },
           {
            "bin_start": 0.015938057570783534,
            "bin_end": 0.020068675114045895,
            "count": 0
           },
           {
            "bin_start": 0.020068675114045895,
            "bin_end": 0.024199292657308254,
            "count": 1
           },
           {
            "bin_start": 0.024199292657308254,
            "bin_end": 0.028329910200570612,
            "count": 0
           },
           {
            "bin_start": 0.028329910200570612,
            "bin_end": 0.03246052774383297,
            "count": 0
           },
           {
            "bin_start": 0.03246052774383297,
            "bin_end": 0.03659114528709533,
            "count": 0
           },
           {
            "bin_start": 0.03659114528709533,
            "bin_end": 0.040721762830357694,
            "count": 1
           }
          ]
         }
        },
        {
         "name": "NVDA",
         "dtype": "float64",
         "stats": {
          "unique_count": 5,
          "nan_count": 0,
          "min": "-0.0062973829759895746",
          "max": "0.04886985382730209",
          "histogram": [
           {
            "bin_start": -0.0062973829759895746,
            "bin_end": -0.000780659295660408,
            "count": 1
           },
           {
            "bin_start": -0.000780659295660408,
            "bin_end": 0.0047360643846687586,
            "count": 0
           },
           {
            "bin_start": 0.0047360643846687586,
            "bin_end": 0.010252788064997926,
            "count": 0
           },
           {
            "bin_start": 0.010252788064997926,
            "bin_end": 0.01576951174532709,
            "count": 1
           },
           {
            "bin_start": 0.01576951174532709,
            "bin_end": 0.021286235425656257,
            "count": 0
           },
           {
            "bin_start": 0.021286235425656257,
            "bin_end": 0.026802959105985426,
            "count": 0
           },
           {
            "bin_start": 0.026802959105985426,
            "bin_end": 0.032319682786314585,
            "count": 0
           },
           {
            "bin_start": 0.032319682786314585,
            "bin_end": 0.037836406466643754,
            "count": 0
           },
           {
            "bin_start": 0.037836406466643754,
            "bin_end": 0.043353130146972924,
            "count": 0
           },
           {
            "bin_start": 0.043353130146972924,
            "bin_end": 0.04886985382730209,
            "count": 3
           }
          ]
         }
        },
        {
         "name": "AIG",
         "dtype": "float64",
         "stats": {
          "unique_count": 5,
          "nan_count": 0,
          "min": "-0.002399249161372493",
          "max": "0.04932608705178526",
          "histogram": [
           {
            "bin_start": -0.002399249161372493,
            "bin_end": 0.002773284459943282,
            "count": 1
           },
           {
            "bin_start": 0.002773284459943282,
            "bin_end": 0.007945818081259057,
            "count": 0
           },
           {
            "bin_start": 0.007945818081259057,
            "bin_end": 0.013118351702574832,
            "count": 2
           },
           {
            "bin_start": 0.013118351702574832,
            "bin_end": 0.018290885323890605,
            "count": 0
           },
           {
            "bin_start": 0.018290885323890605,
            "bin_end": 0.02346341894520638,
            "count": 0
           },
           {
            "bin_start": 0.02346341894520638,
            "bin_end": 0.028635952566522155,
            "count": 1
           },
           {
            "bin_start": 0.028635952566522155,
            "bin_end": 0.03380848618783793,
            "count": 0
           },
           {
            "bin_start": 0.03380848618783793,
            "bin_end": 0.03898101980915371,
            "count": 0
           },
           {
            "bin_start": 0.03898101980915371,
            "bin_end": 0.044153553430469485,
            "count": 0
           },
           {
            "bin_start": 0.044153553430469485,
            "bin_end": 0.04932608705178526,
            "count": 1
           }
          ]
         }
        },
        {
         "name": "MS",
         "dtype": "float64",
         "stats": {
          "unique_count": 5,
          "nan_count": 0,
          "min": "0.003097442320666902",
          "max": "0.03926388397530105",
          "histogram": [
           {
            "bin_start": 0.003097442320666902,
            "bin_end": 0.006714086486130317,
            "count": 1
           },
           {
            "bin_start": 0.006714086486130317,
            "bin_end": 0.010330730651593732,
            "count": 0
           },
           {
            "bin_start": 0.010330730651593732,
            "bin_end": 0.013947374817057146,
            "count": 1
           },
           {
            "bin_start": 0.013947374817057146,
            "bin_end": 0.017564018982520562,
            "count": 1
           },
           {
            "bin_start": 0.017564018982520562,
            "bin_end": 0.021180663147983975,
            "count": 1
           },
           {
            "bin_start": 0.021180663147983975,
            "bin_end": 0.02479730731344739,
            "count": 0
           },
           {
            "bin_start": 0.02479730731344739,
            "bin_end": 0.028413951478910803,
            "count": 0
           },
           {
            "bin_start": 0.028413951478910803,
            "bin_end": 0.03203059564437422,
            "count": 0
           },
           {
            "bin_start": 0.03203059564437422,
            "bin_end": 0.03564723980983763,
            "count": 0
           },
           {
            "bin_start": 0.03564723980983763,
            "bin_end": 0.03926388397530105,
            "count": 1
           }
          ]
         }
        },
        {
         "name": "WFC",
         "dtype": "float64",
         "stats": {
          "unique_count": 5,
          "nan_count": 0,
          "min": "-0.0010165071782239142",
          "max": "0.04692414258332135",
          "histogram": [
           {
            "bin_start": -0.0010165071782239142,
            "bin_end": 0.0037775577979306126,
            "count": 1
           },
           {
            "bin_start": 0.0037775577979306126,
            "bin_end": 0.008571622774085139,
            "count": 0
           },
           {
            "bin_start": 0.008571622774085139,
            "bin_end": 0.013365687750239667,
            "count": 2
           },
           {
            "bin_start": 0.013365687750239667,
            "bin_end": 0.018159752726394193,
            "count": 0
           },
           {
            "bin_start": 0.018159752726394193,
            "bin_end": 0.02295381770254872,
            "count": 0
           },
           {
            "bin_start": 0.02295381770254872,
            "bin_end": 0.027747882678703248,
            "count": 0
           },
           {
            "bin_start": 0.027747882678703248,
            "bin_end": 0.032541947654857774,
            "count": 1
           },
           {
            "bin_start": 0.032541947654857774,
            "bin_end": 0.0373360126310123,
            "count": 0
           },
           {
            "bin_start": 0.0373360126310123,
            "bin_end": 0.042130077607166826,
            "count": 0
           },
           {
            "bin_start": 0.042130077607166826,
            "bin_end": 0.04692414258332135,
            "count": 1
           }
          ]
         }
        },
        {
         "name": "ORCL",
         "dtype": "float64",
         "stats": {
          "unique_count": 5,
          "nan_count": 0,
          "min": "0.005283538330030827",
          "max": "0.01716010241845621",
          "histogram": [
           {
            "bin_start": 0.005283538330030827,
            "bin_end": 0.006471194738873366,
            "count": 2
           },
           {
            "bin_start": 0.006471194738873366,
            "bin_end": 0.007658851147715904,
            "count": 1
           },
           {
            "bin_start": 0.007658851147715904,
            "bin_end": 0.008846507556558442,
            "count": 0
           },
           {
            "bin_start": 0.008846507556558442,
            "bin_end": 0.01003416396540098,
            "count": 0
           },
           {
            "bin_start": 0.01003416396540098,
            "bin_end": 0.011221820374243519,
            "count": 0
           },
           {
            "bin_start": 0.011221820374243519,
            "bin_end": 0.012409476783086057,
            "count": 0
           },
           {
            "bin_start": 0.012409476783086057,
            "bin_end": 0.013597133191928595,
            "count": 1
           },
           {
            "bin_start": 0.013597133191928595,
            "bin_end": 0.014784789600771134,
            "count": 0
           },
           {
            "bin_start": 0.014784789600771134,
            "bin_end": 0.015972446009613672,
            "count": 0
           },
           {
            "bin_start": 0.015972446009613672,
            "bin_end": 0.01716010241845621,
            "count": 1
           }
          ]
         }
        },
        {
         "name": "XOM",
         "dtype": "float64",
         "stats": {
          "unique_count": 5,
          "nan_count": 0,
          "min": "-0.0009207852184209951",
          "max": "0.04084114131759948",
          "histogram": [
           {
            "bin_start": -0.0009207852184209951,
            "bin_end": 0.0032554074351810527,
            "count": 1
           },
           {
            "bin_start": 0.0032554074351810527,
            "bin_end": 0.007431600088783101,
            "count": 0
           },
           {
            "bin_start": 0.007431600088783101,
            "bin_end": 0.011607792742385149,
            "count": 0
           },
           {
            "bin_start": 0.011607792742385149,
            "bin_end": 0.0157839853959872,
            "count": 0
           },
           {
            "bin_start": 0.0157839853959872,
            "bin_end": 0.019960178049589248,
            "count": 2
           },
           {
            "bin_start": 0.019960178049589248,
            "bin_end": 0.024136370703191294,
            "count": 1
           },
           {
            "bin_start": 0.024136370703191294,
            "bin_end": 0.02831256335679334,
            "count": 0
           },
           {
            "bin_start": 0.02831256335679334,
            "bin_end": 0.032488756010395387,
            "count": 0
           },
           {
            "bin_start": 0.032488756010395387,
            "bin_end": 0.036664948663997436,
            "count": 0
           },
           {
            "bin_start": 0.036664948663997436,
            "bin_end": 0.04084114131759948,
            "count": 1
           }
          ]
         }
        },
        {
         "name": "TGT",
         "dtype": "float64",
         "stats": {
          "unique_count": 5,
          "nan_count": 0,
          "min": "0.011395633847861601",
          "max": "0.02046378160740258",
          "histogram": [
           {
            "bin_start": 0.011395633847861601,
            "bin_end": 0.0123024486238157,
            "count": 2
           },
           {
            "bin_start": 0.0123024486238157,
            "bin_end": 0.013209263399769796,
            "count": 2
           },
           {
            "bin_start": 0.013209263399769796,
            "bin_end": 0.014116078175723894,
            "count": 0
           },
           {
            "bin_start": 0.014116078175723894,
            "bin_end": 0.015022892951677993,
            "count": 0
           },
           {
            "bin_start": 0.015022892951677993,
            "bin_end": 0.01592970772763209,
            "count": 0
           },
           {
            "bin_start": 0.01592970772763209,
            "bin_end": 0.016836522503586186,
            "count": 0
           },
           {
            "bin_start": 0.016836522503586186,
            "bin_end": 0.017743337279540285,
            "count": 0
           },
           {
            "bin_start": 0.017743337279540285,
            "bin_end": 0.018650152055494383,
            "count": 0
           },
           {
            "bin_start": 0.018650152055494383,
            "bin_end": 0.01955696683144848,
            "count": 0
           },
           {
            "bin_start": 0.01955696683144848,
            "bin_end": 0.02046378160740258,
            "count": 1
           }
          ]
         }
        },
        {
         "name": "LOW",
         "dtype": "float64",
         "stats": {
          "unique_count": 5,
          "nan_count": 0,
          "min": "0.012227261335059535",
          "max": "0.019239451400133233",
          "histogram": [
           {
            "bin_start": 0.012227261335059535,
            "bin_end": 0.012928480341566906,
            "count": 2
           },
           {
            "bin_start": 0.012928480341566906,
            "bin_end": 0.013629699348074275,
            "count": 1
           },
           {
            "bin_start": 0.013629699348074275,
            "bin_end": 0.014330918354581645,
            "count": 0
           },
           {
            "bin_start": 0.014330918354581645,
            "bin_end": 0.015032137361089014,
            "count": 0
           },
           {
            "bin_start": 0.015032137361089014,
            "bin_end": 0.015733356367596384,
            "count": 1
           },
           {
            "bin_start": 0.015733356367596384,
            "bin_end": 0.016434575374103755,
            "count": 0
           },
           {
            "bin_start": 0.016434575374103755,
            "bin_end": 0.017135794380611125,
            "count": 0
           },
           {
            "bin_start": 0.017135794380611125,
            "bin_end": 0.017837013387118496,
            "count": 0
           },
           {
            "bin_start": 0.017837013387118496,
            "bin_end": 0.018538232393625863,
            "count": 0
           },
           {
            "bin_start": 0.018538232393625863,
            "bin_end": 0.019239451400133233,
            "count": 1
           }
          ]
         }
        },
        {
         "name": "EXC",
         "dtype": "float64",
         "stats": {
          "unique_count": 5,
          "nan_count": 0,
          "min": "0.008275744676132572",
          "max": "0.014757423784121008",
          "histogram": [
           {
            "bin_start": 0.008275744676132572,
            "bin_end": 0.008923912586931416,
            "count": 1
           },
           {
            "bin_start": 0.008923912586931416,
            "bin_end": 0.009572080497730258,
            "count": 3
           },
           {
            "bin_start": 0.009572080497730258,
            "bin_end": 0.010220248408529102,
            "count": 0
           },
           {
            "bin_start": 0.010220248408529102,
            "bin_end": 0.010868416319327947,
            "count": 0
           },
           {
            "bin_start": 0.010868416319327947,
            "bin_end": 0.011516584230126789,
            "count": 0
           },
           {
            "bin_start": 0.011516584230126789,
            "bin_end": 0.012164752140925633,
            "count": 0
           },
           {
            "bin_start": 0.012164752140925633,
            "bin_end": 0.012812920051724477,
            "count": 0
           },
           {
            "bin_start": 0.012812920051724477,
            "bin_end": 0.013461087962523322,
            "count": 0
           },
           {
            "bin_start": 0.013461087962523322,
            "bin_end": 0.014109255873322164,
            "count": 0
           },
           {
            "bin_start": 0.014109255873322164,
            "bin_end": 0.014757423784121008,
            "count": 1
           }
          ]
         }
        },
        {
         "name": "COST",
         "dtype": "float64",
         "stats": {
          "unique_count": 5,
          "nan_count": 0,
          "min": "0.005225360626002977",
          "max": "0.017011458330402286",
          "histogram": [
           {
            "bin_start": 0.005225360626002977,
            "bin_end": 0.006403970396442908,
            "count": 1
           },
           {
            "bin_start": 0.006403970396442908,
            "bin_end": 0.0075825801668828385,
            "count": 1
           },
           {
            "bin_start": 0.0075825801668828385,
            "bin_end": 0.008761189937322769,
            "count": 0
           },
           {
            "bin_start": 0.008761189937322769,
            "bin_end": 0.0099397997077627,
            "count": 0
           },
           {
            "bin_start": 0.0099397997077627,
            "bin_end": 0.011118409478202631,
            "count": 0
           },
           {
            "bin_start": 0.011118409478202631,
            "bin_end": 0.01229701924864256,
            "count": 0
           },
           {
            "bin_start": 0.01229701924864256,
            "bin_end": 0.013475629019082492,
            "count": 0
           },
           {
            "bin_start": 0.013475629019082492,
            "bin_end": 0.014654238789522423,
            "count": 1
           },
           {
            "bin_start": 0.014654238789522423,
            "bin_end": 0.015832848559962354,
            "count": 1
           },
           {
            "bin_start": 0.015832848559962354,
            "bin_end": 0.017011458330402286,
            "count": 1
           }
          ]
         }
        },
        {
         "name": "AXP",
         "dtype": "float64",
         "stats": {
          "unique_count": 5,
          "nan_count": 0,
          "min": "0.0018820465572114496",
          "max": "0.041757900912253336",
          "histogram": [
           {
            "bin_start": 0.0018820465572114496,
            "bin_end": 0.005869631992715638,
            "count": 1
           },
           {
            "bin_start": 0.005869631992715638,
            "bin_end": 0.009857217428219826,
            "count": 0
           },
           {
            "bin_start": 0.009857217428219826,
            "bin_end": 0.013844802863724014,
            "count": 2
           },
           {
            "bin_start": 0.013844802863724014,
            "bin_end": 0.017832388299228202,
            "count": 0
           },
           {
            "bin_start": 0.017832388299228202,
            "bin_end": 0.021819973734732392,
            "count": 0
           },
           {
            "bin_start": 0.021819973734732392,
            "bin_end": 0.02580755917023658,
            "count": 1
           },
           {
            "bin_start": 0.02580755917023658,
            "bin_end": 0.029795144605740766,
            "count": 0
           },
           {
            "bin_start": 0.029795144605740766,
            "bin_end": 0.033782730041244956,
            "count": 0
           },
           {
            "bin_start": 0.033782730041244956,
            "bin_end": 0.037770315476749146,
            "count": 0
           },
           {
            "bin_start": 0.037770315476749146,
            "bin_end": 0.041757900912253336,
            "count": 1
           }
          ]
         }
        },
        {
         "name": "BK",
         "dtype": "float64",
         "stats": {
          "unique_count": 5,
          "nan_count": 0,
          "min": "-0.005564680456843438",
          "max": "0.031334742688428535",
          "histogram": [
           {
            "bin_start": -0.005564680456843438,
            "bin_end": -0.0018747381423162403,
            "count": 1
           },
           {
            "bin_start": -0.0018747381423162403,
            "bin_end": 0.0018152041722109572,
            "count": 0
           },
           {
            "bin_start": 0.0018152041722109572,
            "bin_end": 0.005505146486738155,
            "count": 2
           },
           {
            "bin_start": 0.005505146486738155,
            "bin_end": 0.009195088801265353,
            "count": 0
           },
           {
            "bin_start": 0.009195088801265353,
            "bin_end": 0.01288503111579255,
            "count": 0
           },
           {
            "bin_start": 0.01288503111579255,
            "bin_end": 0.01657497343031975,
            "count": 0
           },
           {
            "bin_start": 0.01657497343031975,
            "bin_end": 0.020264915744846946,
            "count": 0
           },
           {
            "bin_start": 0.020264915744846946,
            "bin_end": 0.023954858059374144,
            "count": 1
           },
           {
            "bin_start": 0.023954858059374144,
            "bin_end": 0.02764480037390134,
            "count": 0
           },
           {
            "bin_start": 0.02764480037390134,
            "bin_end": 0.031334742688428535,
            "count": 1
           }
          ]
         }
        },
        {
         "name": "JPM",
         "dtype": "float64",
         "stats": {
          "unique_count": 5,
          "nan_count": 0,
          "min": "-0.0012398148478175762",
          "max": "0.0329778951847722",
          "histogram": [
           {
            "bin_start": -0.0012398148478175762,
            "bin_end": 0.0021819561554414016,
            "count": 1
           },
           {
            "bin_start": 0.0021819561554414016,
            "bin_end": 0.005603727158700379,
            "count": 0
           },
           {
            "bin_start": 0.005603727158700379,
            "bin_end": 0.009025498161959359,
            "count": 2
           },
           {
            "bin_start": 0.009025498161959359,
            "bin_end": 0.012447269165218336,
            "count": 0
           },
           {
            "bin_start": 0.012447269165218336,
            "bin_end": 0.015869040168477313,
            "count": 0
           },
           {
            "bin_start": 0.015869040168477313,
            "bin_end": 0.019290811171736293,
            "count": 0
           },
           {
            "bin_start": 0.019290811171736293,
            "bin_end": 0.02271258217499527,
            "count": 1
           },
           {
            "bin_start": 0.02271258217499527,
            "bin_end": 0.026134353178254247,
            "count": 0
           },
           {
            "bin_start": 0.026134353178254247,
            "bin_end": 0.029556124181513224,
            "count": 0
           },
           {
            "bin_start": 0.029556124181513224,
            "bin_end": 0.0329778951847722,
            "count": 1
           }
          ]
         }
        },
        {
         "name": "COF",
         "dtype": "float64",
         "stats": {
          "unique_count": 5,
          "nan_count": 0,
          "min": "-0.0059138822829046984",
          "max": "0.049096998453981876",
          "histogram": [
           {
            "bin_start": -0.0059138822829046984,
            "bin_end": -0.0004127942092160405,
            "count": 1
           },
           {
            "bin_start": -0.0004127942092160405,
            "bin_end": 0.005088293864472617,
            "count": 0
           },
           {
            "bin_start": 0.005088293864472617,
            "bin_end": 0.010589381938161276,
            "count": 2
           },
           {
            "bin_start": 0.010589381938161276,
            "bin_end": 0.016090470011849933,
            "count": 0
           },
           {
            "bin_start": 0.016090470011849933,
            "bin_end": 0.02159155808553859,
            "count": 0
           },
           {
            "bin_start": 0.02159155808553859,
            "bin_end": 0.02709264615922725,
            "count": 0
           },
           {
            "bin_start": 0.02709264615922725,
            "bin_end": 0.03259373423291591,
            "count": 1
           },
           {
            "bin_start": 0.03259373423291591,
            "bin_end": 0.03809482230660456,
            "count": 0
           },
           {
            "bin_start": 0.03809482230660456,
            "bin_end": 0.04359591038029323,
            "count": 0
           },
           {
            "bin_start": 0.04359591038029323,
            "bin_end": 0.049096998453981876,
            "count": 1
           }
          ]
         }
        },
        {
         "name": "CSCO",
         "dtype": "float64",
         "stats": {
          "unique_count": 5,
          "nan_count": 0,
          "min": "0.013578448154381237",
          "max": "0.016738821249560696",
          "histogram": [
           {
            "bin_start": 0.013578448154381237,
            "bin_end": 0.013894485463899183,
            "count": 2
           },
           {
            "bin_start": 0.013894485463899183,
            "bin_end": 0.014210522773417129,
            "count": 1
           },
           {
            "bin_start": 0.014210522773417129,
            "bin_end": 0.014526560082935075,
            "count": 0
           },
           {
            "bin_start": 0.014526560082935075,
            "bin_end": 0.01484259739245302,
            "count": 1
           },
           {
            "bin_start": 0.01484259739245302,
            "bin_end": 0.015158634701970966,
            "count": 0
           },
           {
            "bin_start": 0.015158634701970966,
            "bin_end": 0.015474672011488912,
            "count": 0
           },
           {
            "bin_start": 0.015474672011488912,
            "bin_end": 0.01579070932100686,
            "count": 0
           },
           {
            "bin_start": 0.01579070932100686,
            "bin_end": 0.016106746630524804,
            "count": 0
           },
           {
            "bin_start": 0.016106746630524804,
            "bin_end": 0.01642278394004275,
            "count": 0
           },
           {
            "bin_start": 0.01642278394004275,
            "bin_end": 0.016738821249560696,
            "count": 1
           }
          ]
         }
        },
        {
         "name": "DHR",
         "dtype": "float64",
         "stats": {
          "unique_count": 5,
          "nan_count": 0,
          "min": "-0.003638759682394203",
          "max": "0.018364520919959722",
          "histogram": [
           {
            "bin_start": -0.003638759682394203,
            "bin_end": -0.0014384316221588106,
            "count": 1
           },
           {
            "bin_start": -0.0014384316221588106,
            "bin_end": 0.0007618964380765817,
            "count": 1
           },
           {
            "bin_start": 0.0007618964380765817,
            "bin_end": 0.0029622244983119736,
            "count": 0
           },
           {
            "bin_start": 0.0029622244983119736,
            "bin_end": 0.005162552558547366,
            "count": 0
           },
           {
            "bin_start": 0.005162552558547366,
            "bin_end": 0.007362880618782759,
            "count": 0
           },
           {
            "bin_start": 0.007362880618782759,
            "bin_end": 0.00956320867901815,
            "count": 0
           },
           {
            "bin_start": 0.00956320867901815,
            "bin_end": 0.011763536739253542,
            "count": 0
           },
           {
            "bin_start": 0.011763536739253542,
            "bin_end": 0.013963864799488936,
            "count": 0
           },
           {
            "bin_start": 0.013963864799488936,
            "bin_end": 0.016164192859724327,
            "count": 2
           },
           {
            "bin_start": 0.016164192859724327,
            "bin_end": 0.018364520919959722,
            "count": 1
           }
          ]
         }
        },
        {
         "name": "UNH",
         "dtype": "float64",
         "stats": {
          "unique_count": 5,
          "nan_count": 0,
          "min": "0.00753718486638107",
          "max": "0.010185941696014713",
          "histogram": [
           {
            "bin_start": 0.00753718486638107,
            "bin_end": 0.007802060549344434,
            "count": 1
           },
           {
            "bin_start": 0.007802060549344434,
            "bin_end": 0.008066936232307798,
            "count": 0
           },
           {
            "bin_start": 0.008066936232307798,
            "bin_end": 0.008331811915271162,
            "count": 0
           },
           {
            "bin_start": 0.008331811915271162,
            "bin_end": 0.008596687598234527,
            "count": 0
           },
           {
            "bin_start": 0.008596687598234527,
            "bin_end": 0.00886156328119789,
            "count": 0
           },
           {
            "bin_start": 0.00886156328119789,
            "bin_end": 0.009126438964161255,
            "count": 1
           },
           {
            "bin_start": 0.009126438964161255,
            "bin_end": 0.00939131464712462,
            "count": 1
           },
           {
            "bin_start": 0.00939131464712462,
            "bin_end": 0.009656190330087985,
            "count": 0
           },
           {
            "bin_start": 0.009656190330087985,
            "bin_end": 0.00992106601305135,
            "count": 1
           },
           {
            "bin_start": 0.00992106601305135,
            "bin_end": 0.010185941696014713,
            "count": 1
           }
          ]
         }
        },
        {
         "name": "CVS",
         "dtype": "float64",
         "stats": {
          "unique_count": 5,
          "nan_count": 0,
          "min": "0.0005504107641760844",
          "max": "0.014900695223280129",
          "histogram": [
           {
            "bin_start": 0.0005504107641760844,
            "bin_end": 0.001985439210086489,
            "count": 1
           },
           {
            "bin_start": 0.001985439210086489,
            "bin_end": 0.003420467655996893,
            "count": 2
           },
           {
            "bin_start": 0.003420467655996893,
            "bin_end": 0.004855496101907298,
            "count": 0
           },
           {
            "bin_start": 0.004855496101907298,
            "bin_end": 0.006290524547817702,
            "count": 0
           },
           {
            "bin_start": 0.006290524547817702,
            "bin_end": 0.007725552993728107,
            "count": 0
           },
           {
            "bin_start": 0.007725552993728107,
            "bin_end": 0.00916058143963851,
            "count": 0
           },
           {
            "bin_start": 0.00916058143963851,
            "bin_end": 0.010595609885548916,
            "count": 0
           },
           {
            "bin_start": 0.010595609885548916,
            "bin_end": 0.01203063833145932,
            "count": 1
           },
           {
            "bin_start": 0.01203063833145932,
            "bin_end": 0.013465666777369724,
            "count": 0
           },
           {
            "bin_start": 0.013465666777369724,
            "bin_end": 0.014900695223280129,
            "count": 1
           }
          ]
         }
        },
        {
         "name": "LLY",
         "dtype": "float64",
         "stats": {
          "unique_count": 5,
          "nan_count": 0,
          "min": "-0.0020315490101154026",
          "max": "0.014876198721829713",
          "histogram": [
           {
            "bin_start": -0.0020315490101154026,
            "bin_end": -0.00034077423692089096,
            "count": 1
           },
           {
            "bin_start": -0.00034077423692089096,
            "bin_end": 0.0013500005362736206,
            "count": 0
           },
           {
            "bin_start": 0.0013500005362736206,
            "bin_end": 0.003040775309468132,
            "count": 0
           },
           {
            "bin_start": 0.003040775309468132,
            "bin_end": 0.004731550082662643,
            "count": 1
           },
           {
            "bin_start": 0.004731550082662643,
            "bin_end": 0.006422324855857156,
            "count": 0
           },
           {
            "bin_start": 0.006422324855857156,
            "bin_end": 0.008113099629051667,
            "count": 0
           },
           {
            "bin_start": 0.008113099629051667,
            "bin_end": 0.00980387440224618,
            "count": 0
           },
           {
            "bin_start": 0.00980387440224618,
            "bin_end": 0.01149464917544069,
            "count": 2
           },
           {
            "bin_start": 0.01149464917544069,
            "bin_end": 0.013185423948635202,
            "count": 0
           },
           {
            "bin_start": 0.013185423948635202,
            "bin_end": 0.014876198721829713,
            "count": 1
           }
          ]
         }
        },
        {
         "name": "CVX",
         "dtype": "float64",
         "stats": {
          "unique_count": 5,
          "nan_count": 0,
          "min": "0.002495979340689477",
          "max": "0.03685361268962274",
          "histogram": [
           {
            "bin_start": 0.002495979340689477,
            "bin_end": 0.0059317426755828035,
            "count": 1
           },
           {
            "bin_start": 0.0059317426755828035,
            "bin_end": 0.00936750601047613,
            "count": 0
           },
           {
            "bin_start": 0.00936750601047613,
            "bin_end": 0.012803269345369456,
            "count": 0
           },
           {
            "bin_start": 0.012803269345369456,
            "bin_end": 0.01623903268026278,
            "count": 2
           },
           {
            "bin_start": 0.01623903268026278,
            "bin_end": 0.019674796015156107,
            "count": 0
           },
           {
            "bin_start": 0.019674796015156107,
            "bin_end": 0.023110559350049433,
            "count": 1
           },
           {
            "bin_start": 0.023110559350049433,
            "bin_end": 0.02654632268494276,
            "count": 0
           },
           {
            "bin_start": 0.02654632268494276,
            "bin_end": 0.029982086019836086,
            "count": 0
           },
           {
            "bin_start": 0.029982086019836086,
            "bin_end": 0.03341784935472941,
            "count": 0
           },
           {
            "bin_start": 0.03341784935472941,
            "bin_end": 0.03685361268962274,
            "count": 1
           }
          ]
         }
        },
        {
         "name": "MET",
         "dtype": "float64",
         "stats": {
          "unique_count": 5,
          "nan_count": 0,
          "min": "-0.0016983186016340088",
          "max": "0.04966621899127888",
          "histogram": [
           {
            "bin_start": -0.0016983186016340088,
            "bin_end": 0.0034381351576572806,
            "count": 1
           },
           {
            "bin_start": 0.0034381351576572806,
            "bin_end": 0.00857458891694857,
            "count": 0
           },
           {
            "bin_start": 0.00857458891694857,
            "bin_end": 0.01371104267623986,
            "count": 2
           },
           {
            "bin_start": 0.01371104267623986,
            "bin_end": 0.01884749643553115,
            "count": 0
           },
           {
            "bin_start": 0.01884749643553115,
            "bin_end": 0.02398395019482244,
            "count": 0
           },
           {
            "bin_start": 0.02398395019482244,
            "bin_end": 0.029120403954113732,
            "count": 1
           },
           {
            "bin_start": 0.029120403954113732,
            "bin_end": 0.03425685771340502,
            "count": 0
           },
           {
            "bin_start": 0.03425685771340502,
            "bin_end": 0.039393311472696306,
            "count": 0
           },
           {
            "bin_start": 0.039393311472696306,
            "bin_end": 0.044529765231987595,
            "count": 0
           },
           {
            "bin_start": 0.044529765231987595,
            "bin_end": 0.04966621899127888,
            "count": 1
           }
          ]
         }
        },
        {
         "name": "AMT",
         "dtype": "float64",
         "stats": {
          "unique_count": 5,
          "nan_count": 0,
          "min": "0.0004569983770066865",
          "max": "0.018695292852014333",
          "histogram": [
           {
            "bin_start": 0.0004569983770066865,
            "bin_end": 0.002280827824507451,
            "count": 1
           },
           {
            "bin_start": 0.002280827824507451,
            "bin_end": 0.004104657272008216,
            "count": 0
           },
           {
            "bin_start": 0.004104657272008216,
            "bin_end": 0.00592848671950898,
            "count": 0
           },
           {
            "bin_start": 0.00592848671950898,
            "bin_end": 0.007752316167009745,
            "count": 1
           },
           {
            "bin_start": 0.007752316167009745,
            "bin_end": 0.00957614561451051,
            "count": 0
           },
           {
            "bin_start": 0.00957614561451051,
            "bin_end": 0.011399975062011274,
            "count": 0
           },
           {
            "bin_start": 0.011399975062011274,
            "bin_end": 0.013223804509512039,
            "count": 2
           },
           {
            "bin_start": 0.013223804509512039,
            "bin_end": 0.015047633957012804,
            "count": 0
           },
           {
            "bin_start": 0.015047633957012804,
            "bin_end": 0.016871463404513568,
            "count": 0
           },
           {
            "bin_start": 0.016871463404513568,
            "bin_end": 0.018695292852014333,
            "count": 1
           }
          ]
         }
        },
        {
         "name": "CRM",
         "dtype": "float64",
         "stats": {
          "unique_count": 5,
          "nan_count": 0,
          "min": "8.776856495263871e-05",
          "max": "0.029021749016571775",
          "histogram": [
           {
            "bin_start": 0.00008776856495263871,
            "bin_end": 0.002981166610114552,
            "count": 1
           },
           {
            "bin_start": 0.002981166610114552,
            "bin_end": 0.0058745646552764656,
            "count": 0
           },
           {
            "bin_start": 0.0058745646552764656,
            "bin_end": 0.008767962700438378,
            "count": 0
           },
           {
            "bin_start": 0.008767962700438378,
            "bin_end": 0.011661360745600292,
            "count": 0
           },
           {
            "bin_start": 0.011661360745600292,
            "bin_end": 0.014554758790762207,
            "count": 1
           },
           {
            "bin_start": 0.014554758790762207,
            "bin_end": 0.017448156835924118,
            "count": 0
           },
           {
            "bin_start": 0.017448156835924118,
            "bin_end": 0.020341554881086032,
            "count": 0
           },
           {
            "bin_start": 0.020341554881086032,
            "bin_end": 0.023234952926247946,
            "count": 0
           },
           {
            "bin_start": 0.023234952926247946,
            "bin_end": 0.02612835097140986,
            "count": 0
           },
           {
            "bin_start": 0.02612835097140986,
            "bin_end": 0.029021749016571775,
            "count": 3
           }
          ]
         }
        },
        {
         "name": "BLK",
         "dtype": "float64",
         "stats": {
          "unique_count": 5,
          "nan_count": 0,
          "min": "0.016379974743880494",
          "max": "0.024254004621863435",
          "histogram": [
           {
            "bin_start": 0.016379974743880494,
            "bin_end": 0.017167377731678788,
            "count": 1
           },
           {
            "bin_start": 0.017167377731678788,
            "bin_end": 0.017954780719477082,
            "count": 0
           },
           {
            "bin_start": 0.017954780719477082,
            "bin_end": 0.018742183707275376,
            "count": 0
           },
           {
            "bin_start": 0.018742183707275376,
            "bin_end": 0.01952958669507367,
            "count": 0
           },
           {
            "bin_start": 0.01952958669507367,
            "bin_end": 0.020316989682871964,
            "count": 1
           },
           {
            "bin_start": 0.020316989682871964,
            "bin_end": 0.02110439267067026,
            "count": 0
           },
           {
            "bin_start": 0.02110439267067026,
            "bin_end": 0.021891795658468553,
            "count": 0
           },
           {
            "bin_start": 0.021891795658468553,
            "bin_end": 0.022679198646266847,
            "count": 0
           },
           {
            "bin_start": 0.022679198646266847,
            "bin_end": 0.02346660163406514,
            "count": 1
           },
           {
            "bin_start": 0.02346660163406514,
            "bin_end": 0.024254004621863435,
            "count": 2
           }
          ]
         }
        },
        {
         "name": "RTX",
         "dtype": "float64",
         "stats": {
          "unique_count": 5,
          "nan_count": 0,
          "min": "0.0065841483669812255",
          "max": "0.03604251229166212",
          "histogram": [
           {
            "bin_start": 0.0065841483669812255,
            "bin_end": 0.009529984759449314,
            "count": 1
           },
           {
            "bin_start": 0.009529984759449314,
            "bin_end": 0.012475821151917404,
            "count": 0
           },
           {
            "bin_start": 0.012475821151917404,
            "bin_end": 0.015421657544385493,
            "count": 2
           },
           {
            "bin_start": 0.015421657544385493,
            "bin_end": 0.018367493936853583,
            "count": 0
           },
           {
            "bin_start": 0.018367493936853583,
            "bin_end": 0.021313330329321672,
            "count": 0
           },
           {
            "bin_start": 0.021313330329321672,
            "bin_end": 0.02425916672178976,
            "count": 1
           },
           {
            "bin_start": 0.02425916672178976,
            "bin_end": 0.027205003114257848,
            "count": 0
           },
           {
            "bin_start": 0.027205003114257848,
            "bin_end": 0.030150839506725938,
            "count": 0
           },
           {
            "bin_start": 0.030150839506725938,
            "bin_end": 0.03309667589919403,
            "count": 0
           },
           {
            "bin_start": 0.03309667589919403,
            "bin_end": 0.03604251229166212,
            "count": 1
           }
          ]
         }
        },
        {
         "name": "MCD",
         "dtype": "float64",
         "stats": {
          "unique_count": 5,
          "nan_count": 0,
          "min": "0.00805188384193317",
          "max": "0.013736052269759949",
          "histogram": [
           {
            "bin_start": 0.00805188384193317,
            "bin_end": 0.008620300684715847,
            "count": 1
           },
           {
            "bin_start": 0.008620300684715847,
            "bin_end": 0.009188717527498527,
            "count": 0
           },
           {
            "bin_start": 0.009188717527498527,
            "bin_end": 0.009757134370281204,
            "count": 0
           },
           {
            "bin_start": 0.009757134370281204,
            "bin_end": 0.010325551213063881,
            "count": 0
           },
           {
            "bin_start": 0.010325551213063881,
            "bin_end": 0.01089396805584656,
            "count": 1
           },
           {
            "bin_start": 0.01089396805584656,
            "bin_end": 0.011462384898629238,
            "count": 0
           },
           {
            "bin_start": 0.011462384898629238,
            "bin_end": 0.012030801741411915,
            "count": 0
           },
           {
            "bin_start": 0.012030801741411915,
            "bin_end": 0.012599218584194594,
            "count": 0
           },
           {
            "bin_start": 0.012599218584194594,
            "bin_end": 0.013167635426977272,
            "count": 1
           },
           {
            "bin_start": 0.013167635426977272,
            "bin_end": 0.013736052269759949,
            "count": 2
           }
          ]
         }
        },
        {
         "name": "TMO",
         "dtype": "float64",
         "stats": {
          "unique_count": 5,
          "nan_count": 0,
          "min": "-0.007784729688743247",
          "max": "0.021209464135647695",
          "histogram": [
           {
            "bin_start": -0.007784729688743247,
            "bin_end": -0.0048853103063041525,
            "count": 1
           },
           {
            "bin_start": -0.0048853103063041525,
            "bin_end": -0.001985890923865059,
            "count": 1
           },
           {
            "bin_start": -0.001985890923865059,
            "bin_end": 0.0009135284585740349,
            "count": 0
           },
           {
            "bin_start": 0.0009135284585740349,
            "bin_end": 0.0038129478410131295,
            "count": 0
           },
           {
            "bin_start": 0.0038129478410131295,
            "bin_end": 0.006712367223452224,
            "count": 0
           },
           {
            "bin_start": 0.006712367223452224,
            "bin_end": 0.009611786605891317,
            "count": 0
           },
           {
            "bin_start": 0.009611786605891317,
            "bin_end": 0.012511205988330412,
            "count": 0
           },
           {
            "bin_start": 0.012511205988330412,
            "bin_end": 0.015410625370769506,
            "count": 2
           },
           {
            "bin_start": 0.015410625370769506,
            "bin_end": 0.0183100447532086,
            "count": 0
           },
           {
            "bin_start": 0.0183100447532086,
            "bin_end": 0.021209464135647695,
            "count": 1
           }
          ]
         }
        },
        {
         "name": "LIN",
         "dtype": "float64",
         "stats": {
          "unique_count": 5,
          "nan_count": 0,
          "min": "0.010942999379004868",
          "max": "0.020683190610625672",
          "histogram": [
           {
            "bin_start": 0.010942999379004868,
            "bin_end": 0.011917018502166948,
            "count": 1
           },
           {
            "bin_start": 0.011917018502166948,
            "bin_end": 0.01289103762532903,
            "count": 0
           },
           {
            "bin_start": 0.01289103762532903,
            "bin_end": 0.01386505674849111,
            "count": 0
           },
           {
            "bin_start": 0.01386505674849111,
            "bin_end": 0.014839075871653189,
            "count": 0
           },
           {
            "bin_start": 0.014839075871653189,
            "bin_end": 0.01581309499481527,
            "count": 1
           },
           {
            "bin_start": 0.01581309499481527,
            "bin_end": 0.01678711411797735,
            "count": 2
           },
           {
            "bin_start": 0.01678711411797735,
            "bin_end": 0.01776113324113943,
            "count": 0
           },
           {
            "bin_start": 0.01776113324113943,
            "bin_end": 0.01873515236430151,
            "count": 0
           },
           {
            "bin_start": 0.01873515236430151,
            "bin_end": 0.01970917148746359,
            "count": 0
           },
           {
            "bin_start": 0.01970917148746359,
            "bin_end": 0.020683190610625672,
            "count": 1
           }
          ]
         }
        },
        {
         "name": "ADBE",
         "dtype": "float64",
         "stats": {
          "unique_count": 5,
          "nan_count": 0,
          "min": "-0.00033435092664022627",
          "max": "0.0362314753000571",
          "histogram": [
           {
            "bin_start": -0.00033435092664022627,
            "bin_end": 0.0033222316960295067,
            "count": 1
           },
           {
            "bin_start": 0.0033222316960295067,
            "bin_end": 0.00697881431869924,
            "count": 1
           },
           {
            "bin_start": 0.00697881431869924,
            "bin_end": 0.01063539694136897,
            "count": 0
           },
           {
            "bin_start": 0.01063539694136897,
            "bin_end": 0.014291979564038704,
            "count": 0
           },
           {
            "bin_start": 0.014291979564038704,
            "bin_end": 0.017948562186708438,
            "count": 0
           },
           {
            "bin_start": 0.017948562186708438,
            "bin_end": 0.02160514480937817,
            "count": 0
           },
           {
            "bin_start": 0.02160514480937817,
            "bin_end": 0.025261727432047902,
            "count": 0
           },
           {
            "bin_start": 0.025261727432047902,
            "bin_end": 0.028918310054717636,
            "count": 0
           },
           {
            "bin_start": 0.028918310054717636,
            "bin_end": 0.03257489267738737,
            "count": 0
           },
           {
            "bin_start": 0.03257489267738737,
            "bin_end": 0.0362314753000571,
            "count": 3
           }
          ]
         }
        },
        {
         "name": "EMR",
         "dtype": "float64",
         "stats": {
          "unique_count": 5,
          "nan_count": 0,
          "min": "0.007909250516595405",
          "max": "0.03253191367293765",
          "histogram": [
           {
            "bin_start": 0.007909250516595405,
            "bin_end": 0.01037151683222963,
            "count": 1
           },
           {
            "bin_start": 0.01037151683222963,
            "bin_end": 0.012833783147863854,
            "count": 0
           },
           {
            "bin_start": 0.012833783147863854,
            "bin_end": 0.01529604946349808,
            "count": 2
           },
           {
            "bin_start": 0.01529604946349808,
            "bin_end": 0.017758315779132304,
            "count": 0
           },
           {
            "bin_start": 0.017758315779132304,
            "bin_end": 0.02022058209476653,
            "count": 0
           },
           {
            "bin_start": 0.02022058209476653,
            "bin_end": 0.022682848410400754,
            "count": 1
           },
           {
            "bin_start": 0.022682848410400754,
            "bin_end": 0.02514511472603498,
            "count": 0
           },
           {
            "bin_start": 0.02514511472603498,
            "bin_end": 0.027607381041669203,
            "count": 0
           },
           {
            "bin_start": 0.027607381041669203,
            "bin_end": 0.030069647357303428,
            "count": 0
           },
           {
            "bin_start": 0.030069647357303428,
            "bin_end": 0.03253191367293765,
            "count": 1
           }
          ]
         }
        },
        {
         "name": "USB",
         "dtype": "float64",
         "stats": {
          "unique_count": 5,
          "nan_count": 0,
          "min": "-0.005766804760822535",
          "max": "0.038065039036468504",
          "histogram": [
           {
            "bin_start": -0.005766804760822535,
            "bin_end": -0.0013836203810934306,
            "count": 1
           },
           {
            "bin_start": -0.0013836203810934306,
            "bin_end": 0.0029995639986356735,
            "count": 0
           },
           {
            "bin_start": 0.0029995639986356735,
            "bin_end": 0.007382748378364778,
            "count": 2
           },
           {
            "bin_start": 0.007382748378364778,
            "bin_end": 0.011765932758093883,
            "count": 0
           },
           {
            "bin_start": 0.011765932758093883,
            "bin_end": 0.016149117137822987,
            "count": 0
           },
           {
            "bin_start": 0.016149117137822987,
            "bin_end": 0.02053230151755209,
            "count": 0
           },
           {
            "bin_start": 0.02053230151755209,
            "bin_end": 0.024915485897281195,
            "count": 1
           },
           {
            "bin_start": 0.024915485897281195,
            "bin_end": 0.0292986702770103,
            "count": 0
           },
           {
            "bin_start": 0.0292986702770103,
            "bin_end": 0.0336818546567394,
            "count": 0
           },
           {
            "bin_start": 0.0336818546567394,
            "bin_end": 0.038065039036468504,
            "count": 1
           }
          ]
         }
        },
        {
         "name": "UPS",
         "dtype": "float64",
         "stats": {
          "unique_count": 5,
          "nan_count": 0,
          "min": "0.00830671639969073",
          "max": "0.013107079524745642",
          "histogram": [
           {
            "bin_start": 0.00830671639969073,
            "bin_end": 0.008786752712196222,
            "count": 1
           },
           {
            "bin_start": 0.008786752712196222,
            "bin_end": 0.009266789024701712,
            "count": 0
           },
           {
            "bin_start": 0.009266789024701712,
            "bin_end": 0.009746825337207204,
            "count": 0
           },
           {
            "bin_start": 0.009746825337207204,
            "bin_end": 0.010226861649712695,
            "count": 2
           },
           {
            "bin_start": 0.010226861649712695,
            "bin_end": 0.010706897962218187,
            "count": 1
           },
           {
            "bin_start": 0.010706897962218187,
            "bin_end": 0.011186934274723677,
            "count": 0
           },
           {
            "bin_start": 0.011186934274723677,
            "bin_end": 0.011666970587229169,
            "count": 0
           },
           {
            "bin_start": 0.011666970587229169,
            "bin_end": 0.01214700689973466,
            "count": 0
           },
           {
            "bin_start": 0.01214700689973466,
            "bin_end": 0.01262704321224015,
            "count": 0
           },
           {
            "bin_start": 0.01262704321224015,
            "bin_end": 0.013107079524745642,
            "count": 1
           }
          ]
         }
        },
        {
         "name": "TSLA",
         "dtype": "float64",
         "stats": {
          "unique_count": 5,
          "nan_count": 0,
          "min": "-0.005078609234767617",
          "max": "0.04230828839546065",
          "histogram": [
           {
            "bin_start": -0.005078609234767617,
            "bin_end": -0.0003399194717447901,
            "count": 1
           },
           {
            "bin_start": -0.0003399194717447901,
            "bin_end": 0.004398770291278037,
            "count": 0
           },
           {
            "bin_start": 0.004398770291278037,
            "bin_end": 0.009137460054300866,
            "count": 0
           },
           {
            "bin_start": 0.009137460054300866,
            "bin_end": 0.013876149817323692,
            "count": 0
           },
           {
            "bin_start": 0.013876149817323692,
            "bin_end": 0.01861483958034652,
            "count": 0
           },
           {
            "bin_start": 0.01861483958034652,
            "bin_end": 0.023353529343369348,
            "count": 0
           },
           {
            "bin_start": 0.023353529343369348,
            "bin_end": 0.02809221910639217,
            "count": 0
           },
           {
            "bin_start": 0.02809221910639217,
            "bin_end": 0.032830908869415,
            "count": 1
           },
           {
            "bin_start": 0.032830908869415,
            "bin_end": 0.03756959863243783,
            "count": 0
           },
           {
            "bin_start": 0.03756959863243783,
            "bin_end": 0.04230828839546065,
            "count": 3
           }
          ]
         }
        },
        {
         "name": "PFE",
         "dtype": "float64",
         "stats": {
          "unique_count": 5,
          "nan_count": 0,
          "min": "0.0016644723156239434",
          "max": "0.0048330644865142176",
          "histogram": [
           {
            "bin_start": 0.0016644723156239434,
            "bin_end": 0.0019813315327129708,
            "count": 1
           },
           {
            "bin_start": 0.0019813315327129708,
            "bin_end": 0.002298190749801998,
            "count": 1
           },
           {
            "bin_start": 0.002298190749801998,
            "bin_end": 0.002615049966891026,
            "count": 0
           },
           {
            "bin_start": 0.002615049966891026,
            "bin_end": 0.0029319091839800533,
            "count": 0
           },
           {
            "bin_start": 0.0029319091839800533,
            "bin_end": 0.0032487684010690807,
            "count": 0
           },
           {
            "bin_start": 0.0032487684010690807,
            "bin_end": 0.003565627618158108,
            "count": 1
           },
           {
            "bin_start": 0.003565627618158108,
            "bin_end": 0.0038824868352471354,
            "count": 0
           },
           {
            "bin_start": 0.0038824868352471354,
            "bin_end": 0.004199346052336163,
            "count": 1
           },
           {
            "bin_start": 0.004199346052336163,
            "bin_end": 0.00451620526942519,
            "count": 0
           },
           {
            "bin_start": 0.00451620526942519,
            "bin_end": 0.0048330644865142176,
            "count": 1
           }
          ]
         }
        },
        {
         "name": "PM",
         "dtype": "float64",
         "stats": {
          "unique_count": 5,
          "nan_count": 0,
          "min": "0.007998953975587952",
          "max": "0.011899120788526242",
          "histogram": [
           {
            "bin_start": 0.007998953975587952,
            "bin_end": 0.00838897065688178,
            "count": 3
           },
           {
            "bin_start": 0.00838897065688178,
            "bin_end": 0.00877898733817561,
            "count": 1
           },
           {
            "bin_start": 0.00877898733817561,
            "bin_end": 0.009169004019469438,
            "count": 0
           },
           {
            "bin_start": 0.009169004019469438,
            "bin_end": 0.009559020700763268,
            "count": 0
           },
           {
            "bin_start": 0.009559020700763268,
            "bin_end": 0.009949037382057097,
            "count": 0
           },
           {
            "bin_start": 0.009949037382057097,
            "bin_end": 0.010339054063350925,
            "count": 0
           },
           {
            "bin_start": 0.010339054063350925,
            "bin_end": 0.010729070744644754,
            "count": 0
           },
           {
            "bin_start": 0.010729070744644754,
            "bin_end": 0.011119087425938583,
            "count": 0
           },
           {
            "bin_start": 0.011119087425938583,
            "bin_end": 0.011509104107232413,
            "count": 0
           },
           {
            "bin_start": 0.011509104107232413,
            "bin_end": 0.011899120788526242,
            "count": 1
           }
          ]
         }
        },
        {
         "name": "_deepnote_index_column",
         "dtype": "object"
        }
       ],
       "rows": [
        {
         "GOOG": 0.05915219937051302,
         "SPG": 0.015217222016599738,
         "GOOGL": 0.0592874874954918,
         "MSFT": 0.035130219446776294,
         "GD": 0.007998504496865734,
         "ACN": 0.019704356985579024,
         "COP": 0.01604182392398494,
         "F": 0.011180829447539108,
         "BAC": 0.008178884769225991,
         "GS": 0.009388527640974385,
         "NVDA": 0.0435731543659017,
         "AIG": 0.00980643950279088,
         "MS": 0.014248036590583263,
         "WFC": 0.00929587049607889,
         "ORCL": 0.005806231777978071,
         "XOM": 0.016624666291855956,
         "TGT": 0.012631471108639623,
         "LOW": 0.01320004039396117,
         "EXC": 0.009368462516520112,
         "COST": 0.014167019166753527,
         "AXP": 0.01325630213433914,
         "BK": 0.0042566901148607,
         "JPM": 0.00813909738975343,
         "COF": 0.008445823502377136,
         "CSCO": 0.013796320116860617,
         "DHR": 0.014188124465538464,
         "UNH": 0.010185941696014713,
         "CVS": 0.002299847575184509,
         "LLY": 0.009991050156656599,
         "CVX": 0.015441602779934806,
         "MET": 0.008862638952051085,
         "AMT": 0.012586168830395037,
         "CRM": 0.027879408864211044,
         "BLK": 0.023309977835141587,
         "RTX": 0.013036037273000518,
         "MCD": 0.013290848675280367,
         "TMO": 0.013035978590249795,
         "LIN": 0.016221727340038534,
         "ADBE": 0.03308326950200072,
         "EMR": 0.013595544498895832,
         "USB": 0.003843664075404572,
         "UPS": 0.009887501250035291,
         "TSLA": 0.03866975135841409,
         "PFE": 0.0016644723156239434,
         "PM": 0.008310609660455765,
         "_deepnote_index_column": "GOOG"
        },
        {
         "GOOG": 0.015217222016599738,
         "SPG": 0.09278512529462227,
         "GOOGL": 0.014786511376479157,
         "MSFT": 0.006907808689327489,
         "GD": 0.022520308997809366,
         "ACN": 0.016238808240329996,
         "COP": 0.05149650743272874,
         "F": 0.05585049579791361,
         "BAC": 0.03858455283446213,
         "GS": 0.040721762830357694,
         "NVDA": 0.012699580449346558,
         "AIG": 0.04932608705178526,
         "MS": 0.03926388397530105,
         "WFC": 0.04692414258332135,
         "ORCL": 0.012960941313500467,
         "XOM": 0.04084114131759948,
         "TGT": 0.02046378160740258,
         "LOW": 0.019239451400133233,
         "EXC": 0.014757423784121008,
         "COST": 0.006962369381896872,
         "AXP": 0.041757900912253336,
         "BK": 0.031334742688428535,
         "JPM": 0.0329778951847722,
         "COF": 0.049096998453981876,
         "CSCO": 0.01475987653057769,
         "DHR": -0.003638759682394203,
         "UNH": 0.00753718486638107,
         "CVS": 0.011693561473191758,
         "LLY": -0.0020315490101154026,
         "CVX": 0.03685361268962274,
         "MET": 0.04966621899127888,
         "AMT": 0.006340886652477044,
         "CRM": 0.012297225435924408,
         "BLK": 0.024254004621863435,
         "RTX": 0.03604251229166212,
         "MCD": 0.013736052269759949,
         "TMO": -0.007784729688743247,
         "LIN": 0.020683190610625672,
         "ADBE": 0.005540440906790587,
         "EMR": 0.03253191367293765,
         "USB": 0.038065039036468504,
         "UPS": 0.013107079524745642,
         "TSLA": 0.03246537854946,
         "PFE": 0.002207307467021063,
         "PM": 0.011899120788526242,
         "_deepnote_index_column": "SPG"
        },
        {
         "GOOG": 0.0592874874954918,
         "SPG": 0.014786511376479157,
         "GOOGL": 0.0624277105217813,
         "MSFT": 0.0367477396636503,
         "GD": 0.007802758988704626,
         "ACN": 0.019641429391984495,
         "COP": 0.016128154171694446,
         "F": 0.011419822742811036,
         "BAC": 0.007795102570737228,
         "GS": 0.00905415607493653,
         "NVDA": 0.047771637039848595,
         "AIG": 0.00881294708236387,
         "MS": 0.013907021403767063,
         "WFC": 0.008812205742196237,
         "ORCL": 0.005283538330030827,
         "XOM": 0.016468437886025956,
         "TGT": 0.01235542144016503,
         "LOW": 0.012558661851537303,
         "EXC": 0.009256255507532063,
         "COST": 0.014956357178274223,
         "AXP": 0.012476281384792278,
         "BK": 0.0037715681428534932,
         "JPM": 0.007881716002909548,
         "COF": 0.00744142544589068,
         "CSCO": 0.014005827618855207,
         "DHR": 0.01556346959006312,
         "UNH": 0.009379507192330171,
         "CVS": 0.002174590436321927,
         "LLY": 0.011203241815926652,
         "CVX": 0.0154046822736589,
         "MET": 0.008577954248982052,
         "AMT": 0.013157304541870269,
         "CRM": 0.029021749016571775,
         "BLK": 0.024162199787896802,
         "RTX": 0.012791783745740968,
         "MCD": 0.012829421885097983,
         "TMO": 0.014384096436756859,
         "LIN": 0.01662681021685509,
         "ADBE": 0.03435918556299004,
         "EMR": 0.014106160766057441,
         "USB": 0.0030551837491604307,
         "UPS": 0.009954344637643364,
         "TSLA": 0.03917144321594855,
         "PFE": 0.003473777708641228,
         "PM": 0.00825760361219977,
         "_deepnote_index_column": "GOOGL"
        },
        {
         "GOOG": 0.035130219446776294,
         "SPG": 0.006907808689327489,
         "GOOGL": 0.0367477396636503,
         "MSFT": 0.042574085055095724,
         "GD": 0.003716388484454604,
         "ACN": 0.019891544057879636,
         "COP": -0.002032214592421308,
         "F": 0.0032645195160931973,
         "BAC": -0.00452260522239529,
         "GS": -0.0005844126022659073,
         "NVDA": 0.04886985382730209,
         "AIG": -0.002399249161372493,
         "MS": 0.003097442320666902,
         "WFC": -0.0010165071782239142,
         "ORCL": 0.0076513687080871015,
         "XOM": -0.0009207852184209951,
         "TGT": 0.011613546512835308,
         "LOW": 0.015383006865403915,
         "EXC": 0.0095165304088469,
         "COST": 0.017011458330402286,
         "AXP": 0.0018820465572114496,
         "BK": -0.005564680456843438,
         "JPM": -0.0012398148478175762,
         "COF": -0.0059138822829046984,
         "CSCO": 0.016738821249560696,
         "DHR": 0.018364520919959722,
         "UNH": 0.008900788054258991,
         "CVS": 0.0005504107641760844,
         "LLY": 0.014876198721829713,
         "CVX": 0.002495979340689477,
         "MET": -0.0016983186016340088,
         "AMT": 0.018695292852014333,
         "CRM": 0.026642365474158398,
         "BLK": 0.020278040007036282,
         "RTX": 0.0065841483669812255,
         "MCD": 0.010636367074332851,
         "TMO": 0.021209464135647695,
         "LIN": 0.01537457420637438,
         "ADBE": 0.0362314753000571,
         "EMR": 0.007909250516595405,
         "USB": -0.005766804760822535,
         "UPS": 0.010340412920723133,
         "TSLA": 0.04230828839546065,
         "PFE": 0.003970017856138179,
         "PM": 0.007998953975587952,
         "_deepnote_index_column": "MSFT"
        },
        {
         "GOOG": 0.007998504496865734,
         "SPG": 0.022520308997809366,
         "GOOGL": 0.007802758988704626,
         "MSFT": 0.003716388484454604,
         "GD": 0.029850163351947567,
         "ACN": 0.012099292316008961,
         "COP": 0.021924594127428657,
         "F": 0.018899077971003715,
         "BAC": 0.023948399151152534,
         "GS": 0.021352075158943523,
         "NVDA": -0.0062973829759895746,
         "AIG": 0.027861322129747346,
         "MS": 0.020395839182984595,
         "WFC": 0.029047409821754803,
         "ORCL": 0.01716010241845621,
         "XOM": 0.021459871482459054,
         "TGT": 0.011395633847861601,
         "LOW": 0.012227261335059535,
         "EXC": 0.008275744676132572,
         "COST": 0.005225360626002977,
         "AXP": 0.02375225865059593,
         "BK": 0.022882879939604306,
         "JPM": 0.01988406308736631,
         "COF": 0.027109941590931476,
         "CSCO": 0.013578448154381237,
         "DHR": 0.0005088607148221639,
         "UNH": 0.009774671565845624,
         "CVS": 0.014900695223280129,
         "LLY": 0.004358687165190838,
         "CVX": 0.0204601777865825,
         "MET": 0.02619888101432315,
         "AMT": 0.0004569983770066865,
         "CRM": 0.00008776856495263871,
         "BLK": 0.016379974743880494,
         "RTX": 0.021643413534825084,
         "MCD": 0.00805188384193317,
         "TMO": -0.003555667735302473,
         "LIN": 0.010942999379004868,
         "ADBE": -0.00033435092664022627,
         "EMR": 0.02230951792512377,
         "USB": 0.024644380072689803,
         "UPS": 0.00830671639969073,
         "TSLA": -0.005078609234767617,
         "PFE": 0.0048330644865142176,
         "PM": 0.008683169054379518,
         "_deepnote_index_column": "GD"
        }
       ]
      },
      "text/plain": "           GOOG       SPG     GOOGL      MSFT        GD       ACN       COP  \\\nGOOG   0.059152  0.015217  0.059287  0.035130  0.007999  0.019704  0.016042   \nSPG    0.015217  0.092785  0.014787  0.006908  0.022520  0.016239  0.051497   \nGOOGL  0.059287  0.014787  0.062428  0.036748  0.007803  0.019641  0.016128   \nMSFT   0.035130  0.006908  0.036748  0.042574  0.003716  0.019892 -0.002032   \nGD     0.007999  0.022520  0.007803  0.003716  0.029850  0.012099  0.021925   \n\n              F       BAC        GS  ...       MCD       TMO       LIN  \\\nGOOG   0.011181  0.008179  0.009389  ...  0.013291  0.013036  0.016222   \nSPG    0.055850  0.038585  0.040722  ...  0.013736 -0.007785  0.020683   \nGOOGL  0.011420  0.007795  0.009054  ...  0.012829  0.014384  0.016627   \nMSFT   0.003265 -0.004523 -0.000584  ...  0.010636  0.021209  0.015375   \nGD     0.018899  0.023948  0.021352  ...  0.008052 -0.003556  0.010943   \n\n           ADBE       EMR       USB       UPS      TSLA       PFE        PM  \nGOOG   0.033083  0.013596  0.003844  0.009888  0.038670  0.001664  0.008311  \nSPG    0.005540  0.032532  0.038065  0.013107  0.032465  0.002207  0.011899  \nGOOGL  0.034359  0.014106  0.003055  0.009954  0.039171  0.003474  0.008258  \nMSFT   0.036231  0.007909 -0.005767  0.010340  0.042308  0.003970  0.007999  \nGD    -0.000334  0.022310  0.024644  0.008307 -0.005079  0.004833  0.008683  \n\n[5 rows x 45 columns]",
      "text/html": "<div>\n<style scoped>\n    .dataframe tbody tr th:only-of-type {\n        vertical-align: middle;\n    }\n\n    .dataframe tbody tr th {\n        vertical-align: top;\n    }\n\n    .dataframe thead th {\n        text-align: right;\n    }\n</style>\n<table border=\"1\" class=\"dataframe\">\n  <thead>\n    <tr style=\"text-align: right;\">\n      <th></th>\n      <th>GOOG</th>\n      <th>SPG</th>\n      <th>GOOGL</th>\n      <th>MSFT</th>\n      <th>GD</th>\n      <th>ACN</th>\n      <th>COP</th>\n      <th>F</th>\n      <th>BAC</th>\n      <th>GS</th>\n      <th>...</th>\n      <th>MCD</th>\n      <th>TMO</th>\n      <th>LIN</th>\n      <th>ADBE</th>\n      <th>EMR</th>\n      <th>USB</th>\n      <th>UPS</th>\n      <th>TSLA</th>\n      <th>PFE</th>\n      <th>PM</th>\n    </tr>\n  </thead>\n  <tbody>\n    <tr>\n      <th>GOOG</th>\n      <td>0.059152</td>\n      <td>0.015217</td>\n      <td>0.059287</td>\n      <td>0.035130</td>\n      <td>0.007999</td>\n      <td>0.019704</td>\n      <td>0.016042</td>\n      <td>0.011181</td>\n      <td>0.008179</td>\n      <td>0.009389</td>\n      <td>...</td>\n      <td>0.013291</td>\n      <td>0.013036</td>\n      <td>0.016222</td>\n      <td>0.033083</td>\n      <td>0.013596</td>\n      <td>0.003844</td>\n      <td>0.009888</td>\n      <td>0.038670</td>\n      <td>0.001664</td>\n      <td>0.008311</td>\n    </tr>\n    <tr>\n      <th>SPG</th>\n      <td>0.015217</td>\n      <td>0.092785</td>\n      <td>0.014787</td>\n      <td>0.006908</td>\n      <td>0.022520</td>\n      <td>0.016239</td>\n      <td>0.051497</td>\n      <td>0.055850</td>\n      <td>0.038585</td>\n      <td>0.040722</td>\n      <td>...</td>\n      <td>0.013736</td>\n      <td>-0.007785</td>\n      <td>0.020683</td>\n      <td>0.005540</td>\n      <td>0.032532</td>\n      <td>0.038065</td>\n      <td>0.013107</td>\n      <td>0.032465</td>\n      <td>0.002207</td>\n      <td>0.011899</td>\n    </tr>\n    <tr>\n      <th>GOOGL</th>\n      <td>0.059287</td>\n      <td>0.014787</td>\n      <td>0.062428</td>\n      <td>0.036748</td>\n      <td>0.007803</td>\n      <td>0.019641</td>\n      <td>0.016128</td>\n      <td>0.011420</td>\n      <td>0.007795</td>\n      <td>0.009054</td>\n      <td>...</td>\n      <td>0.012829</td>\n      <td>0.014384</td>\n      <td>0.016627</td>\n      <td>0.034359</td>\n      <td>0.014106</td>\n      <td>0.003055</td>\n      <td>0.009954</td>\n      <td>0.039171</td>\n      <td>0.003474</td>\n      <td>0.008258</td>\n    </tr>\n    <tr>\n      <th>MSFT</th>\n      <td>0.035130</td>\n      <td>0.006908</td>\n      <td>0.036748</td>\n      <td>0.042574</td>\n      <td>0.003716</td>\n      <td>0.019892</td>\n      <td>-0.002032</td>\n      <td>0.003265</td>\n      <td>-0.004523</td>\n      <td>-0.000584</td>\n      <td>...</td>\n      <td>0.010636</td>\n      <td>0.021209</td>\n      <td>0.015375</td>\n      <td>0.036231</td>\n      <td>0.007909</td>\n      <td>-0.005767</td>\n      <td>0.010340</td>\n      <td>0.042308</td>\n      <td>0.003970</td>\n      <td>0.007999</td>\n    </tr>\n    <tr>\n      <th>GD</th>\n      <td>0.007999</td>\n      <td>0.022520</td>\n      <td>0.007803</td>\n      <td>0.003716</td>\n      <td>0.029850</td>\n      <td>0.012099</td>\n      <td>0.021925</td>\n      <td>0.018899</td>\n      <td>0.023948</td>\n      <td>0.021352</td>\n      <td>...</td>\n      <td>0.008052</td>\n      <td>-0.003556</td>\n      <td>0.010943</td>\n      <td>-0.000334</td>\n      <td>0.022310</td>\n      <td>0.024644</td>\n      <td>0.008307</td>\n      <td>-0.005079</td>\n      <td>0.004833</td>\n      <td>0.008683</td>\n    </tr>\n  </tbody>\n</table>\n<p>5 rows × 45 columns</p>\n</div>"
     },
     "metadata": {}
    }
   ],
   "execution_count": 6
  },
  {
   "cell_type": "code",
   "source": "symbols = np.array(rates.columns)\nr = rates.mean() * num_days\nr = r.to_numpy()\nlen(r)",
   "metadata": {
    "tags": [],
    "cell_id": "00007-1f911ba8-ee80-4304-9f10-a8ec6a14c29c",
    "deepnote_to_be_reexecuted": false,
    "source_hash": "a1437bd6",
    "execution_start": 1639691367040,
    "execution_millis": 80607,
    "deepnote_output_heights": [
     21.1875
    ],
    "deepnote_cell_type": "code"
   },
   "outputs": [
    {
     "output_type": "execute_result",
     "execution_count": 7,
     "data": {
      "text/plain": "45"
     },
     "metadata": {}
    }
   ],
   "execution_count": 7
  },
  {
   "cell_type": "markdown",
   "source": "# Priprava matic a vektorov pre LP",
   "metadata": {
    "cell_id": "00005-d9d88a3c-f417-4b68-8e92-4d9f03a7b417",
    "deepnote_cell_type": "markdown"
   }
  },
  {
   "cell_type": "code",
   "metadata": {
    "deepnote_to_be_reexecuted": false,
    "source_hash": "b9deb6c0",
    "execution_start": 1639691367053,
    "execution_millis": 2,
    "cell_id": "00006-1ea0cda4-37fd-4e2c-bb97-fd33fdaaaad1",
    "deepnote_cell_type": "code"
   },
   "source": "c = np.zeros(2*n+1)\nc[:n] = r\n\nA_ub = np.zeros((n+1,2*n+1))\nA_ub[0,n:-1] = np.ones(n)\nA_ub[0,-1] = k\nA_ub[1:,:n] = np.identity(n)\nA_ub[1:,n:-1] = -np.identity(n)\nA_ub[1:,-1] = -np.ones(n)\n\nb_ub = np.zeros(n+1)\nb_ub[0] = alpha\n\nA_eq = np.zeros((1,2*n+1))\nA_eq[0,:n] = np.ones(n)\n\nb_eq = np.array([1])\n\nx_bounds = [(0,None) for _ in range(n)]\nlambda1_bounds = [(0,None) for _ in range(n)]\nlambda2_bounds = [(None,None)]\n\nbounds = []\nfor l in [x_bounds,lambda1_bounds,lambda2_bounds]:\n    bounds.extend(l)",
   "execution_count": 8,
   "outputs": []
  },
  {
   "cell_type": "markdown",
   "source": "# Uloha LP",
   "metadata": {
    "cell_id": "00007-ad24fc79-3bdf-4dcf-8427-8a109ec6fac0",
    "deepnote_cell_type": "markdown"
   }
  },
  {
   "cell_type": "code",
   "metadata": {
    "deepnote_to_be_reexecuted": false,
    "source_hash": "4adcaf84",
    "execution_start": 1639691367056,
    "execution_millis": 20,
    "cell_id": "00008-11cf25ed-1a0f-4147-bf42-9d32885020f3",
    "deepnote_cell_type": "code"
   },
   "source": "res = linprog(-c, A_ub=A_ub, b_ub=b_ub,A_eq =A_eq,b_eq=b_eq ,bounds=bounds,method='revised simplex')\nprint(res)\nx = res.x[:n]",
   "execution_count": 9,
   "outputs": [
    {
     "name": "stdout",
     "text": "     con: array([3.33066907e-16])\n     fun: -0.6818721944287918\n message: 'Optimization terminated successfully.'\n     nit: 28\n   slack: array([ 5.55111512e-17,  0.00000000e+00,  0.00000000e+00, -6.93889390e-18,\n       -6.93889390e-18,  4.28571429e-02,  4.28571429e-02, -6.93889390e-18,\n        6.93889390e-18, -6.93889390e-18, -6.93889390e-18, -6.93889390e-18,\n       -6.93889390e-18, -6.93889390e-18, -6.93889390e-18, -6.93889390e-18,\n       -6.93889390e-18, -6.93889390e-18, -6.93889390e-18,  4.28571429e-02,\n        4.28571429e-02, -6.93889390e-18,  6.93889390e-18,  4.28571429e-02,\n       -6.93889390e-18,  4.28571429e-02,  4.28571429e-02,  4.28571429e-02,\n        4.28571429e-02,  6.93889390e-18,  4.28571429e-02,  4.28571429e-02,\n        4.28571429e-02,  4.28571429e-02,  4.28571429e-02,  4.28571429e-02,\n        4.28571429e-02,  4.28571429e-02,  4.28571429e-02,  4.28571429e-02,\n        4.28571429e-02,  4.28571429e-02,  4.28571429e-02, -6.93889390e-18,\n        4.28571429e-02,  4.28571429e-02])\n  status: 0\n success: True\n       x: array([0.04285714, 0.04285714, 0.04285714, 0.04285714, 0.        ,\n       0.        , 0.04285714, 0.14285714, 0.04285714, 0.04285714,\n       0.04285714, 0.04285714, 0.04285714, 0.04285714, 0.04285714,\n       0.04285714, 0.04285714, 0.04285714, 0.        , 0.        ,\n       0.04285714, 0.04285714, 0.        , 0.04285714, 0.        ,\n       0.        , 0.        , 0.        , 0.04285714, 0.        ,\n       0.        , 0.        , 0.        , 0.        , 0.        ,\n       0.        , 0.        , 0.        , 0.        , 0.        ,\n       0.        , 0.        , 0.04285714, 0.        , 0.        ,\n       0.        , 0.        , 0.        , 0.        , 0.        ,\n       0.        , 0.        , 0.1       , 0.        , 0.        ,\n       0.        , 0.        , 0.        , 0.        , 0.        ,\n       0.        , 0.        , 0.        , 0.        , 0.        ,\n       0.        , 0.        , 0.        , 0.        , 0.        ,\n       0.        , 0.        , 0.        , 0.        , 0.        ,\n       0.        , 0.        , 0.        , 0.        , 0.        ,\n       0.        , 0.        , 0.        , 0.        , 0.        ,\n       0.        , 0.        , 0.        , 0.        , 0.        ,\n       0.04285714])\n",
     "output_type": "stream",
     "data": {}
    }
   ]
  },
  {
   "cell_type": "markdown",
   "source": "# Vizualizacia vysledkov",
   "metadata": {
    "cell_id": "00009-26dea4ec-f630-493b-a5c3-9bea81ecd656",
    "deepnote_cell_type": "markdown"
   }
  },
  {
   "cell_type": "code",
   "metadata": {
    "deepnote_output_heights": [
     527
    ],
    "deepnote_to_be_reexecuted": false,
    "source_hash": "171baa5f",
    "execution_start": 1639691448190,
    "execution_millis": 46,
    "cell_id": "00010-7015e9e1-1988-437c-b68a-ca45134e9a7a",
    "deepnote_cell_type": "code"
   },
   "source": "fig = go.Figure([go.Bar(x=wanted_stocks, y=x, marker_color = '#88bf4d')])\nfig.update_layout(\n    title=\"Váhy jednotlivých aktív (k = 7, alpha = 0.4)\",\n    xaxis_title=\"Symbol\",\n    yaxis_title=\"Percentuálny podiel\",\n)\nfig.show()",
   "execution_count": 14,
   "outputs": [
    {
     "data": {
      "text/html": "<html>\n<head><meta charset=\"utf-8\" /></head>\n<body>\n    <div>            <script src=\"https://cdnjs.cloudflare.com/ajax/libs/mathjax/2.7.5/MathJax.js?config=TeX-AMS-MML_SVG\"></script><script type=\"text/javascript\">if (window.MathJax) {MathJax.Hub.Config({SVG: {font: \"STIX-Web\"}});}</script>                <script type=\"text/javascript\">window.PlotlyConfig = {MathJaxConfig: 'local'};</script>\n        <script src=\"https://cdn.plot.ly/plotly-2.6.3.min.js\"></script>                <div id=\"6b4c03e7-ead3-47aa-9174-349229521faa\" class=\"plotly-graph-div\" style=\"height:525px; width:100%;\"></div>            <script type=\"text/javascript\">                                    window.PLOTLYENV=window.PLOTLYENV || {};                                    if (document.getElementById(\"6b4c03e7-ead3-47aa-9174-349229521faa\")) {                    Plotly.newPlot(                        \"6b4c03e7-ead3-47aa-9174-349229521faa\",                        [{\"marker\":{\"color\":\"#88bf4d\"},\"x\":[\"GOOG\",\"SPG\",\"GOOGL\",\"MSFT\",\"GD\",\"ACN\",\"COP\",\"F\",\"BAC\",\"GS\",\"NVDA\",\"AIG\",\"MS\",\"WFC\",\"ORCL\",\"XOM\",\"TGT\",\"LOW\",\"EXC\",\"COST\",\"AXP\",\"BK\",\"JPM\",\"COF\",\"CSCO\",\"DHR\",\"UNH\",\"CVS\",\"LLY\",\"CVX\",\"MET\",\"AMT\",\"CRM\",\"BLK\",\"RTX\",\"MCD\",\"TMO\",\"LIN\",\"ADBE\",\"EMR\",\"USB\",\"UPS\",\"TSLA\",\"PFE\",\"PM\"],\"y\":[0.04285714285714282,0.04285714285714282,0.04285714285714283,0.04285714285714283,0.0,0.0,0.04285714285714283,0.14285714285714302,0.04285714285714283,0.04285714285714283,0.04285714285714283,0.04285714285714283,0.04285714285714283,0.04285714285714283,0.04285714285714283,0.04285714285714283,0.04285714285714283,0.04285714285714283,0.0,0.0,0.04285714285714283,0.042857142857142816,0.0,0.04285714285714283,0.0,0.0,0.0,0.0,0.042857142857142816,0.0,0.0,0.0,0.0,0.0,0.0,0.0,0.0,0.0,0.0,0.0,0.0,0.0,0.04285714285714283,0.0,0.0],\"type\":\"bar\"}],                        {\"template\":{\"data\":{\"bar\":[{\"error_x\":{\"color\":\"#2a3f5f\"},\"error_y\":{\"color\":\"#2a3f5f\"},\"marker\":{\"line\":{\"color\":\"#E5ECF6\",\"width\":0.5},\"pattern\":{\"fillmode\":\"overlay\",\"size\":10,\"solidity\":0.2}},\"type\":\"bar\"}],\"barpolar\":[{\"marker\":{\"line\":{\"color\":\"#E5ECF6\",\"width\":0.5},\"pattern\":{\"fillmode\":\"overlay\",\"size\":10,\"solidity\":0.2}},\"type\":\"barpolar\"}],\"carpet\":[{\"aaxis\":{\"endlinecolor\":\"#2a3f5f\",\"gridcolor\":\"white\",\"linecolor\":\"white\",\"minorgridcolor\":\"white\",\"startlinecolor\":\"#2a3f5f\"},\"baxis\":{\"endlinecolor\":\"#2a3f5f\",\"gridcolor\":\"white\",\"linecolor\":\"white\",\"minorgridcolor\":\"white\",\"startlinecolor\":\"#2a3f5f\"},\"type\":\"carpet\"}],\"choropleth\":[{\"colorbar\":{\"outlinewidth\":0,\"ticks\":\"\"},\"type\":\"choropleth\"}],\"contour\":[{\"colorbar\":{\"outlinewidth\":0,\"ticks\":\"\"},\"colorscale\":[[0.0,\"#0d0887\"],[0.1111111111111111,\"#46039f\"],[0.2222222222222222,\"#7201a8\"],[0.3333333333333333,\"#9c179e\"],[0.4444444444444444,\"#bd3786\"],[0.5555555555555556,\"#d8576b\"],[0.6666666666666666,\"#ed7953\"],[0.7777777777777778,\"#fb9f3a\"],[0.8888888888888888,\"#fdca26\"],[1.0,\"#f0f921\"]],\"type\":\"contour\"}],\"contourcarpet\":[{\"colorbar\":{\"outlinewidth\":0,\"ticks\":\"\"},\"type\":\"contourcarpet\"}],\"heatmap\":[{\"colorbar\":{\"outlinewidth\":0,\"ticks\":\"\"},\"colorscale\":[[0.0,\"#0d0887\"],[0.1111111111111111,\"#46039f\"],[0.2222222222222222,\"#7201a8\"],[0.3333333333333333,\"#9c179e\"],[0.4444444444444444,\"#bd3786\"],[0.5555555555555556,\"#d8576b\"],[0.6666666666666666,\"#ed7953\"],[0.7777777777777778,\"#fb9f3a\"],[0.8888888888888888,\"#fdca26\"],[1.0,\"#f0f921\"]],\"type\":\"heatmap\"}],\"heatmapgl\":[{\"colorbar\":{\"outlinewidth\":0,\"ticks\":\"\"},\"colorscale\":[[0.0,\"#0d0887\"],[0.1111111111111111,\"#46039f\"],[0.2222222222222222,\"#7201a8\"],[0.3333333333333333,\"#9c179e\"],[0.4444444444444444,\"#bd3786\"],[0.5555555555555556,\"#d8576b\"],[0.6666666666666666,\"#ed7953\"],[0.7777777777777778,\"#fb9f3a\"],[0.8888888888888888,\"#fdca26\"],[1.0,\"#f0f921\"]],\"type\":\"heatmapgl\"}],\"histogram\":[{\"marker\":{\"pattern\":{\"fillmode\":\"overlay\",\"size\":10,\"solidity\":0.2}},\"type\":\"histogram\"}],\"histogram2d\":[{\"colorbar\":{\"outlinewidth\":0,\"ticks\":\"\"},\"colorscale\":[[0.0,\"#0d0887\"],[0.1111111111111111,\"#46039f\"],[0.2222222222222222,\"#7201a8\"],[0.3333333333333333,\"#9c179e\"],[0.4444444444444444,\"#bd3786\"],[0.5555555555555556,\"#d8576b\"],[0.6666666666666666,\"#ed7953\"],[0.7777777777777778,\"#fb9f3a\"],[0.8888888888888888,\"#fdca26\"],[1.0,\"#f0f921\"]],\"type\":\"histogram2d\"}],\"histogram2dcontour\":[{\"colorbar\":{\"outlinewidth\":0,\"ticks\":\"\"},\"colorscale\":[[0.0,\"#0d0887\"],[0.1111111111111111,\"#46039f\"],[0.2222222222222222,\"#7201a8\"],[0.3333333333333333,\"#9c179e\"],[0.4444444444444444,\"#bd3786\"],[0.5555555555555556,\"#d8576b\"],[0.6666666666666666,\"#ed7953\"],[0.7777777777777778,\"#fb9f3a\"],[0.8888888888888888,\"#fdca26\"],[1.0,\"#f0f921\"]],\"type\":\"histogram2dcontour\"}],\"mesh3d\":[{\"colorbar\":{\"outlinewidth\":0,\"ticks\":\"\"},\"type\":\"mesh3d\"}],\"parcoords\":[{\"line\":{\"colorbar\":{\"outlinewidth\":0,\"ticks\":\"\"}},\"type\":\"parcoords\"}],\"pie\":[{\"automargin\":true,\"type\":\"pie\"}],\"scatter\":[{\"marker\":{\"colorbar\":{\"outlinewidth\":0,\"ticks\":\"\"}},\"type\":\"scatter\"}],\"scatter3d\":[{\"line\":{\"colorbar\":{\"outlinewidth\":0,\"ticks\":\"\"}},\"marker\":{\"colorbar\":{\"outlinewidth\":0,\"ticks\":\"\"}},\"type\":\"scatter3d\"}],\"scattercarpet\":[{\"marker\":{\"colorbar\":{\"outlinewidth\":0,\"ticks\":\"\"}},\"type\":\"scattercarpet\"}],\"scattergeo\":[{\"marker\":{\"colorbar\":{\"outlinewidth\":0,\"ticks\":\"\"}},\"type\":\"scattergeo\"}],\"scattergl\":[{\"marker\":{\"colorbar\":{\"outlinewidth\":0,\"ticks\":\"\"}},\"type\":\"scattergl\"}],\"scattermapbox\":[{\"marker\":{\"colorbar\":{\"outlinewidth\":0,\"ticks\":\"\"}},\"type\":\"scattermapbox\"}],\"scatterpolar\":[{\"marker\":{\"colorbar\":{\"outlinewidth\":0,\"ticks\":\"\"}},\"type\":\"scatterpolar\"}],\"scatterpolargl\":[{\"marker\":{\"colorbar\":{\"outlinewidth\":0,\"ticks\":\"\"}},\"type\":\"scatterpolargl\"}],\"scatterternary\":[{\"marker\":{\"colorbar\":{\"outlinewidth\":0,\"ticks\":\"\"}},\"type\":\"scatterternary\"}],\"surface\":[{\"colorbar\":{\"outlinewidth\":0,\"ticks\":\"\"},\"colorscale\":[[0.0,\"#0d0887\"],[0.1111111111111111,\"#46039f\"],[0.2222222222222222,\"#7201a8\"],[0.3333333333333333,\"#9c179e\"],[0.4444444444444444,\"#bd3786\"],[0.5555555555555556,\"#d8576b\"],[0.6666666666666666,\"#ed7953\"],[0.7777777777777778,\"#fb9f3a\"],[0.8888888888888888,\"#fdca26\"],[1.0,\"#f0f921\"]],\"type\":\"surface\"}],\"table\":[{\"cells\":{\"fill\":{\"color\":\"#EBF0F8\"},\"line\":{\"color\":\"white\"}},\"header\":{\"fill\":{\"color\":\"#C8D4E3\"},\"line\":{\"color\":\"white\"}},\"type\":\"table\"}]},\"layout\":{\"annotationdefaults\":{\"arrowcolor\":\"#2a3f5f\",\"arrowhead\":0,\"arrowwidth\":1},\"autotypenumbers\":\"strict\",\"coloraxis\":{\"colorbar\":{\"outlinewidth\":0,\"ticks\":\"\"}},\"colorscale\":{\"diverging\":[[0,\"#8e0152\"],[0.1,\"#c51b7d\"],[0.2,\"#de77ae\"],[0.3,\"#f1b6da\"],[0.4,\"#fde0ef\"],[0.5,\"#f7f7f7\"],[0.6,\"#e6f5d0\"],[0.7,\"#b8e186\"],[0.8,\"#7fbc41\"],[0.9,\"#4d9221\"],[1,\"#276419\"]],\"sequential\":[[0.0,\"#0d0887\"],[0.1111111111111111,\"#46039f\"],[0.2222222222222222,\"#7201a8\"],[0.3333333333333333,\"#9c179e\"],[0.4444444444444444,\"#bd3786\"],[0.5555555555555556,\"#d8576b\"],[0.6666666666666666,\"#ed7953\"],[0.7777777777777778,\"#fb9f3a\"],[0.8888888888888888,\"#fdca26\"],[1.0,\"#f0f921\"]],\"sequentialminus\":[[0.0,\"#0d0887\"],[0.1111111111111111,\"#46039f\"],[0.2222222222222222,\"#7201a8\"],[0.3333333333333333,\"#9c179e\"],[0.4444444444444444,\"#bd3786\"],[0.5555555555555556,\"#d8576b\"],[0.6666666666666666,\"#ed7953\"],[0.7777777777777778,\"#fb9f3a\"],[0.8888888888888888,\"#fdca26\"],[1.0,\"#f0f921\"]]},\"colorway\":[\"#636efa\",\"#EF553B\",\"#00cc96\",\"#ab63fa\",\"#FFA15A\",\"#19d3f3\",\"#FF6692\",\"#B6E880\",\"#FF97FF\",\"#FECB52\"],\"font\":{\"color\":\"#2a3f5f\"},\"geo\":{\"bgcolor\":\"white\",\"lakecolor\":\"white\",\"landcolor\":\"#E5ECF6\",\"showlakes\":true,\"showland\":true,\"subunitcolor\":\"white\"},\"hoverlabel\":{\"align\":\"left\"},\"hovermode\":\"closest\",\"mapbox\":{\"style\":\"light\"},\"paper_bgcolor\":\"white\",\"plot_bgcolor\":\"#E5ECF6\",\"polar\":{\"angularaxis\":{\"gridcolor\":\"white\",\"linecolor\":\"white\",\"ticks\":\"\"},\"bgcolor\":\"#E5ECF6\",\"radialaxis\":{\"gridcolor\":\"white\",\"linecolor\":\"white\",\"ticks\":\"\"}},\"scene\":{\"xaxis\":{\"backgroundcolor\":\"#E5ECF6\",\"gridcolor\":\"white\",\"gridwidth\":2,\"linecolor\":\"white\",\"showbackground\":true,\"ticks\":\"\",\"zerolinecolor\":\"white\"},\"yaxis\":{\"backgroundcolor\":\"#E5ECF6\",\"gridcolor\":\"white\",\"gridwidth\":2,\"linecolor\":\"white\",\"showbackground\":true,\"ticks\":\"\",\"zerolinecolor\":\"white\"},\"zaxis\":{\"backgroundcolor\":\"#E5ECF6\",\"gridcolor\":\"white\",\"gridwidth\":2,\"linecolor\":\"white\",\"showbackground\":true,\"ticks\":\"\",\"zerolinecolor\":\"white\"}},\"shapedefaults\":{\"line\":{\"color\":\"#2a3f5f\"}},\"ternary\":{\"aaxis\":{\"gridcolor\":\"white\",\"linecolor\":\"white\",\"ticks\":\"\"},\"baxis\":{\"gridcolor\":\"white\",\"linecolor\":\"white\",\"ticks\":\"\"},\"bgcolor\":\"#E5ECF6\",\"caxis\":{\"gridcolor\":\"white\",\"linecolor\":\"white\",\"ticks\":\"\"}},\"title\":{\"x\":0.05},\"xaxis\":{\"automargin\":true,\"gridcolor\":\"white\",\"linecolor\":\"white\",\"ticks\":\"\",\"title\":{\"standoff\":15},\"zerolinecolor\":\"white\",\"zerolinewidth\":2},\"yaxis\":{\"automargin\":true,\"gridcolor\":\"white\",\"linecolor\":\"white\",\"ticks\":\"\",\"title\":{\"standoff\":15},\"zerolinecolor\":\"white\",\"zerolinewidth\":2}}},\"title\":{\"text\":\"V\\u00e1hy jednotliv\\u00fdch akt\\u00edv (k = 7, alpha = 0.4)\"},\"xaxis\":{\"title\":{\"text\":\"Symbol\"}},\"yaxis\":{\"title\":{\"text\":\"Percentu\\u00e1lny podiel\"}}},                        {\"responsive\": true}                    ).then(function(){\n                            \nvar gd = document.getElementById('6b4c03e7-ead3-47aa-9174-349229521faa');\nvar x = new MutationObserver(function (mutations, observer) {{\n        var display = window.getComputedStyle(gd).display;\n        if (!display || display === 'none') {{\n            console.log([gd, 'removed!']);\n            Plotly.purge(gd);\n            observer.disconnect();\n        }}\n}});\n\n// Listen for the removal of the full notebook cells\nvar notebookContainer = gd.closest('#notebook-container');\nif (notebookContainer) {{\n    x.observe(notebookContainer, {childList: true});\n}}\n\n// Listen for the clearing of the current output cell\nvar outputEl = gd.closest('.output');\nif (outputEl) {{\n    x.observe(outputEl, {childList: true});\n}}\n\n                        })                };                            </script>        </div>\n</body>\n</html>"
     },
     "metadata": {},
     "output_type": "display_data"
    }
   ]
  },
  {
   "cell_type": "code",
   "metadata": {
    "deepnote_output_heights": [
     527
    ],
    "deepnote_to_be_reexecuted": false,
    "source_hash": "8fb72c27",
    "execution_start": 1639691460265,
    "execution_millis": 10,
    "cell_id": "00011-8ddef166-a561-444f-be59-db11f70e6d13",
    "deepnote_cell_type": "code"
   },
   "source": "colors = ['lightslategray',] * 45\nfor i in range(45):\n    if x[i] > 0:\n        colors[i] = '#88bf4d'\nfig = go.Figure([go.Bar(x=wanted_stocks, y=r, marker_color=colors)])\nfig.update_layout(\n    title=\"Výnosy aktív (k = 7, alpha = 0.4)\",\n    xaxis_title=\"Symbol\",\n    yaxis_title=\"Očakávaný ročný výnos\",\n    \n)\nfig.show()",
   "execution_count": 15,
   "outputs": [
    {
     "data": {
      "text/html": "<html>\n<head><meta charset=\"utf-8\" /></head>\n<body>\n    <div>            <script src=\"https://cdnjs.cloudflare.com/ajax/libs/mathjax/2.7.5/MathJax.js?config=TeX-AMS-MML_SVG\"></script><script type=\"text/javascript\">if (window.MathJax) {MathJax.Hub.Config({SVG: {font: \"STIX-Web\"}});}</script>                <script type=\"text/javascript\">window.PlotlyConfig = {MathJaxConfig: 'local'};</script>\n        <script src=\"https://cdn.plot.ly/plotly-2.6.3.min.js\"></script>                <div id=\"980999b8-ee95-4bf9-b8c5-730260052eae\" class=\"plotly-graph-div\" style=\"height:525px; width:100%;\"></div>            <script type=\"text/javascript\">                                    window.PLOTLYENV=window.PLOTLYENV || {};                                    if (document.getElementById(\"980999b8-ee95-4bf9-b8c5-730260052eae\")) {                    Plotly.newPlot(                        \"980999b8-ee95-4bf9-b8c5-730260052eae\",                        [{\"marker\":{\"color\":[\"#88bf4d\",\"#88bf4d\",\"#88bf4d\",\"#88bf4d\",\"lightslategray\",\"lightslategray\",\"#88bf4d\",\"#88bf4d\",\"#88bf4d\",\"#88bf4d\",\"#88bf4d\",\"#88bf4d\",\"#88bf4d\",\"#88bf4d\",\"#88bf4d\",\"#88bf4d\",\"#88bf4d\",\"#88bf4d\",\"lightslategray\",\"lightslategray\",\"#88bf4d\",\"#88bf4d\",\"lightslategray\",\"#88bf4d\",\"lightslategray\",\"lightslategray\",\"lightslategray\",\"lightslategray\",\"#88bf4d\",\"lightslategray\",\"lightslategray\",\"lightslategray\",\"lightslategray\",\"lightslategray\",\"lightslategray\",\"lightslategray\",\"lightslategray\",\"lightslategray\",\"lightslategray\",\"lightslategray\",\"lightslategray\",\"lightslategray\",\"#88bf4d\",\"lightslategray\",\"lightslategray\"]},\"x\":[\"GOOG\",\"SPG\",\"GOOGL\",\"MSFT\",\"GD\",\"ACN\",\"COP\",\"F\",\"BAC\",\"GS\",\"NVDA\",\"AIG\",\"MS\",\"WFC\",\"ORCL\",\"XOM\",\"TGT\",\"LOW\",\"EXC\",\"COST\",\"AXP\",\"BK\",\"JPM\",\"COF\",\"CSCO\",\"DHR\",\"UNH\",\"CVS\",\"LLY\",\"CVX\",\"MET\",\"AMT\",\"CRM\",\"BLK\",\"RTX\",\"MCD\",\"TMO\",\"LIN\",\"ADBE\",\"EMR\",\"USB\",\"UPS\",\"TSLA\",\"PFE\",\"PM\"],\"y\":[0.643849754717984,0.798228479963502,0.6446273014254403,0.5265120719386488,0.4378392427193246,0.42363079686317073,0.867571657777288,0.984953486891515,0.6126268586547136,0.5921906724861495,0.899374402716014,0.6482391608129928,0.5688396177013749,0.7384925389962158,0.5210845144542856,0.6549991226948326,0.4886838941292093,0.491990972850654,0.3643791838353282,0.3323823229276914,0.5188752732482765,0.50559163650638,0.4148262686655177,0.6020092369912258,0.326827653546062,0.4249929678948095,0.34716326265310815,0.3624300043380863,0.5562481537551461,0.44382508005958926,0.4640158508138197,0.3397079430769143,0.4145306004519008,0.3763675986711617,0.3565219854753368,0.24403121073399026,0.38999615896775913,0.299932004814746,0.36365613788787154,0.31602770346112335,0.3957245699533159,0.3559901249319553,0.747137591879764,0.25919353938242273,0.2251711879486281],\"type\":\"bar\"}],                        {\"template\":{\"data\":{\"bar\":[{\"error_x\":{\"color\":\"#2a3f5f\"},\"error_y\":{\"color\":\"#2a3f5f\"},\"marker\":{\"line\":{\"color\":\"#E5ECF6\",\"width\":0.5},\"pattern\":{\"fillmode\":\"overlay\",\"size\":10,\"solidity\":0.2}},\"type\":\"bar\"}],\"barpolar\":[{\"marker\":{\"line\":{\"color\":\"#E5ECF6\",\"width\":0.5},\"pattern\":{\"fillmode\":\"overlay\",\"size\":10,\"solidity\":0.2}},\"type\":\"barpolar\"}],\"carpet\":[{\"aaxis\":{\"endlinecolor\":\"#2a3f5f\",\"gridcolor\":\"white\",\"linecolor\":\"white\",\"minorgridcolor\":\"white\",\"startlinecolor\":\"#2a3f5f\"},\"baxis\":{\"endlinecolor\":\"#2a3f5f\",\"gridcolor\":\"white\",\"linecolor\":\"white\",\"minorgridcolor\":\"white\",\"startlinecolor\":\"#2a3f5f\"},\"type\":\"carpet\"}],\"choropleth\":[{\"colorbar\":{\"outlinewidth\":0,\"ticks\":\"\"},\"type\":\"choropleth\"}],\"contour\":[{\"colorbar\":{\"outlinewidth\":0,\"ticks\":\"\"},\"colorscale\":[[0.0,\"#0d0887\"],[0.1111111111111111,\"#46039f\"],[0.2222222222222222,\"#7201a8\"],[0.3333333333333333,\"#9c179e\"],[0.4444444444444444,\"#bd3786\"],[0.5555555555555556,\"#d8576b\"],[0.6666666666666666,\"#ed7953\"],[0.7777777777777778,\"#fb9f3a\"],[0.8888888888888888,\"#fdca26\"],[1.0,\"#f0f921\"]],\"type\":\"contour\"}],\"contourcarpet\":[{\"colorbar\":{\"outlinewidth\":0,\"ticks\":\"\"},\"type\":\"contourcarpet\"}],\"heatmap\":[{\"colorbar\":{\"outlinewidth\":0,\"ticks\":\"\"},\"colorscale\":[[0.0,\"#0d0887\"],[0.1111111111111111,\"#46039f\"],[0.2222222222222222,\"#7201a8\"],[0.3333333333333333,\"#9c179e\"],[0.4444444444444444,\"#bd3786\"],[0.5555555555555556,\"#d8576b\"],[0.6666666666666666,\"#ed7953\"],[0.7777777777777778,\"#fb9f3a\"],[0.8888888888888888,\"#fdca26\"],[1.0,\"#f0f921\"]],\"type\":\"heatmap\"}],\"heatmapgl\":[{\"colorbar\":{\"outlinewidth\":0,\"ticks\":\"\"},\"colorscale\":[[0.0,\"#0d0887\"],[0.1111111111111111,\"#46039f\"],[0.2222222222222222,\"#7201a8\"],[0.3333333333333333,\"#9c179e\"],[0.4444444444444444,\"#bd3786\"],[0.5555555555555556,\"#d8576b\"],[0.6666666666666666,\"#ed7953\"],[0.7777777777777778,\"#fb9f3a\"],[0.8888888888888888,\"#fdca26\"],[1.0,\"#f0f921\"]],\"type\":\"heatmapgl\"}],\"histogram\":[{\"marker\":{\"pattern\":{\"fillmode\":\"overlay\",\"size\":10,\"solidity\":0.2}},\"type\":\"histogram\"}],\"histogram2d\":[{\"colorbar\":{\"outlinewidth\":0,\"ticks\":\"\"},\"colorscale\":[[0.0,\"#0d0887\"],[0.1111111111111111,\"#46039f\"],[0.2222222222222222,\"#7201a8\"],[0.3333333333333333,\"#9c179e\"],[0.4444444444444444,\"#bd3786\"],[0.5555555555555556,\"#d8576b\"],[0.6666666666666666,\"#ed7953\"],[0.7777777777777778,\"#fb9f3a\"],[0.8888888888888888,\"#fdca26\"],[1.0,\"#f0f921\"]],\"type\":\"histogram2d\"}],\"histogram2dcontour\":[{\"colorbar\":{\"outlinewidth\":0,\"ticks\":\"\"},\"colorscale\":[[0.0,\"#0d0887\"],[0.1111111111111111,\"#46039f\"],[0.2222222222222222,\"#7201a8\"],[0.3333333333333333,\"#9c179e\"],[0.4444444444444444,\"#bd3786\"],[0.5555555555555556,\"#d8576b\"],[0.6666666666666666,\"#ed7953\"],[0.7777777777777778,\"#fb9f3a\"],[0.8888888888888888,\"#fdca26\"],[1.0,\"#f0f921\"]],\"type\":\"histogram2dcontour\"}],\"mesh3d\":[{\"colorbar\":{\"outlinewidth\":0,\"ticks\":\"\"},\"type\":\"mesh3d\"}],\"parcoords\":[{\"line\":{\"colorbar\":{\"outlinewidth\":0,\"ticks\":\"\"}},\"type\":\"parcoords\"}],\"pie\":[{\"automargin\":true,\"type\":\"pie\"}],\"scatter\":[{\"marker\":{\"colorbar\":{\"outlinewidth\":0,\"ticks\":\"\"}},\"type\":\"scatter\"}],\"scatter3d\":[{\"line\":{\"colorbar\":{\"outlinewidth\":0,\"ticks\":\"\"}},\"marker\":{\"colorbar\":{\"outlinewidth\":0,\"ticks\":\"\"}},\"type\":\"scatter3d\"}],\"scattercarpet\":[{\"marker\":{\"colorbar\":{\"outlinewidth\":0,\"ticks\":\"\"}},\"type\":\"scattercarpet\"}],\"scattergeo\":[{\"marker\":{\"colorbar\":{\"outlinewidth\":0,\"ticks\":\"\"}},\"type\":\"scattergeo\"}],\"scattergl\":[{\"marker\":{\"colorbar\":{\"outlinewidth\":0,\"ticks\":\"\"}},\"type\":\"scattergl\"}],\"scattermapbox\":[{\"marker\":{\"colorbar\":{\"outlinewidth\":0,\"ticks\":\"\"}},\"type\":\"scattermapbox\"}],\"scatterpolar\":[{\"marker\":{\"colorbar\":{\"outlinewidth\":0,\"ticks\":\"\"}},\"type\":\"scatterpolar\"}],\"scatterpolargl\":[{\"marker\":{\"colorbar\":{\"outlinewidth\":0,\"ticks\":\"\"}},\"type\":\"scatterpolargl\"}],\"scatterternary\":[{\"marker\":{\"colorbar\":{\"outlinewidth\":0,\"ticks\":\"\"}},\"type\":\"scatterternary\"}],\"surface\":[{\"colorbar\":{\"outlinewidth\":0,\"ticks\":\"\"},\"colorscale\":[[0.0,\"#0d0887\"],[0.1111111111111111,\"#46039f\"],[0.2222222222222222,\"#7201a8\"],[0.3333333333333333,\"#9c179e\"],[0.4444444444444444,\"#bd3786\"],[0.5555555555555556,\"#d8576b\"],[0.6666666666666666,\"#ed7953\"],[0.7777777777777778,\"#fb9f3a\"],[0.8888888888888888,\"#fdca26\"],[1.0,\"#f0f921\"]],\"type\":\"surface\"}],\"table\":[{\"cells\":{\"fill\":{\"color\":\"#EBF0F8\"},\"line\":{\"color\":\"white\"}},\"header\":{\"fill\":{\"color\":\"#C8D4E3\"},\"line\":{\"color\":\"white\"}},\"type\":\"table\"}]},\"layout\":{\"annotationdefaults\":{\"arrowcolor\":\"#2a3f5f\",\"arrowhead\":0,\"arrowwidth\":1},\"autotypenumbers\":\"strict\",\"coloraxis\":{\"colorbar\":{\"outlinewidth\":0,\"ticks\":\"\"}},\"colorscale\":{\"diverging\":[[0,\"#8e0152\"],[0.1,\"#c51b7d\"],[0.2,\"#de77ae\"],[0.3,\"#f1b6da\"],[0.4,\"#fde0ef\"],[0.5,\"#f7f7f7\"],[0.6,\"#e6f5d0\"],[0.7,\"#b8e186\"],[0.8,\"#7fbc41\"],[0.9,\"#4d9221\"],[1,\"#276419\"]],\"sequential\":[[0.0,\"#0d0887\"],[0.1111111111111111,\"#46039f\"],[0.2222222222222222,\"#7201a8\"],[0.3333333333333333,\"#9c179e\"],[0.4444444444444444,\"#bd3786\"],[0.5555555555555556,\"#d8576b\"],[0.6666666666666666,\"#ed7953\"],[0.7777777777777778,\"#fb9f3a\"],[0.8888888888888888,\"#fdca26\"],[1.0,\"#f0f921\"]],\"sequentialminus\":[[0.0,\"#0d0887\"],[0.1111111111111111,\"#46039f\"],[0.2222222222222222,\"#7201a8\"],[0.3333333333333333,\"#9c179e\"],[0.4444444444444444,\"#bd3786\"],[0.5555555555555556,\"#d8576b\"],[0.6666666666666666,\"#ed7953\"],[0.7777777777777778,\"#fb9f3a\"],[0.8888888888888888,\"#fdca26\"],[1.0,\"#f0f921\"]]},\"colorway\":[\"#636efa\",\"#EF553B\",\"#00cc96\",\"#ab63fa\",\"#FFA15A\",\"#19d3f3\",\"#FF6692\",\"#B6E880\",\"#FF97FF\",\"#FECB52\"],\"font\":{\"color\":\"#2a3f5f\"},\"geo\":{\"bgcolor\":\"white\",\"lakecolor\":\"white\",\"landcolor\":\"#E5ECF6\",\"showlakes\":true,\"showland\":true,\"subunitcolor\":\"white\"},\"hoverlabel\":{\"align\":\"left\"},\"hovermode\":\"closest\",\"mapbox\":{\"style\":\"light\"},\"paper_bgcolor\":\"white\",\"plot_bgcolor\":\"#E5ECF6\",\"polar\":{\"angularaxis\":{\"gridcolor\":\"white\",\"linecolor\":\"white\",\"ticks\":\"\"},\"bgcolor\":\"#E5ECF6\",\"radialaxis\":{\"gridcolor\":\"white\",\"linecolor\":\"white\",\"ticks\":\"\"}},\"scene\":{\"xaxis\":{\"backgroundcolor\":\"#E5ECF6\",\"gridcolor\":\"white\",\"gridwidth\":2,\"linecolor\":\"white\",\"showbackground\":true,\"ticks\":\"\",\"zerolinecolor\":\"white\"},\"yaxis\":{\"backgroundcolor\":\"#E5ECF6\",\"gridcolor\":\"white\",\"gridwidth\":2,\"linecolor\":\"white\",\"showbackground\":true,\"ticks\":\"\",\"zerolinecolor\":\"white\"},\"zaxis\":{\"backgroundcolor\":\"#E5ECF6\",\"gridcolor\":\"white\",\"gridwidth\":2,\"linecolor\":\"white\",\"showbackground\":true,\"ticks\":\"\",\"zerolinecolor\":\"white\"}},\"shapedefaults\":{\"line\":{\"color\":\"#2a3f5f\"}},\"ternary\":{\"aaxis\":{\"gridcolor\":\"white\",\"linecolor\":\"white\",\"ticks\":\"\"},\"baxis\":{\"gridcolor\":\"white\",\"linecolor\":\"white\",\"ticks\":\"\"},\"bgcolor\":\"#E5ECF6\",\"caxis\":{\"gridcolor\":\"white\",\"linecolor\":\"white\",\"ticks\":\"\"}},\"title\":{\"x\":0.05},\"xaxis\":{\"automargin\":true,\"gridcolor\":\"white\",\"linecolor\":\"white\",\"ticks\":\"\",\"title\":{\"standoff\":15},\"zerolinecolor\":\"white\",\"zerolinewidth\":2},\"yaxis\":{\"automargin\":true,\"gridcolor\":\"white\",\"linecolor\":\"white\",\"ticks\":\"\",\"title\":{\"standoff\":15},\"zerolinecolor\":\"white\",\"zerolinewidth\":2}}},\"title\":{\"text\":\"V\\u00fdnosy akt\\u00edv (k = 7, alpha = 0.4)\"},\"xaxis\":{\"title\":{\"text\":\"Symbol\"}},\"yaxis\":{\"title\":{\"text\":\"O\\u010dak\\u00e1van\\u00fd ro\\u010dn\\u00fd v\\u00fdnos\"}}},                        {\"responsive\": true}                    ).then(function(){\n                            \nvar gd = document.getElementById('980999b8-ee95-4bf9-b8c5-730260052eae');\nvar x = new MutationObserver(function (mutations, observer) {{\n        var display = window.getComputedStyle(gd).display;\n        if (!display || display === 'none') {{\n            console.log([gd, 'removed!']);\n            Plotly.purge(gd);\n            observer.disconnect();\n        }}\n}});\n\n// Listen for the removal of the full notebook cells\nvar notebookContainer = gd.closest('#notebook-container');\nif (notebookContainer) {{\n    x.observe(notebookContainer, {childList: true});\n}}\n\n// Listen for the clearing of the current output cell\nvar outputEl = gd.closest('.output');\nif (outputEl) {{\n    x.observe(outputEl, {childList: true});\n}}\n\n                        })                };                            </script>        </div>\n</body>\n</html>"
     },
     "metadata": {},
     "output_type": "display_data"
    }
   ]
  },
  {
   "cell_type": "markdown",
   "source": "Vynos portfolia",
   "metadata": {
    "tags": [],
    "is_collapsed": false,
    "cell_id": "00018-ba51aac1-2a17-4e12-be6b-5bb0088ef798",
    "deepnote_cell_type": "text-cell-p"
   }
  },
  {
   "cell_type": "code",
   "source": "final_r = np.sum(x * r)\nfinal_r",
   "metadata": {
    "tags": [],
    "cell_id": "00018-8d509204-f891-4c85-8ac1-16e428862a23",
    "deepnote_to_be_reexecuted": false,
    "source_hash": "4c671ab6",
    "execution_start": 1639691367319,
    "execution_millis": 2,
    "deepnote_output_heights": [
     21.1875
    ],
    "deepnote_cell_type": "code"
   },
   "outputs": [
    {
     "output_type": "execute_result",
     "execution_count": 12,
     "data": {
      "text/plain": "0.6818721944287919"
     },
     "metadata": {}
    }
   ],
   "execution_count": 12
  },
  {
   "cell_type": "code",
   "source": "final_v = np.sqrt(np.dot(x.T, np.dot(V,x)))\nfinal_v",
   "metadata": {
    "tags": [],
    "cell_id": "00020-278f70c1-c311-4bc6-9b33-88ffcfc7e015",
    "deepnote_to_be_reexecuted": false,
    "source_hash": "133b16bb",
    "execution_start": 1639691367370,
    "execution_millis": 1,
    "deepnote_output_heights": [
     21.1875
    ],
    "deepnote_cell_type": "code"
   },
   "outputs": [
    {
     "output_type": "execute_result",
     "execution_count": 13,
     "data": {
      "text/plain": "0.17767685102018296"
     },
     "metadata": {}
    }
   ],
   "execution_count": 13
  },
  {
   "cell_type": "markdown",
   "source": "<a style='text-decoration:none;line-height:16px;display:flex;color:#5B5B62;padding:10px;justify-content:end;' href='https://deepnote.com?utm_source=created-in-deepnote-cell&projectId=7d3ffbbf-2bc1-4a39-9f8f-ab5868813b8e' target=\"_blank\">\n<img alt='Created in deepnote.com' style='display:inline;max-height:16px;margin:0px;margin-right:7.5px;' src='data:image/svg+xml;base64,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' > </img>\nCreated in <span style='font-weight:600;margin-left:4px;'>Deepnote</span></a>",
   "metadata": {
    "tags": [],
    "created_in_deepnote_cell": true,
    "deepnote_cell_type": "markdown"
   }
  }
 ],
 "nbformat": 4,
 "nbformat_minor": 2,
 "metadata": {
  "interpreter": {
   "hash": "d153afc154f55f63edb29ab3b8e0ef98f4223ee04c2a602f3a0cf8c8ffe67f14"
  },
  "kernelspec": {
   "display_name": "Python 3.9.1 64-bit",
   "language": "python",
   "name": "python3"
  },
  "language_info": {
   "codemirror_mode": {
    "name": "ipython",
    "version": 3
   },
   "file_extension": ".py",
   "mimetype": "text/x-python",
   "name": "python",
   "nbconvert_exporter": "python",
   "pygments_lexer": "ipython3",
   "version": "3.9.1"
  },
  "orig_nbformat": 4,
  "deepnote_notebook_id": "40d9f3b9-affe-41df-941e-749707d79bcf",
  "deepnote": {},
  "deepnote_execution_queue": []
 }
}